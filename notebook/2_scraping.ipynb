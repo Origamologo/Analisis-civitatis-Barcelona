{
 "cells": [
  {
   "cell_type": "code",
   "execution_count": 1,
   "metadata": {},
   "outputs": [],
   "source": [
    "import requests\n",
    "import re\n",
    "import random"
   ]
  },
  {
   "cell_type": "code",
   "execution_count": 2,
   "metadata": {},
   "outputs": [],
   "source": [
    "from time import sleep\n",
    "import numpy as np\n",
    "\n",
    "from selenium import webdriver\n",
    "from webdriver_manager.chrome import ChromeDriverManager\n",
    "from selenium.webdriver.common.keys import Keys\n",
    "from selenium.webdriver.chrome.options import Options\n",
    "from selenium.webdriver import ActionChains\n",
    "\n",
    "import warnings\n",
    "warnings.filterwarnings('ignore')"
   ]
  },
  {
   "cell_type": "code",
   "execution_count": 3,
   "metadata": {},
   "outputs": [],
   "source": [
    "from selenium.webdriver.support import expected_conditions\n",
    "from selenium.webdriver.common.by import By\n",
    "from selenium.webdriver.support.ui import WebDriverWait"
   ]
  },
  {
   "cell_type": "code",
   "execution_count": 4,
   "metadata": {},
   "outputs": [],
   "source": [
    "opciones= Options()\n",
    "opciones.add_experimental_option('excludeSwitches', ['enable-automation'])\n",
    "opciones.add_experimental_option('useAutomationExtension', False)\n",
    "opciones.add_argument('--start-maximized')\n",
    "opciones.add_argument('user.data-dir=selenium')\n",
    "opciones.add_argument('--incognito')"
   ]
  },
  {
   "cell_type": "code",
   "execution_count": 5,
   "metadata": {},
   "outputs": [],
   "source": [
    "url = 'https://www.civitatis.com/es/barcelona/free-tour-barcelona/opiniones/'"
   ]
  },
  {
   "cell_type": "code",
   "execution_count": 6,
   "metadata": {},
   "outputs": [
    {
     "name": "stderr",
     "output_type": "stream",
     "text": [
      "\n",
      "\n",
      "====== WebDriver manager ======\n",
      "Current google-chrome version is 99.0.4844\n",
      "Get LATEST chromedriver version for 99.0.4844 google-chrome\n",
      "Trying to download new driver from https://chromedriver.storage.googleapis.com/99.0.4844.51/chromedriver_win32.zip\n",
      "Driver has been saved in cache [C:\\Users\\mituc\\.wdm\\drivers\\chromedriver\\win32\\99.0.4844.51]\n"
     ]
    }
   ],
   "source": [
    "driver = webdriver.Chrome(ChromeDriverManager().install())"
   ]
  },
  {
   "cell_type": "code",
   "execution_count": 7,
   "metadata": {},
   "outputs": [],
   "source": [
    "driver.get(\"https://www.civitatis.com/es/barcelona/free-tour-barcelona/opiniones/\")\n",
    "driver.implicitly_wait(10)"
   ]
  },
  {
   "cell_type": "code",
   "execution_count": 8,
   "metadata": {},
   "outputs": [],
   "source": [
    "# Acepta la cuquis\n",
    "driver.find_element_by_css_selector(\"#didomi-notice-agree-button\").click()"
   ]
  },
  {
   "cell_type": "code",
   "execution_count": null,
   "metadata": {},
   "outputs": [],
   "source": [
    "urls = []\n",
    "for i in range(2,1351):\n",
    "    print(i)\n",
    "    urls.append(f'https://www.civitatis.com/es/barcelona/free-tour-barcelona/opiniones/{i}')"
   ]
  },
  {
   "cell_type": "code",
   "execution_count": 46,
   "metadata": {},
   "outputs": [],
   "source": [
    "revius = open(\"output1.html\", \"a\", encoding='utf-8')\n",
    "contador = 1\n",
    "\n",
    "for i in urls:   \n",
    "    contador += 1\n",
    "    tranqui_tronco = round(random.uniform(3, 6),2)\n",
    "    sleep(tranqui_tronco)\n",
    "    driver.get(i)\n",
    "    # Scrapeo de las opiniones\n",
    "    tranqui_tronco = round(random.uniform(3, 6),2)\n",
    "    sleep(tranqui_tronco)\n",
    "    resultado = driver.find_element_by_css_selector('#comments-id-duplicado > div')\n",
    "\n",
    "    with open(\"output1.html\", \"a\", encoding='utf-8') as file:\n",
    "        file.write(resultado.text + '\\n')"
   ]
  },
  {
   "cell_type": "code",
   "execution_count": 9,
   "metadata": {},
   "outputs": [],
   "source": [
    "driver.get(\"https://www.civitatis.com/es/barcelona/free-tour-barcelona/opiniones/\")\n",
    "contador = 0\n",
    "\n",
    "def civitatiScrape():\n",
    "    revius = open(\"civitatis.html\", \"a\", encoding='utf-8')\n",
    "    try:\n",
    "        global contador    \n",
    "        contador += 1\n",
    "        espera = round(random.uniform(3, 6),2)\n",
    "        sleep(espera)\n",
    "        resultado = driver.find_element_by_css_selector('#comments-id-duplicado > div')\n",
    "        with open(\"civitatis.html\", \"a\", encoding='utf-8') as file:\n",
    "            file.write(resultado.text + '\\n')\n",
    "    except:\n",
    "        return print(f'Se paró en la página {contador}')\n",
    "\n",
    "    try:\n",
    "        tranqui_tronco = round(random.uniform(3, 6),2)\n",
    "        sleep(tranqui_tronco)\n",
    "        action = ActionChains(driver)\n",
    "        m = driver.find_element_by_css_selector(\"#comments-id-duplicado > div > nav > div.right.--no-icon > a.next-element\")\n",
    "        actions = ActionChains(driver)\n",
    "        actions.move_to_element(m)\n",
    "        actions.click(m)\n",
    "        actions.perform()    \n",
    "        return civitatiScrape()\n",
    "    except:\n",
    "        return print(f'Terminado. {contador} páginas fueron visitadas'), revius, driver.quit()\n",
    "\n"
   ]
  },
  {
   "cell_type": "code",
   "execution_count": null,
   "metadata": {},
   "outputs": [],
   "source": [
    "civitatiScrape() "
   ]
  }
 ],
 "metadata": {
  "interpreter": {
   "hash": "ba1db81cc109b82b4f074f14705a6c6c4ac73c66313ff5962e6e84ea5725364a"
  },
  "kernelspec": {
   "display_name": "Python 3.8.8 ('base': conda)",
   "language": "python",
   "name": "python3"
  },
  "language_info": {
   "codemirror_mode": {
    "name": "ipython",
    "version": 3
   },
   "file_extension": ".py",
   "mimetype": "text/x-python",
   "name": "python",
   "nbconvert_exporter": "python",
   "pygments_lexer": "ipython3",
   "version": "3.9.7"
  },
  "orig_nbformat": 4
 },
 "nbformat": 4,
 "nbformat_minor": 2
}
