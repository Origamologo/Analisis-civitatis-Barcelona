{
 "cells": [
  {
   "cell_type": "code",
   "execution_count": 136,
   "metadata": {},
   "outputs": [],
   "source": [
    "import pandas as pd\n",
    "import matplotlib.pyplot as plt\n",
    "import plotly.express as px\n",
    "import numpy as np"
   ]
  },
  {
   "cell_type": "code",
   "execution_count": 137,
   "metadata": {},
   "outputs": [],
   "source": [
    "df_numero_turistas_fecha = pd.read_pickle(r'C:\\Users\\mituc\\Ironhack\\Curso\\IronLabs\\Proyecto-1\\data\\numero_turistas_fecha.pkl')"
   ]
  },
  {
   "cell_type": "code",
   "execution_count": 138,
   "metadata": {},
   "outputs": [],
   "source": [
    "df_turistas_admon = pd.read_pickle(r'C:\\Users\\mituc\\Ironhack\\Curso\\IronLabs\\Proyecto-1\\data\\Barcelona_guiris_esquilados.pkl')"
   ]
  },
  {
   "cell_type": "code",
   "execution_count": 139,
   "metadata": {},
   "outputs": [],
   "source": [
    "df_turistas_admon.reset_index(inplace=True)"
   ]
  },
  {
   "cell_type": "code",
   "execution_count": 140,
   "metadata": {},
   "outputs": [
    {
     "data": {
      "text/html": [
       "<div>\n",
       "<style scoped>\n",
       "    .dataframe tbody tr th:only-of-type {\n",
       "        vertical-align: middle;\n",
       "    }\n",
       "\n",
       "    .dataframe tbody tr th {\n",
       "        vertical-align: top;\n",
       "    }\n",
       "\n",
       "    .dataframe thead th {\n",
       "        text-align: right;\n",
       "    }\n",
       "</style>\n",
       "<table border=\"1\" class=\"dataframe\">\n",
       "  <thead>\n",
       "    <tr style=\"text-align: right;\">\n",
       "      <th></th>\n",
       "      <th>periodo</th>\n",
       "      <th>viajeros_espana</th>\n",
       "      <th>viajeros_extranjero</th>\n",
       "      <th>pernoctaciones_espana</th>\n",
       "      <th>pernoctaciones_extranjero</th>\n",
       "      <th>media_pernoc_esp</th>\n",
       "      <th>media_pernoc_ext</th>\n",
       "      <th>total_viajeros</th>\n",
       "      <th>total_pernoctaciones</th>\n",
       "      <th>media_total_pernoc</th>\n",
       "    </tr>\n",
       "  </thead>\n",
       "  <tbody>\n",
       "    <tr>\n",
       "      <th>0</th>\n",
       "      <td>2022-01</td>\n",
       "      <td>107162</td>\n",
       "      <td>194312</td>\n",
       "      <td>203683</td>\n",
       "      <td>541541</td>\n",
       "      <td>1.9</td>\n",
       "      <td>2.8</td>\n",
       "      <td>301474</td>\n",
       "      <td>745224</td>\n",
       "      <td>2.5</td>\n",
       "    </tr>\n",
       "    <tr>\n",
       "      <th>1</th>\n",
       "      <td>2021-12</td>\n",
       "      <td>144299</td>\n",
       "      <td>250133</td>\n",
       "      <td>282398</td>\n",
       "      <td>674630</td>\n",
       "      <td>2.0</td>\n",
       "      <td>2.7</td>\n",
       "      <td>394432</td>\n",
       "      <td>957028</td>\n",
       "      <td>2.4</td>\n",
       "    </tr>\n",
       "    <tr>\n",
       "      <th>2</th>\n",
       "      <td>2021-11</td>\n",
       "      <td>120748</td>\n",
       "      <td>314677</td>\n",
       "      <td>228675</td>\n",
       "      <td>871021</td>\n",
       "      <td>1.9</td>\n",
       "      <td>2.8</td>\n",
       "      <td>435425</td>\n",
       "      <td>1099696</td>\n",
       "      <td>2.5</td>\n",
       "    </tr>\n",
       "    <tr>\n",
       "      <th>3</th>\n",
       "      <td>2021-10</td>\n",
       "      <td>130404</td>\n",
       "      <td>364349</td>\n",
       "      <td>270494</td>\n",
       "      <td>1013514</td>\n",
       "      <td>2.1</td>\n",
       "      <td>2.8</td>\n",
       "      <td>494753</td>\n",
       "      <td>1284008</td>\n",
       "      <td>2.6</td>\n",
       "    </tr>\n",
       "    <tr>\n",
       "      <th>4</th>\n",
       "      <td>2021-09</td>\n",
       "      <td>102053</td>\n",
       "      <td>309572</td>\n",
       "      <td>207329</td>\n",
       "      <td>856562</td>\n",
       "      <td>2.0</td>\n",
       "      <td>2.8</td>\n",
       "      <td>411625</td>\n",
       "      <td>1063891</td>\n",
       "      <td>2.6</td>\n",
       "    </tr>\n",
       "  </tbody>\n",
       "</table>\n",
       "</div>"
      ],
      "text/plain": [
       "   periodo  viajeros_espana  viajeros_extranjero  pernoctaciones_espana  \\\n",
       "0  2022-01           107162               194312                 203683   \n",
       "1  2021-12           144299               250133                 282398   \n",
       "2  2021-11           120748               314677                 228675   \n",
       "3  2021-10           130404               364349                 270494   \n",
       "4  2021-09           102053               309572                 207329   \n",
       "\n",
       "   pernoctaciones_extranjero  media_pernoc_esp  media_pernoc_ext  \\\n",
       "0                     541541               1.9               2.8   \n",
       "1                     674630               2.0               2.7   \n",
       "2                     871021               1.9               2.8   \n",
       "3                    1013514               2.1               2.8   \n",
       "4                     856562               2.0               2.8   \n",
       "\n",
       "   total_viajeros  total_pernoctaciones  media_total_pernoc  \n",
       "0          301474                745224                 2.5  \n",
       "1          394432                957028                 2.4  \n",
       "2          435425               1099696                 2.5  \n",
       "3          494753               1284008                 2.6  \n",
       "4          411625               1063891                 2.6  "
      ]
     },
     "execution_count": 140,
     "metadata": {},
     "output_type": "execute_result"
    }
   ],
   "source": [
    "df_turistas_admon.head(5)"
   ]
  },
  {
   "cell_type": "code",
   "execution_count": 141,
   "metadata": {},
   "outputs": [
    {
     "data": {
      "text/plain": [
       "'2017-06'"
      ]
     },
     "execution_count": 141,
     "metadata": {},
     "output_type": "execute_result"
    }
   ],
   "source": [
    "df_turistas_admon.iloc[55,0]"
   ]
  },
  {
   "cell_type": "markdown",
   "metadata": {},
   "source": [
    "As civitatis started its activity for the tour that we are studying in June 2017, we'll select that period from the data frame we had generated using the data given by the goverment."
   ]
  },
  {
   "cell_type": "code",
   "execution_count": 142,
   "metadata": {},
   "outputs": [],
   "source": [
    "df_admon_select = df_turistas_admon.iloc[1:56]"
   ]
  },
  {
   "cell_type": "code",
   "execution_count": 143,
   "metadata": {},
   "outputs": [],
   "source": [
    "d=df_admon_select.sort_values(by=['periodo'])"
   ]
  },
  {
   "cell_type": "code",
   "execution_count": 144,
   "metadata": {},
   "outputs": [
    {
     "data": {
      "text/html": [
       "<div>\n",
       "<style scoped>\n",
       "    .dataframe tbody tr th:only-of-type {\n",
       "        vertical-align: middle;\n",
       "    }\n",
       "\n",
       "    .dataframe tbody tr th {\n",
       "        vertical-align: top;\n",
       "    }\n",
       "\n",
       "    .dataframe thead th {\n",
       "        text-align: right;\n",
       "    }\n",
       "</style>\n",
       "<table border=\"1\" class=\"dataframe\">\n",
       "  <thead>\n",
       "    <tr style=\"text-align: right;\">\n",
       "      <th></th>\n",
       "      <th>periodo</th>\n",
       "      <th>viajeros_espana</th>\n",
       "      <th>viajeros_extranjero</th>\n",
       "      <th>pernoctaciones_espana</th>\n",
       "      <th>pernoctaciones_extranjero</th>\n",
       "      <th>media_pernoc_esp</th>\n",
       "      <th>media_pernoc_ext</th>\n",
       "      <th>total_viajeros</th>\n",
       "      <th>total_pernoctaciones</th>\n",
       "      <th>media_total_pernoc</th>\n",
       "    </tr>\n",
       "  </thead>\n",
       "  <tbody>\n",
       "    <tr>\n",
       "      <th>55</th>\n",
       "      <td>2017-06</td>\n",
       "      <td>128405</td>\n",
       "      <td>584798</td>\n",
       "      <td>248830</td>\n",
       "      <td>1584983</td>\n",
       "      <td>1.9</td>\n",
       "      <td>2.7</td>\n",
       "      <td>713203</td>\n",
       "      <td>1833813</td>\n",
       "      <td>2.6</td>\n",
       "    </tr>\n",
       "    <tr>\n",
       "      <th>54</th>\n",
       "      <td>2017-07</td>\n",
       "      <td>137560</td>\n",
       "      <td>634306</td>\n",
       "      <td>261185</td>\n",
       "      <td>1803145</td>\n",
       "      <td>1.9</td>\n",
       "      <td>2.8</td>\n",
       "      <td>771866</td>\n",
       "      <td>2064330</td>\n",
       "      <td>2.7</td>\n",
       "    </tr>\n",
       "    <tr>\n",
       "      <th>53</th>\n",
       "      <td>2017-08</td>\n",
       "      <td>92632</td>\n",
       "      <td>601050</td>\n",
       "      <td>194356</td>\n",
       "      <td>1807172</td>\n",
       "      <td>2.1</td>\n",
       "      <td>3.0</td>\n",
       "      <td>693682</td>\n",
       "      <td>2001528</td>\n",
       "      <td>2.9</td>\n",
       "    </tr>\n",
       "    <tr>\n",
       "      <th>52</th>\n",
       "      <td>2017-09</td>\n",
       "      <td>116521</td>\n",
       "      <td>568131</td>\n",
       "      <td>216184</td>\n",
       "      <td>1550853</td>\n",
       "      <td>1.9</td>\n",
       "      <td>2.7</td>\n",
       "      <td>684652</td>\n",
       "      <td>1767037</td>\n",
       "      <td>2.6</td>\n",
       "    </tr>\n",
       "    <tr>\n",
       "      <th>51</th>\n",
       "      <td>2017-10</td>\n",
       "      <td>125400</td>\n",
       "      <td>531660</td>\n",
       "      <td>238121</td>\n",
       "      <td>1434376</td>\n",
       "      <td>1.9</td>\n",
       "      <td>2.7</td>\n",
       "      <td>657060</td>\n",
       "      <td>1672497</td>\n",
       "      <td>2.5</td>\n",
       "    </tr>\n",
       "  </tbody>\n",
       "</table>\n",
       "</div>"
      ],
      "text/plain": [
       "    periodo  viajeros_espana  viajeros_extranjero  pernoctaciones_espana  \\\n",
       "55  2017-06           128405               584798                 248830   \n",
       "54  2017-07           137560               634306                 261185   \n",
       "53  2017-08            92632               601050                 194356   \n",
       "52  2017-09           116521               568131                 216184   \n",
       "51  2017-10           125400               531660                 238121   \n",
       "\n",
       "    pernoctaciones_extranjero  media_pernoc_esp  media_pernoc_ext  \\\n",
       "55                    1584983               1.9               2.7   \n",
       "54                    1803145               1.9               2.8   \n",
       "53                    1807172               2.1               3.0   \n",
       "52                    1550853               1.9               2.7   \n",
       "51                    1434376               1.9               2.7   \n",
       "\n",
       "    total_viajeros  total_pernoctaciones  media_total_pernoc  \n",
       "55          713203               1833813                 2.6  \n",
       "54          771866               2064330                 2.7  \n",
       "53          693682               2001528                 2.9  \n",
       "52          684652               1767037                 2.6  \n",
       "51          657060               1672497                 2.5  "
      ]
     },
     "execution_count": 144,
     "metadata": {},
     "output_type": "execute_result"
    }
   ],
   "source": [
    "d.head(5)"
   ]
  },
  {
   "cell_type": "code",
   "execution_count": 145,
   "metadata": {},
   "outputs": [],
   "source": [
    "d=df_admon_select.set_index('periodo')"
   ]
  },
  {
   "cell_type": "code",
   "execution_count": 146,
   "metadata": {},
   "outputs": [
    {
     "data": {
      "text/html": [
       "<div>\n",
       "<style scoped>\n",
       "    .dataframe tbody tr th:only-of-type {\n",
       "        vertical-align: middle;\n",
       "    }\n",
       "\n",
       "    .dataframe tbody tr th {\n",
       "        vertical-align: top;\n",
       "    }\n",
       "\n",
       "    .dataframe thead th {\n",
       "        text-align: right;\n",
       "    }\n",
       "</style>\n",
       "<table border=\"1\" class=\"dataframe\">\n",
       "  <thead>\n",
       "    <tr style=\"text-align: right;\">\n",
       "      <th></th>\n",
       "      <th>viajeros_espana</th>\n",
       "      <th>viajeros_extranjero</th>\n",
       "      <th>pernoctaciones_espana</th>\n",
       "      <th>pernoctaciones_extranjero</th>\n",
       "      <th>media_pernoc_esp</th>\n",
       "      <th>media_pernoc_ext</th>\n",
       "      <th>total_viajeros</th>\n",
       "      <th>total_pernoctaciones</th>\n",
       "      <th>media_total_pernoc</th>\n",
       "    </tr>\n",
       "    <tr>\n",
       "      <th>periodo</th>\n",
       "      <th></th>\n",
       "      <th></th>\n",
       "      <th></th>\n",
       "      <th></th>\n",
       "      <th></th>\n",
       "      <th></th>\n",
       "      <th></th>\n",
       "      <th></th>\n",
       "      <th></th>\n",
       "    </tr>\n",
       "  </thead>\n",
       "  <tbody>\n",
       "    <tr>\n",
       "      <th>2021-12</th>\n",
       "      <td>144299</td>\n",
       "      <td>250133</td>\n",
       "      <td>282398</td>\n",
       "      <td>674630</td>\n",
       "      <td>2.0</td>\n",
       "      <td>2.7</td>\n",
       "      <td>394432</td>\n",
       "      <td>957028</td>\n",
       "      <td>2.4</td>\n",
       "    </tr>\n",
       "  </tbody>\n",
       "</table>\n",
       "</div>"
      ],
      "text/plain": [
       "         viajeros_espana  viajeros_extranjero  pernoctaciones_espana  \\\n",
       "periodo                                                                \n",
       "2021-12           144299               250133                 282398   \n",
       "\n",
       "         pernoctaciones_extranjero  media_pernoc_esp  media_pernoc_ext  \\\n",
       "periodo                                                                  \n",
       "2021-12                     674630               2.0               2.7   \n",
       "\n",
       "         total_viajeros  total_pernoctaciones  media_total_pernoc  \n",
       "periodo                                                            \n",
       "2021-12          394432                957028                 2.4  "
      ]
     },
     "execution_count": 146,
     "metadata": {},
     "output_type": "execute_result"
    }
   ],
   "source": [
    "d.head(1)"
   ]
  },
  {
   "cell_type": "code",
   "execution_count": 147,
   "metadata": {},
   "outputs": [],
   "source": [
    "d=d.drop(['viajeros_espana', 'viajeros_extranjero',\t'pernoctaciones_espana', 'pernoctaciones_extranjero',\t'media_pernoc_esp', 'media_pernoc_ext', 'total_pernoctaciones',\t'media_total_pernoc'],axis=1)"
   ]
  },
  {
   "cell_type": "code",
   "execution_count": 153,
   "metadata": {},
   "outputs": [
    {
     "data": {
      "text/plain": [
       "<AxesSubplot:xlabel='periodo'>"
      ]
     },
     "execution_count": 153,
     "metadata": {},
     "output_type": "execute_result"
    },
    {
     "data": {
      "image/png": "[encoded data removed]",
      "text/plain": [
       "<Figure size 432x288 with 1 Axes>"
      ]
     },
     "metadata": {
      "needs_background": "light"
     },
     "output_type": "display_data"
    }
   ],
   "source": [
    "d.plot()"
   ]
  },
  {
   "cell_type": "code",
   "execution_count": 151,
   "metadata": {},
   "outputs": [
    {
     "data": {
      "image/png": "[encoded data removed]",
      "text/plain": [
       "<Figure size 432x288 with 1 Axes>"
      ]
     },
     "metadata": {
      "needs_background": "light"
     },
     "output_type": "display_data"
    }
   ],
   "source": [
    "d.plot()\n",
    "plt.yscale('log')"
   ]
  },
  {
   "cell_type": "code",
   "execution_count": 166,
   "metadata": {},
   "outputs": [
    {
     "data": {
      "text/html": [
       "<div>\n",
       "<style scoped>\n",
       "    .dataframe tbody tr th:only-of-type {\n",
       "        vertical-align: middle;\n",
       "    }\n",
       "\n",
       "    .dataframe tbody tr th {\n",
       "        vertical-align: top;\n",
       "    }\n",
       "\n",
       "    .dataframe thead th {\n",
       "        text-align: right;\n",
       "    }\n",
       "</style>\n",
       "<table border=\"1\" class=\"dataframe\">\n",
       "  <thead>\n",
       "    <tr style=\"text-align: right;\">\n",
       "      <th></th>\n",
       "      <th>total_viajeros</th>\n",
       "    </tr>\n",
       "    <tr>\n",
       "      <th>periodo</th>\n",
       "      <th></th>\n",
       "    </tr>\n",
       "  </thead>\n",
       "  <tbody>\n",
       "    <tr>\n",
       "      <th>2017-10</th>\n",
       "      <td>657060</td>\n",
       "    </tr>\n",
       "    <tr>\n",
       "      <th>2017-09</th>\n",
       "      <td>684652</td>\n",
       "    </tr>\n",
       "    <tr>\n",
       "      <th>2017-08</th>\n",
       "      <td>693682</td>\n",
       "    </tr>\n",
       "    <tr>\n",
       "      <th>2017-07</th>\n",
       "      <td>771866</td>\n",
       "    </tr>\n",
       "    <tr>\n",
       "      <th>2017-06</th>\n",
       "      <td>713203</td>\n",
       "    </tr>\n",
       "  </tbody>\n",
       "</table>\n",
       "</div>"
      ],
      "text/plain": [
       "         total_viajeros\n",
       "periodo                \n",
       "2017-10          657060\n",
       "2017-09          684652\n",
       "2017-08          693682\n",
       "2017-07          771866\n",
       "2017-06          713203"
      ]
     },
     "execution_count": 166,
     "metadata": {},
     "output_type": "execute_result"
    }
   ],
   "source": [
    "d.tail(5)"
   ]
  },
  {
   "cell_type": "code",
   "execution_count": 158,
   "metadata": {},
   "outputs": [
    {
     "data": {
      "text/plain": [
       "55"
      ]
     },
     "execution_count": 158,
     "metadata": {},
     "output_type": "execute_result"
    }
   ],
   "source": [
    "len(d['total_viajeros'])"
   ]
  },
  {
   "cell_type": "code",
   "execution_count": 167,
   "metadata": {},
   "outputs": [
    {
     "data": {
      "text/html": [
       "<div>\n",
       "<style scoped>\n",
       "    .dataframe tbody tr th:only-of-type {\n",
       "        vertical-align: middle;\n",
       "    }\n",
       "\n",
       "    .dataframe tbody tr th {\n",
       "        vertical-align: top;\n",
       "    }\n",
       "\n",
       "    .dataframe thead th {\n",
       "        text-align: right;\n",
       "    }\n",
       "</style>\n",
       "<table border=\"1\" class=\"dataframe\">\n",
       "  <thead>\n",
       "    <tr style=\"text-align: right;\">\n",
       "      <th></th>\n",
       "      <th></th>\n",
       "      <th>numero_turistas</th>\n",
       "    </tr>\n",
       "    <tr>\n",
       "      <th>fecha</th>\n",
       "      <th>fecha</th>\n",
       "      <th></th>\n",
       "    </tr>\n",
       "  </thead>\n",
       "  <tbody>\n",
       "    <tr>\n",
       "      <th rowspan=\"5\" valign=\"top\">2017</th>\n",
       "      <th>6</th>\n",
       "      <td>19</td>\n",
       "    </tr>\n",
       "    <tr>\n",
       "      <th>7</th>\n",
       "      <td>26</td>\n",
       "    </tr>\n",
       "    <tr>\n",
       "      <th>8</th>\n",
       "      <td>82</td>\n",
       "    </tr>\n",
       "    <tr>\n",
       "      <th>9</th>\n",
       "      <td>58</td>\n",
       "    </tr>\n",
       "    <tr>\n",
       "      <th>10</th>\n",
       "      <td>34</td>\n",
       "    </tr>\n",
       "  </tbody>\n",
       "</table>\n",
       "</div>"
      ],
      "text/plain": [
       "             numero_turistas\n",
       "fecha fecha                 \n",
       "2017  6                   19\n",
       "      7                   26\n",
       "      8                   82\n",
       "      9                   58\n",
       "      10                  34"
      ]
     },
     "execution_count": 167,
     "metadata": {},
     "output_type": "execute_result"
    }
   ],
   "source": [
    "df_numero_turistas_fecha.head(5)"
   ]
  },
  {
   "cell_type": "code",
   "execution_count": 165,
   "metadata": {},
   "outputs": [
    {
     "data": {
      "text/plain": [
       "678"
      ]
     },
     "execution_count": 165,
     "metadata": {},
     "output_type": "execute_result"
    }
   ],
   "source": [
    "df_numero_turistas_fecha.iloc[52,0]"
   ]
  },
  {
   "cell_type": "code",
   "execution_count": 157,
   "metadata": {},
   "outputs": [
    {
     "data": {
      "text/plain": [
       "56"
      ]
     },
     "execution_count": 157,
     "metadata": {},
     "output_type": "execute_result"
    }
   ],
   "source": [
    "len(df_numero_turistas_fecha['numero_turistas'])"
   ]
  },
  {
   "cell_type": "code",
   "execution_count": 149,
   "metadata": {},
   "outputs": [
    {
     "data": {
      "text/plain": [
       "<AxesSubplot:xlabel='fecha,fecha'>"
      ]
     },
     "execution_count": 149,
     "metadata": {},
     "output_type": "execute_result"
    },
    {
     "data": {
      "image/png": "[encoded data removed]",
      "text/plain": [
       "<Figure size 432x288 with 1 Axes>"
      ]
     },
     "metadata": {
      "needs_background": "light"
     },
     "output_type": "display_data"
    }
   ],
   "source": [
    "df_numero_turistas_fecha.plot()"
   ]
  },
  {
   "cell_type": "code",
   "execution_count": 150,
   "metadata": {},
   "outputs": [
    {
     "data": {
      "image/png": "[encoded data removed]",
      "text/plain": [
       "<Figure size 432x288 with 1 Axes>"
      ]
     },
     "metadata": {
      "needs_background": "light"
     },
     "output_type": "display_data"
    }
   ],
   "source": [
    "df_numero_turistas_fecha.plot()\n",
    "plt.yscale('log')"
   ]
  }
 ],
 "metadata": {
  "interpreter": {
   "hash": "ba1db81cc109b82b4f074f14705a6c6c4ac73c66313ff5962e6e84ea5725364a"
  },
  "kernelspec": {
   "display_name": "Python 3.8.8 ('base': conda)",
   "language": "python",
   "name": "python3"
  },
  "language_info": {
   "codemirror_mode": {
    "name": "ipython",
    "version": 3
   },
   "file_extension": ".py",
   "mimetype": "text/x-python",
   "name": "python",
   "nbconvert_exporter": "python",
   "pygments_lexer": "ipython3",
   "version": "3.9.7"
  },
  "orig_nbformat": 4
 },
 "nbformat": 4,
 "nbformat_minor": 2
}
