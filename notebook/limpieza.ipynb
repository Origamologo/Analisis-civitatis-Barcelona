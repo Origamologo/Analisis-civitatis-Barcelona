{
 "cells": [
  {
   "cell_type": "code",
   "execution_count": 29,
   "metadata": {},
   "outputs": [],
   "source": [
    "import pandas as pd\n",
    "import numpy as np\n",
    "import sidetable\n",
    "import sys\n",
    "import re\n",
    "\n",
    "import seaborn as sns\n",
    "import matplotlib.pyplot as plt"
   ]
  },
  {
   "cell_type": "code",
   "execution_count": 30,
   "metadata": {},
   "outputs": [],
   "source": [
    "sys.path.append('../')\n",
    "import src.limpieza as lmp"
   ]
  },
  {
   "cell_type": "code",
   "execution_count": 31,
   "metadata": {},
   "outputs": [],
   "source": [
    "import requests"
   ]
  },
  {
   "cell_type": "code",
   "execution_count": 32,
   "metadata": {},
   "outputs": [],
   "source": [
    "pd.options.display.max_columns = None"
   ]
  },
  {
   "cell_type": "code",
   "execution_count": 33,
   "metadata": {},
   "outputs": [],
   "source": [
    "url = 'https://www.ine.es/jaxiT3/files/t/es/csv_bdsc/2078.csv'\n",
    "res1 = requests.get(url)\n"
   ]
  },
  {
   "cell_type": "code",
   "execution_count": 34,
   "metadata": {},
   "outputs": [
    {
     "data": {
      "text/plain": [
       "200"
      ]
     },
     "execution_count": 34,
     "metadata": {},
     "output_type": "execute_result"
    }
   ],
   "source": [
    "res1.status_code"
   ]
  },
  {
   "cell_type": "code",
   "execution_count": 35,
   "metadata": {},
   "outputs": [],
   "source": [
    "from pathlib import Path\n",
    "\n",
    "data_folder = Path(r\"C:\\Users\\mituc\\Ironhack\\Curso\\IronLabs\\Proyecto-1\\data\")\n",
    "file_to_open = data_folder / \"2078.csv\"\n",
    "with open(file_to_open, 'wb') as f:\n",
    "    f.write(res1.content)"
   ]
  },
  {
   "cell_type": "code",
   "execution_count": 36,
   "metadata": {},
   "outputs": [],
   "source": [
    "df_guiris = pd.read_csv(r\"C:\\Users\\mituc\\Ironhack\\Curso\\IronLabs\\Proyecto-1\\data\\2078.csv\", sep=';', encoding='latin-1', index_col = 0)"
   ]
  },
  {
   "cell_type": "code",
   "execution_count": 37,
   "metadata": {},
   "outputs": [
    {
     "data": {
      "text/plain": [
       "(86920, 4)"
      ]
     },
     "execution_count": 37,
     "metadata": {},
     "output_type": "execute_result"
    }
   ],
   "source": [
    "df_guiris.shape"
   ]
  },
  {
   "cell_type": "code",
   "execution_count": 38,
   "metadata": {},
   "outputs": [
    {
     "data": {
      "text/html": [
       "<div>\n",
       "<style scoped>\n",
       "    .dataframe tbody tr th:only-of-type {\n",
       "        vertical-align: middle;\n",
       "    }\n",
       "\n",
       "    .dataframe tbody tr th {\n",
       "        vertical-align: top;\n",
       "    }\n",
       "\n",
       "    .dataframe thead th {\n",
       "        text-align: right;\n",
       "    }\n",
       "</style>\n",
       "<table border=\"1\" class=\"dataframe\">\n",
       "  <thead>\n",
       "    <tr style=\"text-align: right;\">\n",
       "      <th></th>\n",
       "      <th>Viajeros y pernoctaciones</th>\n",
       "      <th>Residencia</th>\n",
       "      <th>Periodo</th>\n",
       "      <th>Total</th>\n",
       "    </tr>\n",
       "    <tr>\n",
       "      <th>ï»¿Puntos turÃ­sticos</th>\n",
       "      <th></th>\n",
       "      <th></th>\n",
       "      <th></th>\n",
       "      <th></th>\n",
       "    </tr>\n",
       "  </thead>\n",
       "  <tbody>\n",
       "    <tr>\n",
       "      <th>01059 Vitoria-Gasteiz</th>\n",
       "      <td>Viajero</td>\n",
       "      <td>Residentes en EspaÃ±a</td>\n",
       "      <td>2022M01</td>\n",
       "      <td>11.759</td>\n",
       "    </tr>\n",
       "    <tr>\n",
       "      <th>01059 Vitoria-Gasteiz</th>\n",
       "      <td>Viajero</td>\n",
       "      <td>Residentes en EspaÃ±a</td>\n",
       "      <td>2021M12</td>\n",
       "      <td>16.496</td>\n",
       "    </tr>\n",
       "    <tr>\n",
       "      <th>01059 Vitoria-Gasteiz</th>\n",
       "      <td>Viajero</td>\n",
       "      <td>Residentes en EspaÃ±a</td>\n",
       "      <td>2021M11</td>\n",
       "      <td>16.667</td>\n",
       "    </tr>\n",
       "    <tr>\n",
       "      <th>01059 Vitoria-Gasteiz</th>\n",
       "      <td>Viajero</td>\n",
       "      <td>Residentes en EspaÃ±a</td>\n",
       "      <td>2021M10</td>\n",
       "      <td>21.467</td>\n",
       "    </tr>\n",
       "    <tr>\n",
       "      <th>01059 Vitoria-Gasteiz</th>\n",
       "      <td>Viajero</td>\n",
       "      <td>Residentes en EspaÃ±a</td>\n",
       "      <td>2021M09</td>\n",
       "      <td>18.647</td>\n",
       "    </tr>\n",
       "  </tbody>\n",
       "</table>\n",
       "</div>"
      ],
      "text/plain": [
       "                      Viajeros y pernoctaciones             Residencia  \\\n",
       "ï»¿Puntos turÃ­sticos                                                    \n",
       "01059 Vitoria-Gasteiz                   Viajero  Residentes en EspaÃ±a   \n",
       "01059 Vitoria-Gasteiz                   Viajero  Residentes en EspaÃ±a   \n",
       "01059 Vitoria-Gasteiz                   Viajero  Residentes en EspaÃ±a   \n",
       "01059 Vitoria-Gasteiz                   Viajero  Residentes en EspaÃ±a   \n",
       "01059 Vitoria-Gasteiz                   Viajero  Residentes en EspaÃ±a   \n",
       "\n",
       "                       Periodo   Total  \n",
       "ï»¿Puntos turÃ­sticos                   \n",
       "01059 Vitoria-Gasteiz  2022M01  11.759  \n",
       "01059 Vitoria-Gasteiz  2021M12  16.496  \n",
       "01059 Vitoria-Gasteiz  2021M11  16.667  \n",
       "01059 Vitoria-Gasteiz  2021M10  21.467  \n",
       "01059 Vitoria-Gasteiz  2021M09  18.647  "
      ]
     },
     "execution_count": 38,
     "metadata": {},
     "output_type": "execute_result"
    }
   ],
   "source": [
    "df_guiris.head(5)"
   ]
  },
  {
   "cell_type": "code",
   "execution_count": 39,
   "metadata": {},
   "outputs": [
    {
     "data": {
      "text/plain": [
       "12322"
      ]
     },
     "execution_count": 39,
     "metadata": {},
     "output_type": "execute_result"
    }
   ],
   "source": [
    "df_guiris.duplicated().sum()"
   ]
  },
  {
   "cell_type": "code",
   "execution_count": 40,
   "metadata": {},
   "outputs": [
    {
     "data": {
      "text/html": [
       "<div>\n",
       "<style scoped>\n",
       "    .dataframe tbody tr th:only-of-type {\n",
       "        vertical-align: middle;\n",
       "    }\n",
       "\n",
       "    .dataframe tbody tr th {\n",
       "        vertical-align: top;\n",
       "    }\n",
       "\n",
       "    .dataframe thead th {\n",
       "        text-align: right;\n",
       "    }\n",
       "</style>\n",
       "<table border=\"1\" class=\"dataframe\">\n",
       "  <thead>\n",
       "    <tr style=\"text-align: right;\">\n",
       "      <th></th>\n",
       "      <th>Viajeros y pernoctaciones</th>\n",
       "      <th>Residencia</th>\n",
       "      <th>Periodo</th>\n",
       "      <th>Total</th>\n",
       "    </tr>\n",
       "    <tr>\n",
       "      <th>ï»¿Puntos turÃ­sticos</th>\n",
       "      <th></th>\n",
       "      <th></th>\n",
       "      <th></th>\n",
       "      <th></th>\n",
       "    </tr>\n",
       "  </thead>\n",
       "  <tbody>\n",
       "    <tr>\n",
       "      <th>02003 Albacete</th>\n",
       "      <td>Viajero</td>\n",
       "      <td>Residentes en EspaÃ±a</td>\n",
       "      <td>2020M06</td>\n",
       "      <td>.</td>\n",
       "    </tr>\n",
       "    <tr>\n",
       "      <th>02003 Albacete</th>\n",
       "      <td>Viajero</td>\n",
       "      <td>Residentes en EspaÃ±a</td>\n",
       "      <td>2020M05</td>\n",
       "      <td>.</td>\n",
       "    </tr>\n",
       "    <tr>\n",
       "      <th>02003 Albacete</th>\n",
       "      <td>Viajero</td>\n",
       "      <td>Residentes en EspaÃ±a</td>\n",
       "      <td>2020M04</td>\n",
       "      <td>0</td>\n",
       "    </tr>\n",
       "    <tr>\n",
       "      <th>02003 Albacete</th>\n",
       "      <td>Viajero</td>\n",
       "      <td>Residentes en el Extranjero</td>\n",
       "      <td>2020M06</td>\n",
       "      <td>.</td>\n",
       "    </tr>\n",
       "    <tr>\n",
       "      <th>02003 Albacete</th>\n",
       "      <td>Viajero</td>\n",
       "      <td>Residentes en el Extranjero</td>\n",
       "      <td>2020M05</td>\n",
       "      <td>.</td>\n",
       "    </tr>\n",
       "    <tr>\n",
       "      <th>...</th>\n",
       "      <td>...</td>\n",
       "      <td>...</td>\n",
       "      <td>...</td>\n",
       "      <td>...</td>\n",
       "    </tr>\n",
       "    <tr>\n",
       "      <th>50297 Zaragoza</th>\n",
       "      <td>Pernoctaciones</td>\n",
       "      <td>Residentes en EspaÃ±a</td>\n",
       "      <td>2020M05</td>\n",
       "      <td>.</td>\n",
       "    </tr>\n",
       "    <tr>\n",
       "      <th>50297 Zaragoza</th>\n",
       "      <td>Pernoctaciones</td>\n",
       "      <td>Residentes en EspaÃ±a</td>\n",
       "      <td>2020M04</td>\n",
       "      <td>0</td>\n",
       "    </tr>\n",
       "    <tr>\n",
       "      <th>50297 Zaragoza</th>\n",
       "      <td>Pernoctaciones</td>\n",
       "      <td>Residentes en el Extranjero</td>\n",
       "      <td>2020M06</td>\n",
       "      <td>.</td>\n",
       "    </tr>\n",
       "    <tr>\n",
       "      <th>50297 Zaragoza</th>\n",
       "      <td>Pernoctaciones</td>\n",
       "      <td>Residentes en el Extranjero</td>\n",
       "      <td>2020M05</td>\n",
       "      <td>.</td>\n",
       "    </tr>\n",
       "    <tr>\n",
       "      <th>50297 Zaragoza</th>\n",
       "      <td>Pernoctaciones</td>\n",
       "      <td>Residentes en el Extranjero</td>\n",
       "      <td>2020M04</td>\n",
       "      <td>0</td>\n",
       "    </tr>\n",
       "  </tbody>\n",
       "</table>\n",
       "<p>12322 rows × 4 columns</p>\n",
       "</div>"
      ],
      "text/plain": [
       "                      Viajeros y pernoctaciones                   Residencia  \\\n",
       "ï»¿Puntos turÃ­sticos                                                          \n",
       "02003 Albacete                          Viajero        Residentes en EspaÃ±a   \n",
       "02003 Albacete                          Viajero        Residentes en EspaÃ±a   \n",
       "02003 Albacete                          Viajero        Residentes en EspaÃ±a   \n",
       "02003 Albacete                          Viajero  Residentes en el Extranjero   \n",
       "02003 Albacete                          Viajero  Residentes en el Extranjero   \n",
       "...                                         ...                          ...   \n",
       "50297 Zaragoza                   Pernoctaciones        Residentes en EspaÃ±a   \n",
       "50297 Zaragoza                   Pernoctaciones        Residentes en EspaÃ±a   \n",
       "50297 Zaragoza                   Pernoctaciones  Residentes en el Extranjero   \n",
       "50297 Zaragoza                   Pernoctaciones  Residentes en el Extranjero   \n",
       "50297 Zaragoza                   Pernoctaciones  Residentes en el Extranjero   \n",
       "\n",
       "                       Periodo Total  \n",
       "ï»¿Puntos turÃ­sticos                 \n",
       "02003 Albacete         2020M06     .  \n",
       "02003 Albacete         2020M05     .  \n",
       "02003 Albacete         2020M04     0  \n",
       "02003 Albacete         2020M06     .  \n",
       "02003 Albacete         2020M05     .  \n",
       "...                        ...   ...  \n",
       "50297 Zaragoza         2020M05     .  \n",
       "50297 Zaragoza         2020M04     0  \n",
       "50297 Zaragoza         2020M06     .  \n",
       "50297 Zaragoza         2020M05     .  \n",
       "50297 Zaragoza         2020M04     0  \n",
       "\n",
       "[12322 rows x 4 columns]"
      ]
     },
     "execution_count": 40,
     "metadata": {},
     "output_type": "execute_result"
    }
   ],
   "source": [
    "df_guiris[df_guiris.duplicated() == True]"
   ]
  },
  {
   "cell_type": "code",
   "execution_count": 41,
   "metadata": {},
   "outputs": [
    {
     "data": {
      "text/html": [
       "<div>\n",
       "<style scoped>\n",
       "    .dataframe tbody tr th:only-of-type {\n",
       "        vertical-align: middle;\n",
       "    }\n",
       "\n",
       "    .dataframe tbody tr th {\n",
       "        vertical-align: top;\n",
       "    }\n",
       "\n",
       "    .dataframe thead th {\n",
       "        text-align: right;\n",
       "    }\n",
       "</style>\n",
       "<table border=\"1\" class=\"dataframe\">\n",
       "  <thead>\n",
       "    <tr style=\"text-align: right;\">\n",
       "      <th></th>\n",
       "      <th>Viajeros y pernoctaciones</th>\n",
       "      <th>Residencia</th>\n",
       "      <th>Periodo</th>\n",
       "      <th>Total</th>\n",
       "    </tr>\n",
       "    <tr>\n",
       "      <th>ï»¿Puntos turÃ­sticos</th>\n",
       "      <th></th>\n",
       "      <th></th>\n",
       "      <th></th>\n",
       "      <th></th>\n",
       "    </tr>\n",
       "  </thead>\n",
       "  <tbody>\n",
       "    <tr>\n",
       "      <th>01059 Vitoria-Gasteiz</th>\n",
       "      <td>Viajero</td>\n",
       "      <td>Residentes en EspaÃ±a</td>\n",
       "      <td>2020M04</td>\n",
       "      <td>0</td>\n",
       "    </tr>\n",
       "    <tr>\n",
       "      <th>01059 Vitoria-Gasteiz</th>\n",
       "      <td>Viajero</td>\n",
       "      <td>Residentes en el Extranjero</td>\n",
       "      <td>2020M04</td>\n",
       "      <td>0</td>\n",
       "    </tr>\n",
       "    <tr>\n",
       "      <th>01059 Vitoria-Gasteiz</th>\n",
       "      <td>Pernoctaciones</td>\n",
       "      <td>Residentes en EspaÃ±a</td>\n",
       "      <td>2020M04</td>\n",
       "      <td>0</td>\n",
       "    </tr>\n",
       "    <tr>\n",
       "      <th>01059 Vitoria-Gasteiz</th>\n",
       "      <td>Pernoctaciones</td>\n",
       "      <td>Residentes en el Extranjero</td>\n",
       "      <td>2020M04</td>\n",
       "      <td>0</td>\n",
       "    </tr>\n",
       "    <tr>\n",
       "      <th>02003 Albacete</th>\n",
       "      <td>Viajero</td>\n",
       "      <td>Residentes en EspaÃ±a</td>\n",
       "      <td>2020M04</td>\n",
       "      <td>0</td>\n",
       "    </tr>\n",
       "    <tr>\n",
       "      <th>...</th>\n",
       "      <td>...</td>\n",
       "      <td>...</td>\n",
       "      <td>...</td>\n",
       "      <td>...</td>\n",
       "    </tr>\n",
       "    <tr>\n",
       "      <th>49275 Zamora</th>\n",
       "      <td>Pernoctaciones</td>\n",
       "      <td>Residentes en el Extranjero</td>\n",
       "      <td>2020M04</td>\n",
       "      <td>0</td>\n",
       "    </tr>\n",
       "    <tr>\n",
       "      <th>50297 Zaragoza</th>\n",
       "      <td>Viajero</td>\n",
       "      <td>Residentes en EspaÃ±a</td>\n",
       "      <td>2020M04</td>\n",
       "      <td>0</td>\n",
       "    </tr>\n",
       "    <tr>\n",
       "      <th>50297 Zaragoza</th>\n",
       "      <td>Viajero</td>\n",
       "      <td>Residentes en el Extranjero</td>\n",
       "      <td>2020M04</td>\n",
       "      <td>0</td>\n",
       "    </tr>\n",
       "    <tr>\n",
       "      <th>50297 Zaragoza</th>\n",
       "      <td>Pernoctaciones</td>\n",
       "      <td>Residentes en EspaÃ±a</td>\n",
       "      <td>2020M04</td>\n",
       "      <td>0</td>\n",
       "    </tr>\n",
       "    <tr>\n",
       "      <th>50297 Zaragoza</th>\n",
       "      <td>Pernoctaciones</td>\n",
       "      <td>Residentes en el Extranjero</td>\n",
       "      <td>2020M04</td>\n",
       "      <td>0</td>\n",
       "    </tr>\n",
       "  </tbody>\n",
       "</table>\n",
       "<p>425 rows × 4 columns</p>\n",
       "</div>"
      ],
      "text/plain": [
       "                      Viajeros y pernoctaciones                   Residencia  \\\n",
       "ï»¿Puntos turÃ­sticos                                                          \n",
       "01059 Vitoria-Gasteiz                   Viajero        Residentes en EspaÃ±a   \n",
       "01059 Vitoria-Gasteiz                   Viajero  Residentes en el Extranjero   \n",
       "01059 Vitoria-Gasteiz            Pernoctaciones        Residentes en EspaÃ±a   \n",
       "01059 Vitoria-Gasteiz            Pernoctaciones  Residentes en el Extranjero   \n",
       "02003 Albacete                          Viajero        Residentes en EspaÃ±a   \n",
       "...                                         ...                          ...   \n",
       "49275 Zamora                     Pernoctaciones  Residentes en el Extranjero   \n",
       "50297 Zaragoza                          Viajero        Residentes en EspaÃ±a   \n",
       "50297 Zaragoza                          Viajero  Residentes en el Extranjero   \n",
       "50297 Zaragoza                   Pernoctaciones        Residentes en EspaÃ±a   \n",
       "50297 Zaragoza                   Pernoctaciones  Residentes en el Extranjero   \n",
       "\n",
       "                       Periodo Total  \n",
       "ï»¿Puntos turÃ­sticos                 \n",
       "01059 Vitoria-Gasteiz  2020M04     0  \n",
       "01059 Vitoria-Gasteiz  2020M04     0  \n",
       "01059 Vitoria-Gasteiz  2020M04     0  \n",
       "01059 Vitoria-Gasteiz  2020M04     0  \n",
       "02003 Albacete         2020M04     0  \n",
       "...                        ...   ...  \n",
       "49275 Zamora           2020M04     0  \n",
       "50297 Zaragoza         2020M04     0  \n",
       "50297 Zaragoza         2020M04     0  \n",
       "50297 Zaragoza         2020M04     0  \n",
       "50297 Zaragoza         2020M04     0  \n",
       "\n",
       "[425 rows x 4 columns]"
      ]
     },
     "execution_count": 41,
     "metadata": {},
     "output_type": "execute_result"
    }
   ],
   "source": [
    "df_guiris[df_guiris['Total'] == '0']"
   ]
  },
  {
   "cell_type": "markdown",
   "metadata": {},
   "source": [
    "Aunque parecía que había duplicados, en la tabla anterior podemos ver que no es así y si resetamos el index desaparecen"
   ]
  },
  {
   "cell_type": "code",
   "execution_count": 42,
   "metadata": {},
   "outputs": [],
   "source": [
    "df_guiris.reset_index(inplace=True)"
   ]
  },
  {
   "cell_type": "code",
   "execution_count": 43,
   "metadata": {},
   "outputs": [
    {
     "data": {
      "text/plain": [
       "0"
      ]
     },
     "execution_count": 43,
     "metadata": {},
     "output_type": "execute_result"
    }
   ],
   "source": [
    "df_guiris.duplicated().sum()"
   ]
  },
  {
   "cell_type": "code",
   "execution_count": 44,
   "metadata": {},
   "outputs": [
    {
     "data": {
      "text/plain": [
       "ï»¿Puntos turÃ­sticos        object\n",
       "Viajeros y pernoctaciones    object\n",
       "Residencia                   object\n",
       "Periodo                      object\n",
       "Total                        object\n",
       "dtype: object"
      ]
     },
     "execution_count": 44,
     "metadata": {},
     "output_type": "execute_result"
    }
   ],
   "source": [
    "df_guiris.dtypes"
   ]
  },
  {
   "cell_type": "markdown",
   "metadata": {},
   "source": [
    "Tendremos que limpiar algunos nombres"
   ]
  },
  {
   "cell_type": "code",
   "execution_count": 45,
   "metadata": {},
   "outputs": [
    {
     "data": {
      "text/plain": [
       "Index(['ï»¿Puntos turÃ­sticos', 'Viajeros y pernoctaciones', 'Residencia',\n",
       "       'Periodo', 'Total'],\n",
       "      dtype='object')"
      ]
     },
     "execution_count": 45,
     "metadata": {},
     "output_type": "execute_result"
    }
   ],
   "source": [
    "df_guiris.columns"
   ]
  },
  {
   "cell_type": "code",
   "execution_count": 46,
   "metadata": {},
   "outputs": [
    {
     "name": "stdout",
     "output_type": "stream",
     "text": [
      "['Viajero' 'Pernoctaciones']\n",
      "['Residentes en EspaÃ±a' 'Residentes en el Extranjero']\n"
     ]
    }
   ],
   "source": [
    "print(df_guiris['Viajeros y pernoctaciones'].unique())\n",
    "print(df_guiris['Residencia'].unique())"
   ]
  },
  {
   "cell_type": "code",
   "execution_count": 47,
   "metadata": {},
   "outputs": [
    {
     "data": {
      "text/plain": [
       "ï»¿Puntos turÃ­sticos           0\n",
       "Viajeros y pernoctaciones       0\n",
       "Residencia                      0\n",
       "Periodo                         0\n",
       "Total                        5358\n",
       "dtype: int64"
      ]
     },
     "execution_count": 47,
     "metadata": {},
     "output_type": "execute_result"
    }
   ],
   "source": [
    "df_guiris.isnull().sum()"
   ]
  },
  {
   "cell_type": "code",
   "execution_count": 48,
   "metadata": {},
   "outputs": [
    {
     "data": {
      "text/plain": [
       "(86920, 5)"
      ]
     },
     "execution_count": 48,
     "metadata": {},
     "output_type": "execute_result"
    }
   ],
   "source": [
    "df_guiris.shape"
   ]
  },
  {
   "cell_type": "markdown",
   "metadata": {},
   "source": [
    "Renombramos las columnas"
   ]
  },
  {
   "cell_type": "code",
   "execution_count": 49,
   "metadata": {},
   "outputs": [],
   "source": [
    "df_guiris = df_guiris.rename(columns={'ï»¿Puntos turÃ­sticos': 'Puntos_turisticos'})\n",
    "columnas_limpias = {col : col.lower().replace(\" \", \"_\") for col in df_guiris.columns}\n",
    "df_guiris.rename(columns = columnas_limpias, inplace = True)"
   ]
  },
  {
   "cell_type": "code",
   "execution_count": 50,
   "metadata": {},
   "outputs": [
    {
     "data": {
      "text/plain": [
       "Index(['puntos_turisticos', 'viajeros_y_pernoctaciones', 'residencia',\n",
       "       'periodo', 'total'],\n",
       "      dtype='object')"
      ]
     },
     "execution_count": 50,
     "metadata": {},
     "output_type": "execute_result"
    }
   ],
   "source": [
    "df_guiris.columns"
   ]
  },
  {
   "cell_type": "markdown",
   "metadata": {},
   "source": [
    "Ahora vamos a dejar limpita la columna 'total'. Primero retiraremos los puntos y luego convertiremos los valores en enteros.\n",
    "\n",
    "Es importante tener en cuenta que en este csv si aparece un punto '.' a secas, significa bien que el dato está protegido por la ley de secreto estadístico, (Artículo 12 de la Ley 7/2006) o en algunas ocasiones que el dato no se recogió. y Para nosotros es como si fuera un nulo.\n",
    "\n",
    "Esta operación de limpieza tiene por tanto una doble función:\n",
    "- poder convertir los string en int\n",
    "- convertir los '.' en NaN para manejarlos después"
   ]
  },
  {
   "cell_type": "code",
   "execution_count": 51,
   "metadata": {},
   "outputs": [
    {
     "name": "stderr",
     "output_type": "stream",
     "text": [
      "C:\\Users\\mituc\\AppData\\Local\\Temp/ipykernel_12004/2279084469.py:1: FutureWarning: The default value of regex will change from True to False in a future version. In addition, single character regular expressions will *not* be treated as literal strings when regex=True.\n",
      "  df_guiris['total'] = df_guiris['total'].str.replace('.', '')\n"
     ]
    }
   ],
   "source": [
    "df_guiris['total'] = df_guiris['total'].str.replace('.', '')"
   ]
  },
  {
   "cell_type": "code",
   "execution_count": 52,
   "metadata": {},
   "outputs": [],
   "source": [
    "df_guiris['total'] = pd.to_numeric(df_guiris['total'], errors='coerce').astype('Int64')"
   ]
  },
  {
   "cell_type": "markdown",
   "metadata": {},
   "source": [
    "Podemos comprobar que los nulos han aumentado de 5358 a 13056"
   ]
  },
  {
   "cell_type": "code",
   "execution_count": 53,
   "metadata": {},
   "outputs": [
    {
     "data": {
      "text/plain": [
       "puntos_turisticos                0\n",
       "viajeros_y_pernoctaciones        0\n",
       "residencia                       0\n",
       "periodo                          0\n",
       "total                        13056\n",
       "dtype: int64"
      ]
     },
     "execution_count": 53,
     "metadata": {},
     "output_type": "execute_result"
    }
   ],
   "source": [
    "df_guiris.isnull().sum()"
   ]
  },
  {
   "cell_type": "markdown",
   "metadata": {},
   "source": [
    "Sabemos por la documentación del csv que entre abril y junio del 2020 no hubo recogida de datos a causa de la crisis del covid-19. Veamos cómo están esos datos."
   ]
  },
  {
   "cell_type": "code",
   "execution_count": 54,
   "metadata": {},
   "outputs": [
    {
     "data": {
      "text/html": [
       "<div>\n",
       "<style scoped>\n",
       "    .dataframe tbody tr th:only-of-type {\n",
       "        vertical-align: middle;\n",
       "    }\n",
       "\n",
       "    .dataframe tbody tr th {\n",
       "        vertical-align: top;\n",
       "    }\n",
       "\n",
       "    .dataframe thead th {\n",
       "        text-align: right;\n",
       "    }\n",
       "</style>\n",
       "<table border=\"1\" class=\"dataframe\">\n",
       "  <thead>\n",
       "    <tr style=\"text-align: right;\">\n",
       "      <th></th>\n",
       "      <th>puntos_turisticos</th>\n",
       "      <th>viajeros_y_pernoctaciones</th>\n",
       "      <th>residencia</th>\n",
       "      <th>periodo</th>\n",
       "      <th>total</th>\n",
       "    </tr>\n",
       "  </thead>\n",
       "  <tbody>\n",
       "    <tr>\n",
       "      <th>19</th>\n",
       "      <td>01059 Vitoria-Gasteiz</td>\n",
       "      <td>Viajero</td>\n",
       "      <td>Residentes en EspaÃ±a</td>\n",
       "      <td>2020M06</td>\n",
       "      <td>&lt;NA&gt;</td>\n",
       "    </tr>\n",
       "    <tr>\n",
       "      <th>20</th>\n",
       "      <td>01059 Vitoria-Gasteiz</td>\n",
       "      <td>Viajero</td>\n",
       "      <td>Residentes en EspaÃ±a</td>\n",
       "      <td>2020M05</td>\n",
       "      <td>&lt;NA&gt;</td>\n",
       "    </tr>\n",
       "    <tr>\n",
       "      <th>21</th>\n",
       "      <td>01059 Vitoria-Gasteiz</td>\n",
       "      <td>Viajero</td>\n",
       "      <td>Residentes en EspaÃ±a</td>\n",
       "      <td>2020M04</td>\n",
       "      <td>0</td>\n",
       "    </tr>\n",
       "    <tr>\n",
       "      <th>224</th>\n",
       "      <td>01059 Vitoria-Gasteiz</td>\n",
       "      <td>Viajero</td>\n",
       "      <td>Residentes en el Extranjero</td>\n",
       "      <td>2020M06</td>\n",
       "      <td>&lt;NA&gt;</td>\n",
       "    </tr>\n",
       "    <tr>\n",
       "      <th>225</th>\n",
       "      <td>01059 Vitoria-Gasteiz</td>\n",
       "      <td>Viajero</td>\n",
       "      <td>Residentes en el Extranjero</td>\n",
       "      <td>2020M05</td>\n",
       "      <td>&lt;NA&gt;</td>\n",
       "    </tr>\n",
       "    <tr>\n",
       "      <th>...</th>\n",
       "      <td>...</td>\n",
       "      <td>...</td>\n",
       "      <td>...</td>\n",
       "      <td>...</td>\n",
       "      <td>...</td>\n",
       "    </tr>\n",
       "    <tr>\n",
       "      <th>86530</th>\n",
       "      <td>50297 Zaragoza</td>\n",
       "      <td>Pernoctaciones</td>\n",
       "      <td>Residentes en EspaÃ±a</td>\n",
       "      <td>2020M05</td>\n",
       "      <td>&lt;NA&gt;</td>\n",
       "    </tr>\n",
       "    <tr>\n",
       "      <th>86531</th>\n",
       "      <td>50297 Zaragoza</td>\n",
       "      <td>Pernoctaciones</td>\n",
       "      <td>Residentes en EspaÃ±a</td>\n",
       "      <td>2020M04</td>\n",
       "      <td>0</td>\n",
       "    </tr>\n",
       "    <tr>\n",
       "      <th>86734</th>\n",
       "      <td>50297 Zaragoza</td>\n",
       "      <td>Pernoctaciones</td>\n",
       "      <td>Residentes en el Extranjero</td>\n",
       "      <td>2020M06</td>\n",
       "      <td>&lt;NA&gt;</td>\n",
       "    </tr>\n",
       "    <tr>\n",
       "      <th>86735</th>\n",
       "      <td>50297 Zaragoza</td>\n",
       "      <td>Pernoctaciones</td>\n",
       "      <td>Residentes en el Extranjero</td>\n",
       "      <td>2020M05</td>\n",
       "      <td>&lt;NA&gt;</td>\n",
       "    </tr>\n",
       "    <tr>\n",
       "      <th>86736</th>\n",
       "      <td>50297 Zaragoza</td>\n",
       "      <td>Pernoctaciones</td>\n",
       "      <td>Residentes en el Extranjero</td>\n",
       "      <td>2020M04</td>\n",
       "      <td>0</td>\n",
       "    </tr>\n",
       "  </tbody>\n",
       "</table>\n",
       "<p>1272 rows × 5 columns</p>\n",
       "</div>"
      ],
      "text/plain": [
       "           puntos_turisticos viajeros_y_pernoctaciones  \\\n",
       "19     01059 Vitoria-Gasteiz                   Viajero   \n",
       "20     01059 Vitoria-Gasteiz                   Viajero   \n",
       "21     01059 Vitoria-Gasteiz                   Viajero   \n",
       "224    01059 Vitoria-Gasteiz                   Viajero   \n",
       "225    01059 Vitoria-Gasteiz                   Viajero   \n",
       "...                      ...                       ...   \n",
       "86530         50297 Zaragoza            Pernoctaciones   \n",
       "86531         50297 Zaragoza            Pernoctaciones   \n",
       "86734         50297 Zaragoza            Pernoctaciones   \n",
       "86735         50297 Zaragoza            Pernoctaciones   \n",
       "86736         50297 Zaragoza            Pernoctaciones   \n",
       "\n",
       "                        residencia  periodo  total  \n",
       "19           Residentes en EspaÃ±a  2020M06   <NA>  \n",
       "20           Residentes en EspaÃ±a  2020M05   <NA>  \n",
       "21           Residentes en EspaÃ±a  2020M04      0  \n",
       "224    Residentes en el Extranjero  2020M06   <NA>  \n",
       "225    Residentes en el Extranjero  2020M05   <NA>  \n",
       "...                            ...      ...    ...  \n",
       "86530        Residentes en EspaÃ±a  2020M05   <NA>  \n",
       "86531        Residentes en EspaÃ±a  2020M04      0  \n",
       "86734  Residentes en el Extranjero  2020M06   <NA>  \n",
       "86735  Residentes en el Extranjero  2020M05   <NA>  \n",
       "86736  Residentes en el Extranjero  2020M04      0  \n",
       "\n",
       "[1272 rows x 5 columns]"
      ]
     },
     "execution_count": 54,
     "metadata": {},
     "output_type": "execute_result"
    }
   ],
   "source": [
    "df_guiris[(df_guiris['periodo'] == '2020M04') | (df_guiris['periodo'] == '2020M05') | (df_guiris['periodo'] == '2020M06')]"
   ]
  },
  {
   "cell_type": "markdown",
   "metadata": {},
   "source": [
    "Dado que en los meses del confinamiento toda la actividad turística estuvo suspendida, vamos a sustituir los nulos por 0, pues no es tanto que no hubiese recogida de datos como que no había turistas."
   ]
  },
  {
   "cell_type": "code",
   "execution_count": 55,
   "metadata": {},
   "outputs": [],
   "source": [
    "df_guiris.loc[(df_guiris['periodo'] == '2020M04') | \n",
    "              (df_guiris['periodo'] == '2020M05') | \n",
    "              (df_guiris['periodo'] == '2020M06'), 'total'] = 0"
   ]
  },
  {
   "cell_type": "markdown",
   "metadata": {},
   "source": [
    "Y comprobamos que los nulos han descendido de 13056 a 12208"
   ]
  },
  {
   "cell_type": "code",
   "execution_count": 56,
   "metadata": {},
   "outputs": [
    {
     "data": {
      "text/plain": [
       "puntos_turisticos                0\n",
       "viajeros_y_pernoctaciones        0\n",
       "residencia                       0\n",
       "periodo                          0\n",
       "total                        12208\n",
       "dtype: int64"
      ]
     },
     "execution_count": 56,
     "metadata": {},
     "output_type": "execute_result"
    }
   ],
   "source": [
    "df_guiris.isnull().sum()"
   ]
  },
  {
   "cell_type": "markdown",
   "metadata": {},
   "source": [
    "Los nulos que quedan se deben a que o bien no había recogida de datos en esa fecha para esa zona turística, o bien el dato no está publicado porque está protegido por secreto estadístico.\n",
    "En todo caso no se pueden eliminar alegremente. En el caso de que falten en meses puntuales pero dispongamos de datos para el resto del año, quizá convendría sustiruirlos."
   ]
  },
  {
   "cell_type": "code",
   "execution_count": 57,
   "metadata": {},
   "outputs": [],
   "source": [
    "null_rows = pd.isnull(df_guiris['total'])"
   ]
  },
  {
   "cell_type": "code",
   "execution_count": 58,
   "metadata": {},
   "outputs": [],
   "source": [
    "df_guiris[null_rows].to_csv('nulls.csv')"
   ]
  },
  {
   "cell_type": "code",
   "execution_count": 59,
   "metadata": {},
   "outputs": [],
   "source": [
    "df_guiris['periodo'] = df_guiris['periodo'].str.replace('M', '-')"
   ]
  },
  {
   "cell_type": "code",
   "execution_count": 60,
   "metadata": {},
   "outputs": [],
   "source": [
    "df_guiris.to_pickle('guiris.pkl')\n",
    "#df_guiris = pd.read_pickle('guiris.pkl')"
   ]
  },
  {
   "cell_type": "code",
   "execution_count": 61,
   "metadata": {},
   "outputs": [],
   "source": [
    "df_guiris['periodo'] = pd.to_datetime(df_guiris['periodo'], format='%Y%m%')\n",
    "#df_guiris['periodo'] = df_guiris['periodo'].dt.date.apply(lambda x: x.strftime('%Y-%m'))"
   ]
  },
  {
   "cell_type": "code",
   "execution_count": 62,
   "metadata": {},
   "outputs": [
    {
     "data": {
      "text/plain": [
       "puntos_turisticos                    object\n",
       "viajeros_y_pernoctaciones            object\n",
       "residencia                           object\n",
       "periodo                      datetime64[ns]\n",
       "total                                 Int64\n",
       "dtype: object"
      ]
     },
     "execution_count": 62,
     "metadata": {},
     "output_type": "execute_result"
    }
   ],
   "source": [
    "df_guiris.dtypes"
   ]
  },
  {
   "cell_type": "code",
   "execution_count": 63,
   "metadata": {},
   "outputs": [],
   "source": [
    "df_guiris.set_index('periodo', inplace=True)"
   ]
  },
  {
   "cell_type": "markdown",
   "metadata": {},
   "source": [
    "Renombramos los valores"
   ]
  },
  {
   "cell_type": "code",
   "execution_count": 64,
   "metadata": {},
   "outputs": [],
   "source": [
    "df_guiris['residencia'].replace({'Residentes en EspaÃ±a': \"residentes_espana\", 'Residentes en el Extranjero': 'residentes_en_el_extranjero'}, inplace=True)\n",
    "df_guiris['viajeros_y_pernoctaciones'] = df_guiris['viajeros_y_pernoctaciones'].str.lower()"
   ]
  },
  {
   "cell_type": "markdown",
   "metadata": {},
   "source": [
    "Aplicamos la función que limpia y organiza los datos por ciudades"
   ]
  },
  {
   "cell_type": "code",
   "execution_count": 72,
   "metadata": {},
   "outputs": [],
   "source": [
    "lista = ['Zaragoza']"
   ]
  },
  {
   "cell_type": "code",
   "execution_count": 71,
   "metadata": {},
   "outputs": [],
   "source": [
    "def pastor_de_guiris(df, ciudades):\n",
    "    '''\n",
    "    Separa, organiza y guarda en formato pickle los datos \n",
    "    de la ciudad o ciudades elegidas.\n",
    "    Las fechas serán el index y tendremos columnas para:\n",
    "        - Número de viajeros residentes en Espana\n",
    "        - Número de viajeros residentes en el extranjero\n",
    "        - Número de pernoctaciones de los viajeros residentes en Espana\n",
    "        - Número de pernoctaciones de los viajeros residentes en el extranjero\n",
    "        - Media de pernoctaciones de los viajeros residentes en Espana\n",
    "        - Media de pernoctaciones de los viajeros residentes en el extranjero\n",
    "        - El número total de viajeros, sumando nacionales y extranjeros\n",
    "        - El número total de pernoctaciones, sumando las de viajeros nacionales\n",
    "          con las de los extranjeros\n",
    "        - La media del total de pernoctaciones\n",
    "    Args:\n",
    "        df (pandas.DataFrame): el data frame que contiene los datos \n",
    "                               de TODAS las zonas turísticas\n",
    "        ciudades (list): lista con la ciudad o ciudades de las que \n",
    "                         se desea extraer los datos\n",
    "    '''\n",
    "\n",
    "    for ciudad in ciudades:\n",
    "        # Separamos la zona turistica\n",
    "        df_guiris_zona = df[df['puntos_turisticos'].str.contains(ciudad) == True]\n",
    "        # Aislamos los viajeros residentes en Espana\n",
    "        df_numguiris = df_guiris_zona[df_guiris_zona['viajeros_y_pernoctaciones'].str.contains('viajero') == True]\n",
    "        df_numguiris_esp = df_numguiris[df_numguiris['residencia'].str.contains('residentes_espana') == True]\n",
    "        # Aislamos a los turistas residentes en el extranjero\n",
    "        df_numguiris_ext = df_numguiris[df_numguiris['residencia'].str.contains('residentes_en_el_extranjero') == True]\n",
    "        # Aislamos las pernocctaciones de los viajeros residentes en Espana\n",
    "        df_pernocguiris = df_guiris_zona[df_guiris_zona['viajeros_y_pernoctaciones'].str.contains('pernoctaciones') == True]\n",
    "        df_pernocguiris_esp =  df_pernocguiris[df_pernocguiris['residencia'].str.contains('residentes_espana') == True]\n",
    "        # Aislamos las pernocctaciones de los viajeros residentes en el extranjero\n",
    "        df_pernocguiris_ext =  df_pernocguiris[df_pernocguiris['residencia'].str.contains('residentes_en_el_extranjero') == True]\n",
    "\n",
    "        guiris_esquilados = pd.concat([df_numguiris_esp['total'], \n",
    "                                    df_numguiris_ext['total'],\n",
    "                                    df_pernocguiris_esp['total'],\n",
    "                                    df_pernocguiris_ext['total']], axis=1)\n",
    "\n",
    "        guiris_esquilados.columns = ['viajeros_espana', \n",
    "                                    'viajeros_extranjero',\n",
    "                                    'pernoctaciones_espana',\n",
    "                                    'pernoctaciones_extranjero']\n",
    "\n",
    "        guiris_esquilados['media_pernoc_esp'] = df_pernocguiris_esp['total'] / df_numguiris_esp['total']\n",
    "        guiris_esquilados['media_pernoc_ext'] = df_pernocguiris_ext['total'] / df_numguiris_ext['total']\n",
    "        guiris_esquilados['total_viajeros'] = df_numguiris_esp['total'] + df_numguiris_ext['total']\n",
    "        guiris_esquilados['total_pernoctaciones'] = df_pernocguiris_esp['total'] + df_pernocguiris_ext['total']\n",
    "        guiris_esquilados['media_total_pernoc'] = guiris_esquilados['total_pernoctaciones'] / guiris_esquilados['total_viajeros']\n",
    "\n",
    "        return guiris_esquilados.to_pickle(f'{ciudad}_guiris_esquilados.pkl')"
   ]
  },
  {
   "cell_type": "code",
   "execution_count": 73,
   "metadata": {},
   "outputs": [],
   "source": [
    "pastor_de_guiris(df_guiris, lista)"
   ]
  },
  {
   "cell_type": "code",
   "execution_count": null,
   "metadata": {},
   "outputs": [],
   "source": [
    "#lmp.pastor_de_guiris(df_guiris, lista)"
   ]
  }
 ],
 "metadata": {
  "interpreter": {
   "hash": "ba1db81cc109b82b4f074f14705a6c6c4ac73c66313ff5962e6e84ea5725364a"
  },
  "kernelspec": {
   "display_name": "Python 3.8.8 ('base': conda)",
   "language": "python",
   "name": "python3"
  },
  "language_info": {
   "codemirror_mode": {
    "name": "ipython",
    "version": 3
   },
   "file_extension": ".py",
   "mimetype": "text/x-python",
   "name": "python",
   "nbconvert_exporter": "python",
   "pygments_lexer": "ipython3",
   "version": "3.9.7"
  },
  "orig_nbformat": 4
 },
 "nbformat": 4,
 "nbformat_minor": 2
}
