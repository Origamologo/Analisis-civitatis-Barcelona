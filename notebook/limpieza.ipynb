{
 "cells": [
  {
   "cell_type": "code",
   "execution_count": 979,
   "metadata": {},
   "outputs": [],
   "source": [
    "import pandas as pd\n",
    "import numpy as np\n",
    "import sidetable\n",
    "import sys\n",
    "import re\n",
    "sys.path.append('../')\n",
    "\n",
    "import seaborn as sns\n",
    "import matplotlib.pyplot as plt"
   ]
  },
  {
   "cell_type": "code",
   "execution_count": 980,
   "metadata": {},
   "outputs": [],
   "source": [
    "pd.options.display.max_columns = None"
   ]
  },
  {
   "cell_type": "code",
   "execution_count": 981,
   "metadata": {},
   "outputs": [],
   "source": [
    "df_guiris = pd.read_csv(r\"C:\\Users\\mituc\\Ironhack\\Curso\\IronLabs\\Proyecto-1\\data\\2078.csv\", sep=';', encoding='latin-1', index_col = 0)"
   ]
  },
  {
   "cell_type": "code",
   "execution_count": 982,
   "metadata": {},
   "outputs": [
    {
     "data": {
      "text/html": [
       "<div>\n",
       "<style scoped>\n",
       "    .dataframe tbody tr th:only-of-type {\n",
       "        vertical-align: middle;\n",
       "    }\n",
       "\n",
       "    .dataframe tbody tr th {\n",
       "        vertical-align: top;\n",
       "    }\n",
       "\n",
       "    .dataframe thead th {\n",
       "        text-align: right;\n",
       "    }\n",
       "</style>\n",
       "<table border=\"1\" class=\"dataframe\">\n",
       "  <thead>\n",
       "    <tr style=\"text-align: right;\">\n",
       "      <th></th>\n",
       "      <th>Viajeros y pernoctaciones</th>\n",
       "      <th>Residencia</th>\n",
       "      <th>Periodo</th>\n",
       "      <th>Total</th>\n",
       "    </tr>\n",
       "    <tr>\n",
       "      <th>ï»¿Puntos turÃ­sticos</th>\n",
       "      <th></th>\n",
       "      <th></th>\n",
       "      <th></th>\n",
       "      <th></th>\n",
       "    </tr>\n",
       "  </thead>\n",
       "  <tbody>\n",
       "    <tr>\n",
       "      <th>01059 Vitoria-Gasteiz</th>\n",
       "      <td>Viajero</td>\n",
       "      <td>Residentes en EspaÃ±a</td>\n",
       "      <td>2022M01</td>\n",
       "      <td>11.759</td>\n",
       "    </tr>\n",
       "    <tr>\n",
       "      <th>01059 Vitoria-Gasteiz</th>\n",
       "      <td>Viajero</td>\n",
       "      <td>Residentes en EspaÃ±a</td>\n",
       "      <td>2021M12</td>\n",
       "      <td>16.496</td>\n",
       "    </tr>\n",
       "    <tr>\n",
       "      <th>01059 Vitoria-Gasteiz</th>\n",
       "      <td>Viajero</td>\n",
       "      <td>Residentes en EspaÃ±a</td>\n",
       "      <td>2021M11</td>\n",
       "      <td>16.667</td>\n",
       "    </tr>\n",
       "    <tr>\n",
       "      <th>01059 Vitoria-Gasteiz</th>\n",
       "      <td>Viajero</td>\n",
       "      <td>Residentes en EspaÃ±a</td>\n",
       "      <td>2021M10</td>\n",
       "      <td>21.467</td>\n",
       "    </tr>\n",
       "    <tr>\n",
       "      <th>01059 Vitoria-Gasteiz</th>\n",
       "      <td>Viajero</td>\n",
       "      <td>Residentes en EspaÃ±a</td>\n",
       "      <td>2021M09</td>\n",
       "      <td>18.647</td>\n",
       "    </tr>\n",
       "  </tbody>\n",
       "</table>\n",
       "</div>"
      ],
      "text/plain": [
       "                      Viajeros y pernoctaciones             Residencia  \\\n",
       "ï»¿Puntos turÃ­sticos                                                    \n",
       "01059 Vitoria-Gasteiz                   Viajero  Residentes en EspaÃ±a   \n",
       "01059 Vitoria-Gasteiz                   Viajero  Residentes en EspaÃ±a   \n",
       "01059 Vitoria-Gasteiz                   Viajero  Residentes en EspaÃ±a   \n",
       "01059 Vitoria-Gasteiz                   Viajero  Residentes en EspaÃ±a   \n",
       "01059 Vitoria-Gasteiz                   Viajero  Residentes en EspaÃ±a   \n",
       "\n",
       "                       Periodo   Total  \n",
       "ï»¿Puntos turÃ­sticos                   \n",
       "01059 Vitoria-Gasteiz  2022M01  11.759  \n",
       "01059 Vitoria-Gasteiz  2021M12  16.496  \n",
       "01059 Vitoria-Gasteiz  2021M11  16.667  \n",
       "01059 Vitoria-Gasteiz  2021M10  21.467  \n",
       "01059 Vitoria-Gasteiz  2021M09  18.647  "
      ]
     },
     "execution_count": 982,
     "metadata": {},
     "output_type": "execute_result"
    }
   ],
   "source": [
    "df_guiris.head(5)"
   ]
  },
  {
   "cell_type": "code",
   "execution_count": 983,
   "metadata": {},
   "outputs": [
    {
     "data": {
      "text/plain": [
       "12322"
      ]
     },
     "execution_count": 983,
     "metadata": {},
     "output_type": "execute_result"
    }
   ],
   "source": [
    "df_guiris.duplicated().sum()"
   ]
  },
  {
   "cell_type": "code",
   "execution_count": 984,
   "metadata": {},
   "outputs": [
    {
     "data": {
      "text/html": [
       "<div>\n",
       "<style scoped>\n",
       "    .dataframe tbody tr th:only-of-type {\n",
       "        vertical-align: middle;\n",
       "    }\n",
       "\n",
       "    .dataframe tbody tr th {\n",
       "        vertical-align: top;\n",
       "    }\n",
       "\n",
       "    .dataframe thead th {\n",
       "        text-align: right;\n",
       "    }\n",
       "</style>\n",
       "<table border=\"1\" class=\"dataframe\">\n",
       "  <thead>\n",
       "    <tr style=\"text-align: right;\">\n",
       "      <th></th>\n",
       "      <th>Viajeros y pernoctaciones</th>\n",
       "      <th>Residencia</th>\n",
       "      <th>Periodo</th>\n",
       "      <th>Total</th>\n",
       "    </tr>\n",
       "    <tr>\n",
       "      <th>ï»¿Puntos turÃ­sticos</th>\n",
       "      <th></th>\n",
       "      <th></th>\n",
       "      <th></th>\n",
       "      <th></th>\n",
       "    </tr>\n",
       "  </thead>\n",
       "  <tbody>\n",
       "    <tr>\n",
       "      <th>02003 Albacete</th>\n",
       "      <td>Viajero</td>\n",
       "      <td>Residentes en EspaÃ±a</td>\n",
       "      <td>2020M06</td>\n",
       "      <td>.</td>\n",
       "    </tr>\n",
       "    <tr>\n",
       "      <th>02003 Albacete</th>\n",
       "      <td>Viajero</td>\n",
       "      <td>Residentes en EspaÃ±a</td>\n",
       "      <td>2020M05</td>\n",
       "      <td>.</td>\n",
       "    </tr>\n",
       "    <tr>\n",
       "      <th>02003 Albacete</th>\n",
       "      <td>Viajero</td>\n",
       "      <td>Residentes en EspaÃ±a</td>\n",
       "      <td>2020M04</td>\n",
       "      <td>0</td>\n",
       "    </tr>\n",
       "    <tr>\n",
       "      <th>02003 Albacete</th>\n",
       "      <td>Viajero</td>\n",
       "      <td>Residentes en el Extranjero</td>\n",
       "      <td>2020M06</td>\n",
       "      <td>.</td>\n",
       "    </tr>\n",
       "    <tr>\n",
       "      <th>02003 Albacete</th>\n",
       "      <td>Viajero</td>\n",
       "      <td>Residentes en el Extranjero</td>\n",
       "      <td>2020M05</td>\n",
       "      <td>.</td>\n",
       "    </tr>\n",
       "    <tr>\n",
       "      <th>...</th>\n",
       "      <td>...</td>\n",
       "      <td>...</td>\n",
       "      <td>...</td>\n",
       "      <td>...</td>\n",
       "    </tr>\n",
       "    <tr>\n",
       "      <th>50297 Zaragoza</th>\n",
       "      <td>Pernoctaciones</td>\n",
       "      <td>Residentes en EspaÃ±a</td>\n",
       "      <td>2020M05</td>\n",
       "      <td>.</td>\n",
       "    </tr>\n",
       "    <tr>\n",
       "      <th>50297 Zaragoza</th>\n",
       "      <td>Pernoctaciones</td>\n",
       "      <td>Residentes en EspaÃ±a</td>\n",
       "      <td>2020M04</td>\n",
       "      <td>0</td>\n",
       "    </tr>\n",
       "    <tr>\n",
       "      <th>50297 Zaragoza</th>\n",
       "      <td>Pernoctaciones</td>\n",
       "      <td>Residentes en el Extranjero</td>\n",
       "      <td>2020M06</td>\n",
       "      <td>.</td>\n",
       "    </tr>\n",
       "    <tr>\n",
       "      <th>50297 Zaragoza</th>\n",
       "      <td>Pernoctaciones</td>\n",
       "      <td>Residentes en el Extranjero</td>\n",
       "      <td>2020M05</td>\n",
       "      <td>.</td>\n",
       "    </tr>\n",
       "    <tr>\n",
       "      <th>50297 Zaragoza</th>\n",
       "      <td>Pernoctaciones</td>\n",
       "      <td>Residentes en el Extranjero</td>\n",
       "      <td>2020M04</td>\n",
       "      <td>0</td>\n",
       "    </tr>\n",
       "  </tbody>\n",
       "</table>\n",
       "<p>12322 rows × 4 columns</p>\n",
       "</div>"
      ],
      "text/plain": [
       "                      Viajeros y pernoctaciones                   Residencia  \\\n",
       "ï»¿Puntos turÃ­sticos                                                          \n",
       "02003 Albacete                          Viajero        Residentes en EspaÃ±a   \n",
       "02003 Albacete                          Viajero        Residentes en EspaÃ±a   \n",
       "02003 Albacete                          Viajero        Residentes en EspaÃ±a   \n",
       "02003 Albacete                          Viajero  Residentes en el Extranjero   \n",
       "02003 Albacete                          Viajero  Residentes en el Extranjero   \n",
       "...                                         ...                          ...   \n",
       "50297 Zaragoza                   Pernoctaciones        Residentes en EspaÃ±a   \n",
       "50297 Zaragoza                   Pernoctaciones        Residentes en EspaÃ±a   \n",
       "50297 Zaragoza                   Pernoctaciones  Residentes en el Extranjero   \n",
       "50297 Zaragoza                   Pernoctaciones  Residentes en el Extranjero   \n",
       "50297 Zaragoza                   Pernoctaciones  Residentes en el Extranjero   \n",
       "\n",
       "                       Periodo Total  \n",
       "ï»¿Puntos turÃ­sticos                 \n",
       "02003 Albacete         2020M06     .  \n",
       "02003 Albacete         2020M05     .  \n",
       "02003 Albacete         2020M04     0  \n",
       "02003 Albacete         2020M06     .  \n",
       "02003 Albacete         2020M05     .  \n",
       "...                        ...   ...  \n",
       "50297 Zaragoza         2020M05     .  \n",
       "50297 Zaragoza         2020M04     0  \n",
       "50297 Zaragoza         2020M06     .  \n",
       "50297 Zaragoza         2020M05     .  \n",
       "50297 Zaragoza         2020M04     0  \n",
       "\n",
       "[12322 rows x 4 columns]"
      ]
     },
     "execution_count": 984,
     "metadata": {},
     "output_type": "execute_result"
    }
   ],
   "source": [
    "df_guiris[df_guiris.duplicated() == True]"
   ]
  },
  {
   "cell_type": "code",
   "execution_count": 985,
   "metadata": {},
   "outputs": [
    {
     "data": {
      "text/html": [
       "<div>\n",
       "<style scoped>\n",
       "    .dataframe tbody tr th:only-of-type {\n",
       "        vertical-align: middle;\n",
       "    }\n",
       "\n",
       "    .dataframe tbody tr th {\n",
       "        vertical-align: top;\n",
       "    }\n",
       "\n",
       "    .dataframe thead th {\n",
       "        text-align: right;\n",
       "    }\n",
       "</style>\n",
       "<table border=\"1\" class=\"dataframe\">\n",
       "  <thead>\n",
       "    <tr style=\"text-align: right;\">\n",
       "      <th></th>\n",
       "      <th>Viajeros y pernoctaciones</th>\n",
       "      <th>Residencia</th>\n",
       "      <th>Periodo</th>\n",
       "      <th>Total</th>\n",
       "    </tr>\n",
       "    <tr>\n",
       "      <th>ï»¿Puntos turÃ­sticos</th>\n",
       "      <th></th>\n",
       "      <th></th>\n",
       "      <th></th>\n",
       "      <th></th>\n",
       "    </tr>\n",
       "  </thead>\n",
       "  <tbody>\n",
       "    <tr>\n",
       "      <th>01059 Vitoria-Gasteiz</th>\n",
       "      <td>Viajero</td>\n",
       "      <td>Residentes en EspaÃ±a</td>\n",
       "      <td>2020M04</td>\n",
       "      <td>0</td>\n",
       "    </tr>\n",
       "    <tr>\n",
       "      <th>01059 Vitoria-Gasteiz</th>\n",
       "      <td>Viajero</td>\n",
       "      <td>Residentes en el Extranjero</td>\n",
       "      <td>2020M04</td>\n",
       "      <td>0</td>\n",
       "    </tr>\n",
       "    <tr>\n",
       "      <th>01059 Vitoria-Gasteiz</th>\n",
       "      <td>Pernoctaciones</td>\n",
       "      <td>Residentes en EspaÃ±a</td>\n",
       "      <td>2020M04</td>\n",
       "      <td>0</td>\n",
       "    </tr>\n",
       "    <tr>\n",
       "      <th>01059 Vitoria-Gasteiz</th>\n",
       "      <td>Pernoctaciones</td>\n",
       "      <td>Residentes en el Extranjero</td>\n",
       "      <td>2020M04</td>\n",
       "      <td>0</td>\n",
       "    </tr>\n",
       "    <tr>\n",
       "      <th>02003 Albacete</th>\n",
       "      <td>Viajero</td>\n",
       "      <td>Residentes en EspaÃ±a</td>\n",
       "      <td>2020M04</td>\n",
       "      <td>0</td>\n",
       "    </tr>\n",
       "    <tr>\n",
       "      <th>...</th>\n",
       "      <td>...</td>\n",
       "      <td>...</td>\n",
       "      <td>...</td>\n",
       "      <td>...</td>\n",
       "    </tr>\n",
       "    <tr>\n",
       "      <th>49275 Zamora</th>\n",
       "      <td>Pernoctaciones</td>\n",
       "      <td>Residentes en el Extranjero</td>\n",
       "      <td>2020M04</td>\n",
       "      <td>0</td>\n",
       "    </tr>\n",
       "    <tr>\n",
       "      <th>50297 Zaragoza</th>\n",
       "      <td>Viajero</td>\n",
       "      <td>Residentes en EspaÃ±a</td>\n",
       "      <td>2020M04</td>\n",
       "      <td>0</td>\n",
       "    </tr>\n",
       "    <tr>\n",
       "      <th>50297 Zaragoza</th>\n",
       "      <td>Viajero</td>\n",
       "      <td>Residentes en el Extranjero</td>\n",
       "      <td>2020M04</td>\n",
       "      <td>0</td>\n",
       "    </tr>\n",
       "    <tr>\n",
       "      <th>50297 Zaragoza</th>\n",
       "      <td>Pernoctaciones</td>\n",
       "      <td>Residentes en EspaÃ±a</td>\n",
       "      <td>2020M04</td>\n",
       "      <td>0</td>\n",
       "    </tr>\n",
       "    <tr>\n",
       "      <th>50297 Zaragoza</th>\n",
       "      <td>Pernoctaciones</td>\n",
       "      <td>Residentes en el Extranjero</td>\n",
       "      <td>2020M04</td>\n",
       "      <td>0</td>\n",
       "    </tr>\n",
       "  </tbody>\n",
       "</table>\n",
       "<p>425 rows × 4 columns</p>\n",
       "</div>"
      ],
      "text/plain": [
       "                      Viajeros y pernoctaciones                   Residencia  \\\n",
       "ï»¿Puntos turÃ­sticos                                                          \n",
       "01059 Vitoria-Gasteiz                   Viajero        Residentes en EspaÃ±a   \n",
       "01059 Vitoria-Gasteiz                   Viajero  Residentes en el Extranjero   \n",
       "01059 Vitoria-Gasteiz            Pernoctaciones        Residentes en EspaÃ±a   \n",
       "01059 Vitoria-Gasteiz            Pernoctaciones  Residentes en el Extranjero   \n",
       "02003 Albacete                          Viajero        Residentes en EspaÃ±a   \n",
       "...                                         ...                          ...   \n",
       "49275 Zamora                     Pernoctaciones  Residentes en el Extranjero   \n",
       "50297 Zaragoza                          Viajero        Residentes en EspaÃ±a   \n",
       "50297 Zaragoza                          Viajero  Residentes en el Extranjero   \n",
       "50297 Zaragoza                   Pernoctaciones        Residentes en EspaÃ±a   \n",
       "50297 Zaragoza                   Pernoctaciones  Residentes en el Extranjero   \n",
       "\n",
       "                       Periodo Total  \n",
       "ï»¿Puntos turÃ­sticos                 \n",
       "01059 Vitoria-Gasteiz  2020M04     0  \n",
       "01059 Vitoria-Gasteiz  2020M04     0  \n",
       "01059 Vitoria-Gasteiz  2020M04     0  \n",
       "01059 Vitoria-Gasteiz  2020M04     0  \n",
       "02003 Albacete         2020M04     0  \n",
       "...                        ...   ...  \n",
       "49275 Zamora           2020M04     0  \n",
       "50297 Zaragoza         2020M04     0  \n",
       "50297 Zaragoza         2020M04     0  \n",
       "50297 Zaragoza         2020M04     0  \n",
       "50297 Zaragoza         2020M04     0  \n",
       "\n",
       "[425 rows x 4 columns]"
      ]
     },
     "execution_count": 985,
     "metadata": {},
     "output_type": "execute_result"
    }
   ],
   "source": [
    "df_guiris[df_guiris['Total'] == '0']"
   ]
  },
  {
   "cell_type": "markdown",
   "metadata": {},
   "source": [
    "Aunque parecía que había duplicados, en la tabla anterior podemos ver que no es así y si resetamos el index desaparecen"
   ]
  },
  {
   "cell_type": "code",
   "execution_count": 986,
   "metadata": {},
   "outputs": [],
   "source": [
    "df_guiris.reset_index(inplace=True)"
   ]
  },
  {
   "cell_type": "code",
   "execution_count": 987,
   "metadata": {},
   "outputs": [
    {
     "data": {
      "text/plain": [
       "0"
      ]
     },
     "execution_count": 987,
     "metadata": {},
     "output_type": "execute_result"
    }
   ],
   "source": [
    "df_guiris.duplicated().sum()"
   ]
  },
  {
   "cell_type": "code",
   "execution_count": 988,
   "metadata": {},
   "outputs": [
    {
     "data": {
      "text/plain": [
       "ï»¿Puntos turÃ­sticos        object\n",
       "Viajeros y pernoctaciones    object\n",
       "Residencia                   object\n",
       "Periodo                      object\n",
       "Total                        object\n",
       "dtype: object"
      ]
     },
     "execution_count": 988,
     "metadata": {},
     "output_type": "execute_result"
    }
   ],
   "source": [
    "df_guiris.dtypes"
   ]
  },
  {
   "cell_type": "code",
   "execution_count": 989,
   "metadata": {},
   "outputs": [
    {
     "data": {
      "text/plain": [
       "Index(['ï»¿Puntos turÃ­sticos', 'Viajeros y pernoctaciones', 'Residencia',\n",
       "       'Periodo', 'Total'],\n",
       "      dtype='object')"
      ]
     },
     "execution_count": 989,
     "metadata": {},
     "output_type": "execute_result"
    }
   ],
   "source": [
    "df_guiris.columns"
   ]
  },
  {
   "cell_type": "code",
   "execution_count": 990,
   "metadata": {},
   "outputs": [
    {
     "name": "stdout",
     "output_type": "stream",
     "text": [
      "['Viajero' 'Pernoctaciones']\n",
      "['Residentes en EspaÃ±a' 'Residentes en el Extranjero']\n"
     ]
    }
   ],
   "source": [
    "print(df_guiris['Viajeros y pernoctaciones'].unique())\n",
    "print(df_guiris['Residencia'].unique())"
   ]
  },
  {
   "cell_type": "code",
   "execution_count": 991,
   "metadata": {},
   "outputs": [
    {
     "data": {
      "text/plain": [
       "ï»¿Puntos turÃ­sticos           0\n",
       "Viajeros y pernoctaciones       0\n",
       "Residencia                      0\n",
       "Periodo                         0\n",
       "Total                        5358\n",
       "dtype: int64"
      ]
     },
     "execution_count": 991,
     "metadata": {},
     "output_type": "execute_result"
    }
   ],
   "source": [
    "df_guiris.isnull().sum()"
   ]
  },
  {
   "cell_type": "code",
   "execution_count": 992,
   "metadata": {},
   "outputs": [
    {
     "data": {
      "text/plain": [
       "(86920, 5)"
      ]
     },
     "execution_count": 992,
     "metadata": {},
     "output_type": "execute_result"
    }
   ],
   "source": [
    "df_guiris.shape"
   ]
  },
  {
   "cell_type": "code",
   "execution_count": 993,
   "metadata": {},
   "outputs": [
    {
     "data": {
      "text/html": [
       "<div>\n",
       "<style scoped>\n",
       "    .dataframe tbody tr th:only-of-type {\n",
       "        vertical-align: middle;\n",
       "    }\n",
       "\n",
       "    .dataframe tbody tr th {\n",
       "        vertical-align: top;\n",
       "    }\n",
       "\n",
       "    .dataframe thead th {\n",
       "        text-align: right;\n",
       "    }\n",
       "</style>\n",
       "<table border=\"1\" class=\"dataframe\">\n",
       "  <thead>\n",
       "    <tr style=\"text-align: right;\">\n",
       "      <th></th>\n",
       "      <th>ï»¿Puntos turÃ­sticos</th>\n",
       "      <th>Viajeros y pernoctaciones</th>\n",
       "      <th>Residencia</th>\n",
       "      <th>Periodo</th>\n",
       "      <th>Total</th>\n",
       "    </tr>\n",
       "  </thead>\n",
       "  <tbody>\n",
       "    <tr>\n",
       "      <th>0</th>\n",
       "      <td>01059 Vitoria-Gasteiz</td>\n",
       "      <td>Viajero</td>\n",
       "      <td>Residentes en EspaÃ±a</td>\n",
       "      <td>2022M01</td>\n",
       "      <td>11.759</td>\n",
       "    </tr>\n",
       "    <tr>\n",
       "      <th>1</th>\n",
       "      <td>01059 Vitoria-Gasteiz</td>\n",
       "      <td>Viajero</td>\n",
       "      <td>Residentes en EspaÃ±a</td>\n",
       "      <td>2021M12</td>\n",
       "      <td>16.496</td>\n",
       "    </tr>\n",
       "    <tr>\n",
       "      <th>2</th>\n",
       "      <td>01059 Vitoria-Gasteiz</td>\n",
       "      <td>Viajero</td>\n",
       "      <td>Residentes en EspaÃ±a</td>\n",
       "      <td>2021M11</td>\n",
       "      <td>16.667</td>\n",
       "    </tr>\n",
       "    <tr>\n",
       "      <th>3</th>\n",
       "      <td>01059 Vitoria-Gasteiz</td>\n",
       "      <td>Viajero</td>\n",
       "      <td>Residentes en EspaÃ±a</td>\n",
       "      <td>2021M10</td>\n",
       "      <td>21.467</td>\n",
       "    </tr>\n",
       "    <tr>\n",
       "      <th>4</th>\n",
       "      <td>01059 Vitoria-Gasteiz</td>\n",
       "      <td>Viajero</td>\n",
       "      <td>Residentes en EspaÃ±a</td>\n",
       "      <td>2021M09</td>\n",
       "      <td>18.647</td>\n",
       "    </tr>\n",
       "  </tbody>\n",
       "</table>\n",
       "</div>"
      ],
      "text/plain": [
       "   ï»¿Puntos turÃ­sticos Viajeros y pernoctaciones             Residencia  \\\n",
       "0  01059 Vitoria-Gasteiz                   Viajero  Residentes en EspaÃ±a   \n",
       "1  01059 Vitoria-Gasteiz                   Viajero  Residentes en EspaÃ±a   \n",
       "2  01059 Vitoria-Gasteiz                   Viajero  Residentes en EspaÃ±a   \n",
       "3  01059 Vitoria-Gasteiz                   Viajero  Residentes en EspaÃ±a   \n",
       "4  01059 Vitoria-Gasteiz                   Viajero  Residentes en EspaÃ±a   \n",
       "\n",
       "   Periodo   Total  \n",
       "0  2022M01  11.759  \n",
       "1  2021M12  16.496  \n",
       "2  2021M11  16.667  \n",
       "3  2021M10  21.467  \n",
       "4  2021M09  18.647  "
      ]
     },
     "execution_count": 993,
     "metadata": {},
     "output_type": "execute_result"
    }
   ],
   "source": [
    "df_guiris.head(5)"
   ]
  },
  {
   "cell_type": "markdown",
   "metadata": {},
   "source": [
    "Renombramos las columnas"
   ]
  },
  {
   "cell_type": "code",
   "execution_count": 994,
   "metadata": {},
   "outputs": [],
   "source": [
    "df_guiris = df_guiris.rename(columns={'ï»¿Puntos turÃ­sticos': 'Puntos_turisticos'})\n",
    "columnas_limpias = {col : col.lower().replace(\" \", \"_\") for col in df_guiris.columns}\n",
    "df_guiris.rename(columns = columnas_limpias, inplace = True)"
   ]
  },
  {
   "cell_type": "code",
   "execution_count": 995,
   "metadata": {},
   "outputs": [
    {
     "data": {
      "text/plain": [
       "Index(['puntos_turisticos', 'viajeros_y_pernoctaciones', 'residencia',\n",
       "       'periodo', 'total'],\n",
       "      dtype='object')"
      ]
     },
     "execution_count": 995,
     "metadata": {},
     "output_type": "execute_result"
    }
   ],
   "source": [
    "df_guiris.columns"
   ]
  },
  {
   "cell_type": "code",
   "execution_count": 996,
   "metadata": {},
   "outputs": [
    {
     "name": "stderr",
     "output_type": "stream",
     "text": [
      "C:\\Users\\mituc\\AppData\\Local\\Temp/ipykernel_18772/2279084469.py:1: FutureWarning: The default value of regex will change from True to False in a future version. In addition, single character regular expressions will *not* be treated as literal strings when regex=True.\n",
      "  df_guiris['total'] = df_guiris['total'].str.replace('.', '')\n"
     ]
    }
   ],
   "source": [
    "df_guiris['total'] = df_guiris['total'].str.replace('.', '')"
   ]
  },
  {
   "cell_type": "code",
   "execution_count": 997,
   "metadata": {},
   "outputs": [],
   "source": [
    "df_guiris['total'] = pd.to_numeric(df_guiris['total'], errors='coerce').astype('Int64')"
   ]
  },
  {
   "cell_type": "code",
   "execution_count": 998,
   "metadata": {},
   "outputs": [],
   "source": [
    "df_guiris.set_index('periodo', inplace=True)"
   ]
  },
  {
   "cell_type": "code",
   "execution_count": 999,
   "metadata": {},
   "outputs": [
    {
     "data": {
      "text/plain": [
       "13379"
      ]
     },
     "execution_count": 999,
     "metadata": {},
     "output_type": "execute_result"
    }
   ],
   "source": [
    "df_guiris.duplicated().sum()"
   ]
  },
  {
   "cell_type": "code",
   "execution_count": 1000,
   "metadata": {},
   "outputs": [
    {
     "data": {
      "text/html": [
       "<div>\n",
       "<style scoped>\n",
       "    .dataframe tbody tr th:only-of-type {\n",
       "        vertical-align: middle;\n",
       "    }\n",
       "\n",
       "    .dataframe tbody tr th {\n",
       "        vertical-align: top;\n",
       "    }\n",
       "\n",
       "    .dataframe thead th {\n",
       "        text-align: right;\n",
       "    }\n",
       "</style>\n",
       "<table border=\"1\" class=\"dataframe\">\n",
       "  <thead>\n",
       "    <tr style=\"text-align: right;\">\n",
       "      <th></th>\n",
       "      <th>puntos_turisticos</th>\n",
       "      <th>viajeros_y_pernoctaciones</th>\n",
       "      <th>residencia</th>\n",
       "      <th>total</th>\n",
       "    </tr>\n",
       "    <tr>\n",
       "      <th>periodo</th>\n",
       "      <th></th>\n",
       "      <th></th>\n",
       "      <th></th>\n",
       "      <th></th>\n",
       "    </tr>\n",
       "  </thead>\n",
       "  <tbody>\n",
       "    <tr>\n",
       "      <th>2020M05</th>\n",
       "      <td>01059 Vitoria-Gasteiz</td>\n",
       "      <td>Viajero</td>\n",
       "      <td>Residentes en EspaÃ±a</td>\n",
       "      <td>&lt;NA&gt;</td>\n",
       "    </tr>\n",
       "    <tr>\n",
       "      <th>2015M06</th>\n",
       "      <td>01059 Vitoria-Gasteiz</td>\n",
       "      <td>Viajero</td>\n",
       "      <td>Residentes en EspaÃ±a</td>\n",
       "      <td>16496</td>\n",
       "    </tr>\n",
       "    <tr>\n",
       "      <th>2005M12</th>\n",
       "      <td>01059 Vitoria-Gasteiz</td>\n",
       "      <td>Viajero</td>\n",
       "      <td>Residentes en EspaÃ±a</td>\n",
       "      <td>&lt;NA&gt;</td>\n",
       "    </tr>\n",
       "    <tr>\n",
       "      <th>2005M11</th>\n",
       "      <td>01059 Vitoria-Gasteiz</td>\n",
       "      <td>Viajero</td>\n",
       "      <td>Residentes en EspaÃ±a</td>\n",
       "      <td>&lt;NA&gt;</td>\n",
       "    </tr>\n",
       "    <tr>\n",
       "      <th>2005M10</th>\n",
       "      <td>01059 Vitoria-Gasteiz</td>\n",
       "      <td>Viajero</td>\n",
       "      <td>Residentes en EspaÃ±a</td>\n",
       "      <td>&lt;NA&gt;</td>\n",
       "    </tr>\n",
       "    <tr>\n",
       "      <th>...</th>\n",
       "      <td>...</td>\n",
       "      <td>...</td>\n",
       "      <td>...</td>\n",
       "      <td>...</td>\n",
       "    </tr>\n",
       "    <tr>\n",
       "      <th>2020M05</th>\n",
       "      <td>50297 Zaragoza</td>\n",
       "      <td>Viajero</td>\n",
       "      <td>Residentes en EspaÃ±a</td>\n",
       "      <td>&lt;NA&gt;</td>\n",
       "    </tr>\n",
       "    <tr>\n",
       "      <th>2020M05</th>\n",
       "      <td>50297 Zaragoza</td>\n",
       "      <td>Viajero</td>\n",
       "      <td>Residentes en el Extranjero</td>\n",
       "      <td>&lt;NA&gt;</td>\n",
       "    </tr>\n",
       "    <tr>\n",
       "      <th>2020M05</th>\n",
       "      <td>50297 Zaragoza</td>\n",
       "      <td>Pernoctaciones</td>\n",
       "      <td>Residentes en EspaÃ±a</td>\n",
       "      <td>&lt;NA&gt;</td>\n",
       "    </tr>\n",
       "    <tr>\n",
       "      <th>2010M03</th>\n",
       "      <td>50297 Zaragoza</td>\n",
       "      <td>Pernoctaciones</td>\n",
       "      <td>Residentes en EspaÃ±a</td>\n",
       "      <td>90507</td>\n",
       "    </tr>\n",
       "    <tr>\n",
       "      <th>2020M05</th>\n",
       "      <td>50297 Zaragoza</td>\n",
       "      <td>Pernoctaciones</td>\n",
       "      <td>Residentes en el Extranjero</td>\n",
       "      <td>&lt;NA&gt;</td>\n",
       "    </tr>\n",
       "  </tbody>\n",
       "</table>\n",
       "<p>13379 rows × 4 columns</p>\n",
       "</div>"
      ],
      "text/plain": [
       "             puntos_turisticos viajeros_y_pernoctaciones  \\\n",
       "periodo                                                    \n",
       "2020M05  01059 Vitoria-Gasteiz                   Viajero   \n",
       "2015M06  01059 Vitoria-Gasteiz                   Viajero   \n",
       "2005M12  01059 Vitoria-Gasteiz                   Viajero   \n",
       "2005M11  01059 Vitoria-Gasteiz                   Viajero   \n",
       "2005M10  01059 Vitoria-Gasteiz                   Viajero   \n",
       "...                        ...                       ...   \n",
       "2020M05         50297 Zaragoza                   Viajero   \n",
       "2020M05         50297 Zaragoza                   Viajero   \n",
       "2020M05         50297 Zaragoza            Pernoctaciones   \n",
       "2010M03         50297 Zaragoza            Pernoctaciones   \n",
       "2020M05         50297 Zaragoza            Pernoctaciones   \n",
       "\n",
       "                          residencia  total  \n",
       "periodo                                      \n",
       "2020M05        Residentes en EspaÃ±a   <NA>  \n",
       "2015M06        Residentes en EspaÃ±a  16496  \n",
       "2005M12        Residentes en EspaÃ±a   <NA>  \n",
       "2005M11        Residentes en EspaÃ±a   <NA>  \n",
       "2005M10        Residentes en EspaÃ±a   <NA>  \n",
       "...                              ...    ...  \n",
       "2020M05        Residentes en EspaÃ±a   <NA>  \n",
       "2020M05  Residentes en el Extranjero   <NA>  \n",
       "2020M05        Residentes en EspaÃ±a   <NA>  \n",
       "2010M03        Residentes en EspaÃ±a  90507  \n",
       "2020M05  Residentes en el Extranjero   <NA>  \n",
       "\n",
       "[13379 rows x 4 columns]"
      ]
     },
     "execution_count": 1000,
     "metadata": {},
     "output_type": "execute_result"
    }
   ],
   "source": [
    "df_guiris[df_guiris.duplicated() == True]"
   ]
  },
  {
   "cell_type": "code",
   "execution_count": 1001,
   "metadata": {},
   "outputs": [
    {
     "data": {
      "text/html": [
       "<div>\n",
       "<style scoped>\n",
       "    .dataframe tbody tr th:only-of-type {\n",
       "        vertical-align: middle;\n",
       "    }\n",
       "\n",
       "    .dataframe tbody tr th {\n",
       "        vertical-align: top;\n",
       "    }\n",
       "\n",
       "    .dataframe thead th {\n",
       "        text-align: right;\n",
       "    }\n",
       "</style>\n",
       "<table border=\"1\" class=\"dataframe\">\n",
       "  <thead>\n",
       "    <tr style=\"text-align: right;\">\n",
       "      <th></th>\n",
       "      <th>puntos_turisticos</th>\n",
       "      <th>viajeros_y_pernoctaciones</th>\n",
       "      <th>residencia</th>\n",
       "      <th>total</th>\n",
       "    </tr>\n",
       "    <tr>\n",
       "      <th>periodo</th>\n",
       "      <th></th>\n",
       "      <th></th>\n",
       "      <th></th>\n",
       "      <th></th>\n",
       "    </tr>\n",
       "  </thead>\n",
       "  <tbody>\n",
       "    <tr>\n",
       "      <th>2012M05</th>\n",
       "      <td>50297 Zaragoza</td>\n",
       "      <td>Pernoctaciones</td>\n",
       "      <td>Residentes en EspaÃ±a</td>\n",
       "      <td>90507</td>\n",
       "    </tr>\n",
       "    <tr>\n",
       "      <th>2010M03</th>\n",
       "      <td>50297 Zaragoza</td>\n",
       "      <td>Pernoctaciones</td>\n",
       "      <td>Residentes en EspaÃ±a</td>\n",
       "      <td>90507</td>\n",
       "    </tr>\n",
       "  </tbody>\n",
       "</table>\n",
       "</div>"
      ],
      "text/plain": [
       "        puntos_turisticos viajeros_y_pernoctaciones             residencia  \\\n",
       "periodo                                                                      \n",
       "2012M05    50297 Zaragoza            Pernoctaciones  Residentes en EspaÃ±a   \n",
       "2010M03    50297 Zaragoza            Pernoctaciones  Residentes en EspaÃ±a   \n",
       "\n",
       "         total  \n",
       "periodo         \n",
       "2012M05  90507  \n",
       "2010M03  90507  "
      ]
     },
     "execution_count": 1001,
     "metadata": {},
     "output_type": "execute_result"
    }
   ],
   "source": [
    "df_guiris[df_guiris['total'] == 90507]"
   ]
  },
  {
   "cell_type": "markdown",
   "metadata": {},
   "source": [
    "Renombramos los valores"
   ]
  },
  {
   "cell_type": "code",
   "execution_count": 1002,
   "metadata": {},
   "outputs": [],
   "source": [
    "df_guiris['residencia'].replace({'Residentes en EspaÃ±a': \"residentes_espana\", 'Residentes en el Extranjero': 'residentes_en_el_extranjero'}, inplace=True)\n",
    "df_guiris['viajeros_y_pernoctaciones'] = df_guiris['viajeros_y_pernoctaciones'].str.lower()"
   ]
  },
  {
   "cell_type": "code",
   "execution_count": 1003,
   "metadata": {},
   "outputs": [
    {
     "data": {
      "text/html": [
       "<div>\n",
       "<style scoped>\n",
       "    .dataframe tbody tr th:only-of-type {\n",
       "        vertical-align: middle;\n",
       "    }\n",
       "\n",
       "    .dataframe tbody tr th {\n",
       "        vertical-align: top;\n",
       "    }\n",
       "\n",
       "    .dataframe thead th {\n",
       "        text-align: right;\n",
       "    }\n",
       "</style>\n",
       "<table border=\"1\" class=\"dataframe\">\n",
       "  <thead>\n",
       "    <tr style=\"text-align: right;\">\n",
       "      <th></th>\n",
       "      <th>puntos_turisticos</th>\n",
       "      <th>viajeros_y_pernoctaciones</th>\n",
       "      <th>residencia</th>\n",
       "      <th>total</th>\n",
       "    </tr>\n",
       "    <tr>\n",
       "      <th>periodo</th>\n",
       "      <th></th>\n",
       "      <th></th>\n",
       "      <th></th>\n",
       "      <th></th>\n",
       "    </tr>\n",
       "  </thead>\n",
       "  <tbody>\n",
       "    <tr>\n",
       "      <th>2005M05</th>\n",
       "      <td>50297 Zaragoza</td>\n",
       "      <td>pernoctaciones</td>\n",
       "      <td>residentes_en_el_extranjero</td>\n",
       "      <td>20698</td>\n",
       "    </tr>\n",
       "    <tr>\n",
       "      <th>2005M04</th>\n",
       "      <td>50297 Zaragoza</td>\n",
       "      <td>pernoctaciones</td>\n",
       "      <td>residentes_en_el_extranjero</td>\n",
       "      <td>20003</td>\n",
       "    </tr>\n",
       "    <tr>\n",
       "      <th>2005M03</th>\n",
       "      <td>50297 Zaragoza</td>\n",
       "      <td>pernoctaciones</td>\n",
       "      <td>residentes_en_el_extranjero</td>\n",
       "      <td>21156</td>\n",
       "    </tr>\n",
       "    <tr>\n",
       "      <th>2005M02</th>\n",
       "      <td>50297 Zaragoza</td>\n",
       "      <td>pernoctaciones</td>\n",
       "      <td>residentes_en_el_extranjero</td>\n",
       "      <td>13372</td>\n",
       "    </tr>\n",
       "    <tr>\n",
       "      <th>2005M01</th>\n",
       "      <td>50297 Zaragoza</td>\n",
       "      <td>pernoctaciones</td>\n",
       "      <td>residentes_en_el_extranjero</td>\n",
       "      <td>10284</td>\n",
       "    </tr>\n",
       "  </tbody>\n",
       "</table>\n",
       "</div>"
      ],
      "text/plain": [
       "        puntos_turisticos viajeros_y_pernoctaciones  \\\n",
       "periodo                                               \n",
       "2005M05    50297 Zaragoza            pernoctaciones   \n",
       "2005M04    50297 Zaragoza            pernoctaciones   \n",
       "2005M03    50297 Zaragoza            pernoctaciones   \n",
       "2005M02    50297 Zaragoza            pernoctaciones   \n",
       "2005M01    50297 Zaragoza            pernoctaciones   \n",
       "\n",
       "                          residencia  total  \n",
       "periodo                                      \n",
       "2005M05  residentes_en_el_extranjero  20698  \n",
       "2005M04  residentes_en_el_extranjero  20003  \n",
       "2005M03  residentes_en_el_extranjero  21156  \n",
       "2005M02  residentes_en_el_extranjero  13372  \n",
       "2005M01  residentes_en_el_extranjero  10284  "
      ]
     },
     "execution_count": 1003,
     "metadata": {},
     "output_type": "execute_result"
    }
   ],
   "source": [
    "df_guiris.tail(5)"
   ]
  },
  {
   "cell_type": "markdown",
   "metadata": {},
   "source": [
    "# Separamos Barcelona"
   ]
  },
  {
   "cell_type": "code",
   "execution_count": 1004,
   "metadata": {},
   "outputs": [],
   "source": [
    "df_guiris_barna = df_guiris[df_guiris['puntos_turisticos'].str.contains('Barcelona') == True]"
   ]
  },
  {
   "cell_type": "code",
   "execution_count": 1005,
   "metadata": {},
   "outputs": [],
   "source": [
    "def pastor_de_guiris(df, ciudad):\n",
    "    df_guiris_provincia = df[df['puntos_turisticos'].str.contains(ciudad) == True]\n",
    "    df_numguiris = df[df['viajeros_y_pernoctaciones'].str.contains('Viajero') == True]"
   ]
  },
  {
   "cell_type": "markdown",
   "metadata": {},
   "source": [
    "# Separamos el número de turistas de las pernoctaciones"
   ]
  },
  {
   "cell_type": "code",
   "execution_count": 1006,
   "metadata": {},
   "outputs": [],
   "source": [
    "df_numguiris_barna = df_guiris_barna[df_guiris_barna['viajeros_y_pernoctaciones'].str.contains('viajero') == True]"
   ]
  },
  {
   "cell_type": "code",
   "execution_count": 1007,
   "metadata": {},
   "outputs": [
    {
     "data": {
      "text/html": [
       "<div>\n",
       "<style scoped>\n",
       "    .dataframe tbody tr th:only-of-type {\n",
       "        vertical-align: middle;\n",
       "    }\n",
       "\n",
       "    .dataframe tbody tr th {\n",
       "        vertical-align: top;\n",
       "    }\n",
       "\n",
       "    .dataframe thead th {\n",
       "        text-align: right;\n",
       "    }\n",
       "</style>\n",
       "<table border=\"1\" class=\"dataframe\">\n",
       "  <thead>\n",
       "    <tr style=\"text-align: right;\">\n",
       "      <th></th>\n",
       "      <th>puntos_turisticos</th>\n",
       "      <th>viajeros_y_pernoctaciones</th>\n",
       "      <th>residencia</th>\n",
       "      <th>total</th>\n",
       "    </tr>\n",
       "    <tr>\n",
       "      <th>periodo</th>\n",
       "      <th></th>\n",
       "      <th></th>\n",
       "      <th></th>\n",
       "      <th></th>\n",
       "    </tr>\n",
       "  </thead>\n",
       "  <tbody>\n",
       "    <tr>\n",
       "      <th>2005M05</th>\n",
       "      <td>08019 Barcelona</td>\n",
       "      <td>viajero</td>\n",
       "      <td>residentes_en_el_extranjero</td>\n",
       "      <td>274735</td>\n",
       "    </tr>\n",
       "    <tr>\n",
       "      <th>2005M04</th>\n",
       "      <td>08019 Barcelona</td>\n",
       "      <td>viajero</td>\n",
       "      <td>residentes_en_el_extranjero</td>\n",
       "      <td>227402</td>\n",
       "    </tr>\n",
       "    <tr>\n",
       "      <th>2005M03</th>\n",
       "      <td>08019 Barcelona</td>\n",
       "      <td>viajero</td>\n",
       "      <td>residentes_en_el_extranjero</td>\n",
       "      <td>209654</td>\n",
       "    </tr>\n",
       "    <tr>\n",
       "      <th>2005M02</th>\n",
       "      <td>08019 Barcelona</td>\n",
       "      <td>viajero</td>\n",
       "      <td>residentes_en_el_extranjero</td>\n",
       "      <td>184467</td>\n",
       "    </tr>\n",
       "    <tr>\n",
       "      <th>2005M01</th>\n",
       "      <td>08019 Barcelona</td>\n",
       "      <td>viajero</td>\n",
       "      <td>residentes_en_el_extranjero</td>\n",
       "      <td>151746</td>\n",
       "    </tr>\n",
       "  </tbody>\n",
       "</table>\n",
       "</div>"
      ],
      "text/plain": [
       "        puntos_turisticos viajeros_y_pernoctaciones  \\\n",
       "periodo                                               \n",
       "2005M05   08019 Barcelona                   viajero   \n",
       "2005M04   08019 Barcelona                   viajero   \n",
       "2005M03   08019 Barcelona                   viajero   \n",
       "2005M02   08019 Barcelona                   viajero   \n",
       "2005M01   08019 Barcelona                   viajero   \n",
       "\n",
       "                          residencia   total  \n",
       "periodo                                       \n",
       "2005M05  residentes_en_el_extranjero  274735  \n",
       "2005M04  residentes_en_el_extranjero  227402  \n",
       "2005M03  residentes_en_el_extranjero  209654  \n",
       "2005M02  residentes_en_el_extranjero  184467  \n",
       "2005M01  residentes_en_el_extranjero  151746  "
      ]
     },
     "execution_count": 1007,
     "metadata": {},
     "output_type": "execute_result"
    }
   ],
   "source": [
    "df_numguiris_barna.tail(5)"
   ]
  },
  {
   "cell_type": "markdown",
   "metadata": {},
   "source": [
    "Separamos los turistas residentes en España"
   ]
  },
  {
   "cell_type": "code",
   "execution_count": 1008,
   "metadata": {},
   "outputs": [],
   "source": [
    "df_numguiris_barna_esp = df_numguiris_barna[df_numguiris_barna['residencia'].str.contains('residentes_espana') == True]"
   ]
  },
  {
   "cell_type": "code",
   "execution_count": 1009,
   "metadata": {},
   "outputs": [
    {
     "data": {
      "text/html": [
       "<div>\n",
       "<style scoped>\n",
       "    .dataframe tbody tr th:only-of-type {\n",
       "        vertical-align: middle;\n",
       "    }\n",
       "\n",
       "    .dataframe tbody tr th {\n",
       "        vertical-align: top;\n",
       "    }\n",
       "\n",
       "    .dataframe thead th {\n",
       "        text-align: right;\n",
       "    }\n",
       "</style>\n",
       "<table border=\"1\" class=\"dataframe\">\n",
       "  <thead>\n",
       "    <tr style=\"text-align: right;\">\n",
       "      <th></th>\n",
       "      <th>puntos_turisticos</th>\n",
       "      <th>viajeros_y_pernoctaciones</th>\n",
       "      <th>residencia</th>\n",
       "      <th>total</th>\n",
       "    </tr>\n",
       "    <tr>\n",
       "      <th>periodo</th>\n",
       "      <th></th>\n",
       "      <th></th>\n",
       "      <th></th>\n",
       "      <th></th>\n",
       "    </tr>\n",
       "  </thead>\n",
       "  <tbody>\n",
       "    <tr>\n",
       "      <th>2005M02</th>\n",
       "      <td>08019 Barcelona</td>\n",
       "      <td>viajero</td>\n",
       "      <td>residentes_espana</td>\n",
       "      <td>91128</td>\n",
       "    </tr>\n",
       "    <tr>\n",
       "      <th>2005M01</th>\n",
       "      <td>08019 Barcelona</td>\n",
       "      <td>viajero</td>\n",
       "      <td>residentes_espana</td>\n",
       "      <td>85815</td>\n",
       "    </tr>\n",
       "  </tbody>\n",
       "</table>\n",
       "</div>"
      ],
      "text/plain": [
       "        puntos_turisticos viajeros_y_pernoctaciones         residencia  total\n",
       "periodo                                                                      \n",
       "2005M02   08019 Barcelona                   viajero  residentes_espana  91128\n",
       "2005M01   08019 Barcelona                   viajero  residentes_espana  85815"
      ]
     },
     "execution_count": 1009,
     "metadata": {},
     "output_type": "execute_result"
    }
   ],
   "source": [
    "df_numguiris_barna_esp.tail(2)"
   ]
  },
  {
   "cell_type": "markdown",
   "metadata": {},
   "source": [
    "Separamos los turistas residentes en el extranjero"
   ]
  },
  {
   "cell_type": "code",
   "execution_count": 1010,
   "metadata": {},
   "outputs": [],
   "source": [
    "df_numguiris_barna_ext = df_numguiris_barna[df_numguiris_barna['residencia'].str.contains('residentes_en_el_extranjero') == True]"
   ]
  },
  {
   "cell_type": "code",
   "execution_count": 1011,
   "metadata": {},
   "outputs": [
    {
     "data": {
      "text/html": [
       "<div>\n",
       "<style scoped>\n",
       "    .dataframe tbody tr th:only-of-type {\n",
       "        vertical-align: middle;\n",
       "    }\n",
       "\n",
       "    .dataframe tbody tr th {\n",
       "        vertical-align: top;\n",
       "    }\n",
       "\n",
       "    .dataframe thead th {\n",
       "        text-align: right;\n",
       "    }\n",
       "</style>\n",
       "<table border=\"1\" class=\"dataframe\">\n",
       "  <thead>\n",
       "    <tr style=\"text-align: right;\">\n",
       "      <th></th>\n",
       "      <th>puntos_turisticos</th>\n",
       "      <th>viajeros_y_pernoctaciones</th>\n",
       "      <th>residencia</th>\n",
       "      <th>total</th>\n",
       "    </tr>\n",
       "    <tr>\n",
       "      <th>periodo</th>\n",
       "      <th></th>\n",
       "      <th></th>\n",
       "      <th></th>\n",
       "      <th></th>\n",
       "    </tr>\n",
       "  </thead>\n",
       "  <tbody>\n",
       "    <tr>\n",
       "      <th>2005M02</th>\n",
       "      <td>08019 Barcelona</td>\n",
       "      <td>viajero</td>\n",
       "      <td>residentes_en_el_extranjero</td>\n",
       "      <td>184467</td>\n",
       "    </tr>\n",
       "    <tr>\n",
       "      <th>2005M01</th>\n",
       "      <td>08019 Barcelona</td>\n",
       "      <td>viajero</td>\n",
       "      <td>residentes_en_el_extranjero</td>\n",
       "      <td>151746</td>\n",
       "    </tr>\n",
       "  </tbody>\n",
       "</table>\n",
       "</div>"
      ],
      "text/plain": [
       "        puntos_turisticos viajeros_y_pernoctaciones  \\\n",
       "periodo                                               \n",
       "2005M02   08019 Barcelona                   viajero   \n",
       "2005M01   08019 Barcelona                   viajero   \n",
       "\n",
       "                          residencia   total  \n",
       "periodo                                       \n",
       "2005M02  residentes_en_el_extranjero  184467  \n",
       "2005M01  residentes_en_el_extranjero  151746  "
      ]
     },
     "execution_count": 1011,
     "metadata": {},
     "output_type": "execute_result"
    }
   ],
   "source": [
    "df_numguiris_barna_ext.tail(2)"
   ]
  },
  {
   "cell_type": "markdown",
   "metadata": {},
   "source": [
    "# Separamos las pernoctaciones del numero de turistas"
   ]
  },
  {
   "cell_type": "code",
   "execution_count": 1012,
   "metadata": {},
   "outputs": [],
   "source": [
    "df_pernocguiris_barna = df_guiris_barna[df_guiris_barna['viajeros_y_pernoctaciones'].str.contains('pernoctaciones') == True]"
   ]
  },
  {
   "cell_type": "markdown",
   "metadata": {},
   "source": [
    "Separamos las pernoctaciones de los turistas españoles"
   ]
  },
  {
   "cell_type": "code",
   "execution_count": 1013,
   "metadata": {},
   "outputs": [],
   "source": [
    "df_pernocguiris_barna_esp =  df_pernocguiris_barna[df_pernocguiris_barna['residencia'].str.contains('residentes_espana') == True]"
   ]
  },
  {
   "cell_type": "markdown",
   "metadata": {},
   "source": [
    "Separamos las pernoctaciones de los turistas extranjeros"
   ]
  },
  {
   "cell_type": "code",
   "execution_count": 1014,
   "metadata": {},
   "outputs": [],
   "source": [
    "df_pernocguiris_barna_ext =  df_pernocguiris_barna[df_pernocguiris_barna['residencia'].str.contains('residentes_en_el_extranjero') == True]"
   ]
  },
  {
   "cell_type": "code",
   "execution_count": 1015,
   "metadata": {},
   "outputs": [
    {
     "data": {
      "text/html": [
       "<div>\n",
       "<style scoped>\n",
       "    .dataframe tbody tr th:only-of-type {\n",
       "        vertical-align: middle;\n",
       "    }\n",
       "\n",
       "    .dataframe tbody tr th {\n",
       "        vertical-align: top;\n",
       "    }\n",
       "\n",
       "    .dataframe thead th {\n",
       "        text-align: right;\n",
       "    }\n",
       "</style>\n",
       "<table border=\"1\" class=\"dataframe\">\n",
       "  <thead>\n",
       "    <tr style=\"text-align: right;\">\n",
       "      <th></th>\n",
       "      <th>puntos_turisticos</th>\n",
       "      <th>viajeros_y_pernoctaciones</th>\n",
       "      <th>residencia</th>\n",
       "      <th>total</th>\n",
       "    </tr>\n",
       "    <tr>\n",
       "      <th>periodo</th>\n",
       "      <th></th>\n",
       "      <th></th>\n",
       "      <th></th>\n",
       "      <th></th>\n",
       "    </tr>\n",
       "  </thead>\n",
       "  <tbody>\n",
       "    <tr>\n",
       "      <th>2005M05</th>\n",
       "      <td>08019 Barcelona</td>\n",
       "      <td>pernoctaciones</td>\n",
       "      <td>residentes_en_el_extranjero</td>\n",
       "      <td>714859</td>\n",
       "    </tr>\n",
       "    <tr>\n",
       "      <th>2005M04</th>\n",
       "      <td>08019 Barcelona</td>\n",
       "      <td>pernoctaciones</td>\n",
       "      <td>residentes_en_el_extranjero</td>\n",
       "      <td>608493</td>\n",
       "    </tr>\n",
       "    <tr>\n",
       "      <th>2005M03</th>\n",
       "      <td>08019 Barcelona</td>\n",
       "      <td>pernoctaciones</td>\n",
       "      <td>residentes_en_el_extranjero</td>\n",
       "      <td>545853</td>\n",
       "    </tr>\n",
       "    <tr>\n",
       "      <th>2005M02</th>\n",
       "      <td>08019 Barcelona</td>\n",
       "      <td>pernoctaciones</td>\n",
       "      <td>residentes_en_el_extranjero</td>\n",
       "      <td>485152</td>\n",
       "    </tr>\n",
       "    <tr>\n",
       "      <th>2005M01</th>\n",
       "      <td>08019 Barcelona</td>\n",
       "      <td>pernoctaciones</td>\n",
       "      <td>residentes_en_el_extranjero</td>\n",
       "      <td>401350</td>\n",
       "    </tr>\n",
       "  </tbody>\n",
       "</table>\n",
       "</div>"
      ],
      "text/plain": [
       "        puntos_turisticos viajeros_y_pernoctaciones  \\\n",
       "periodo                                               \n",
       "2005M05   08019 Barcelona            pernoctaciones   \n",
       "2005M04   08019 Barcelona            pernoctaciones   \n",
       "2005M03   08019 Barcelona            pernoctaciones   \n",
       "2005M02   08019 Barcelona            pernoctaciones   \n",
       "2005M01   08019 Barcelona            pernoctaciones   \n",
       "\n",
       "                          residencia   total  \n",
       "periodo                                       \n",
       "2005M05  residentes_en_el_extranjero  714859  \n",
       "2005M04  residentes_en_el_extranjero  608493  \n",
       "2005M03  residentes_en_el_extranjero  545853  \n",
       "2005M02  residentes_en_el_extranjero  485152  \n",
       "2005M01  residentes_en_el_extranjero  401350  "
      ]
     },
     "execution_count": 1015,
     "metadata": {},
     "output_type": "execute_result"
    }
   ],
   "source": [
    "df_pernocguiris_barna_ext.tail(5)"
   ]
  },
  {
   "cell_type": "code",
   "execution_count": 1016,
   "metadata": {},
   "outputs": [],
   "source": [
    "df_oi = pd.concat([df_numguiris_barna_esp['total'], \n",
    "                   df_numguiris_barna_ext['total'],\n",
    "                   df_pernocguiris_barna_esp['total'],\n",
    "                   df_pernocguiris_barna_ext['total']], axis=1)\n",
    "\n",
    "df_oi.columns = ['viajeros_espana', \n",
    "                 'viajeros_extranjero',\n",
    "                 'pernoctaciones_espana',\n",
    "                 'pernoctaciones_extranjero']"
   ]
  },
  {
   "cell_type": "code",
   "execution_count": 1017,
   "metadata": {},
   "outputs": [],
   "source": [
    "df_oi['media_pernoc_esp'] = df_pernocguiris_barna_esp['total'] / df_numguiris_barna_esp['total']\n",
    "df_oi['media_pernoc_ext'] = df_pernocguiris_barna_ext['total'] / df_numguiris_barna_ext['total']\n",
    "df_oi['total_viajeros'] = df_numguiris_barna_esp['total'] + df_numguiris_barna_ext['total']\n",
    "df_oi['total_pernoctaciones'] = df_pernocguiris_barna_esp['total'] + df_pernocguiris_barna_ext['total']\n",
    "df_oi['media_total_pernoc'] = df_oi['total_pernoctaciones'] / df_oi['total_viajeros']"
   ]
  },
  {
   "cell_type": "code",
   "execution_count": 1018,
   "metadata": {},
   "outputs": [
    {
     "data": {
      "text/html": [
       "<div>\n",
       "<style scoped>\n",
       "    .dataframe tbody tr th:only-of-type {\n",
       "        vertical-align: middle;\n",
       "    }\n",
       "\n",
       "    .dataframe tbody tr th {\n",
       "        vertical-align: top;\n",
       "    }\n",
       "\n",
       "    .dataframe thead th {\n",
       "        text-align: right;\n",
       "    }\n",
       "</style>\n",
       "<table border=\"1\" class=\"dataframe\">\n",
       "  <thead>\n",
       "    <tr style=\"text-align: right;\">\n",
       "      <th></th>\n",
       "      <th>viajeros_espana</th>\n",
       "      <th>viajeros_extranjero</th>\n",
       "      <th>pernoctaciones_espana</th>\n",
       "      <th>pernoctaciones_extranjero</th>\n",
       "      <th>media_pernoc_esp</th>\n",
       "      <th>media_pernoc_ext</th>\n",
       "      <th>total_viajeros</th>\n",
       "      <th>total_pernoctaciones</th>\n",
       "      <th>media_total_pernoc</th>\n",
       "    </tr>\n",
       "    <tr>\n",
       "      <th>periodo</th>\n",
       "      <th></th>\n",
       "      <th></th>\n",
       "      <th></th>\n",
       "      <th></th>\n",
       "      <th></th>\n",
       "      <th></th>\n",
       "      <th></th>\n",
       "      <th></th>\n",
       "      <th></th>\n",
       "    </tr>\n",
       "  </thead>\n",
       "  <tbody>\n",
       "    <tr>\n",
       "      <th>2022M01</th>\n",
       "      <td>107162</td>\n",
       "      <td>194312</td>\n",
       "      <td>203683</td>\n",
       "      <td>541541</td>\n",
       "      <td>1.900702</td>\n",
       "      <td>2.786966</td>\n",
       "      <td>301474</td>\n",
       "      <td>745224</td>\n",
       "      <td>2.471935</td>\n",
       "    </tr>\n",
       "    <tr>\n",
       "      <th>2021M12</th>\n",
       "      <td>144299</td>\n",
       "      <td>250133</td>\n",
       "      <td>282398</td>\n",
       "      <td>674630</td>\n",
       "      <td>1.957034</td>\n",
       "      <td>2.697085</td>\n",
       "      <td>394432</td>\n",
       "      <td>957028</td>\n",
       "      <td>2.426345</td>\n",
       "    </tr>\n",
       "  </tbody>\n",
       "</table>\n",
       "</div>"
      ],
      "text/plain": [
       "         viajeros_espana  viajeros_extranjero  pernoctaciones_espana  \\\n",
       "periodo                                                                \n",
       "2022M01           107162               194312                 203683   \n",
       "2021M12           144299               250133                 282398   \n",
       "\n",
       "         pernoctaciones_extranjero  media_pernoc_esp  media_pernoc_ext  \\\n",
       "periodo                                                                  \n",
       "2022M01                     541541          1.900702          2.786966   \n",
       "2021M12                     674630          1.957034          2.697085   \n",
       "\n",
       "         total_viajeros  total_pernoctaciones  media_total_pernoc  \n",
       "periodo                                                            \n",
       "2022M01          301474                745224            2.471935  \n",
       "2021M12          394432                957028            2.426345  "
      ]
     },
     "execution_count": 1018,
     "metadata": {},
     "output_type": "execute_result"
    }
   ],
   "source": [
    "df_oi.head(2)"
   ]
  },
  {
   "cell_type": "code",
   "execution_count": 1019,
   "metadata": {},
   "outputs": [
    {
     "data": {
      "text/plain": [
       "viajeros_espana              2\n",
       "viajeros_extranjero          2\n",
       "pernoctaciones_espana        2\n",
       "pernoctaciones_extranjero    2\n",
       "media_pernoc_esp             2\n",
       "media_pernoc_ext             2\n",
       "total_viajeros               2\n",
       "total_pernoctaciones         2\n",
       "media_total_pernoc           2\n",
       "dtype: int64"
      ]
     },
     "execution_count": 1019,
     "metadata": {},
     "output_type": "execute_result"
    }
   ],
   "source": [
    "df_oi.isnull().sum()"
   ]
  },
  {
   "cell_type": "code",
   "execution_count": 1020,
   "metadata": {},
   "outputs": [
    {
     "data": {
      "text/plain": [
       "1"
      ]
     },
     "execution_count": 1020,
     "metadata": {},
     "output_type": "execute_result"
    }
   ],
   "source": [
    "df_oi.duplicated().sum()"
   ]
  },
  {
   "cell_type": "code",
   "execution_count": 1021,
   "metadata": {},
   "outputs": [
    {
     "data": {
      "text/html": [
       "<div>\n",
       "<style scoped>\n",
       "    .dataframe tbody tr th:only-of-type {\n",
       "        vertical-align: middle;\n",
       "    }\n",
       "\n",
       "    .dataframe tbody tr th {\n",
       "        vertical-align: top;\n",
       "    }\n",
       "\n",
       "    .dataframe thead th {\n",
       "        text-align: right;\n",
       "    }\n",
       "</style>\n",
       "<table border=\"1\" class=\"dataframe\">\n",
       "  <thead>\n",
       "    <tr style=\"text-align: right;\">\n",
       "      <th></th>\n",
       "      <th>viajeros_espana</th>\n",
       "      <th>viajeros_extranjero</th>\n",
       "      <th>pernoctaciones_espana</th>\n",
       "      <th>pernoctaciones_extranjero</th>\n",
       "      <th>media_pernoc_esp</th>\n",
       "      <th>media_pernoc_ext</th>\n",
       "      <th>total_viajeros</th>\n",
       "      <th>total_pernoctaciones</th>\n",
       "      <th>media_total_pernoc</th>\n",
       "    </tr>\n",
       "    <tr>\n",
       "      <th>periodo</th>\n",
       "      <th></th>\n",
       "      <th></th>\n",
       "      <th></th>\n",
       "      <th></th>\n",
       "      <th></th>\n",
       "      <th></th>\n",
       "      <th></th>\n",
       "      <th></th>\n",
       "      <th></th>\n",
       "    </tr>\n",
       "  </thead>\n",
       "  <tbody>\n",
       "    <tr>\n",
       "      <th>2020M05</th>\n",
       "      <td>&lt;NA&gt;</td>\n",
       "      <td>&lt;NA&gt;</td>\n",
       "      <td>&lt;NA&gt;</td>\n",
       "      <td>&lt;NA&gt;</td>\n",
       "      <td>&lt;NA&gt;</td>\n",
       "      <td>&lt;NA&gt;</td>\n",
       "      <td>&lt;NA&gt;</td>\n",
       "      <td>&lt;NA&gt;</td>\n",
       "      <td>&lt;NA&gt;</td>\n",
       "    </tr>\n",
       "  </tbody>\n",
       "</table>\n",
       "</div>"
      ],
      "text/plain": [
       "         viajeros_espana  viajeros_extranjero  pernoctaciones_espana  \\\n",
       "periodo                                                                \n",
       "2020M05             <NA>                 <NA>                   <NA>   \n",
       "\n",
       "         pernoctaciones_extranjero  media_pernoc_esp  media_pernoc_ext  \\\n",
       "periodo                                                                  \n",
       "2020M05                       <NA>              <NA>              <NA>   \n",
       "\n",
       "         total_viajeros  total_pernoctaciones  media_total_pernoc  \n",
       "periodo                                                            \n",
       "2020M05            <NA>                  <NA>                <NA>  "
      ]
     },
     "execution_count": 1021,
     "metadata": {},
     "output_type": "execute_result"
    }
   ],
   "source": [
    "df_oi[df_oi.duplicated() == True]"
   ]
  },
  {
   "cell_type": "code",
   "execution_count": 1024,
   "metadata": {},
   "outputs": [],
   "source": [
    "df_oi.reset_index(inplace=True)"
   ]
  },
  {
   "cell_type": "code",
   "execution_count": 1025,
   "metadata": {},
   "outputs": [
    {
     "data": {
      "text/html": [
       "<div>\n",
       "<style scoped>\n",
       "    .dataframe tbody tr th:only-of-type {\n",
       "        vertical-align: middle;\n",
       "    }\n",
       "\n",
       "    .dataframe tbody tr th {\n",
       "        vertical-align: top;\n",
       "    }\n",
       "\n",
       "    .dataframe thead th {\n",
       "        text-align: right;\n",
       "    }\n",
       "</style>\n",
       "<table border=\"1\" class=\"dataframe\">\n",
       "  <thead>\n",
       "    <tr style=\"text-align: right;\">\n",
       "      <th></th>\n",
       "      <th>periodo</th>\n",
       "      <th>viajeros_espana</th>\n",
       "      <th>viajeros_extranjero</th>\n",
       "      <th>pernoctaciones_espana</th>\n",
       "      <th>pernoctaciones_extranjero</th>\n",
       "      <th>media_pernoc_esp</th>\n",
       "      <th>media_pernoc_ext</th>\n",
       "      <th>total_viajeros</th>\n",
       "      <th>total_pernoctaciones</th>\n",
       "      <th>media_total_pernoc</th>\n",
       "    </tr>\n",
       "  </thead>\n",
       "  <tbody>\n",
       "    <tr>\n",
       "      <th>0</th>\n",
       "      <td>2022M01</td>\n",
       "      <td>107162</td>\n",
       "      <td>194312</td>\n",
       "      <td>203683</td>\n",
       "      <td>541541</td>\n",
       "      <td>1.900702</td>\n",
       "      <td>2.786966</td>\n",
       "      <td>301474</td>\n",
       "      <td>745224</td>\n",
       "      <td>2.471935</td>\n",
       "    </tr>\n",
       "    <tr>\n",
       "      <th>1</th>\n",
       "      <td>2021M12</td>\n",
       "      <td>144299</td>\n",
       "      <td>250133</td>\n",
       "      <td>282398</td>\n",
       "      <td>674630</td>\n",
       "      <td>1.957034</td>\n",
       "      <td>2.697085</td>\n",
       "      <td>394432</td>\n",
       "      <td>957028</td>\n",
       "      <td>2.426345</td>\n",
       "    </tr>\n",
       "  </tbody>\n",
       "</table>\n",
       "</div>"
      ],
      "text/plain": [
       "   periodo  viajeros_espana  viajeros_extranjero  pernoctaciones_espana  \\\n",
       "0  2022M01           107162               194312                 203683   \n",
       "1  2021M12           144299               250133                 282398   \n",
       "\n",
       "   pernoctaciones_extranjero  media_pernoc_esp  media_pernoc_ext  \\\n",
       "0                     541541          1.900702          2.786966   \n",
       "1                     674630          1.957034          2.697085   \n",
       "\n",
       "   total_viajeros  total_pernoctaciones  media_total_pernoc  \n",
       "0          301474                745224            2.471935  \n",
       "1          394432                957028            2.426345  "
      ]
     },
     "execution_count": 1025,
     "metadata": {},
     "output_type": "execute_result"
    }
   ],
   "source": [
    "df_oi.head(2)"
   ]
  },
  {
   "cell_type": "code",
   "execution_count": 1026,
   "metadata": {},
   "outputs": [
    {
     "data": {
      "text/html": [
       "<div>\n",
       "<style scoped>\n",
       "    .dataframe tbody tr th:only-of-type {\n",
       "        vertical-align: middle;\n",
       "    }\n",
       "\n",
       "    .dataframe tbody tr th {\n",
       "        vertical-align: top;\n",
       "    }\n",
       "\n",
       "    .dataframe thead th {\n",
       "        text-align: right;\n",
       "    }\n",
       "</style>\n",
       "<table border=\"1\" class=\"dataframe\">\n",
       "  <thead>\n",
       "    <tr style=\"text-align: right;\">\n",
       "      <th></th>\n",
       "      <th>periodo</th>\n",
       "      <th>viajeros_espana</th>\n",
       "      <th>viajeros_extranjero</th>\n",
       "      <th>pernoctaciones_espana</th>\n",
       "      <th>pernoctaciones_extranjero</th>\n",
       "      <th>media_pernoc_esp</th>\n",
       "      <th>media_pernoc_ext</th>\n",
       "      <th>total_viajeros</th>\n",
       "      <th>total_pernoctaciones</th>\n",
       "      <th>media_total_pernoc</th>\n",
       "    </tr>\n",
       "  </thead>\n",
       "  <tbody>\n",
       "    <tr>\n",
       "      <th>20</th>\n",
       "      <td>2020M05</td>\n",
       "      <td>&lt;NA&gt;</td>\n",
       "      <td>&lt;NA&gt;</td>\n",
       "      <td>&lt;NA&gt;</td>\n",
       "      <td>&lt;NA&gt;</td>\n",
       "      <td>&lt;NA&gt;</td>\n",
       "      <td>&lt;NA&gt;</td>\n",
       "      <td>&lt;NA&gt;</td>\n",
       "      <td>&lt;NA&gt;</td>\n",
       "      <td>&lt;NA&gt;</td>\n",
       "    </tr>\n",
       "  </tbody>\n",
       "</table>\n",
       "</div>"
      ],
      "text/plain": [
       "    periodo  viajeros_espana  viajeros_extranjero  pernoctaciones_espana  \\\n",
       "20  2020M05             <NA>                 <NA>                   <NA>   \n",
       "\n",
       "    pernoctaciones_extranjero  media_pernoc_esp  media_pernoc_ext  \\\n",
       "20                       <NA>              <NA>              <NA>   \n",
       "\n",
       "    total_viajeros  total_pernoctaciones  media_total_pernoc  \n",
       "20            <NA>                  <NA>                <NA>  "
      ]
     },
     "execution_count": 1026,
     "metadata": {},
     "output_type": "execute_result"
    }
   ],
   "source": [
    "df_oi[df_oi['periodo']=='2020M05']"
   ]
  }
 ],
 "metadata": {
  "interpreter": {
   "hash": "ba1db81cc109b82b4f074f14705a6c6c4ac73c66313ff5962e6e84ea5725364a"
  },
  "kernelspec": {
   "display_name": "Python 3.8.8 ('base': conda)",
   "language": "python",
   "name": "python3"
  },
  "language_info": {
   "codemirror_mode": {
    "name": "ipython",
    "version": 3
   },
   "file_extension": ".py",
   "mimetype": "text/x-python",
   "name": "python",
   "nbconvert_exporter": "python",
   "pygments_lexer": "ipython3",
   "version": "3.9.7"
  },
  "orig_nbformat": 4
 },
 "nbformat": 4,
 "nbformat_minor": 2
}
