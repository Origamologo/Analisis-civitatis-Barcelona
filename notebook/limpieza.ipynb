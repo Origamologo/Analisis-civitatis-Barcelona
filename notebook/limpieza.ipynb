{
 "cells": [
  {
   "cell_type": "code",
   "execution_count": 1014,
   "metadata": {},
   "outputs": [],
   "source": [
    "import pandas as pd\n",
    "import numpy as np\n",
    "import sidetable\n",
    "import sys\n",
    "import re\n",
    "sys.path.append('../')\n",
    "\n",
    "import seaborn as sns\n",
    "import matplotlib.pyplot as plt"
   ]
  },
  {
   "cell_type": "code",
   "execution_count": 1015,
   "metadata": {},
   "outputs": [],
   "source": [
    "import datetime"
   ]
  },
  {
   "cell_type": "code",
   "execution_count": 1016,
   "metadata": {},
   "outputs": [],
   "source": [
    "pd.options.display.max_columns = None"
   ]
  },
  {
   "cell_type": "code",
   "execution_count": 1017,
   "metadata": {},
   "outputs": [],
   "source": [
    "df_guiris = pd.read_csv(r\"C:\\Users\\mituc\\Ironhack\\Curso\\IronLabs\\Proyecto-1\\data\\2078.csv\", sep=';', encoding='latin-1', index_col = 0)"
   ]
  },
  {
   "cell_type": "code",
   "execution_count": null,
   "metadata": {},
   "outputs": [],
   "source": [
    "df_guiris.shape"
   ]
  },
  {
   "cell_type": "code",
   "execution_count": 1018,
   "metadata": {},
   "outputs": [
    {
     "data": {
      "text/html": [
       "<div>\n",
       "<style scoped>\n",
       "    .dataframe tbody tr th:only-of-type {\n",
       "        vertical-align: middle;\n",
       "    }\n",
       "\n",
       "    .dataframe tbody tr th {\n",
       "        vertical-align: top;\n",
       "    }\n",
       "\n",
       "    .dataframe thead th {\n",
       "        text-align: right;\n",
       "    }\n",
       "</style>\n",
       "<table border=\"1\" class=\"dataframe\">\n",
       "  <thead>\n",
       "    <tr style=\"text-align: right;\">\n",
       "      <th></th>\n",
       "      <th>Viajeros y pernoctaciones</th>\n",
       "      <th>Residencia</th>\n",
       "      <th>Periodo</th>\n",
       "      <th>Total</th>\n",
       "    </tr>\n",
       "    <tr>\n",
       "      <th>ï»¿Puntos turÃ­sticos</th>\n",
       "      <th></th>\n",
       "      <th></th>\n",
       "      <th></th>\n",
       "      <th></th>\n",
       "    </tr>\n",
       "  </thead>\n",
       "  <tbody>\n",
       "    <tr>\n",
       "      <th>01059 Vitoria-Gasteiz</th>\n",
       "      <td>Viajero</td>\n",
       "      <td>Residentes en EspaÃ±a</td>\n",
       "      <td>2022M01</td>\n",
       "      <td>11.759</td>\n",
       "    </tr>\n",
       "    <tr>\n",
       "      <th>01059 Vitoria-Gasteiz</th>\n",
       "      <td>Viajero</td>\n",
       "      <td>Residentes en EspaÃ±a</td>\n",
       "      <td>2021M12</td>\n",
       "      <td>16.496</td>\n",
       "    </tr>\n",
       "    <tr>\n",
       "      <th>01059 Vitoria-Gasteiz</th>\n",
       "      <td>Viajero</td>\n",
       "      <td>Residentes en EspaÃ±a</td>\n",
       "      <td>2021M11</td>\n",
       "      <td>16.667</td>\n",
       "    </tr>\n",
       "    <tr>\n",
       "      <th>01059 Vitoria-Gasteiz</th>\n",
       "      <td>Viajero</td>\n",
       "      <td>Residentes en EspaÃ±a</td>\n",
       "      <td>2021M10</td>\n",
       "      <td>21.467</td>\n",
       "    </tr>\n",
       "    <tr>\n",
       "      <th>01059 Vitoria-Gasteiz</th>\n",
       "      <td>Viajero</td>\n",
       "      <td>Residentes en EspaÃ±a</td>\n",
       "      <td>2021M09</td>\n",
       "      <td>18.647</td>\n",
       "    </tr>\n",
       "  </tbody>\n",
       "</table>\n",
       "</div>"
      ],
      "text/plain": [
       "                      Viajeros y pernoctaciones             Residencia  \\\n",
       "ï»¿Puntos turÃ­sticos                                                    \n",
       "01059 Vitoria-Gasteiz                   Viajero  Residentes en EspaÃ±a   \n",
       "01059 Vitoria-Gasteiz                   Viajero  Residentes en EspaÃ±a   \n",
       "01059 Vitoria-Gasteiz                   Viajero  Residentes en EspaÃ±a   \n",
       "01059 Vitoria-Gasteiz                   Viajero  Residentes en EspaÃ±a   \n",
       "01059 Vitoria-Gasteiz                   Viajero  Residentes en EspaÃ±a   \n",
       "\n",
       "                       Periodo   Total  \n",
       "ï»¿Puntos turÃ­sticos                   \n",
       "01059 Vitoria-Gasteiz  2022M01  11.759  \n",
       "01059 Vitoria-Gasteiz  2021M12  16.496  \n",
       "01059 Vitoria-Gasteiz  2021M11  16.667  \n",
       "01059 Vitoria-Gasteiz  2021M10  21.467  \n",
       "01059 Vitoria-Gasteiz  2021M09  18.647  "
      ]
     },
     "execution_count": 1018,
     "metadata": {},
     "output_type": "execute_result"
    }
   ],
   "source": [
    "df_guiris.head(5)"
   ]
  },
  {
   "cell_type": "code",
   "execution_count": 1019,
   "metadata": {},
   "outputs": [
    {
     "data": {
      "text/plain": [
       "12322"
      ]
     },
     "execution_count": 1019,
     "metadata": {},
     "output_type": "execute_result"
    }
   ],
   "source": [
    "df_guiris.duplicated().sum()"
   ]
  },
  {
   "cell_type": "code",
   "execution_count": 1020,
   "metadata": {},
   "outputs": [
    {
     "data": {
      "text/html": [
       "<div>\n",
       "<style scoped>\n",
       "    .dataframe tbody tr th:only-of-type {\n",
       "        vertical-align: middle;\n",
       "    }\n",
       "\n",
       "    .dataframe tbody tr th {\n",
       "        vertical-align: top;\n",
       "    }\n",
       "\n",
       "    .dataframe thead th {\n",
       "        text-align: right;\n",
       "    }\n",
       "</style>\n",
       "<table border=\"1\" class=\"dataframe\">\n",
       "  <thead>\n",
       "    <tr style=\"text-align: right;\">\n",
       "      <th></th>\n",
       "      <th>Viajeros y pernoctaciones</th>\n",
       "      <th>Residencia</th>\n",
       "      <th>Periodo</th>\n",
       "      <th>Total</th>\n",
       "    </tr>\n",
       "    <tr>\n",
       "      <th>ï»¿Puntos turÃ­sticos</th>\n",
       "      <th></th>\n",
       "      <th></th>\n",
       "      <th></th>\n",
       "      <th></th>\n",
       "    </tr>\n",
       "  </thead>\n",
       "  <tbody>\n",
       "    <tr>\n",
       "      <th>02003 Albacete</th>\n",
       "      <td>Viajero</td>\n",
       "      <td>Residentes en EspaÃ±a</td>\n",
       "      <td>2020M06</td>\n",
       "      <td>.</td>\n",
       "    </tr>\n",
       "    <tr>\n",
       "      <th>02003 Albacete</th>\n",
       "      <td>Viajero</td>\n",
       "      <td>Residentes en EspaÃ±a</td>\n",
       "      <td>2020M05</td>\n",
       "      <td>.</td>\n",
       "    </tr>\n",
       "    <tr>\n",
       "      <th>02003 Albacete</th>\n",
       "      <td>Viajero</td>\n",
       "      <td>Residentes en EspaÃ±a</td>\n",
       "      <td>2020M04</td>\n",
       "      <td>0</td>\n",
       "    </tr>\n",
       "    <tr>\n",
       "      <th>02003 Albacete</th>\n",
       "      <td>Viajero</td>\n",
       "      <td>Residentes en el Extranjero</td>\n",
       "      <td>2020M06</td>\n",
       "      <td>.</td>\n",
       "    </tr>\n",
       "    <tr>\n",
       "      <th>02003 Albacete</th>\n",
       "      <td>Viajero</td>\n",
       "      <td>Residentes en el Extranjero</td>\n",
       "      <td>2020M05</td>\n",
       "      <td>.</td>\n",
       "    </tr>\n",
       "    <tr>\n",
       "      <th>...</th>\n",
       "      <td>...</td>\n",
       "      <td>...</td>\n",
       "      <td>...</td>\n",
       "      <td>...</td>\n",
       "    </tr>\n",
       "    <tr>\n",
       "      <th>50297 Zaragoza</th>\n",
       "      <td>Pernoctaciones</td>\n",
       "      <td>Residentes en EspaÃ±a</td>\n",
       "      <td>2020M05</td>\n",
       "      <td>.</td>\n",
       "    </tr>\n",
       "    <tr>\n",
       "      <th>50297 Zaragoza</th>\n",
       "      <td>Pernoctaciones</td>\n",
       "      <td>Residentes en EspaÃ±a</td>\n",
       "      <td>2020M04</td>\n",
       "      <td>0</td>\n",
       "    </tr>\n",
       "    <tr>\n",
       "      <th>50297 Zaragoza</th>\n",
       "      <td>Pernoctaciones</td>\n",
       "      <td>Residentes en el Extranjero</td>\n",
       "      <td>2020M06</td>\n",
       "      <td>.</td>\n",
       "    </tr>\n",
       "    <tr>\n",
       "      <th>50297 Zaragoza</th>\n",
       "      <td>Pernoctaciones</td>\n",
       "      <td>Residentes en el Extranjero</td>\n",
       "      <td>2020M05</td>\n",
       "      <td>.</td>\n",
       "    </tr>\n",
       "    <tr>\n",
       "      <th>50297 Zaragoza</th>\n",
       "      <td>Pernoctaciones</td>\n",
       "      <td>Residentes en el Extranjero</td>\n",
       "      <td>2020M04</td>\n",
       "      <td>0</td>\n",
       "    </tr>\n",
       "  </tbody>\n",
       "</table>\n",
       "<p>12322 rows × 4 columns</p>\n",
       "</div>"
      ],
      "text/plain": [
       "                      Viajeros y pernoctaciones                   Residencia  \\\n",
       "ï»¿Puntos turÃ­sticos                                                          \n",
       "02003 Albacete                          Viajero        Residentes en EspaÃ±a   \n",
       "02003 Albacete                          Viajero        Residentes en EspaÃ±a   \n",
       "02003 Albacete                          Viajero        Residentes en EspaÃ±a   \n",
       "02003 Albacete                          Viajero  Residentes en el Extranjero   \n",
       "02003 Albacete                          Viajero  Residentes en el Extranjero   \n",
       "...                                         ...                          ...   \n",
       "50297 Zaragoza                   Pernoctaciones        Residentes en EspaÃ±a   \n",
       "50297 Zaragoza                   Pernoctaciones        Residentes en EspaÃ±a   \n",
       "50297 Zaragoza                   Pernoctaciones  Residentes en el Extranjero   \n",
       "50297 Zaragoza                   Pernoctaciones  Residentes en el Extranjero   \n",
       "50297 Zaragoza                   Pernoctaciones  Residentes en el Extranjero   \n",
       "\n",
       "                       Periodo Total  \n",
       "ï»¿Puntos turÃ­sticos                 \n",
       "02003 Albacete         2020M06     .  \n",
       "02003 Albacete         2020M05     .  \n",
       "02003 Albacete         2020M04     0  \n",
       "02003 Albacete         2020M06     .  \n",
       "02003 Albacete         2020M05     .  \n",
       "...                        ...   ...  \n",
       "50297 Zaragoza         2020M05     .  \n",
       "50297 Zaragoza         2020M04     0  \n",
       "50297 Zaragoza         2020M06     .  \n",
       "50297 Zaragoza         2020M05     .  \n",
       "50297 Zaragoza         2020M04     0  \n",
       "\n",
       "[12322 rows x 4 columns]"
      ]
     },
     "execution_count": 1020,
     "metadata": {},
     "output_type": "execute_result"
    }
   ],
   "source": [
    "df_guiris[df_guiris.duplicated() == True]"
   ]
  },
  {
   "cell_type": "code",
   "execution_count": 1021,
   "metadata": {},
   "outputs": [
    {
     "data": {
      "text/html": [
       "<div>\n",
       "<style scoped>\n",
       "    .dataframe tbody tr th:only-of-type {\n",
       "        vertical-align: middle;\n",
       "    }\n",
       "\n",
       "    .dataframe tbody tr th {\n",
       "        vertical-align: top;\n",
       "    }\n",
       "\n",
       "    .dataframe thead th {\n",
       "        text-align: right;\n",
       "    }\n",
       "</style>\n",
       "<table border=\"1\" class=\"dataframe\">\n",
       "  <thead>\n",
       "    <tr style=\"text-align: right;\">\n",
       "      <th></th>\n",
       "      <th>Viajeros y pernoctaciones</th>\n",
       "      <th>Residencia</th>\n",
       "      <th>Periodo</th>\n",
       "      <th>Total</th>\n",
       "    </tr>\n",
       "    <tr>\n",
       "      <th>ï»¿Puntos turÃ­sticos</th>\n",
       "      <th></th>\n",
       "      <th></th>\n",
       "      <th></th>\n",
       "      <th></th>\n",
       "    </tr>\n",
       "  </thead>\n",
       "  <tbody>\n",
       "    <tr>\n",
       "      <th>01059 Vitoria-Gasteiz</th>\n",
       "      <td>Viajero</td>\n",
       "      <td>Residentes en EspaÃ±a</td>\n",
       "      <td>2020M04</td>\n",
       "      <td>0</td>\n",
       "    </tr>\n",
       "    <tr>\n",
       "      <th>01059 Vitoria-Gasteiz</th>\n",
       "      <td>Viajero</td>\n",
       "      <td>Residentes en el Extranjero</td>\n",
       "      <td>2020M04</td>\n",
       "      <td>0</td>\n",
       "    </tr>\n",
       "    <tr>\n",
       "      <th>01059 Vitoria-Gasteiz</th>\n",
       "      <td>Pernoctaciones</td>\n",
       "      <td>Residentes en EspaÃ±a</td>\n",
       "      <td>2020M04</td>\n",
       "      <td>0</td>\n",
       "    </tr>\n",
       "    <tr>\n",
       "      <th>01059 Vitoria-Gasteiz</th>\n",
       "      <td>Pernoctaciones</td>\n",
       "      <td>Residentes en el Extranjero</td>\n",
       "      <td>2020M04</td>\n",
       "      <td>0</td>\n",
       "    </tr>\n",
       "    <tr>\n",
       "      <th>02003 Albacete</th>\n",
       "      <td>Viajero</td>\n",
       "      <td>Residentes en EspaÃ±a</td>\n",
       "      <td>2020M04</td>\n",
       "      <td>0</td>\n",
       "    </tr>\n",
       "    <tr>\n",
       "      <th>...</th>\n",
       "      <td>...</td>\n",
       "      <td>...</td>\n",
       "      <td>...</td>\n",
       "      <td>...</td>\n",
       "    </tr>\n",
       "    <tr>\n",
       "      <th>49275 Zamora</th>\n",
       "      <td>Pernoctaciones</td>\n",
       "      <td>Residentes en el Extranjero</td>\n",
       "      <td>2020M04</td>\n",
       "      <td>0</td>\n",
       "    </tr>\n",
       "    <tr>\n",
       "      <th>50297 Zaragoza</th>\n",
       "      <td>Viajero</td>\n",
       "      <td>Residentes en EspaÃ±a</td>\n",
       "      <td>2020M04</td>\n",
       "      <td>0</td>\n",
       "    </tr>\n",
       "    <tr>\n",
       "      <th>50297 Zaragoza</th>\n",
       "      <td>Viajero</td>\n",
       "      <td>Residentes en el Extranjero</td>\n",
       "      <td>2020M04</td>\n",
       "      <td>0</td>\n",
       "    </tr>\n",
       "    <tr>\n",
       "      <th>50297 Zaragoza</th>\n",
       "      <td>Pernoctaciones</td>\n",
       "      <td>Residentes en EspaÃ±a</td>\n",
       "      <td>2020M04</td>\n",
       "      <td>0</td>\n",
       "    </tr>\n",
       "    <tr>\n",
       "      <th>50297 Zaragoza</th>\n",
       "      <td>Pernoctaciones</td>\n",
       "      <td>Residentes en el Extranjero</td>\n",
       "      <td>2020M04</td>\n",
       "      <td>0</td>\n",
       "    </tr>\n",
       "  </tbody>\n",
       "</table>\n",
       "<p>425 rows × 4 columns</p>\n",
       "</div>"
      ],
      "text/plain": [
       "                      Viajeros y pernoctaciones                   Residencia  \\\n",
       "ï»¿Puntos turÃ­sticos                                                          \n",
       "01059 Vitoria-Gasteiz                   Viajero        Residentes en EspaÃ±a   \n",
       "01059 Vitoria-Gasteiz                   Viajero  Residentes en el Extranjero   \n",
       "01059 Vitoria-Gasteiz            Pernoctaciones        Residentes en EspaÃ±a   \n",
       "01059 Vitoria-Gasteiz            Pernoctaciones  Residentes en el Extranjero   \n",
       "02003 Albacete                          Viajero        Residentes en EspaÃ±a   \n",
       "...                                         ...                          ...   \n",
       "49275 Zamora                     Pernoctaciones  Residentes en el Extranjero   \n",
       "50297 Zaragoza                          Viajero        Residentes en EspaÃ±a   \n",
       "50297 Zaragoza                          Viajero  Residentes en el Extranjero   \n",
       "50297 Zaragoza                   Pernoctaciones        Residentes en EspaÃ±a   \n",
       "50297 Zaragoza                   Pernoctaciones  Residentes en el Extranjero   \n",
       "\n",
       "                       Periodo Total  \n",
       "ï»¿Puntos turÃ­sticos                 \n",
       "01059 Vitoria-Gasteiz  2020M04     0  \n",
       "01059 Vitoria-Gasteiz  2020M04     0  \n",
       "01059 Vitoria-Gasteiz  2020M04     0  \n",
       "01059 Vitoria-Gasteiz  2020M04     0  \n",
       "02003 Albacete         2020M04     0  \n",
       "...                        ...   ...  \n",
       "49275 Zamora           2020M04     0  \n",
       "50297 Zaragoza         2020M04     0  \n",
       "50297 Zaragoza         2020M04     0  \n",
       "50297 Zaragoza         2020M04     0  \n",
       "50297 Zaragoza         2020M04     0  \n",
       "\n",
       "[425 rows x 4 columns]"
      ]
     },
     "execution_count": 1021,
     "metadata": {},
     "output_type": "execute_result"
    }
   ],
   "source": [
    "df_guiris[df_guiris['Total'] == '0']"
   ]
  },
  {
   "cell_type": "markdown",
   "metadata": {},
   "source": [
    "Aunque parecía que había duplicados, en la tabla anterior podemos ver que no es así y si resetamos el index desaparecen"
   ]
  },
  {
   "cell_type": "code",
   "execution_count": 1022,
   "metadata": {},
   "outputs": [],
   "source": [
    "df_guiris.reset_index(inplace=True)"
   ]
  },
  {
   "cell_type": "code",
   "execution_count": 1023,
   "metadata": {},
   "outputs": [
    {
     "data": {
      "text/plain": [
       "0"
      ]
     },
     "execution_count": 1023,
     "metadata": {},
     "output_type": "execute_result"
    }
   ],
   "source": [
    "df_guiris.duplicated().sum()"
   ]
  },
  {
   "cell_type": "code",
   "execution_count": 1024,
   "metadata": {},
   "outputs": [
    {
     "data": {
      "text/plain": [
       "ï»¿Puntos turÃ­sticos        object\n",
       "Viajeros y pernoctaciones    object\n",
       "Residencia                   object\n",
       "Periodo                      object\n",
       "Total                        object\n",
       "dtype: object"
      ]
     },
     "execution_count": 1024,
     "metadata": {},
     "output_type": "execute_result"
    }
   ],
   "source": [
    "df_guiris.dtypes"
   ]
  },
  {
   "cell_type": "markdown",
   "metadata": {},
   "source": [
    "Tendremos que limpiar algunos nombres"
   ]
  },
  {
   "cell_type": "code",
   "execution_count": 1025,
   "metadata": {},
   "outputs": [
    {
     "data": {
      "text/plain": [
       "Index(['ï»¿Puntos turÃ­sticos', 'Viajeros y pernoctaciones', 'Residencia',\n",
       "       'Periodo', 'Total'],\n",
       "      dtype='object')"
      ]
     },
     "execution_count": 1025,
     "metadata": {},
     "output_type": "execute_result"
    }
   ],
   "source": [
    "df_guiris.columns"
   ]
  },
  {
   "cell_type": "code",
   "execution_count": 1026,
   "metadata": {},
   "outputs": [
    {
     "name": "stdout",
     "output_type": "stream",
     "text": [
      "['Viajero' 'Pernoctaciones']\n",
      "['Residentes en EspaÃ±a' 'Residentes en el Extranjero']\n"
     ]
    }
   ],
   "source": [
    "print(df_guiris['Viajeros y pernoctaciones'].unique())\n",
    "print(df_guiris['Residencia'].unique())"
   ]
  },
  {
   "cell_type": "code",
   "execution_count": 1027,
   "metadata": {},
   "outputs": [
    {
     "data": {
      "text/plain": [
       "ï»¿Puntos turÃ­sticos           0\n",
       "Viajeros y pernoctaciones       0\n",
       "Residencia                      0\n",
       "Periodo                         0\n",
       "Total                        5358\n",
       "dtype: int64"
      ]
     },
     "execution_count": 1027,
     "metadata": {},
     "output_type": "execute_result"
    }
   ],
   "source": [
    "df_guiris.isnull().sum()"
   ]
  },
  {
   "cell_type": "code",
   "execution_count": 1028,
   "metadata": {},
   "outputs": [
    {
     "data": {
      "text/plain": [
       "(86920, 5)"
      ]
     },
     "execution_count": 1028,
     "metadata": {},
     "output_type": "execute_result"
    }
   ],
   "source": [
    "df_guiris.shape"
   ]
  },
  {
   "cell_type": "markdown",
   "metadata": {},
   "source": [
    "Renombramos las columnas"
   ]
  },
  {
   "cell_type": "code",
   "execution_count": 1030,
   "metadata": {},
   "outputs": [],
   "source": [
    "df_guiris = df_guiris.rename(columns={'ï»¿Puntos turÃ­sticos': 'Puntos_turisticos'})\n",
    "columnas_limpias = {col : col.lower().replace(\" \", \"_\") for col in df_guiris.columns}\n",
    "df_guiris.rename(columns = columnas_limpias, inplace = True)"
   ]
  },
  {
   "cell_type": "code",
   "execution_count": 1031,
   "metadata": {},
   "outputs": [
    {
     "data": {
      "text/plain": [
       "Index(['puntos_turisticos', 'viajeros_y_pernoctaciones', 'residencia',\n",
       "       'periodo', 'total'],\n",
       "      dtype='object')"
      ]
     },
     "execution_count": 1031,
     "metadata": {},
     "output_type": "execute_result"
    }
   ],
   "source": [
    "df_guiris.columns"
   ]
  },
  {
   "cell_type": "markdown",
   "metadata": {},
   "source": [
    "Ahora vamos a dejar limpita la columna 'total'. Primero retiraremos los puntos y luego convertiremos los valores en enteros.\n",
    "\n",
    "Es importante tener en cuenta que en este csv si aparece un punto '.' a secas, significa que el dato está protegido por la ley de secreto estadístico, (Artículo 12 de la Ley 7/2006) y para nosotros es como si fuera un nulo.\n",
    "\n",
    "Esta operación de limpieza tiene por tanto una doble función:\n",
    "- poder convertir los string en int\n",
    "- convertir los '.' en NaN para manejarlos después"
   ]
  },
  {
   "cell_type": "code",
   "execution_count": 1032,
   "metadata": {},
   "outputs": [
    {
     "name": "stderr",
     "output_type": "stream",
     "text": [
      "C:\\Users\\mituc\\AppData\\Local\\Temp/ipykernel_4944/2279084469.py:1: FutureWarning: The default value of regex will change from True to False in a future version. In addition, single character regular expressions will *not* be treated as literal strings when regex=True.\n",
      "  df_guiris['total'] = df_guiris['total'].str.replace('.', '')\n"
     ]
    }
   ],
   "source": [
    "df_guiris['total'] = df_guiris['total'].str.replace('.', '')"
   ]
  },
  {
   "cell_type": "code",
   "execution_count": 1033,
   "metadata": {},
   "outputs": [],
   "source": [
    "df_guiris['total'] = pd.to_numeric(df_guiris['total'], errors='coerce').astype('Int64')"
   ]
  },
  {
   "cell_type": "markdown",
   "metadata": {},
   "source": [
    "Podemos comprobar que los nulos han aumentado de 5358 a 13056"
   ]
  },
  {
   "cell_type": "code",
   "execution_count": 1034,
   "metadata": {},
   "outputs": [
    {
     "data": {
      "text/plain": [
       "puntos_turisticos                0\n",
       "viajeros_y_pernoctaciones        0\n",
       "residencia                       0\n",
       "periodo                          0\n",
       "total                        13056\n",
       "dtype: int64"
      ]
     },
     "execution_count": 1034,
     "metadata": {},
     "output_type": "execute_result"
    }
   ],
   "source": [
    "df_guiris.isnull().sum()"
   ]
  },
  {
   "cell_type": "markdown",
   "metadata": {},
   "source": [
    "Sabemos por la documentación del csv que entre abril y junio del 2020 no hubo recogida de datos a causa de la crisis del covid-19. Veamos cómo están esos datos."
   ]
  },
  {
   "cell_type": "code",
   "execution_count": 1035,
   "metadata": {},
   "outputs": [
    {
     "data": {
      "text/html": [
       "<div>\n",
       "<style scoped>\n",
       "    .dataframe tbody tr th:only-of-type {\n",
       "        vertical-align: middle;\n",
       "    }\n",
       "\n",
       "    .dataframe tbody tr th {\n",
       "        vertical-align: top;\n",
       "    }\n",
       "\n",
       "    .dataframe thead th {\n",
       "        text-align: right;\n",
       "    }\n",
       "</style>\n",
       "<table border=\"1\" class=\"dataframe\">\n",
       "  <thead>\n",
       "    <tr style=\"text-align: right;\">\n",
       "      <th></th>\n",
       "      <th>puntos_turisticos</th>\n",
       "      <th>viajeros_y_pernoctaciones</th>\n",
       "      <th>residencia</th>\n",
       "      <th>periodo</th>\n",
       "      <th>total</th>\n",
       "    </tr>\n",
       "  </thead>\n",
       "  <tbody>\n",
       "    <tr>\n",
       "      <th>19</th>\n",
       "      <td>01059 Vitoria-Gasteiz</td>\n",
       "      <td>Viajero</td>\n",
       "      <td>Residentes en EspaÃ±a</td>\n",
       "      <td>2020M06</td>\n",
       "      <td>&lt;NA&gt;</td>\n",
       "    </tr>\n",
       "    <tr>\n",
       "      <th>20</th>\n",
       "      <td>01059 Vitoria-Gasteiz</td>\n",
       "      <td>Viajero</td>\n",
       "      <td>Residentes en EspaÃ±a</td>\n",
       "      <td>2020M05</td>\n",
       "      <td>&lt;NA&gt;</td>\n",
       "    </tr>\n",
       "    <tr>\n",
       "      <th>21</th>\n",
       "      <td>01059 Vitoria-Gasteiz</td>\n",
       "      <td>Viajero</td>\n",
       "      <td>Residentes en EspaÃ±a</td>\n",
       "      <td>2020M04</td>\n",
       "      <td>0</td>\n",
       "    </tr>\n",
       "    <tr>\n",
       "      <th>224</th>\n",
       "      <td>01059 Vitoria-Gasteiz</td>\n",
       "      <td>Viajero</td>\n",
       "      <td>Residentes en el Extranjero</td>\n",
       "      <td>2020M06</td>\n",
       "      <td>&lt;NA&gt;</td>\n",
       "    </tr>\n",
       "    <tr>\n",
       "      <th>225</th>\n",
       "      <td>01059 Vitoria-Gasteiz</td>\n",
       "      <td>Viajero</td>\n",
       "      <td>Residentes en el Extranjero</td>\n",
       "      <td>2020M05</td>\n",
       "      <td>&lt;NA&gt;</td>\n",
       "    </tr>\n",
       "    <tr>\n",
       "      <th>...</th>\n",
       "      <td>...</td>\n",
       "      <td>...</td>\n",
       "      <td>...</td>\n",
       "      <td>...</td>\n",
       "      <td>...</td>\n",
       "    </tr>\n",
       "    <tr>\n",
       "      <th>86530</th>\n",
       "      <td>50297 Zaragoza</td>\n",
       "      <td>Pernoctaciones</td>\n",
       "      <td>Residentes en EspaÃ±a</td>\n",
       "      <td>2020M05</td>\n",
       "      <td>&lt;NA&gt;</td>\n",
       "    </tr>\n",
       "    <tr>\n",
       "      <th>86531</th>\n",
       "      <td>50297 Zaragoza</td>\n",
       "      <td>Pernoctaciones</td>\n",
       "      <td>Residentes en EspaÃ±a</td>\n",
       "      <td>2020M04</td>\n",
       "      <td>0</td>\n",
       "    </tr>\n",
       "    <tr>\n",
       "      <th>86734</th>\n",
       "      <td>50297 Zaragoza</td>\n",
       "      <td>Pernoctaciones</td>\n",
       "      <td>Residentes en el Extranjero</td>\n",
       "      <td>2020M06</td>\n",
       "      <td>&lt;NA&gt;</td>\n",
       "    </tr>\n",
       "    <tr>\n",
       "      <th>86735</th>\n",
       "      <td>50297 Zaragoza</td>\n",
       "      <td>Pernoctaciones</td>\n",
       "      <td>Residentes en el Extranjero</td>\n",
       "      <td>2020M05</td>\n",
       "      <td>&lt;NA&gt;</td>\n",
       "    </tr>\n",
       "    <tr>\n",
       "      <th>86736</th>\n",
       "      <td>50297 Zaragoza</td>\n",
       "      <td>Pernoctaciones</td>\n",
       "      <td>Residentes en el Extranjero</td>\n",
       "      <td>2020M04</td>\n",
       "      <td>0</td>\n",
       "    </tr>\n",
       "  </tbody>\n",
       "</table>\n",
       "<p>1272 rows × 5 columns</p>\n",
       "</div>"
      ],
      "text/plain": [
       "           puntos_turisticos viajeros_y_pernoctaciones  \\\n",
       "19     01059 Vitoria-Gasteiz                   Viajero   \n",
       "20     01059 Vitoria-Gasteiz                   Viajero   \n",
       "21     01059 Vitoria-Gasteiz                   Viajero   \n",
       "224    01059 Vitoria-Gasteiz                   Viajero   \n",
       "225    01059 Vitoria-Gasteiz                   Viajero   \n",
       "...                      ...                       ...   \n",
       "86530         50297 Zaragoza            Pernoctaciones   \n",
       "86531         50297 Zaragoza            Pernoctaciones   \n",
       "86734         50297 Zaragoza            Pernoctaciones   \n",
       "86735         50297 Zaragoza            Pernoctaciones   \n",
       "86736         50297 Zaragoza            Pernoctaciones   \n",
       "\n",
       "                        residencia  periodo  total  \n",
       "19           Residentes en EspaÃ±a  2020M06   <NA>  \n",
       "20           Residentes en EspaÃ±a  2020M05   <NA>  \n",
       "21           Residentes en EspaÃ±a  2020M04      0  \n",
       "224    Residentes en el Extranjero  2020M06   <NA>  \n",
       "225    Residentes en el Extranjero  2020M05   <NA>  \n",
       "...                            ...      ...    ...  \n",
       "86530        Residentes en EspaÃ±a  2020M05   <NA>  \n",
       "86531        Residentes en EspaÃ±a  2020M04      0  \n",
       "86734  Residentes en el Extranjero  2020M06   <NA>  \n",
       "86735  Residentes en el Extranjero  2020M05   <NA>  \n",
       "86736  Residentes en el Extranjero  2020M04      0  \n",
       "\n",
       "[1272 rows x 5 columns]"
      ]
     },
     "execution_count": 1035,
     "metadata": {},
     "output_type": "execute_result"
    }
   ],
   "source": [
    "df_guiris[(df_guiris['periodo'] == '2020M04') | (df_guiris['periodo'] == '2020M05') | (df_guiris['periodo'] == '2020M06')]"
   ]
  },
  {
   "cell_type": "markdown",
   "metadata": {},
   "source": [
    "Dado que en los meses del confinamiento toda la actividad turística estuvo suspendida, vamos a sustituir los nulos por 0, pues no es tanto que no hubiese recogida de datos como que no había turistas."
   ]
  },
  {
   "cell_type": "code",
   "execution_count": 1036,
   "metadata": {},
   "outputs": [],
   "source": [
    "df_guiris.loc[(df_guiris['periodo'] == '2020M04') | \n",
    "              (df_guiris['periodo'] == '2020M05') | \n",
    "              (df_guiris['periodo'] == '2020M06'), 'total'] = 0"
   ]
  },
  {
   "cell_type": "markdown",
   "metadata": {},
   "source": [
    "Y comprobamos que los nulos han descendido de 13056 a 12208"
   ]
  },
  {
   "cell_type": "code",
   "execution_count": 1037,
   "metadata": {},
   "outputs": [
    {
     "data": {
      "text/plain": [
       "puntos_turisticos                0\n",
       "viajeros_y_pernoctaciones        0\n",
       "residencia                       0\n",
       "periodo                          0\n",
       "total                        12208\n",
       "dtype: int64"
      ]
     },
     "execution_count": 1037,
     "metadata": {},
     "output_type": "execute_result"
    }
   ],
   "source": [
    "df_guiris.isnull().sum()"
   ]
  },
  {
   "cell_type": "markdown",
   "metadata": {},
   "source": [
    "Los nulos que quedan se deben a que o bien no había recogida de datos en esa fecha para esa zona turística, o bien el dato no está publicado porque está protegido por secreto estadístico.\n",
    "En todo caso no se pueden eliminar alegremente. En el caso de que falten en meses puntuales pero dispongamos de datos para el resto del año, quiáz convendría sustiruirlos."
   ]
  },
  {
   "cell_type": "code",
   "execution_count": 1038,
   "metadata": {},
   "outputs": [],
   "source": [
    "null_rows = pd.isnull(df_guiris['total'])"
   ]
  },
  {
   "cell_type": "code",
   "execution_count": 1039,
   "metadata": {},
   "outputs": [],
   "source": [
    "df_guiris[null_rows].to_csv('nulls.csv')"
   ]
  },
  {
   "cell_type": "code",
   "execution_count": 1040,
   "metadata": {},
   "outputs": [],
   "source": [
    "df_guiris['periodo'] = df_guiris['periodo'].str.replace('M', '-')"
   ]
  },
  {
   "cell_type": "code",
   "execution_count": 1041,
   "metadata": {},
   "outputs": [],
   "source": [
    "df_guiris.to_pickle('guiris.pkl')\n",
    "#df_guiris = pd.read_pickle('guiris.pkl')"
   ]
  },
  {
   "cell_type": "code",
   "execution_count": 1042,
   "metadata": {},
   "outputs": [
    {
     "data": {
      "text/html": [
       "<div>\n",
       "<style scoped>\n",
       "    .dataframe tbody tr th:only-of-type {\n",
       "        vertical-align: middle;\n",
       "    }\n",
       "\n",
       "    .dataframe tbody tr th {\n",
       "        vertical-align: top;\n",
       "    }\n",
       "\n",
       "    .dataframe thead th {\n",
       "        text-align: right;\n",
       "    }\n",
       "</style>\n",
       "<table border=\"1\" class=\"dataframe\">\n",
       "  <thead>\n",
       "    <tr style=\"text-align: right;\">\n",
       "      <th></th>\n",
       "      <th>puntos_turisticos</th>\n",
       "      <th>viajeros_y_pernoctaciones</th>\n",
       "      <th>residencia</th>\n",
       "      <th>periodo</th>\n",
       "      <th>total</th>\n",
       "    </tr>\n",
       "  </thead>\n",
       "  <tbody>\n",
       "    <tr>\n",
       "      <th>0</th>\n",
       "      <td>01059 Vitoria-Gasteiz</td>\n",
       "      <td>Viajero</td>\n",
       "      <td>Residentes en EspaÃ±a</td>\n",
       "      <td>2022-01</td>\n",
       "      <td>11759</td>\n",
       "    </tr>\n",
       "    <tr>\n",
       "      <th>1</th>\n",
       "      <td>01059 Vitoria-Gasteiz</td>\n",
       "      <td>Viajero</td>\n",
       "      <td>Residentes en EspaÃ±a</td>\n",
       "      <td>2021-12</td>\n",
       "      <td>16496</td>\n",
       "    </tr>\n",
       "  </tbody>\n",
       "</table>\n",
       "</div>"
      ],
      "text/plain": [
       "       puntos_turisticos viajeros_y_pernoctaciones             residencia  \\\n",
       "0  01059 Vitoria-Gasteiz                   Viajero  Residentes en EspaÃ±a   \n",
       "1  01059 Vitoria-Gasteiz                   Viajero  Residentes en EspaÃ±a   \n",
       "\n",
       "   periodo  total  \n",
       "0  2022-01  11759  \n",
       "1  2021-12  16496  "
      ]
     },
     "execution_count": 1042,
     "metadata": {},
     "output_type": "execute_result"
    }
   ],
   "source": [
    "df_guiris.head(2)"
   ]
  },
  {
   "cell_type": "code",
   "execution_count": 1043,
   "metadata": {},
   "outputs": [],
   "source": [
    "df_guiris['periodo'] = pd.to_datetime(df_guiris['periodo'], format='%Y%m%')\n",
    "#df_guiris['periodo'] = df_guiris['periodo'].dt.date.apply(lambda x: x.strftime('%Y-%m'))"
   ]
  },
  {
   "cell_type": "code",
   "execution_count": 1044,
   "metadata": {},
   "outputs": [
    {
     "data": {
      "text/plain": [
       "puntos_turisticos                    object\n",
       "viajeros_y_pernoctaciones            object\n",
       "residencia                           object\n",
       "periodo                      datetime64[ns]\n",
       "total                                 Int64\n",
       "dtype: object"
      ]
     },
     "execution_count": 1044,
     "metadata": {},
     "output_type": "execute_result"
    }
   ],
   "source": [
    "df_guiris.dtypes"
   ]
  },
  {
   "cell_type": "code",
   "execution_count": 1045,
   "metadata": {},
   "outputs": [],
   "source": [
    "df_guiris.set_index('periodo', inplace=True)"
   ]
  },
  {
   "cell_type": "markdown",
   "metadata": {},
   "source": [
    "Renombramos los valores"
   ]
  },
  {
   "cell_type": "code",
   "execution_count": 1046,
   "metadata": {},
   "outputs": [],
   "source": [
    "df_guiris['residencia'].replace({'Residentes en EspaÃ±a': \"residentes_espana\", 'Residentes en el Extranjero': 'residentes_en_el_extranjero'}, inplace=True)\n",
    "df_guiris['viajeros_y_pernoctaciones'] = df_guiris['viajeros_y_pernoctaciones'].str.lower()"
   ]
  },
  {
   "cell_type": "code",
   "execution_count": 1047,
   "metadata": {},
   "outputs": [
    {
     "data": {
      "text/html": [
       "<div>\n",
       "<style scoped>\n",
       "    .dataframe tbody tr th:only-of-type {\n",
       "        vertical-align: middle;\n",
       "    }\n",
       "\n",
       "    .dataframe tbody tr th {\n",
       "        vertical-align: top;\n",
       "    }\n",
       "\n",
       "    .dataframe thead th {\n",
       "        text-align: right;\n",
       "    }\n",
       "</style>\n",
       "<table border=\"1\" class=\"dataframe\">\n",
       "  <thead>\n",
       "    <tr style=\"text-align: right;\">\n",
       "      <th></th>\n",
       "      <th>puntos_turisticos</th>\n",
       "      <th>viajeros_y_pernoctaciones</th>\n",
       "      <th>residencia</th>\n",
       "      <th>total</th>\n",
       "    </tr>\n",
       "    <tr>\n",
       "      <th>periodo</th>\n",
       "      <th></th>\n",
       "      <th></th>\n",
       "      <th></th>\n",
       "      <th></th>\n",
       "    </tr>\n",
       "  </thead>\n",
       "  <tbody>\n",
       "    <tr>\n",
       "      <th>2005-05-01</th>\n",
       "      <td>50297 Zaragoza</td>\n",
       "      <td>pernoctaciones</td>\n",
       "      <td>residentes_en_el_extranjero</td>\n",
       "      <td>20698</td>\n",
       "    </tr>\n",
       "    <tr>\n",
       "      <th>2005-04-01</th>\n",
       "      <td>50297 Zaragoza</td>\n",
       "      <td>pernoctaciones</td>\n",
       "      <td>residentes_en_el_extranjero</td>\n",
       "      <td>20003</td>\n",
       "    </tr>\n",
       "    <tr>\n",
       "      <th>2005-03-01</th>\n",
       "      <td>50297 Zaragoza</td>\n",
       "      <td>pernoctaciones</td>\n",
       "      <td>residentes_en_el_extranjero</td>\n",
       "      <td>21156</td>\n",
       "    </tr>\n",
       "    <tr>\n",
       "      <th>2005-02-01</th>\n",
       "      <td>50297 Zaragoza</td>\n",
       "      <td>pernoctaciones</td>\n",
       "      <td>residentes_en_el_extranjero</td>\n",
       "      <td>13372</td>\n",
       "    </tr>\n",
       "    <tr>\n",
       "      <th>2005-01-01</th>\n",
       "      <td>50297 Zaragoza</td>\n",
       "      <td>pernoctaciones</td>\n",
       "      <td>residentes_en_el_extranjero</td>\n",
       "      <td>10284</td>\n",
       "    </tr>\n",
       "  </tbody>\n",
       "</table>\n",
       "</div>"
      ],
      "text/plain": [
       "           puntos_turisticos viajeros_y_pernoctaciones  \\\n",
       "periodo                                                  \n",
       "2005-05-01    50297 Zaragoza            pernoctaciones   \n",
       "2005-04-01    50297 Zaragoza            pernoctaciones   \n",
       "2005-03-01    50297 Zaragoza            pernoctaciones   \n",
       "2005-02-01    50297 Zaragoza            pernoctaciones   \n",
       "2005-01-01    50297 Zaragoza            pernoctaciones   \n",
       "\n",
       "                             residencia  total  \n",
       "periodo                                         \n",
       "2005-05-01  residentes_en_el_extranjero  20698  \n",
       "2005-04-01  residentes_en_el_extranjero  20003  \n",
       "2005-03-01  residentes_en_el_extranjero  21156  \n",
       "2005-02-01  residentes_en_el_extranjero  13372  \n",
       "2005-01-01  residentes_en_el_extranjero  10284  "
      ]
     },
     "execution_count": 1047,
     "metadata": {},
     "output_type": "execute_result"
    }
   ],
   "source": [
    "df_guiris.tail(5)"
   ]
  },
  {
   "cell_type": "code",
   "execution_count": 1091,
   "metadata": {},
   "outputs": [],
   "source": [
    "def pastor_de_guiris(df, ciudades):\n",
    "    for ciudad in ciudades:\n",
    "        # Separamos la zona turistica\n",
    "        df_guiris_zona = df[df['puntos_turisticos'].str.contains(ciudad) == True]\n",
    "        # Aislamos los viajeros residentes en Espana\n",
    "        df_numguiris = df_guiris_zona[df_guiris_zona['viajeros_y_pernoctaciones'].str.contains('viajero') == True]\n",
    "        df_numguiris_esp = df_numguiris[df_numguiris['residencia'].str.contains('residentes_espana') == True]\n",
    "        # Aislamos a los turistas residentes en el extranjero\n",
    "        df_numguiris_ext = df_numguiris[df_numguiris['residencia'].str.contains('residentes_en_el_extranjero') == True]\n",
    "        # Aislamos las pernocctaciones de los viajeros residentes en Espana\n",
    "        df_pernocguiris = df_guiris_zona[df_guiris_zona['viajeros_y_pernoctaciones'].str.contains('pernoctaciones') == True]\n",
    "        df_pernocguiris_esp =  df_pernocguiris[df_pernocguiris['residencia'].str.contains('residentes_espana') == True]\n",
    "        # Aislamos las pernocctaciones de los viajeros residentes en el extranjero\n",
    "        df_pernocguiris_ext =  df_pernocguiris[df_pernocguiris['residencia'].str.contains('residentes_en_el_extranjero') == True]\n",
    "\n",
    "        guiris_esquilados = pd.concat([df_numguiris_esp['total'], \n",
    "                                    df_numguiris_ext['total'],\n",
    "                                    df_pernocguiris_esp['total'],\n",
    "                                    df_pernocguiris_ext['total']], axis=1)\n",
    "\n",
    "        guiris_esquilados.columns = ['viajeros_espana', \n",
    "                                    'viajeros_extranjero',\n",
    "                                    'pernoctaciones_espana',\n",
    "                                    'pernoctaciones_extranjero']\n",
    "\n",
    "        guiris_esquilados['media_pernoc_esp'] = df_pernocguiris_esp['total'] / df_numguiris_esp['total']\n",
    "        guiris_esquilados['media_pernoc_ext'] = df_pernocguiris_ext['total'] / df_numguiris_ext['total']\n",
    "        guiris_esquilados['total_viajeros'] = df_numguiris_esp['total'] + df_numguiris_ext['total']\n",
    "        guiris_esquilados['total_pernoctaciones'] = df_pernocguiris_esp['total'] + df_pernocguiris_ext['total']\n",
    "        guiris_esquilados['media_total_pernoc'] = guiris_esquilados['total_pernoctaciones'] / guiris_esquilados['total_viajeros']\n",
    "\n",
    "        guiris_esquilados.to_pickle(f'{ciudad}_guiris_esquilados.pkl')\n",
    "    \n",
    "    return guiris_esquilados"
   ]
  },
  {
   "cell_type": "code",
   "execution_count": 1101,
   "metadata": {},
   "outputs": [],
   "source": [
    "lista = ['Barcelona']"
   ]
  },
  {
   "cell_type": "code",
   "execution_count": 1102,
   "metadata": {},
   "outputs": [
    {
     "data": {
      "text/html": [
       "<div>\n",
       "<style scoped>\n",
       "    .dataframe tbody tr th:only-of-type {\n",
       "        vertical-align: middle;\n",
       "    }\n",
       "\n",
       "    .dataframe tbody tr th {\n",
       "        vertical-align: top;\n",
       "    }\n",
       "\n",
       "    .dataframe thead th {\n",
       "        text-align: right;\n",
       "    }\n",
       "</style>\n",
       "<table border=\"1\" class=\"dataframe\">\n",
       "  <thead>\n",
       "    <tr style=\"text-align: right;\">\n",
       "      <th></th>\n",
       "      <th>viajeros_espana</th>\n",
       "      <th>viajeros_extranjero</th>\n",
       "      <th>pernoctaciones_espana</th>\n",
       "      <th>pernoctaciones_extranjero</th>\n",
       "      <th>media_pernoc_esp</th>\n",
       "      <th>media_pernoc_ext</th>\n",
       "      <th>total_viajeros</th>\n",
       "      <th>total_pernoctaciones</th>\n",
       "      <th>media_total_pernoc</th>\n",
       "    </tr>\n",
       "    <tr>\n",
       "      <th>periodo</th>\n",
       "      <th></th>\n",
       "      <th></th>\n",
       "      <th></th>\n",
       "      <th></th>\n",
       "      <th></th>\n",
       "      <th></th>\n",
       "      <th></th>\n",
       "      <th></th>\n",
       "      <th></th>\n",
       "    </tr>\n",
       "  </thead>\n",
       "  <tbody>\n",
       "    <tr>\n",
       "      <th>2022-01-01</th>\n",
       "      <td>107162</td>\n",
       "      <td>194312</td>\n",
       "      <td>203683</td>\n",
       "      <td>541541</td>\n",
       "      <td>1.900702</td>\n",
       "      <td>2.786966</td>\n",
       "      <td>301474</td>\n",
       "      <td>745224</td>\n",
       "      <td>2.471935</td>\n",
       "    </tr>\n",
       "    <tr>\n",
       "      <th>2021-12-01</th>\n",
       "      <td>144299</td>\n",
       "      <td>250133</td>\n",
       "      <td>282398</td>\n",
       "      <td>674630</td>\n",
       "      <td>1.957034</td>\n",
       "      <td>2.697085</td>\n",
       "      <td>394432</td>\n",
       "      <td>957028</td>\n",
       "      <td>2.426345</td>\n",
       "    </tr>\n",
       "    <tr>\n",
       "      <th>2021-11-01</th>\n",
       "      <td>120748</td>\n",
       "      <td>314677</td>\n",
       "      <td>228675</td>\n",
       "      <td>871021</td>\n",
       "      <td>1.89382</td>\n",
       "      <td>2.767984</td>\n",
       "      <td>435425</td>\n",
       "      <td>1099696</td>\n",
       "      <td>2.525569</td>\n",
       "    </tr>\n",
       "    <tr>\n",
       "      <th>2021-10-01</th>\n",
       "      <td>130404</td>\n",
       "      <td>364349</td>\n",
       "      <td>270494</td>\n",
       "      <td>1013514</td>\n",
       "      <td>2.074277</td>\n",
       "      <td>2.781712</td>\n",
       "      <td>494753</td>\n",
       "      <td>1284008</td>\n",
       "      <td>2.595251</td>\n",
       "    </tr>\n",
       "    <tr>\n",
       "      <th>2021-09-01</th>\n",
       "      <td>102053</td>\n",
       "      <td>309572</td>\n",
       "      <td>207329</td>\n",
       "      <td>856562</td>\n",
       "      <td>2.031582</td>\n",
       "      <td>2.766923</td>\n",
       "      <td>411625</td>\n",
       "      <td>1063891</td>\n",
       "      <td>2.584612</td>\n",
       "    </tr>\n",
       "    <tr>\n",
       "      <th>...</th>\n",
       "      <td>...</td>\n",
       "      <td>...</td>\n",
       "      <td>...</td>\n",
       "      <td>...</td>\n",
       "      <td>...</td>\n",
       "      <td>...</td>\n",
       "      <td>...</td>\n",
       "      <td>...</td>\n",
       "      <td>...</td>\n",
       "    </tr>\n",
       "    <tr>\n",
       "      <th>2005-05-01</th>\n",
       "      <td>118498</td>\n",
       "      <td>274735</td>\n",
       "      <td>283763</td>\n",
       "      <td>714859</td>\n",
       "      <td>2.394665</td>\n",
       "      <td>2.601995</td>\n",
       "      <td>393233</td>\n",
       "      <td>998622</td>\n",
       "      <td>2.539517</td>\n",
       "    </tr>\n",
       "    <tr>\n",
       "      <th>2005-04-01</th>\n",
       "      <td>118215</td>\n",
       "      <td>227402</td>\n",
       "      <td>265758</td>\n",
       "      <td>608493</td>\n",
       "      <td>2.24809</td>\n",
       "      <td>2.675847</td>\n",
       "      <td>345617</td>\n",
       "      <td>874251</td>\n",
       "      <td>2.529537</td>\n",
       "    </tr>\n",
       "    <tr>\n",
       "      <th>2005-03-01</th>\n",
       "      <td>98475</td>\n",
       "      <td>209654</td>\n",
       "      <td>223927</td>\n",
       "      <td>545853</td>\n",
       "      <td>2.273948</td>\n",
       "      <td>2.60359</td>\n",
       "      <td>308129</td>\n",
       "      <td>769780</td>\n",
       "      <td>2.498239</td>\n",
       "    </tr>\n",
       "    <tr>\n",
       "      <th>2005-02-01</th>\n",
       "      <td>91128</td>\n",
       "      <td>184467</td>\n",
       "      <td>206601</td>\n",
       "      <td>485152</td>\n",
       "      <td>2.267152</td>\n",
       "      <td>2.630021</td>\n",
       "      <td>275595</td>\n",
       "      <td>691753</td>\n",
       "      <td>2.510035</td>\n",
       "    </tr>\n",
       "    <tr>\n",
       "      <th>2005-01-01</th>\n",
       "      <td>85815</td>\n",
       "      <td>151746</td>\n",
       "      <td>174598</td>\n",
       "      <td>401350</td>\n",
       "      <td>2.034586</td>\n",
       "      <td>2.64488</td>\n",
       "      <td>237561</td>\n",
       "      <td>575948</td>\n",
       "      <td>2.424422</td>\n",
       "    </tr>\n",
       "  </tbody>\n",
       "</table>\n",
       "<p>205 rows × 9 columns</p>\n",
       "</div>"
      ],
      "text/plain": [
       "            viajeros_espana  viajeros_extranjero  pernoctaciones_espana  \\\n",
       "periodo                                                                   \n",
       "2022-01-01           107162               194312                 203683   \n",
       "2021-12-01           144299               250133                 282398   \n",
       "2021-11-01           120748               314677                 228675   \n",
       "2021-10-01           130404               364349                 270494   \n",
       "2021-09-01           102053               309572                 207329   \n",
       "...                     ...                  ...                    ...   \n",
       "2005-05-01           118498               274735                 283763   \n",
       "2005-04-01           118215               227402                 265758   \n",
       "2005-03-01            98475               209654                 223927   \n",
       "2005-02-01            91128               184467                 206601   \n",
       "2005-01-01            85815               151746                 174598   \n",
       "\n",
       "            pernoctaciones_extranjero  media_pernoc_esp  media_pernoc_ext  \\\n",
       "periodo                                                                     \n",
       "2022-01-01                     541541          1.900702          2.786966   \n",
       "2021-12-01                     674630          1.957034          2.697085   \n",
       "2021-11-01                     871021           1.89382          2.767984   \n",
       "2021-10-01                    1013514          2.074277          2.781712   \n",
       "2021-09-01                     856562          2.031582          2.766923   \n",
       "...                               ...               ...               ...   \n",
       "2005-05-01                     714859          2.394665          2.601995   \n",
       "2005-04-01                     608493           2.24809          2.675847   \n",
       "2005-03-01                     545853          2.273948           2.60359   \n",
       "2005-02-01                     485152          2.267152          2.630021   \n",
       "2005-01-01                     401350          2.034586           2.64488   \n",
       "\n",
       "            total_viajeros  total_pernoctaciones  media_total_pernoc  \n",
       "periodo                                                               \n",
       "2022-01-01          301474                745224            2.471935  \n",
       "2021-12-01          394432                957028            2.426345  \n",
       "2021-11-01          435425               1099696            2.525569  \n",
       "2021-10-01          494753               1284008            2.595251  \n",
       "2021-09-01          411625               1063891            2.584612  \n",
       "...                    ...                   ...                 ...  \n",
       "2005-05-01          393233                998622            2.539517  \n",
       "2005-04-01          345617                874251            2.529537  \n",
       "2005-03-01          308129                769780            2.498239  \n",
       "2005-02-01          275595                691753            2.510035  \n",
       "2005-01-01          237561                575948            2.424422  \n",
       "\n",
       "[205 rows x 9 columns]"
      ]
     },
     "execution_count": 1102,
     "metadata": {},
     "output_type": "execute_result"
    }
   ],
   "source": [
    "pastor_de_guiris(df_guiris, lista)"
   ]
  }
 ],
 "metadata": {
  "interpreter": {
   "hash": "ba1db81cc109b82b4f074f14705a6c6c4ac73c66313ff5962e6e84ea5725364a"
  },
  "kernelspec": {
   "display_name": "Python 3.8.8 ('base': conda)",
   "language": "python",
   "name": "python3"
  },
  "language_info": {
   "codemirror_mode": {
    "name": "ipython",
    "version": 3
   },
   "file_extension": ".py",
   "mimetype": "text/x-python",
   "name": "python",
   "nbconvert_exporter": "python",
   "pygments_lexer": "ipython3",
   "version": "3.9.7"
  },
  "orig_nbformat": 4
 },
 "nbformat": 4,
 "nbformat_minor": 2
}
