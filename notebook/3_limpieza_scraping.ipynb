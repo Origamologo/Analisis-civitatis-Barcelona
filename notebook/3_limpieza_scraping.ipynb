{
 "cells": [
  {
   "cell_type": "code",
   "execution_count": 2,
   "metadata": {},
   "outputs": [],
   "source": [
    "import re\n",
    "import pandas as pd\n",
    "sys.path.append('../')\n",
    "import src.limpieza as lmp"
   ]
  },
  {
   "cell_type": "code",
   "execution_count": 3,
   "metadata": {},
   "outputs": [],
   "source": [
    "pd.options.display.max_columns = None"
   ]
  },
  {
   "cell_type": "code",
   "execution_count": 4,
   "metadata": {},
   "outputs": [],
   "source": [
    "revius = open(\"output1.html\", \"r\", encoding='utf-8').readlines()"
   ]
  },
  {
   "cell_type": "code",
   "execution_count": 5,
   "metadata": {},
   "outputs": [],
   "source": [
    "corte = '\\ue9ce\\ue9ce\\ue9ce\\ue9ce\\ue9ce\\n'"
   ]
  },
  {
   "cell_type": "code",
   "execution_count": 6,
   "metadata": {},
   "outputs": [],
   "source": [
    "civitatis = [' '.join(str(i) for i in revius)]"
   ]
  },
  {
   "cell_type": "code",
   "execution_count": 7,
   "metadata": {},
   "outputs": [
    {
     "name": "stdout",
     "output_type": "stream",
     "text": [
      "1\n"
     ]
    }
   ],
   "source": [
    "print(len(civitatis))"
   ]
  },
  {
   "cell_type": "code",
   "execution_count": 8,
   "metadata": {},
   "outputs": [],
   "source": [
    "civitatis_ = civitatis[0].split(corte)"
   ]
  },
  {
   "cell_type": "code",
   "execution_count": 9,
   "metadata": {},
   "outputs": [],
   "source": [
    "civitatis_revius = [i for i in civitatis_[2::2]]"
   ]
  },
  {
   "cell_type": "code",
   "execution_count": 10,
   "metadata": {},
   "outputs": [],
   "source": [
    "civitatis_revius_limpio = [i.split('\\n') for i in civitatis_revius]"
   ]
  },
  {
   "cell_type": "code",
   "execution_count": 11,
   "metadata": {},
   "outputs": [
    {
     "name": "stdout",
     "output_type": "stream",
     "text": [
      "{4, 5, 6, 7, 8, 9, 10, 11, 12, 13}\n"
     ]
    }
   ],
   "source": [
    "longitud = [len(i) for i in civitatis_revius_limpio]\n",
    "long_ = set(longitud)\n",
    "print(long_)"
   ]
  },
  {
   "cell_type": "code",
   "execution_count": 12,
   "metadata": {},
   "outputs": [
    {
     "name": "stdout",
     "output_type": "stream",
     "text": [
      "[' 11 / Mar / 2022', ' A', ' Anónimo', ' ']\n",
      "[' 10 / Mar / 2022', ' D', ' Diana Cruz Torres', ' Toa Alta, Puerto Rico', ' ']\n",
      "[' 11 / Mar / 2022', ' A', ' Ainhoa', ' España', ' Viajó en pareja', ' ']\n",
      "[' 11 / Mar / 2022', ' A', ' Ana', ' Madrid, España', ' Victor es encantador, te explica todo al detalle y te resuelve todas las preguntas, volvería a repetir, me a encantado.', ' Viajó con hijos mayores', ' ']\n",
      "[' 11 / Mar / 2022', ' G', ' Graciela Arguelles', ' Guanajuato, Montenegro', ' Excelente recorrido ️️️️️', ' Opinión traducida. Mostrar en idioma original', ' Viajó con amigos', ' ']\n",
      "[' 08 / Mar / 2022', ' A', ' Anónimo', ' 16195 opiniones', ' Mostrando 37-48', ' primera anterior', ' Página 2 Página 3 Página 4 Página 5 Página 6', ' siguiente última', ' ']\n",
      "[' 10 / Feb / 2022', ' A', ' Anónimo', ' Viajó solo', ' 16195 opiniones', ' Mostrando 469-480', ' primera anterior', ' Página 38 Página 39 Página 40 Página 41 Página 42', ' siguiente última', ' ']\n",
      "[' 11 / Mar / 2022', ' M', ' María José Campillo Mateo', ' Murcia, España', ' Viajó en pareja', ' 16195 opiniones', ' Mostrando 1-12', ' primera anterior', ' Página 1 Página 2 Página 3 Página 4', ' siguiente última', ' ']\n",
      "[' 10 / Mar / 2022', ' G', ' Gonzalo', ' Madrid, España', ' La excursion fue magnifica y Monica una excelente guia. Muy contentos', ' Viajó en pareja', ' 16195 opiniones', ' Mostrando 13-24', ' primera anterior', ' Página 1 Página 2 Página 3 Página 4', ' siguiente última', ' ']\n",
      "[' 04 / Dic / 2021', ' P', ' Paula Alexandra', ' Aveiro, Portugal', ' Salvador es una muy buena guía, amigable y práctica. La visita fue excelente. Gracias. Hasta la próxima', ' Opinión traducida. Mostrar en idioma original', ' Viajó solo', ' 16195 opiniones', ' Mostrando 1549-1560', ' primera anterior', ' Página 128 Página 129 Página 130 Página 131 Página 132', ' siguiente última', ' ']\n"
     ]
    }
   ],
   "source": [
    "for i in range(0,14):\n",
    "    for a in civitatis_revius_limpio:\n",
    "        if len(a)==i:\n",
    "            print(a)\n",
    "            break"
   ]
  },
  {
   "cell_type": "code",
   "execution_count": 13,
   "metadata": {},
   "outputs": [],
   "source": [
    "civitatis_limpio_oi = lmp.pulir(civitatis_revius_limpio)\n",
    "civitatis_reluciente = lmp.quitar_respuestas(civitatis_limpio_oi)\n"
   ]
  },
  {
   "cell_type": "code",
   "execution_count": 14,
   "metadata": {},
   "outputs": [
    {
     "name": "stdout",
     "output_type": "stream",
     "text": [
      "{2, 3, 4, 5}\n"
     ]
    }
   ],
   "source": [
    "longitud = [len(i) for i in civitatis_reluciente]\n",
    "long_ = set(longitud)\n",
    "print(long_)"
   ]
  },
  {
   "cell_type": "code",
   "execution_count": 15,
   "metadata": {},
   "outputs": [
    {
     "data": {
      "text/plain": [
       "16231"
      ]
     },
     "execution_count": 15,
     "metadata": {},
     "output_type": "execute_result"
    }
   ],
   "source": [
    "len(civitatis_reluciente)"
   ]
  },
  {
   "cell_type": "code",
   "execution_count": 16,
   "metadata": {},
   "outputs": [],
   "source": [
    "dict_revius = lmp.dict_civitatis_completo(civitatis_reluciente)"
   ]
  },
  {
   "cell_type": "code",
   "execution_count": 17,
   "metadata": {},
   "outputs": [
    {
     "data": {
      "text/plain": [
       "True"
      ]
     },
     "execution_count": 17,
     "metadata": {},
     "output_type": "execute_result"
    }
   ],
   "source": [
    "len(dict_revius['fecha']) == len(dict_revius['nombre']) == len(dict_revius['procedencia']) == len(dict_revius['opinion']) == len(dict_revius['viajo_con'])"
   ]
  },
  {
   "cell_type": "code",
   "execution_count": 18,
   "metadata": {},
   "outputs": [],
   "source": [
    "df_civitatis = pd.DataFrame(dict_revius)"
   ]
  },
  {
   "cell_type": "code",
   "execution_count": 19,
   "metadata": {},
   "outputs": [
    {
     "data": {
      "text/html": [
       "<div>\n",
       "<style scoped>\n",
       "    .dataframe tbody tr th:only-of-type {\n",
       "        vertical-align: middle;\n",
       "    }\n",
       "\n",
       "    .dataframe tbody tr th {\n",
       "        vertical-align: top;\n",
       "    }\n",
       "\n",
       "    .dataframe thead th {\n",
       "        text-align: right;\n",
       "    }\n",
       "</style>\n",
       "<table border=\"1\" class=\"dataframe\">\n",
       "  <thead>\n",
       "    <tr style=\"text-align: right;\">\n",
       "      <th></th>\n",
       "      <th>fecha</th>\n",
       "      <th>nombre</th>\n",
       "      <th>procedencia</th>\n",
       "      <th>opinion</th>\n",
       "      <th>viajo_con</th>\n",
       "    </tr>\n",
       "  </thead>\n",
       "  <tbody>\n",
       "    <tr>\n",
       "      <th>0</th>\n",
       "      <td>11 / Mar / 2022</td>\n",
       "      <td>Ana</td>\n",
       "      <td>Madrid, España</td>\n",
       "      <td>Victor es encantador, te explica todo al deta...</td>\n",
       "      <td>Viajó con hijos mayores</td>\n",
       "    </tr>\n",
       "    <tr>\n",
       "      <th>1</th>\n",
       "      <td>11 / Mar / 2022</td>\n",
       "      <td>Montserrat</td>\n",
       "      <td>España</td>\n",
       "      <td>Casi 3 horas de tour pero Víctor, el guía que...</td>\n",
       "      <td>Viajó solo</td>\n",
       "    </tr>\n",
       "    <tr>\n",
       "      <th>2</th>\n",
       "      <td>11 / Mar / 2022</td>\n",
       "      <td>Ainhoa</td>\n",
       "      <td>España</td>\n",
       "      <td></td>\n",
       "      <td>Viajó en pareja</td>\n",
       "    </tr>\n",
       "    <tr>\n",
       "      <th>3</th>\n",
       "      <td>11 / Mar / 2022</td>\n",
       "      <td>Patricia Suárez Carrillo</td>\n",
       "      <td>Madrid, España</td>\n",
       "      <td>A mi pareja y a mi nos ha encantado! Nuestro ...</td>\n",
       "      <td>Viajó en pareja</td>\n",
       "    </tr>\n",
       "    <tr>\n",
       "      <th>4</th>\n",
       "      <td>11 / Mar / 2022</td>\n",
       "      <td>Anónimo</td>\n",
       "      <td></td>\n",
       "      <td></td>\n",
       "      <td></td>\n",
       "    </tr>\n",
       "  </tbody>\n",
       "</table>\n",
       "</div>"
      ],
      "text/plain": [
       "              fecha                     nombre      procedencia  \\\n",
       "0   11 / Mar / 2022                        Ana   Madrid, España   \n",
       "1   11 / Mar / 2022                 Montserrat           España   \n",
       "2   11 / Mar / 2022                     Ainhoa           España   \n",
       "3   11 / Mar / 2022   Patricia Suárez Carrillo   Madrid, España   \n",
       "4   11 / Mar / 2022                    Anónimo                    \n",
       "\n",
       "                                             opinion                 viajo_con  \n",
       "0   Victor es encantador, te explica todo al deta...   Viajó con hijos mayores  \n",
       "1   Casi 3 horas de tour pero Víctor, el guía que...                Viajó solo  \n",
       "2                                                              Viajó en pareja  \n",
       "3   A mi pareja y a mi nos ha encantado! Nuestro ...           Viajó en pareja  \n",
       "4                                                                               "
      ]
     },
     "execution_count": 19,
     "metadata": {},
     "output_type": "execute_result"
    }
   ],
   "source": [
    "df_civitatis.head(5)"
   ]
  },
  {
   "cell_type": "code",
   "execution_count": 20,
   "metadata": {},
   "outputs": [
    {
     "data": {
      "text/plain": [
       "(16231, 5)"
      ]
     },
     "execution_count": 20,
     "metadata": {},
     "output_type": "execute_result"
    }
   ],
   "source": [
    "df_civitatis.shape"
   ]
  },
  {
   "cell_type": "code",
   "execution_count": 21,
   "metadata": {},
   "outputs": [],
   "source": [
    "df_civitatis = lmp.values_sin_espacios(df_civitatis)"
   ]
  },
  {
   "cell_type": "code",
   "execution_count": 22,
   "metadata": {},
   "outputs": [
    {
     "data": {
      "text/plain": [
       "'11 / Mar / 2022'"
      ]
     },
     "execution_count": 22,
     "metadata": {},
     "output_type": "execute_result"
    }
   ],
   "source": [
    "df_civitatis.iloc[0,0]"
   ]
  },
  {
   "cell_type": "code",
   "execution_count": 23,
   "metadata": {},
   "outputs": [],
   "source": [
    "df_civitatis['fecha'] = df_civitatis['fecha'].str.replace(' / ', '-')"
   ]
  },
  {
   "cell_type": "code",
   "execution_count": 24,
   "metadata": {},
   "outputs": [],
   "source": [
    "df_civitatis['fecha'] = df_civitatis['fecha'].str.replace('Ene', '01')\n",
    "df_civitatis['fecha'] = df_civitatis['fecha'].str.replace('Feb', '02')\n",
    "df_civitatis['fecha'] = df_civitatis['fecha'].str.replace('Mar', '03')\n",
    "df_civitatis['fecha'] = df_civitatis['fecha'].str.replace('Abr', '04')\n",
    "df_civitatis['fecha'] = df_civitatis['fecha'].str.replace('May', '05')\n",
    "df_civitatis['fecha'] = df_civitatis['fecha'].str.replace('Jun', '06')\n",
    "df_civitatis['fecha'] = df_civitatis['fecha'].str.replace('Jul', '07')\n",
    "df_civitatis['fecha'] = df_civitatis['fecha'].str.replace('Ago', '08')\n",
    "df_civitatis['fecha'] = df_civitatis['fecha'].str.replace('Sep', '09')\n",
    "df_civitatis['fecha'] = df_civitatis['fecha'].str.replace('Oct', '10')\n",
    "df_civitatis['fecha'] = df_civitatis['fecha'].str.replace('Nov', '11')\n",
    "df_civitatis['fecha'] = df_civitatis['fecha'].str.replace('Dic', '12')"
   ]
  },
  {
   "cell_type": "code",
   "execution_count": 25,
   "metadata": {},
   "outputs": [
    {
     "data": {
      "text/plain": [
       "4690"
      ]
     },
     "execution_count": 25,
     "metadata": {},
     "output_type": "execute_result"
    }
   ],
   "source": [
    "df_civitatis.duplicated().sum()"
   ]
  },
  {
   "cell_type": "markdown",
   "metadata": {},
   "source": [
    "We can se that we have quite a lot of duplicates, actually around 29% of the rows seem to be replicated but, is this completely truth?"
   ]
  },
  {
   "cell_type": "code",
   "execution_count": 26,
   "metadata": {},
   "outputs": [
    {
     "data": {
      "text/html": [
       "<div>\n",
       "<style scoped>\n",
       "    .dataframe tbody tr th:only-of-type {\n",
       "        vertical-align: middle;\n",
       "    }\n",
       "\n",
       "    .dataframe tbody tr th {\n",
       "        vertical-align: top;\n",
       "    }\n",
       "\n",
       "    .dataframe thead th {\n",
       "        text-align: right;\n",
       "    }\n",
       "</style>\n",
       "<table border=\"1\" class=\"dataframe\">\n",
       "  <thead>\n",
       "    <tr style=\"text-align: right;\">\n",
       "      <th></th>\n",
       "      <th>fecha</th>\n",
       "      <th>nombre</th>\n",
       "      <th>procedencia</th>\n",
       "      <th>opinion</th>\n",
       "      <th>viajo_con</th>\n",
       "    </tr>\n",
       "  </thead>\n",
       "  <tbody>\n",
       "    <tr>\n",
       "      <th>12</th>\n",
       "      <td>11-03-2022</td>\n",
       "      <td>Ana</td>\n",
       "      <td>Madrid, España</td>\n",
       "      <td>Victor es encantador, te explica todo al detal...</td>\n",
       "      <td>Viajó con hijos mayores</td>\n",
       "    </tr>\n",
       "    <tr>\n",
       "      <th>13</th>\n",
       "      <td>11-03-2022</td>\n",
       "      <td>Montserrat</td>\n",
       "      <td>España</td>\n",
       "      <td>Casi 3 horas de tour pero Víctor, el guía que ...</td>\n",
       "      <td>Viajó solo</td>\n",
       "    </tr>\n",
       "    <tr>\n",
       "      <th>14</th>\n",
       "      <td>11-03-2022</td>\n",
       "      <td>Ainhoa</td>\n",
       "      <td>España</td>\n",
       "      <td></td>\n",
       "      <td>Viajó en pareja</td>\n",
       "    </tr>\n",
       "    <tr>\n",
       "      <th>15</th>\n",
       "      <td>11-03-2022</td>\n",
       "      <td>Patricia Suárez Carrillo</td>\n",
       "      <td>Madrid, España</td>\n",
       "      <td>A mi pareja y a mi nos ha encantado! Nuestro g...</td>\n",
       "      <td>Viajó en pareja</td>\n",
       "    </tr>\n",
       "    <tr>\n",
       "      <th>16</th>\n",
       "      <td>11-03-2022</td>\n",
       "      <td>Anónimo</td>\n",
       "      <td></td>\n",
       "      <td></td>\n",
       "      <td></td>\n",
       "    </tr>\n",
       "    <tr>\n",
       "      <th>...</th>\n",
       "      <td>...</td>\n",
       "      <td>...</td>\n",
       "      <td>...</td>\n",
       "      <td>...</td>\n",
       "      <td>...</td>\n",
       "    </tr>\n",
       "    <tr>\n",
       "      <th>16177</th>\n",
       "      <td>04-05-2019</td>\n",
       "      <td>Anónimo</td>\n",
       "      <td>España</td>\n",
       "      <td></td>\n",
       "      <td></td>\n",
       "    </tr>\n",
       "    <tr>\n",
       "      <th>16190</th>\n",
       "      <td>06-03-2019</td>\n",
       "      <td>Anónimo</td>\n",
       "      <td>España</td>\n",
       "      <td></td>\n",
       "      <td></td>\n",
       "    </tr>\n",
       "    <tr>\n",
       "      <th>16196</th>\n",
       "      <td>15-02-2019</td>\n",
       "      <td>Anónimo</td>\n",
       "      <td>España</td>\n",
       "      <td></td>\n",
       "      <td></td>\n",
       "    </tr>\n",
       "    <tr>\n",
       "      <th>16198</th>\n",
       "      <td>08-02-2019</td>\n",
       "      <td>Anónimo</td>\n",
       "      <td>España</td>\n",
       "      <td></td>\n",
       "      <td></td>\n",
       "    </tr>\n",
       "    <tr>\n",
       "      <th>16221</th>\n",
       "      <td>14-10-2018</td>\n",
       "      <td>Anónimo</td>\n",
       "      <td>España</td>\n",
       "      <td></td>\n",
       "      <td></td>\n",
       "    </tr>\n",
       "  </tbody>\n",
       "</table>\n",
       "<p>4690 rows × 5 columns</p>\n",
       "</div>"
      ],
      "text/plain": [
       "            fecha                    nombre     procedencia  \\\n",
       "12     11-03-2022                       Ana  Madrid, España   \n",
       "13     11-03-2022                Montserrat          España   \n",
       "14     11-03-2022                    Ainhoa          España   \n",
       "15     11-03-2022  Patricia Suárez Carrillo  Madrid, España   \n",
       "16     11-03-2022                   Anónimo                   \n",
       "...           ...                       ...             ...   \n",
       "16177  04-05-2019                   Anónimo          España   \n",
       "16190  06-03-2019                   Anónimo          España   \n",
       "16196  15-02-2019                   Anónimo          España   \n",
       "16198  08-02-2019                   Anónimo          España   \n",
       "16221  14-10-2018                   Anónimo          España   \n",
       "\n",
       "                                                 opinion  \\\n",
       "12     Victor es encantador, te explica todo al detal...   \n",
       "13     Casi 3 horas de tour pero Víctor, el guía que ...   \n",
       "14                                                         \n",
       "15     A mi pareja y a mi nos ha encantado! Nuestro g...   \n",
       "16                                                         \n",
       "...                                                  ...   \n",
       "16177                                                      \n",
       "16190                                                      \n",
       "16196                                                      \n",
       "16198                                                      \n",
       "16221                                                      \n",
       "\n",
       "                     viajo_con  \n",
       "12     Viajó con hijos mayores  \n",
       "13                  Viajó solo  \n",
       "14             Viajó en pareja  \n",
       "15             Viajó en pareja  \n",
       "16                              \n",
       "...                        ...  \n",
       "16177                           \n",
       "16190                           \n",
       "16196                           \n",
       "16198                           \n",
       "16221                           \n",
       "\n",
       "[4690 rows x 5 columns]"
      ]
     },
     "execution_count": 26,
     "metadata": {},
     "output_type": "execute_result"
    }
   ],
   "source": [
    "df_civitatis[df_civitatis.duplicated() == True]"
   ]
  },
  {
   "cell_type": "code",
   "execution_count": 27,
   "metadata": {},
   "outputs": [
    {
     "data": {
      "text/plain": [
       "'Casi 3 horas de tour pero Víctor, el guía que nos ha acompañado ha sido un encanto. Hemos andado muchísimo pero ha merecido la pena porque se nota que le gusta mucho su trabajo y se ha hecho muy ameno y emocionante. Sin duda un tour 100% recomendado con este guía. Gracias por hacernos pasar una mañana increíble.'"
      ]
     },
     "execution_count": 27,
     "metadata": {},
     "output_type": "execute_result"
    }
   ],
   "source": [
    "df_civitatis.iloc[13,3]"
   ]
  },
  {
   "cell_type": "code",
   "execution_count": 28,
   "metadata": {},
   "outputs": [
    {
     "data": {
      "text/html": [
       "<div>\n",
       "<style scoped>\n",
       "    .dataframe tbody tr th:only-of-type {\n",
       "        vertical-align: middle;\n",
       "    }\n",
       "\n",
       "    .dataframe tbody tr th {\n",
       "        vertical-align: top;\n",
       "    }\n",
       "\n",
       "    .dataframe thead th {\n",
       "        text-align: right;\n",
       "    }\n",
       "</style>\n",
       "<table border=\"1\" class=\"dataframe\">\n",
       "  <thead>\n",
       "    <tr style=\"text-align: right;\">\n",
       "      <th></th>\n",
       "      <th>fecha</th>\n",
       "      <th>nombre</th>\n",
       "      <th>procedencia</th>\n",
       "      <th>opinion</th>\n",
       "      <th>viajo_con</th>\n",
       "    </tr>\n",
       "  </thead>\n",
       "  <tbody>\n",
       "    <tr>\n",
       "      <th>1</th>\n",
       "      <td>11-03-2022</td>\n",
       "      <td>Montserrat</td>\n",
       "      <td>España</td>\n",
       "      <td>Casi 3 horas de tour pero Víctor, el guía que ...</td>\n",
       "      <td>Viajó solo</td>\n",
       "    </tr>\n",
       "    <tr>\n",
       "      <th>13</th>\n",
       "      <td>11-03-2022</td>\n",
       "      <td>Montserrat</td>\n",
       "      <td>España</td>\n",
       "      <td>Casi 3 horas de tour pero Víctor, el guía que ...</td>\n",
       "      <td>Viajó solo</td>\n",
       "    </tr>\n",
       "    <tr>\n",
       "      <th>37</th>\n",
       "      <td>11-03-2022</td>\n",
       "      <td>Montserrat</td>\n",
       "      <td>España</td>\n",
       "      <td>Casi 3 horas de tour pero Víctor, el guía que ...</td>\n",
       "      <td>Viajó solo</td>\n",
       "    </tr>\n",
       "  </tbody>\n",
       "</table>\n",
       "</div>"
      ],
      "text/plain": [
       "         fecha      nombre procedencia  \\\n",
       "1   11-03-2022  Montserrat      España   \n",
       "13  11-03-2022  Montserrat      España   \n",
       "37  11-03-2022  Montserrat      España   \n",
       "\n",
       "                                              opinion   viajo_con  \n",
       "1   Casi 3 horas de tour pero Víctor, el guía que ...  Viajó solo  \n",
       "13  Casi 3 horas de tour pero Víctor, el guía que ...  Viajó solo  \n",
       "37  Casi 3 horas de tour pero Víctor, el guía que ...  Viajó solo  "
      ]
     },
     "execution_count": 28,
     "metadata": {},
     "output_type": "execute_result"
    }
   ],
   "source": [
    "df_civitatis[df_civitatis['opinion'] == 'Casi 3 horas de tour pero Víctor, el guía que nos ha acompañado ha sido un encanto. Hemos andado muchísimo pero ha merecido la pena porque se nota que le gusta mucho su trabajo y se ha hecho muy ameno y emocionante. Sin duda un tour 100% recomendado con este guía. Gracias por hacernos pasar una mañana increíble.']\n"
   ]
  },
  {
   "cell_type": "markdown",
   "metadata": {},
   "source": [
    "We can be absolutely sure that the we have doubled values only if we check the column 'opinion', as it's the only one unrepeatable. On the other hand, we can easely have several people from Spain doing a tour the same day who wouldn't leave their names, so all of them will appear as 'Anonimo' and 'España' with the other columns in blank, and pandas will take them as duplicates while they actually were different clients.\n",
    "So let's analize this in two different data frames. First let's take the revius with the 'opinion' column filled."
   ]
  },
  {
   "cell_type": "code",
   "execution_count": 29,
   "metadata": {},
   "outputs": [],
   "source": [
    "dict_revius_5 = lmp.dict_civitatis_5(civitatis_reluciente)"
   ]
  },
  {
   "cell_type": "code",
   "execution_count": 32,
   "metadata": {},
   "outputs": [],
   "source": [
    "df_civitatis_5 = pd.DataFrame(dict_revius_5)"
   ]
  },
  {
   "cell_type": "code",
   "execution_count": 38,
   "metadata": {},
   "outputs": [
    {
     "data": {
      "text/plain": [
       "(8953, 5)"
      ]
     },
     "execution_count": 38,
     "metadata": {},
     "output_type": "execute_result"
    }
   ],
   "source": [
    "df_civitatis_5.shape"
   ]
  },
  {
   "cell_type": "code",
   "execution_count": 36,
   "metadata": {},
   "outputs": [
    {
     "data": {
      "text/html": [
       "<div>\n",
       "<style scoped>\n",
       "    .dataframe tbody tr th:only-of-type {\n",
       "        vertical-align: middle;\n",
       "    }\n",
       "\n",
       "    .dataframe tbody tr th {\n",
       "        vertical-align: top;\n",
       "    }\n",
       "\n",
       "    .dataframe thead th {\n",
       "        text-align: right;\n",
       "    }\n",
       "</style>\n",
       "<table border=\"1\" class=\"dataframe\">\n",
       "  <thead>\n",
       "    <tr style=\"text-align: right;\">\n",
       "      <th></th>\n",
       "      <th>fecha</th>\n",
       "      <th>nombre</th>\n",
       "      <th>procedencia</th>\n",
       "      <th>opinion</th>\n",
       "      <th>viajo_con</th>\n",
       "    </tr>\n",
       "  </thead>\n",
       "  <tbody>\n",
       "    <tr>\n",
       "      <th>0</th>\n",
       "      <td>11 / Mar / 2022</td>\n",
       "      <td>Ana</td>\n",
       "      <td>Madrid, España</td>\n",
       "      <td>Victor es encantador, te explica todo al deta...</td>\n",
       "      <td>Viajó con hijos mayores</td>\n",
       "    </tr>\n",
       "    <tr>\n",
       "      <th>1</th>\n",
       "      <td>11 / Mar / 2022</td>\n",
       "      <td>Montserrat</td>\n",
       "      <td>España</td>\n",
       "      <td>Casi 3 horas de tour pero Víctor, el guía que...</td>\n",
       "      <td>Viajó solo</td>\n",
       "    </tr>\n",
       "    <tr>\n",
       "      <th>2</th>\n",
       "      <td>11 / Mar / 2022</td>\n",
       "      <td>Patricia Suárez Carrillo</td>\n",
       "      <td>Madrid, España</td>\n",
       "      <td>A mi pareja y a mi nos ha encantado! Nuestro ...</td>\n",
       "      <td>Viajó en pareja</td>\n",
       "    </tr>\n",
       "    <tr>\n",
       "      <th>3</th>\n",
       "      <td>11 / Mar / 2022</td>\n",
       "      <td>Saray</td>\n",
       "      <td>Alicante, España</td>\n",
       "      <td>El guia del tour, Ponce, Genial.</td>\n",
       "      <td>Viajó con amigos</td>\n",
       "    </tr>\n",
       "    <tr>\n",
       "      <th>4</th>\n",
       "      <td>11 / Mar / 2022</td>\n",
       "      <td>Tania Carrera Garcia</td>\n",
       "      <td>España</td>\n",
       "      <td>Mónica ha sido una guía genial, nos ha explic...</td>\n",
       "      <td>Viajó con amigos</td>\n",
       "    </tr>\n",
       "  </tbody>\n",
       "</table>\n",
       "</div>"
      ],
      "text/plain": [
       "              fecha                     nombre        procedencia  \\\n",
       "0   11 / Mar / 2022                        Ana     Madrid, España   \n",
       "1   11 / Mar / 2022                 Montserrat             España   \n",
       "2   11 / Mar / 2022   Patricia Suárez Carrillo     Madrid, España   \n",
       "3   11 / Mar / 2022                      Saray   Alicante, España   \n",
       "4   11 / Mar / 2022       Tania Carrera Garcia             España   \n",
       "\n",
       "                                             opinion                 viajo_con  \n",
       "0   Victor es encantador, te explica todo al deta...   Viajó con hijos mayores  \n",
       "1   Casi 3 horas de tour pero Víctor, el guía que...                Viajó solo  \n",
       "2   A mi pareja y a mi nos ha encantado! Nuestro ...           Viajó en pareja  \n",
       "3                   El guia del tour, Ponce, Genial.          Viajó con amigos  \n",
       "4   Mónica ha sido una guía genial, nos ha explic...          Viajó con amigos  "
      ]
     },
     "execution_count": 36,
     "metadata": {},
     "output_type": "execute_result"
    }
   ],
   "source": [
    "df_civitatis_5.head(5)"
   ]
  },
  {
   "cell_type": "code",
   "execution_count": 37,
   "metadata": {},
   "outputs": [
    {
     "data": {
      "text/plain": [
       "2114"
      ]
     },
     "execution_count": 37,
     "metadata": {},
     "output_type": "execute_result"
    }
   ],
   "source": [
    "df_civitatis_5.duplicated().sum()"
   ]
  },
  {
   "cell_type": "code",
   "execution_count": 39,
   "metadata": {},
   "outputs": [
    {
     "data": {
      "text/html": [
       "<div>\n",
       "<style scoped>\n",
       "    .dataframe tbody tr th:only-of-type {\n",
       "        vertical-align: middle;\n",
       "    }\n",
       "\n",
       "    .dataframe tbody tr th {\n",
       "        vertical-align: top;\n",
       "    }\n",
       "\n",
       "    .dataframe thead th {\n",
       "        text-align: right;\n",
       "    }\n",
       "</style>\n",
       "<table border=\"1\" class=\"dataframe\">\n",
       "  <thead>\n",
       "    <tr style=\"text-align: right;\">\n",
       "      <th></th>\n",
       "      <th>fecha</th>\n",
       "      <th>nombre</th>\n",
       "      <th>procedencia</th>\n",
       "      <th>opinion</th>\n",
       "      <th>viajo_con</th>\n",
       "    </tr>\n",
       "  </thead>\n",
       "  <tbody>\n",
       "    <tr>\n",
       "      <th>9</th>\n",
       "      <td>11 / Mar / 2022</td>\n",
       "      <td>Ana</td>\n",
       "      <td>Madrid, España</td>\n",
       "      <td>Victor es encantador, te explica todo al deta...</td>\n",
       "      <td>Viajó con hijos mayores</td>\n",
       "    </tr>\n",
       "    <tr>\n",
       "      <th>10</th>\n",
       "      <td>11 / Mar / 2022</td>\n",
       "      <td>Montserrat</td>\n",
       "      <td>España</td>\n",
       "      <td>Casi 3 horas de tour pero Víctor, el guía que...</td>\n",
       "      <td>Viajó solo</td>\n",
       "    </tr>\n",
       "    <tr>\n",
       "      <th>11</th>\n",
       "      <td>11 / Mar / 2022</td>\n",
       "      <td>Patricia Suárez Carrillo</td>\n",
       "      <td>Madrid, España</td>\n",
       "      <td>A mi pareja y a mi nos ha encantado! Nuestro ...</td>\n",
       "      <td>Viajó en pareja</td>\n",
       "    </tr>\n",
       "    <tr>\n",
       "      <th>12</th>\n",
       "      <td>11 / Mar / 2022</td>\n",
       "      <td>Saray</td>\n",
       "      <td>Alicante, España</td>\n",
       "      <td>El guia del tour, Ponce, Genial.</td>\n",
       "      <td>Viajó con amigos</td>\n",
       "    </tr>\n",
       "    <tr>\n",
       "      <th>13</th>\n",
       "      <td>11 / Mar / 2022</td>\n",
       "      <td>Tania Carrera Garcia</td>\n",
       "      <td>España</td>\n",
       "      <td>Mónica ha sido una guía genial, nos ha explic...</td>\n",
       "      <td>Viajó con amigos</td>\n",
       "    </tr>\n",
       "    <tr>\n",
       "      <th>...</th>\n",
       "      <td>...</td>\n",
       "      <td>...</td>\n",
       "      <td>...</td>\n",
       "      <td>...</td>\n",
       "      <td>...</td>\n",
       "    </tr>\n",
       "    <tr>\n",
       "      <th>8836</th>\n",
       "      <td>15 / Jun / 2017</td>\n",
       "      <td>Pablo</td>\n",
       "      <td>Buenos Aires, Argentina</td>\n",
       "      <td>Excelente paseo y pablo nuestro guia fantastico</td>\n",
       "      <td>Viajó en pareja</td>\n",
       "    </tr>\n",
       "    <tr>\n",
       "      <th>8837</th>\n",
       "      <td>15 / Jun / 2017</td>\n",
       "      <td>Sofia Hernandez</td>\n",
       "      <td>Guatemala, Guatemala</td>\n",
       "      <td>Me gusto mucho, amable y dispuesto a contesta...</td>\n",
       "      <td>Viajó en pareja</td>\n",
       "    </tr>\n",
       "    <tr>\n",
       "      <th>8838</th>\n",
       "      <td>15 / Jun / 2017</td>\n",
       "      <td>Luis</td>\n",
       "      <td>Madrid, España</td>\n",
       "      <td>Una guía agradable de unas dos horas en las q...</td>\n",
       "      <td>Viajó con hijos mayores</td>\n",
       "    </tr>\n",
       "    <tr>\n",
       "      <th>8839</th>\n",
       "      <td>11 / Jun / 2017</td>\n",
       "      <td>Maria</td>\n",
       "      <td>Madrid, España</td>\n",
       "      <td>Nos ha encantado, muy amena y Pablo el guía s...</td>\n",
       "      <td>Viajó en pareja</td>\n",
       "    </tr>\n",
       "    <tr>\n",
       "      <th>8866</th>\n",
       "      <td>25 / Sep / 2021</td>\n",
       "      <td>Rita Cantante</td>\n",
       "      <td>Porto, Portugal</td>\n",
       "      <td>Muy interactivo, muy divertido. ¡Alex sabía m...</td>\n",
       "      <td>Viajó en pareja</td>\n",
       "    </tr>\n",
       "  </tbody>\n",
       "</table>\n",
       "<p>2114 rows × 5 columns</p>\n",
       "</div>"
      ],
      "text/plain": [
       "                 fecha                     nombre               procedencia  \\\n",
       "9      11 / Mar / 2022                        Ana            Madrid, España   \n",
       "10     11 / Mar / 2022                 Montserrat                    España   \n",
       "11     11 / Mar / 2022   Patricia Suárez Carrillo            Madrid, España   \n",
       "12     11 / Mar / 2022                      Saray          Alicante, España   \n",
       "13     11 / Mar / 2022       Tania Carrera Garcia                    España   \n",
       "...                ...                        ...                       ...   \n",
       "8836   15 / Jun / 2017                      Pablo   Buenos Aires, Argentina   \n",
       "8837   15 / Jun / 2017            Sofia Hernandez      Guatemala, Guatemala   \n",
       "8838   15 / Jun / 2017                       Luis            Madrid, España   \n",
       "8839   11 / Jun / 2017                      Maria            Madrid, España   \n",
       "8866   25 / Sep / 2021              Rita Cantante           Porto, Portugal   \n",
       "\n",
       "                                                opinion  \\\n",
       "9      Victor es encantador, te explica todo al deta...   \n",
       "10     Casi 3 horas de tour pero Víctor, el guía que...   \n",
       "11     A mi pareja y a mi nos ha encantado! Nuestro ...   \n",
       "12                     El guia del tour, Ponce, Genial.   \n",
       "13     Mónica ha sido una guía genial, nos ha explic...   \n",
       "...                                                 ...   \n",
       "8836    Excelente paseo y pablo nuestro guia fantastico   \n",
       "8837   Me gusto mucho, amable y dispuesto a contesta...   \n",
       "8838   Una guía agradable de unas dos horas en las q...   \n",
       "8839   Nos ha encantado, muy amena y Pablo el guía s...   \n",
       "8866   Muy interactivo, muy divertido. ¡Alex sabía m...   \n",
       "\n",
       "                     viajo_con  \n",
       "9      Viajó con hijos mayores  \n",
       "10                  Viajó solo  \n",
       "11             Viajó en pareja  \n",
       "12            Viajó con amigos  \n",
       "13            Viajó con amigos  \n",
       "...                        ...  \n",
       "8836           Viajó en pareja  \n",
       "8837           Viajó en pareja  \n",
       "8838   Viajó con hijos mayores  \n",
       "8839           Viajó en pareja  \n",
       "8866           Viajó en pareja  \n",
       "\n",
       "[2114 rows x 5 columns]"
      ]
     },
     "execution_count": 39,
     "metadata": {},
     "output_type": "execute_result"
    }
   ],
   "source": [
    "df_civitatis_5[df_civitatis_5.duplicated() == True]"
   ]
  },
  {
   "cell_type": "code",
   "execution_count": 40,
   "metadata": {},
   "outputs": [
    {
     "data": {
      "text/plain": [
       "' Victor es encantador, te explica todo al detalle y te resuelve todas las preguntas, volvería a repetir, me a encantado.'"
      ]
     },
     "execution_count": 40,
     "metadata": {},
     "output_type": "execute_result"
    }
   ],
   "source": [
    "df_civitatis_5.iloc[0, 3]"
   ]
  },
  {
   "cell_type": "code",
   "execution_count": 41,
   "metadata": {},
   "outputs": [
    {
     "data": {
      "text/html": [
       "<div>\n",
       "<style scoped>\n",
       "    .dataframe tbody tr th:only-of-type {\n",
       "        vertical-align: middle;\n",
       "    }\n",
       "\n",
       "    .dataframe tbody tr th {\n",
       "        vertical-align: top;\n",
       "    }\n",
       "\n",
       "    .dataframe thead th {\n",
       "        text-align: right;\n",
       "    }\n",
       "</style>\n",
       "<table border=\"1\" class=\"dataframe\">\n",
       "  <thead>\n",
       "    <tr style=\"text-align: right;\">\n",
       "      <th></th>\n",
       "      <th>fecha</th>\n",
       "      <th>nombre</th>\n",
       "      <th>procedencia</th>\n",
       "      <th>opinion</th>\n",
       "      <th>viajo_con</th>\n",
       "    </tr>\n",
       "  </thead>\n",
       "  <tbody>\n",
       "    <tr>\n",
       "      <th>0</th>\n",
       "      <td>11 / Mar / 2022</td>\n",
       "      <td>Ana</td>\n",
       "      <td>Madrid, España</td>\n",
       "      <td>Victor es encantador, te explica todo al deta...</td>\n",
       "      <td>Viajó con hijos mayores</td>\n",
       "    </tr>\n",
       "    <tr>\n",
       "      <th>9</th>\n",
       "      <td>11 / Mar / 2022</td>\n",
       "      <td>Ana</td>\n",
       "      <td>Madrid, España</td>\n",
       "      <td>Victor es encantador, te explica todo al deta...</td>\n",
       "      <td>Viajó con hijos mayores</td>\n",
       "    </tr>\n",
       "    <tr>\n",
       "      <th>26</th>\n",
       "      <td>11 / Mar / 2022</td>\n",
       "      <td>Ana</td>\n",
       "      <td>Madrid, España</td>\n",
       "      <td>Victor es encantador, te explica todo al deta...</td>\n",
       "      <td>Viajó con hijos mayores</td>\n",
       "    </tr>\n",
       "  </tbody>\n",
       "</table>\n",
       "</div>"
      ],
      "text/plain": [
       "               fecha nombre      procedencia  \\\n",
       "0    11 / Mar / 2022    Ana   Madrid, España   \n",
       "9    11 / Mar / 2022    Ana   Madrid, España   \n",
       "26   11 / Mar / 2022    Ana   Madrid, España   \n",
       "\n",
       "                                              opinion  \\\n",
       "0    Victor es encantador, te explica todo al deta...   \n",
       "9    Victor es encantador, te explica todo al deta...   \n",
       "26   Victor es encantador, te explica todo al deta...   \n",
       "\n",
       "                   viajo_con  \n",
       "0    Viajó con hijos mayores  \n",
       "9    Viajó con hijos mayores  \n",
       "26   Viajó con hijos mayores  "
      ]
     },
     "execution_count": 41,
     "metadata": {},
     "output_type": "execute_result"
    }
   ],
   "source": [
    "df_civitatis_5[df_civitatis_5['opinion'] == ' Victor es encantador, te explica todo al detalle y te resuelve todas las preguntas, volvería a repetir, me a encantado.']"
   ]
  },
  {
   "cell_type": "markdown",
   "metadata": {},
   "source": [
    "And here we can see that that some reviews are repeated up to three times... \n",
    "Anyway, from the total number of rows, 8953, this means that 23,6% of them are duplicated, a value significantly lower than the 29% we got for whole data frame.\n",
    "Now let's drop the duplicates in this one and then we will work with the reviews that don't have the 'opinion' column filled."
   ]
  },
  {
   "cell_type": "code",
   "execution_count": 42,
   "metadata": {},
   "outputs": [
    {
     "data": {
      "text/plain": [
       "0"
      ]
     },
     "execution_count": 42,
     "metadata": {},
     "output_type": "execute_result"
    }
   ],
   "source": [
    "df_civitatis_5 = df_civitatis_5.drop_duplicates()\n",
    "df_civitatis_5.duplicated().sum()"
   ]
  },
  {
   "cell_type": "code",
   "execution_count": 43,
   "metadata": {},
   "outputs": [
    {
     "data": {
      "text/html": [
       "<div>\n",
       "<style scoped>\n",
       "    .dataframe tbody tr th:only-of-type {\n",
       "        vertical-align: middle;\n",
       "    }\n",
       "\n",
       "    .dataframe tbody tr th {\n",
       "        vertical-align: top;\n",
       "    }\n",
       "\n",
       "    .dataframe thead th {\n",
       "        text-align: right;\n",
       "    }\n",
       "</style>\n",
       "<table border=\"1\" class=\"dataframe\">\n",
       "  <thead>\n",
       "    <tr style=\"text-align: right;\">\n",
       "      <th></th>\n",
       "      <th>fecha</th>\n",
       "      <th>nombre</th>\n",
       "      <th>procedencia</th>\n",
       "      <th>opinion</th>\n",
       "      <th>viajo_con</th>\n",
       "    </tr>\n",
       "  </thead>\n",
       "  <tbody>\n",
       "    <tr>\n",
       "      <th>0</th>\n",
       "      <td>11 / Mar / 2022</td>\n",
       "      <td>Ana</td>\n",
       "      <td>Madrid, España</td>\n",
       "      <td>Victor es encantador, te explica todo al deta...</td>\n",
       "      <td>Viajó con hijos mayores</td>\n",
       "    </tr>\n",
       "  </tbody>\n",
       "</table>\n",
       "</div>"
      ],
      "text/plain": [
       "              fecha nombre      procedencia  \\\n",
       "0   11 / Mar / 2022    Ana   Madrid, España   \n",
       "\n",
       "                                             opinion                 viajo_con  \n",
       "0   Victor es encantador, te explica todo al deta...   Viajó con hijos mayores  "
      ]
     },
     "execution_count": 43,
     "metadata": {},
     "output_type": "execute_result"
    }
   ],
   "source": [
    "df_civitatis_5[df_civitatis_5['opinion'] == ' Victor es encantador, te explica todo al detalle y te resuelve todas las preguntas, volvería a repetir, me a encantado.']"
   ]
  },
  {
   "cell_type": "code",
   "execution_count": null,
   "metadata": {},
   "outputs": [],
   "source": []
  },
  {
   "cell_type": "code",
   "execution_count": 31,
   "metadata": {},
   "outputs": [
    {
     "ename": "NameError",
     "evalue": "name 'df_civitatis_' is not defined",
     "output_type": "error",
     "traceback": [
      "\u001b[1;31m---------------------------------------------------------------------------\u001b[0m",
      "\u001b[1;31mNameError\u001b[0m                                 Traceback (most recent call last)",
      "\u001b[1;32m~\\AppData\\Local\\Temp/ipykernel_15824/1429458998.py\u001b[0m in \u001b[0;36m<module>\u001b[1;34m\u001b[0m\n\u001b[1;32m----> 1\u001b[1;33m \u001b[0mdf_civitatis_\u001b[0m\u001b[1;33m.\u001b[0m\u001b[0mduplicated\u001b[0m\u001b[1;33m(\u001b[0m\u001b[1;33m)\u001b[0m\u001b[1;33m.\u001b[0m\u001b[0msum\u001b[0m\u001b[1;33m(\u001b[0m\u001b[1;33m)\u001b[0m\u001b[1;33m\u001b[0m\u001b[1;33m\u001b[0m\u001b[0m\n\u001b[0m",
      "\u001b[1;31mNameError\u001b[0m: name 'df_civitatis_' is not defined"
     ]
    }
   ],
   "source": [
    "df_civitatis_.duplicated().sum()"
   ]
  },
  {
   "cell_type": "code",
   "execution_count": null,
   "metadata": {},
   "outputs": [
    {
     "data": {
      "text/plain": [
       "(11541, 5)"
      ]
     },
     "execution_count": 31,
     "metadata": {},
     "output_type": "execute_result"
    }
   ],
   "source": [
    "df_civitatis_.shape"
   ]
  },
  {
   "cell_type": "code",
   "execution_count": null,
   "metadata": {},
   "outputs": [],
   "source": [
    "df_civitatis['fecha'] = pd.to_datetime(df_civitatis['fecha'], format='%d-%m-%Y')"
   ]
  },
  {
   "cell_type": "code",
   "execution_count": null,
   "metadata": {},
   "outputs": [
    {
     "data": {
      "text/plain": [
       "2022"
      ]
     },
     "execution_count": 48,
     "metadata": {},
     "output_type": "execute_result"
    }
   ],
   "source": [
    "df_civitatis['fecha'][0].year"
   ]
  }
 ],
 "metadata": {
  "interpreter": {
   "hash": "ba1db81cc109b82b4f074f14705a6c6c4ac73c66313ff5962e6e84ea5725364a"
  },
  "kernelspec": {
   "display_name": "Python 3.8.8 ('base': conda)",
   "language": "python",
   "name": "python3"
  },
  "language_info": {
   "codemirror_mode": {
    "name": "ipython",
    "version": 3
   },
   "file_extension": ".py",
   "mimetype": "text/x-python",
   "name": "python",
   "nbconvert_exporter": "python",
   "pygments_lexer": "ipython3",
   "version": "3.9.7"
  },
  "orig_nbformat": 4
 },
 "nbformat": 4,
 "nbformat_minor": 2
}
