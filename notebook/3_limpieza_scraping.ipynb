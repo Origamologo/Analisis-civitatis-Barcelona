{
 "cells": [
  {
   "cell_type": "code",
   "execution_count": 313,
   "metadata": {},
   "outputs": [],
   "source": [
    "import re\n",
    "import pandas as pd\n",
    "sys.path.append('../')\n",
    "import src.limpieza as lmp\n",
    "import numpy as np"
   ]
  },
  {
   "cell_type": "code",
   "execution_count": 314,
   "metadata": {},
   "outputs": [],
   "source": [
    "pd.options.display.max_columns = None"
   ]
  },
  {
   "cell_type": "code",
   "execution_count": 315,
   "metadata": {},
   "outputs": [],
   "source": [
    "revius = open(\"output1.html\", \"r\", encoding='utf-8').readlines()"
   ]
  },
  {
   "cell_type": "code",
   "execution_count": 316,
   "metadata": {},
   "outputs": [],
   "source": [
    "civitatis = [' '.join(str(i) for i in revius)]"
   ]
  },
  {
   "cell_type": "code",
   "execution_count": 317,
   "metadata": {},
   "outputs": [
    {
     "name": "stdout",
     "output_type": "stream",
     "text": [
      "1\n"
     ]
    }
   ],
   "source": [
    "print(len(civitatis))"
   ]
  },
  {
   "cell_type": "code",
   "execution_count": 318,
   "metadata": {},
   "outputs": [],
   "source": [
    "corte = '\\ue9ce\\ue9ce\\ue9ce\\ue9ce\\ue9ce\\n'\n",
    "civitatis_ = civitatis[0].split(corte)"
   ]
  },
  {
   "cell_type": "code",
   "execution_count": 319,
   "metadata": {},
   "outputs": [],
   "source": [
    "civitatis_revius = [i for i in civitatis_[2::2]]"
   ]
  },
  {
   "cell_type": "code",
   "execution_count": 320,
   "metadata": {},
   "outputs": [],
   "source": [
    "civitatis_revius_limpio = [i.split('\\n') for i in civitatis_revius]"
   ]
  },
  {
   "cell_type": "code",
   "execution_count": 321,
   "metadata": {},
   "outputs": [
    {
     "name": "stdout",
     "output_type": "stream",
     "text": [
      "{4, 5, 6, 7, 8, 9, 10, 11, 12, 13}\n"
     ]
    }
   ],
   "source": [
    "longitud = [len(i) for i in civitatis_revius_limpio]\n",
    "long_ = set(longitud)\n",
    "print(long_)"
   ]
  },
  {
   "cell_type": "code",
   "execution_count": 322,
   "metadata": {},
   "outputs": [
    {
     "name": "stdout",
     "output_type": "stream",
     "text": [
      "[' 11 / Mar / 2022', ' A', ' Anónimo', ' ']\n",
      "[' 10 / Mar / 2022', ' D', ' Diana Cruz Torres', ' Toa Alta, Puerto Rico', ' ']\n",
      "[' 11 / Mar / 2022', ' A', ' Ainhoa', ' España', ' Viajó en pareja', ' ']\n",
      "[' 11 / Mar / 2022', ' A', ' Ana', ' Madrid, España', ' Victor es encantador, te explica todo al detalle y te resuelve todas las preguntas, volvería a repetir, me a encantado.', ' Viajó con hijos mayores', ' ']\n",
      "[' 11 / Mar / 2022', ' G', ' Graciela Arguelles', ' Guanajuato, Montenegro', ' Excelente recorrido ️️️️️', ' Opinión traducida. Mostrar en idioma original', ' Viajó con amigos', ' ']\n",
      "[' 08 / Mar / 2022', ' A', ' Anónimo', ' 16195 opiniones', ' Mostrando 37-48', ' primera anterior', ' Página 2 Página 3 Página 4 Página 5 Página 6', ' siguiente última', ' ']\n",
      "[' 10 / Feb / 2022', ' A', ' Anónimo', ' Viajó solo', ' 16195 opiniones', ' Mostrando 469-480', ' primera anterior', ' Página 38 Página 39 Página 40 Página 41 Página 42', ' siguiente última', ' ']\n",
      "[' 11 / Mar / 2022', ' M', ' María José Campillo Mateo', ' Murcia, España', ' Viajó en pareja', ' 16195 opiniones', ' Mostrando 1-12', ' primera anterior', ' Página 1 Página 2 Página 3 Página 4', ' siguiente última', ' ']\n",
      "[' 10 / Mar / 2022', ' G', ' Gonzalo', ' Madrid, España', ' La excursion fue magnifica y Monica una excelente guia. Muy contentos', ' Viajó en pareja', ' 16195 opiniones', ' Mostrando 13-24', ' primera anterior', ' Página 1 Página 2 Página 3 Página 4', ' siguiente última', ' ']\n",
      "[' 04 / Dic / 2021', ' P', ' Paula Alexandra', ' Aveiro, Portugal', ' Salvador es una muy buena guía, amigable y práctica. La visita fue excelente. Gracias. Hasta la próxima', ' Opinión traducida. Mostrar en idioma original', ' Viajó solo', ' 16195 opiniones', ' Mostrando 1549-1560', ' primera anterior', ' Página 128 Página 129 Página 130 Página 131 Página 132', ' siguiente última', ' ']\n"
     ]
    }
   ],
   "source": [
    "for i in range(0,14):\n",
    "    for a in civitatis_revius_limpio:\n",
    "        if len(a)==i:\n",
    "            print(a)\n",
    "            break"
   ]
  },
  {
   "cell_type": "code",
   "execution_count": 323,
   "metadata": {},
   "outputs": [],
   "source": [
    "civitatis_limpio_oi = lmp.pulir(civitatis_revius_limpio)\n",
    "civitatis_reluciente = lmp.quitar_respuestas(civitatis_limpio_oi)\n"
   ]
  },
  {
   "cell_type": "code",
   "execution_count": 324,
   "metadata": {},
   "outputs": [
    {
     "name": "stdout",
     "output_type": "stream",
     "text": [
      "{2, 3, 4, 5}\n"
     ]
    }
   ],
   "source": [
    "longitud = [len(i) for i in civitatis_reluciente]\n",
    "long_ = set(longitud)\n",
    "print(long_)"
   ]
  },
  {
   "cell_type": "code",
   "execution_count": 325,
   "metadata": {},
   "outputs": [
    {
     "data": {
      "text/plain": [
       "16231"
      ]
     },
     "execution_count": 325,
     "metadata": {},
     "output_type": "execute_result"
    }
   ],
   "source": [
    "len(civitatis_reluciente)"
   ]
  },
  {
   "cell_type": "code",
   "execution_count": 326,
   "metadata": {},
   "outputs": [],
   "source": [
    "dict_revius = lmp.dict_civitatis_completo(civitatis_reluciente)"
   ]
  },
  {
   "cell_type": "code",
   "execution_count": 327,
   "metadata": {},
   "outputs": [
    {
     "data": {
      "text/plain": [
       "True"
      ]
     },
     "execution_count": 327,
     "metadata": {},
     "output_type": "execute_result"
    }
   ],
   "source": [
    "len(dict_revius['fecha']) == len(dict_revius['nombre']) == len(dict_revius['procedencia']) == len(dict_revius['opinion']) == len(dict_revius['viajo_con'])"
   ]
  },
  {
   "cell_type": "code",
   "execution_count": 328,
   "metadata": {},
   "outputs": [],
   "source": [
    "df_civitatis = pd.DataFrame(dict_revius)"
   ]
  },
  {
   "cell_type": "code",
   "execution_count": 329,
   "metadata": {},
   "outputs": [
    {
     "data": {
      "text/html": [
       "<div>\n",
       "<style scoped>\n",
       "    .dataframe tbody tr th:only-of-type {\n",
       "        vertical-align: middle;\n",
       "    }\n",
       "\n",
       "    .dataframe tbody tr th {\n",
       "        vertical-align: top;\n",
       "    }\n",
       "\n",
       "    .dataframe thead th {\n",
       "        text-align: right;\n",
       "    }\n",
       "</style>\n",
       "<table border=\"1\" class=\"dataframe\">\n",
       "  <thead>\n",
       "    <tr style=\"text-align: right;\">\n",
       "      <th></th>\n",
       "      <th>fecha</th>\n",
       "      <th>nombre</th>\n",
       "      <th>procedencia</th>\n",
       "      <th>opinion</th>\n",
       "      <th>viajo_con</th>\n",
       "    </tr>\n",
       "  </thead>\n",
       "  <tbody>\n",
       "    <tr>\n",
       "      <th>0</th>\n",
       "      <td>11 / Mar / 2022</td>\n",
       "      <td>Ana</td>\n",
       "      <td>Madrid, España</td>\n",
       "      <td>Victor es encantador, te explica todo al deta...</td>\n",
       "      <td>Viajó con hijos mayores</td>\n",
       "    </tr>\n",
       "    <tr>\n",
       "      <th>1</th>\n",
       "      <td>11 / Mar / 2022</td>\n",
       "      <td>Montserrat</td>\n",
       "      <td>España</td>\n",
       "      <td>Casi 3 horas de tour pero Víctor, el guía que...</td>\n",
       "      <td>Viajó solo</td>\n",
       "    </tr>\n",
       "    <tr>\n",
       "      <th>2</th>\n",
       "      <td>11 / Mar / 2022</td>\n",
       "      <td>Ainhoa</td>\n",
       "      <td>España</td>\n",
       "      <td></td>\n",
       "      <td>Viajó en pareja</td>\n",
       "    </tr>\n",
       "    <tr>\n",
       "      <th>3</th>\n",
       "      <td>11 / Mar / 2022</td>\n",
       "      <td>Patricia Suárez Carrillo</td>\n",
       "      <td>Madrid, España</td>\n",
       "      <td>A mi pareja y a mi nos ha encantado! Nuestro ...</td>\n",
       "      <td>Viajó en pareja</td>\n",
       "    </tr>\n",
       "    <tr>\n",
       "      <th>4</th>\n",
       "      <td>11 / Mar / 2022</td>\n",
       "      <td>Anónimo</td>\n",
       "      <td></td>\n",
       "      <td></td>\n",
       "      <td></td>\n",
       "    </tr>\n",
       "  </tbody>\n",
       "</table>\n",
       "</div>"
      ],
      "text/plain": [
       "              fecha                     nombre      procedencia  \\\n",
       "0   11 / Mar / 2022                        Ana   Madrid, España   \n",
       "1   11 / Mar / 2022                 Montserrat           España   \n",
       "2   11 / Mar / 2022                     Ainhoa           España   \n",
       "3   11 / Mar / 2022   Patricia Suárez Carrillo   Madrid, España   \n",
       "4   11 / Mar / 2022                    Anónimo                    \n",
       "\n",
       "                                             opinion                 viajo_con  \n",
       "0   Victor es encantador, te explica todo al deta...   Viajó con hijos mayores  \n",
       "1   Casi 3 horas de tour pero Víctor, el guía que...                Viajó solo  \n",
       "2                                                              Viajó en pareja  \n",
       "3   A mi pareja y a mi nos ha encantado! Nuestro ...           Viajó en pareja  \n",
       "4                                                                               "
      ]
     },
     "execution_count": 329,
     "metadata": {},
     "output_type": "execute_result"
    }
   ],
   "source": [
    "df_civitatis.head(5)"
   ]
  },
  {
   "cell_type": "code",
   "execution_count": 330,
   "metadata": {},
   "outputs": [
    {
     "data": {
      "text/plain": [
       "(16231, 5)"
      ]
     },
     "execution_count": 330,
     "metadata": {},
     "output_type": "execute_result"
    }
   ],
   "source": [
    "df_civitatis.shape"
   ]
  },
  {
   "cell_type": "code",
   "execution_count": 331,
   "metadata": {},
   "outputs": [
    {
     "data": {
      "text/plain": [
       "4690"
      ]
     },
     "execution_count": 331,
     "metadata": {},
     "output_type": "execute_result"
    }
   ],
   "source": [
    "df_civitatis.duplicated().sum()"
   ]
  },
  {
   "cell_type": "markdown",
   "metadata": {},
   "source": [
    "We can se that we have quite a lot of duplicates, actually around 29% of the rows seem to be replicated but, is this completely truth?"
   ]
  },
  {
   "cell_type": "code",
   "execution_count": 332,
   "metadata": {},
   "outputs": [
    {
     "data": {
      "text/html": [
       "<div>\n",
       "<style scoped>\n",
       "    .dataframe tbody tr th:only-of-type {\n",
       "        vertical-align: middle;\n",
       "    }\n",
       "\n",
       "    .dataframe tbody tr th {\n",
       "        vertical-align: top;\n",
       "    }\n",
       "\n",
       "    .dataframe thead th {\n",
       "        text-align: right;\n",
       "    }\n",
       "</style>\n",
       "<table border=\"1\" class=\"dataframe\">\n",
       "  <thead>\n",
       "    <tr style=\"text-align: right;\">\n",
       "      <th></th>\n",
       "      <th>fecha</th>\n",
       "      <th>nombre</th>\n",
       "      <th>procedencia</th>\n",
       "      <th>opinion</th>\n",
       "      <th>viajo_con</th>\n",
       "    </tr>\n",
       "  </thead>\n",
       "  <tbody>\n",
       "    <tr>\n",
       "      <th>12</th>\n",
       "      <td>11 / Mar / 2022</td>\n",
       "      <td>Ana</td>\n",
       "      <td>Madrid, España</td>\n",
       "      <td>Victor es encantador, te explica todo al deta...</td>\n",
       "      <td>Viajó con hijos mayores</td>\n",
       "    </tr>\n",
       "    <tr>\n",
       "      <th>13</th>\n",
       "      <td>11 / Mar / 2022</td>\n",
       "      <td>Montserrat</td>\n",
       "      <td>España</td>\n",
       "      <td>Casi 3 horas de tour pero Víctor, el guía que...</td>\n",
       "      <td>Viajó solo</td>\n",
       "    </tr>\n",
       "    <tr>\n",
       "      <th>14</th>\n",
       "      <td>11 / Mar / 2022</td>\n",
       "      <td>Ainhoa</td>\n",
       "      <td>España</td>\n",
       "      <td></td>\n",
       "      <td>Viajó en pareja</td>\n",
       "    </tr>\n",
       "    <tr>\n",
       "      <th>15</th>\n",
       "      <td>11 / Mar / 2022</td>\n",
       "      <td>Patricia Suárez Carrillo</td>\n",
       "      <td>Madrid, España</td>\n",
       "      <td>A mi pareja y a mi nos ha encantado! Nuestro ...</td>\n",
       "      <td>Viajó en pareja</td>\n",
       "    </tr>\n",
       "    <tr>\n",
       "      <th>16</th>\n",
       "      <td>11 / Mar / 2022</td>\n",
       "      <td>Anónimo</td>\n",
       "      <td></td>\n",
       "      <td></td>\n",
       "      <td></td>\n",
       "    </tr>\n",
       "    <tr>\n",
       "      <th>...</th>\n",
       "      <td>...</td>\n",
       "      <td>...</td>\n",
       "      <td>...</td>\n",
       "      <td>...</td>\n",
       "      <td>...</td>\n",
       "    </tr>\n",
       "    <tr>\n",
       "      <th>16177</th>\n",
       "      <td>04 / May / 2019</td>\n",
       "      <td>Anónimo</td>\n",
       "      <td>España</td>\n",
       "      <td></td>\n",
       "      <td></td>\n",
       "    </tr>\n",
       "    <tr>\n",
       "      <th>16190</th>\n",
       "      <td>06 / Mar / 2019</td>\n",
       "      <td>Anónimo</td>\n",
       "      <td>España</td>\n",
       "      <td></td>\n",
       "      <td></td>\n",
       "    </tr>\n",
       "    <tr>\n",
       "      <th>16196</th>\n",
       "      <td>15 / Feb / 2019</td>\n",
       "      <td>Anónimo</td>\n",
       "      <td>España</td>\n",
       "      <td></td>\n",
       "      <td></td>\n",
       "    </tr>\n",
       "    <tr>\n",
       "      <th>16198</th>\n",
       "      <td>08 / Feb / 2019</td>\n",
       "      <td>Anónimo</td>\n",
       "      <td>España</td>\n",
       "      <td></td>\n",
       "      <td></td>\n",
       "    </tr>\n",
       "    <tr>\n",
       "      <th>16221</th>\n",
       "      <td>14 / Oct / 2018</td>\n",
       "      <td>Anónimo</td>\n",
       "      <td>España</td>\n",
       "      <td></td>\n",
       "      <td></td>\n",
       "    </tr>\n",
       "  </tbody>\n",
       "</table>\n",
       "<p>4690 rows × 5 columns</p>\n",
       "</div>"
      ],
      "text/plain": [
       "                  fecha                     nombre      procedencia  \\\n",
       "12      11 / Mar / 2022                        Ana   Madrid, España   \n",
       "13      11 / Mar / 2022                 Montserrat           España   \n",
       "14      11 / Mar / 2022                     Ainhoa           España   \n",
       "15      11 / Mar / 2022   Patricia Suárez Carrillo   Madrid, España   \n",
       "16      11 / Mar / 2022                    Anónimo                    \n",
       "...                 ...                        ...              ...   \n",
       "16177   04 / May / 2019                    Anónimo           España   \n",
       "16190   06 / Mar / 2019                    Anónimo           España   \n",
       "16196   15 / Feb / 2019                    Anónimo           España   \n",
       "16198   08 / Feb / 2019                    Anónimo           España   \n",
       "16221   14 / Oct / 2018                    Anónimo           España   \n",
       "\n",
       "                                                 opinion  \\\n",
       "12      Victor es encantador, te explica todo al deta...   \n",
       "13      Casi 3 horas de tour pero Víctor, el guía que...   \n",
       "14                                                         \n",
       "15      A mi pareja y a mi nos ha encantado! Nuestro ...   \n",
       "16                                                         \n",
       "...                                                  ...   \n",
       "16177                                                      \n",
       "16190                                                      \n",
       "16196                                                      \n",
       "16198                                                      \n",
       "16221                                                      \n",
       "\n",
       "                      viajo_con  \n",
       "12      Viajó con hijos mayores  \n",
       "13                   Viajó solo  \n",
       "14              Viajó en pareja  \n",
       "15              Viajó en pareja  \n",
       "16                               \n",
       "...                         ...  \n",
       "16177                            \n",
       "16190                            \n",
       "16196                            \n",
       "16198                            \n",
       "16221                            \n",
       "\n",
       "[4690 rows x 5 columns]"
      ]
     },
     "execution_count": 332,
     "metadata": {},
     "output_type": "execute_result"
    }
   ],
   "source": [
    "df_civitatis[df_civitatis.duplicated() == True]"
   ]
  },
  {
   "cell_type": "code",
   "execution_count": 333,
   "metadata": {},
   "outputs": [
    {
     "data": {
      "text/plain": [
       "' Casi 3 horas de tour pero Víctor, el guía que nos ha acompañado ha sido un encanto. Hemos andado muchísimo pero ha merecido la pena porque se nota que le gusta mucho su trabajo y se ha hecho muy ameno y emocionante. Sin duda un tour 100% recomendado con este guía. Gracias por hacernos pasar una mañana increíble.'"
      ]
     },
     "execution_count": 333,
     "metadata": {},
     "output_type": "execute_result"
    }
   ],
   "source": [
    "df_civitatis.iloc[13,3]"
   ]
  },
  {
   "cell_type": "code",
   "execution_count": 334,
   "metadata": {},
   "outputs": [
    {
     "data": {
      "text/html": [
       "<div>\n",
       "<style scoped>\n",
       "    .dataframe tbody tr th:only-of-type {\n",
       "        vertical-align: middle;\n",
       "    }\n",
       "\n",
       "    .dataframe tbody tr th {\n",
       "        vertical-align: top;\n",
       "    }\n",
       "\n",
       "    .dataframe thead th {\n",
       "        text-align: right;\n",
       "    }\n",
       "</style>\n",
       "<table border=\"1\" class=\"dataframe\">\n",
       "  <thead>\n",
       "    <tr style=\"text-align: right;\">\n",
       "      <th></th>\n",
       "      <th>fecha</th>\n",
       "      <th>nombre</th>\n",
       "      <th>procedencia</th>\n",
       "      <th>opinion</th>\n",
       "      <th>viajo_con</th>\n",
       "    </tr>\n",
       "  </thead>\n",
       "  <tbody>\n",
       "  </tbody>\n",
       "</table>\n",
       "</div>"
      ],
      "text/plain": [
       "Empty DataFrame\n",
       "Columns: [fecha, nombre, procedencia, opinion, viajo_con]\n",
       "Index: []"
      ]
     },
     "execution_count": 334,
     "metadata": {},
     "output_type": "execute_result"
    }
   ],
   "source": [
    "df_civitatis[df_civitatis['opinion'] == 'Casi 3 horas de tour pero Víctor, el guía que nos ha acompañado ha sido un encanto. Hemos andado muchísimo pero ha merecido la pena porque se nota que le gusta mucho su trabajo y se ha hecho muy ameno y emocionante. Sin duda un tour 100% recomendado con este guía. Gracias por hacernos pasar una mañana increíble.']\n"
   ]
  },
  {
   "cell_type": "markdown",
   "metadata": {},
   "source": [
    "We can be absolutely sure that the we have doubled values only if we check the column 'opinion', as it's the only one unrepeatable. On the other hand, we can easely have several people from Spain doing a tour the same day who wouldn't leave their names, so all of them will appear as 'Anonimo' and 'España' with the other columns in blank, and pandas will take them as duplicates while they actually were different clients.\n",
    "So let's analize this in two different data frames. First we'll analize the revius with the 'opinion' column filled."
   ]
  },
  {
   "cell_type": "code",
   "execution_count": 335,
   "metadata": {},
   "outputs": [],
   "source": [
    "dict_revius_5 = lmp.dict_civitatis_5(civitatis_reluciente)"
   ]
  },
  {
   "cell_type": "code",
   "execution_count": 336,
   "metadata": {},
   "outputs": [],
   "source": [
    "df_civitatis_5 = pd.DataFrame(dict_revius_5)"
   ]
  },
  {
   "cell_type": "code",
   "execution_count": 337,
   "metadata": {},
   "outputs": [
    {
     "data": {
      "text/plain": [
       "(8953, 5)"
      ]
     },
     "execution_count": 337,
     "metadata": {},
     "output_type": "execute_result"
    }
   ],
   "source": [
    "df_civitatis_5.shape"
   ]
  },
  {
   "cell_type": "code",
   "execution_count": 338,
   "metadata": {},
   "outputs": [
    {
     "data": {
      "text/html": [
       "<div>\n",
       "<style scoped>\n",
       "    .dataframe tbody tr th:only-of-type {\n",
       "        vertical-align: middle;\n",
       "    }\n",
       "\n",
       "    .dataframe tbody tr th {\n",
       "        vertical-align: top;\n",
       "    }\n",
       "\n",
       "    .dataframe thead th {\n",
       "        text-align: right;\n",
       "    }\n",
       "</style>\n",
       "<table border=\"1\" class=\"dataframe\">\n",
       "  <thead>\n",
       "    <tr style=\"text-align: right;\">\n",
       "      <th></th>\n",
       "      <th>fecha</th>\n",
       "      <th>nombre</th>\n",
       "      <th>procedencia</th>\n",
       "      <th>opinion</th>\n",
       "      <th>viajo_con</th>\n",
       "    </tr>\n",
       "  </thead>\n",
       "  <tbody>\n",
       "    <tr>\n",
       "      <th>0</th>\n",
       "      <td>11 / Mar / 2022</td>\n",
       "      <td>Ana</td>\n",
       "      <td>Madrid, España</td>\n",
       "      <td>Victor es encantador, te explica todo al deta...</td>\n",
       "      <td>Viajó con hijos mayores</td>\n",
       "    </tr>\n",
       "    <tr>\n",
       "      <th>1</th>\n",
       "      <td>11 / Mar / 2022</td>\n",
       "      <td>Montserrat</td>\n",
       "      <td>España</td>\n",
       "      <td>Casi 3 horas de tour pero Víctor, el guía que...</td>\n",
       "      <td>Viajó solo</td>\n",
       "    </tr>\n",
       "    <tr>\n",
       "      <th>2</th>\n",
       "      <td>11 / Mar / 2022</td>\n",
       "      <td>Patricia Suárez Carrillo</td>\n",
       "      <td>Madrid, España</td>\n",
       "      <td>A mi pareja y a mi nos ha encantado! Nuestro ...</td>\n",
       "      <td>Viajó en pareja</td>\n",
       "    </tr>\n",
       "    <tr>\n",
       "      <th>3</th>\n",
       "      <td>11 / Mar / 2022</td>\n",
       "      <td>Saray</td>\n",
       "      <td>Alicante, España</td>\n",
       "      <td>El guia del tour, Ponce, Genial.</td>\n",
       "      <td>Viajó con amigos</td>\n",
       "    </tr>\n",
       "    <tr>\n",
       "      <th>4</th>\n",
       "      <td>11 / Mar / 2022</td>\n",
       "      <td>Tania Carrera Garcia</td>\n",
       "      <td>España</td>\n",
       "      <td>Mónica ha sido una guía genial, nos ha explic...</td>\n",
       "      <td>Viajó con amigos</td>\n",
       "    </tr>\n",
       "  </tbody>\n",
       "</table>\n",
       "</div>"
      ],
      "text/plain": [
       "              fecha                     nombre        procedencia  \\\n",
       "0   11 / Mar / 2022                        Ana     Madrid, España   \n",
       "1   11 / Mar / 2022                 Montserrat             España   \n",
       "2   11 / Mar / 2022   Patricia Suárez Carrillo     Madrid, España   \n",
       "3   11 / Mar / 2022                      Saray   Alicante, España   \n",
       "4   11 / Mar / 2022       Tania Carrera Garcia             España   \n",
       "\n",
       "                                             opinion                 viajo_con  \n",
       "0   Victor es encantador, te explica todo al deta...   Viajó con hijos mayores  \n",
       "1   Casi 3 horas de tour pero Víctor, el guía que...                Viajó solo  \n",
       "2   A mi pareja y a mi nos ha encantado! Nuestro ...           Viajó en pareja  \n",
       "3                   El guia del tour, Ponce, Genial.          Viajó con amigos  \n",
       "4   Mónica ha sido una guía genial, nos ha explic...          Viajó con amigos  "
      ]
     },
     "execution_count": 338,
     "metadata": {},
     "output_type": "execute_result"
    }
   ],
   "source": [
    "df_civitatis_5.head(5)"
   ]
  },
  {
   "cell_type": "code",
   "execution_count": 339,
   "metadata": {},
   "outputs": [
    {
     "data": {
      "text/plain": [
       "2114"
      ]
     },
     "execution_count": 339,
     "metadata": {},
     "output_type": "execute_result"
    }
   ],
   "source": [
    "df_civitatis_5.duplicated().sum()"
   ]
  },
  {
   "cell_type": "code",
   "execution_count": 340,
   "metadata": {},
   "outputs": [
    {
     "data": {
      "text/html": [
       "<div>\n",
       "<style scoped>\n",
       "    .dataframe tbody tr th:only-of-type {\n",
       "        vertical-align: middle;\n",
       "    }\n",
       "\n",
       "    .dataframe tbody tr th {\n",
       "        vertical-align: top;\n",
       "    }\n",
       "\n",
       "    .dataframe thead th {\n",
       "        text-align: right;\n",
       "    }\n",
       "</style>\n",
       "<table border=\"1\" class=\"dataframe\">\n",
       "  <thead>\n",
       "    <tr style=\"text-align: right;\">\n",
       "      <th></th>\n",
       "      <th>fecha</th>\n",
       "      <th>nombre</th>\n",
       "      <th>procedencia</th>\n",
       "      <th>opinion</th>\n",
       "      <th>viajo_con</th>\n",
       "    </tr>\n",
       "  </thead>\n",
       "  <tbody>\n",
       "    <tr>\n",
       "      <th>9</th>\n",
       "      <td>11 / Mar / 2022</td>\n",
       "      <td>Ana</td>\n",
       "      <td>Madrid, España</td>\n",
       "      <td>Victor es encantador, te explica todo al deta...</td>\n",
       "      <td>Viajó con hijos mayores</td>\n",
       "    </tr>\n",
       "    <tr>\n",
       "      <th>10</th>\n",
       "      <td>11 / Mar / 2022</td>\n",
       "      <td>Montserrat</td>\n",
       "      <td>España</td>\n",
       "      <td>Casi 3 horas de tour pero Víctor, el guía que...</td>\n",
       "      <td>Viajó solo</td>\n",
       "    </tr>\n",
       "    <tr>\n",
       "      <th>11</th>\n",
       "      <td>11 / Mar / 2022</td>\n",
       "      <td>Patricia Suárez Carrillo</td>\n",
       "      <td>Madrid, España</td>\n",
       "      <td>A mi pareja y a mi nos ha encantado! Nuestro ...</td>\n",
       "      <td>Viajó en pareja</td>\n",
       "    </tr>\n",
       "    <tr>\n",
       "      <th>12</th>\n",
       "      <td>11 / Mar / 2022</td>\n",
       "      <td>Saray</td>\n",
       "      <td>Alicante, España</td>\n",
       "      <td>El guia del tour, Ponce, Genial.</td>\n",
       "      <td>Viajó con amigos</td>\n",
       "    </tr>\n",
       "    <tr>\n",
       "      <th>13</th>\n",
       "      <td>11 / Mar / 2022</td>\n",
       "      <td>Tania Carrera Garcia</td>\n",
       "      <td>España</td>\n",
       "      <td>Mónica ha sido una guía genial, nos ha explic...</td>\n",
       "      <td>Viajó con amigos</td>\n",
       "    </tr>\n",
       "    <tr>\n",
       "      <th>...</th>\n",
       "      <td>...</td>\n",
       "      <td>...</td>\n",
       "      <td>...</td>\n",
       "      <td>...</td>\n",
       "      <td>...</td>\n",
       "    </tr>\n",
       "    <tr>\n",
       "      <th>8836</th>\n",
       "      <td>15 / Jun / 2017</td>\n",
       "      <td>Pablo</td>\n",
       "      <td>Buenos Aires, Argentina</td>\n",
       "      <td>Excelente paseo y pablo nuestro guia fantastico</td>\n",
       "      <td>Viajó en pareja</td>\n",
       "    </tr>\n",
       "    <tr>\n",
       "      <th>8837</th>\n",
       "      <td>15 / Jun / 2017</td>\n",
       "      <td>Sofia Hernandez</td>\n",
       "      <td>Guatemala, Guatemala</td>\n",
       "      <td>Me gusto mucho, amable y dispuesto a contesta...</td>\n",
       "      <td>Viajó en pareja</td>\n",
       "    </tr>\n",
       "    <tr>\n",
       "      <th>8838</th>\n",
       "      <td>15 / Jun / 2017</td>\n",
       "      <td>Luis</td>\n",
       "      <td>Madrid, España</td>\n",
       "      <td>Una guía agradable de unas dos horas en las q...</td>\n",
       "      <td>Viajó con hijos mayores</td>\n",
       "    </tr>\n",
       "    <tr>\n",
       "      <th>8839</th>\n",
       "      <td>11 / Jun / 2017</td>\n",
       "      <td>Maria</td>\n",
       "      <td>Madrid, España</td>\n",
       "      <td>Nos ha encantado, muy amena y Pablo el guía s...</td>\n",
       "      <td>Viajó en pareja</td>\n",
       "    </tr>\n",
       "    <tr>\n",
       "      <th>8866</th>\n",
       "      <td>25 / Sep / 2021</td>\n",
       "      <td>Rita Cantante</td>\n",
       "      <td>Porto, Portugal</td>\n",
       "      <td>Muy interactivo, muy divertido. ¡Alex sabía m...</td>\n",
       "      <td>Viajó en pareja</td>\n",
       "    </tr>\n",
       "  </tbody>\n",
       "</table>\n",
       "<p>2114 rows × 5 columns</p>\n",
       "</div>"
      ],
      "text/plain": [
       "                 fecha                     nombre               procedencia  \\\n",
       "9      11 / Mar / 2022                        Ana            Madrid, España   \n",
       "10     11 / Mar / 2022                 Montserrat                    España   \n",
       "11     11 / Mar / 2022   Patricia Suárez Carrillo            Madrid, España   \n",
       "12     11 / Mar / 2022                      Saray          Alicante, España   \n",
       "13     11 / Mar / 2022       Tania Carrera Garcia                    España   \n",
       "...                ...                        ...                       ...   \n",
       "8836   15 / Jun / 2017                      Pablo   Buenos Aires, Argentina   \n",
       "8837   15 / Jun / 2017            Sofia Hernandez      Guatemala, Guatemala   \n",
       "8838   15 / Jun / 2017                       Luis            Madrid, España   \n",
       "8839   11 / Jun / 2017                      Maria            Madrid, España   \n",
       "8866   25 / Sep / 2021              Rita Cantante           Porto, Portugal   \n",
       "\n",
       "                                                opinion  \\\n",
       "9      Victor es encantador, te explica todo al deta...   \n",
       "10     Casi 3 horas de tour pero Víctor, el guía que...   \n",
       "11     A mi pareja y a mi nos ha encantado! Nuestro ...   \n",
       "12                     El guia del tour, Ponce, Genial.   \n",
       "13     Mónica ha sido una guía genial, nos ha explic...   \n",
       "...                                                 ...   \n",
       "8836    Excelente paseo y pablo nuestro guia fantastico   \n",
       "8837   Me gusto mucho, amable y dispuesto a contesta...   \n",
       "8838   Una guía agradable de unas dos horas en las q...   \n",
       "8839   Nos ha encantado, muy amena y Pablo el guía s...   \n",
       "8866   Muy interactivo, muy divertido. ¡Alex sabía m...   \n",
       "\n",
       "                     viajo_con  \n",
       "9      Viajó con hijos mayores  \n",
       "10                  Viajó solo  \n",
       "11             Viajó en pareja  \n",
       "12            Viajó con amigos  \n",
       "13            Viajó con amigos  \n",
       "...                        ...  \n",
       "8836           Viajó en pareja  \n",
       "8837           Viajó en pareja  \n",
       "8838   Viajó con hijos mayores  \n",
       "8839           Viajó en pareja  \n",
       "8866           Viajó en pareja  \n",
       "\n",
       "[2114 rows x 5 columns]"
      ]
     },
     "execution_count": 340,
     "metadata": {},
     "output_type": "execute_result"
    }
   ],
   "source": [
    "df_civitatis_5[df_civitatis_5.duplicated() == True]"
   ]
  },
  {
   "cell_type": "code",
   "execution_count": 341,
   "metadata": {},
   "outputs": [
    {
     "data": {
      "text/plain": [
       "' Victor es encantador, te explica todo al detalle y te resuelve todas las preguntas, volvería a repetir, me a encantado.'"
      ]
     },
     "execution_count": 341,
     "metadata": {},
     "output_type": "execute_result"
    }
   ],
   "source": [
    "df_civitatis_5.iloc[0, 3]"
   ]
  },
  {
   "cell_type": "code",
   "execution_count": 342,
   "metadata": {},
   "outputs": [
    {
     "data": {
      "text/html": [
       "<div>\n",
       "<style scoped>\n",
       "    .dataframe tbody tr th:only-of-type {\n",
       "        vertical-align: middle;\n",
       "    }\n",
       "\n",
       "    .dataframe tbody tr th {\n",
       "        vertical-align: top;\n",
       "    }\n",
       "\n",
       "    .dataframe thead th {\n",
       "        text-align: right;\n",
       "    }\n",
       "</style>\n",
       "<table border=\"1\" class=\"dataframe\">\n",
       "  <thead>\n",
       "    <tr style=\"text-align: right;\">\n",
       "      <th></th>\n",
       "      <th>fecha</th>\n",
       "      <th>nombre</th>\n",
       "      <th>procedencia</th>\n",
       "      <th>opinion</th>\n",
       "      <th>viajo_con</th>\n",
       "    </tr>\n",
       "  </thead>\n",
       "  <tbody>\n",
       "    <tr>\n",
       "      <th>0</th>\n",
       "      <td>11 / Mar / 2022</td>\n",
       "      <td>Ana</td>\n",
       "      <td>Madrid, España</td>\n",
       "      <td>Victor es encantador, te explica todo al deta...</td>\n",
       "      <td>Viajó con hijos mayores</td>\n",
       "    </tr>\n",
       "    <tr>\n",
       "      <th>9</th>\n",
       "      <td>11 / Mar / 2022</td>\n",
       "      <td>Ana</td>\n",
       "      <td>Madrid, España</td>\n",
       "      <td>Victor es encantador, te explica todo al deta...</td>\n",
       "      <td>Viajó con hijos mayores</td>\n",
       "    </tr>\n",
       "    <tr>\n",
       "      <th>26</th>\n",
       "      <td>11 / Mar / 2022</td>\n",
       "      <td>Ana</td>\n",
       "      <td>Madrid, España</td>\n",
       "      <td>Victor es encantador, te explica todo al deta...</td>\n",
       "      <td>Viajó con hijos mayores</td>\n",
       "    </tr>\n",
       "  </tbody>\n",
       "</table>\n",
       "</div>"
      ],
      "text/plain": [
       "               fecha nombre      procedencia  \\\n",
       "0    11 / Mar / 2022    Ana   Madrid, España   \n",
       "9    11 / Mar / 2022    Ana   Madrid, España   \n",
       "26   11 / Mar / 2022    Ana   Madrid, España   \n",
       "\n",
       "                                              opinion  \\\n",
       "0    Victor es encantador, te explica todo al deta...   \n",
       "9    Victor es encantador, te explica todo al deta...   \n",
       "26   Victor es encantador, te explica todo al deta...   \n",
       "\n",
       "                   viajo_con  \n",
       "0    Viajó con hijos mayores  \n",
       "9    Viajó con hijos mayores  \n",
       "26   Viajó con hijos mayores  "
      ]
     },
     "execution_count": 342,
     "metadata": {},
     "output_type": "execute_result"
    }
   ],
   "source": [
    "df_civitatis_5[df_civitatis_5['opinion'] == ' Victor es encantador, te explica todo al detalle y te resuelve todas las preguntas, volvería a repetir, me a encantado.']"
   ]
  },
  {
   "cell_type": "markdown",
   "metadata": {},
   "source": [
    "And here we can see that that some reviews are repeated up to three times... \n",
    "Anyway, from the total number of rows, 8953, this means that 23,6% of them are duplicated, a value significantly lower than the 29% we got for whole data frame.\n",
    "Now let's drop the duplicates in this one and then we will work with the reviews that don't have the 'opinion' column filled."
   ]
  },
  {
   "cell_type": "code",
   "execution_count": 343,
   "metadata": {},
   "outputs": [
    {
     "data": {
      "text/plain": [
       "0"
      ]
     },
     "execution_count": 343,
     "metadata": {},
     "output_type": "execute_result"
    }
   ],
   "source": [
    "df_civitatis_5 = df_civitatis_5.drop_duplicates()\n",
    "df_civitatis_5.duplicated().sum()"
   ]
  },
  {
   "cell_type": "code",
   "execution_count": 344,
   "metadata": {},
   "outputs": [
    {
     "data": {
      "text/html": [
       "<div>\n",
       "<style scoped>\n",
       "    .dataframe tbody tr th:only-of-type {\n",
       "        vertical-align: middle;\n",
       "    }\n",
       "\n",
       "    .dataframe tbody tr th {\n",
       "        vertical-align: top;\n",
       "    }\n",
       "\n",
       "    .dataframe thead th {\n",
       "        text-align: right;\n",
       "    }\n",
       "</style>\n",
       "<table border=\"1\" class=\"dataframe\">\n",
       "  <thead>\n",
       "    <tr style=\"text-align: right;\">\n",
       "      <th></th>\n",
       "      <th>fecha</th>\n",
       "      <th>nombre</th>\n",
       "      <th>procedencia</th>\n",
       "      <th>opinion</th>\n",
       "      <th>viajo_con</th>\n",
       "    </tr>\n",
       "  </thead>\n",
       "  <tbody>\n",
       "    <tr>\n",
       "      <th>0</th>\n",
       "      <td>11 / Mar / 2022</td>\n",
       "      <td>Ana</td>\n",
       "      <td>Madrid, España</td>\n",
       "      <td>Victor es encantador, te explica todo al deta...</td>\n",
       "      <td>Viajó con hijos mayores</td>\n",
       "    </tr>\n",
       "  </tbody>\n",
       "</table>\n",
       "</div>"
      ],
      "text/plain": [
       "              fecha nombre      procedencia  \\\n",
       "0   11 / Mar / 2022    Ana   Madrid, España   \n",
       "\n",
       "                                             opinion                 viajo_con  \n",
       "0   Victor es encantador, te explica todo al deta...   Viajó con hijos mayores  "
      ]
     },
     "execution_count": 344,
     "metadata": {},
     "output_type": "execute_result"
    }
   ],
   "source": [
    "df_civitatis_5[df_civitatis_5['opinion'] == ' Victor es encantador, te explica todo al detalle y te resuelve todas las preguntas, volvería a repetir, me a encantado.']"
   ]
  },
  {
   "cell_type": "markdown",
   "metadata": {},
   "source": [
    "All the reviews whithout 'opinion':"
   ]
  },
  {
   "cell_type": "code",
   "execution_count": 345,
   "metadata": {},
   "outputs": [],
   "source": [
    "dict_civitatis_2_4 = lmp.dict_civitatis_2_4(civitatis_reluciente)"
   ]
  },
  {
   "cell_type": "code",
   "execution_count": 346,
   "metadata": {},
   "outputs": [],
   "source": [
    "df_civitatis_2_4 = pd.DataFrame(dict_civitatis_2_4)"
   ]
  },
  {
   "cell_type": "code",
   "execution_count": 347,
   "metadata": {},
   "outputs": [
    {
     "data": {
      "text/plain": [
       "(7278, 5)"
      ]
     },
     "execution_count": 347,
     "metadata": {},
     "output_type": "execute_result"
    }
   ],
   "source": [
    "df_civitatis_2_4.shape"
   ]
  },
  {
   "cell_type": "code",
   "execution_count": 348,
   "metadata": {},
   "outputs": [
    {
     "data": {
      "text/html": [
       "<div>\n",
       "<style scoped>\n",
       "    .dataframe tbody tr th:only-of-type {\n",
       "        vertical-align: middle;\n",
       "    }\n",
       "\n",
       "    .dataframe tbody tr th {\n",
       "        vertical-align: top;\n",
       "    }\n",
       "\n",
       "    .dataframe thead th {\n",
       "        text-align: right;\n",
       "    }\n",
       "</style>\n",
       "<table border=\"1\" class=\"dataframe\">\n",
       "  <thead>\n",
       "    <tr style=\"text-align: right;\">\n",
       "      <th></th>\n",
       "      <th>fecha</th>\n",
       "      <th>nombre</th>\n",
       "      <th>procedencia</th>\n",
       "      <th>opinion</th>\n",
       "      <th>viajo_con</th>\n",
       "    </tr>\n",
       "  </thead>\n",
       "  <tbody>\n",
       "    <tr>\n",
       "      <th>0</th>\n",
       "      <td>11 / Mar / 2022</td>\n",
       "      <td>Ainhoa</td>\n",
       "      <td>España</td>\n",
       "      <td></td>\n",
       "      <td>Viajó en pareja</td>\n",
       "    </tr>\n",
       "    <tr>\n",
       "      <th>1</th>\n",
       "      <td>11 / Mar / 2022</td>\n",
       "      <td>Anónimo</td>\n",
       "      <td></td>\n",
       "      <td></td>\n",
       "      <td></td>\n",
       "    </tr>\n",
       "    <tr>\n",
       "      <th>2</th>\n",
       "      <td>11 / Mar / 2022</td>\n",
       "      <td>María José Campillo Mateo</td>\n",
       "      <td>Murcia, España</td>\n",
       "      <td></td>\n",
       "      <td>Viajó en pareja</td>\n",
       "    </tr>\n",
       "    <tr>\n",
       "      <th>3</th>\n",
       "      <td>11 / Mar / 2022</td>\n",
       "      <td>Ainhoa</td>\n",
       "      <td>España</td>\n",
       "      <td></td>\n",
       "      <td>Viajó en pareja</td>\n",
       "    </tr>\n",
       "    <tr>\n",
       "      <th>4</th>\n",
       "      <td>11 / Mar / 2022</td>\n",
       "      <td>Anónimo</td>\n",
       "      <td></td>\n",
       "      <td></td>\n",
       "      <td></td>\n",
       "    </tr>\n",
       "  </tbody>\n",
       "</table>\n",
       "</div>"
      ],
      "text/plain": [
       "              fecha                      nombre      procedencia opinion  \\\n",
       "0   11 / Mar / 2022                      Ainhoa           España           \n",
       "1   11 / Mar / 2022                     Anónimo                            \n",
       "2   11 / Mar / 2022   María José Campillo Mateo   Murcia, España           \n",
       "3   11 / Mar / 2022                      Ainhoa           España           \n",
       "4   11 / Mar / 2022                     Anónimo                            \n",
       "\n",
       "          viajo_con  \n",
       "0   Viajó en pareja  \n",
       "1                    \n",
       "2   Viajó en pareja  \n",
       "3   Viajó en pareja  \n",
       "4                    "
      ]
     },
     "execution_count": 348,
     "metadata": {},
     "output_type": "execute_result"
    }
   ],
   "source": [
    "df_civitatis_2_4.head(5)"
   ]
  },
  {
   "cell_type": "code",
   "execution_count": 349,
   "metadata": {},
   "outputs": [
    {
     "data": {
      "text/plain": [
       "2576"
      ]
     },
     "execution_count": 349,
     "metadata": {},
     "output_type": "execute_result"
    }
   ],
   "source": [
    "df_civitatis_2_4.duplicated().sum()"
   ]
  },
  {
   "cell_type": "markdown",
   "metadata": {},
   "source": [
    "If we take the reviews without 'opinion', we can see that the number of duplicates is signifincantly higher, around a 35%. This is due to the fact commented above that there can easely be two different clients with the same name (or name and origin) the same day.\n",
    "Taking this into account, we won't drop all the duplicates, as this will alter significantly the data and we will be earasing real tourist from our data frame. But as we cannot state for sure which rows are duplicates and which ones are not, we will ramdomly erase 23.6% of them, as this seems to be the real percentage of duplicates that the algorithm generates; this means that we are going to drop 1717 rows in stead of the 2576 that pandas duplicated() method proposes."
   ]
  },
  {
   "cell_type": "code",
   "execution_count": 350,
   "metadata": {},
   "outputs": [],
   "source": [
    "df_civitatis_2_4 = lmp.drop_tourist(df_civitatis_2_4)"
   ]
  },
  {
   "cell_type": "markdown",
   "metadata": {},
   "source": [
    "And we check that 23.6% of the rows are gone"
   ]
  },
  {
   "cell_type": "code",
   "execution_count": 351,
   "metadata": {},
   "outputs": [
    {
     "data": {
      "text/plain": [
       "(5561, 5)"
      ]
     },
     "execution_count": 351,
     "metadata": {},
     "output_type": "execute_result"
    }
   ],
   "source": [
    "df_civitatis_2_4.shape"
   ]
  },
  {
   "cell_type": "markdown",
   "metadata": {},
   "source": [
    "Now that we have both datesets cleaned of duplicates, we can concatenate them"
   ]
  },
  {
   "cell_type": "code",
   "execution_count": 352,
   "metadata": {},
   "outputs": [],
   "source": [
    "pd_civitatis_clean= pd.concat([df_civitatis_5, df_civitatis_2_4])"
   ]
  },
  {
   "cell_type": "code",
   "execution_count": 353,
   "metadata": {},
   "outputs": [
    {
     "data": {
      "text/plain": [
       "(12400, 5)"
      ]
     },
     "execution_count": 353,
     "metadata": {},
     "output_type": "execute_result"
    }
   ],
   "source": [
    "pd_civitatis_clean.shape"
   ]
  },
  {
   "cell_type": "markdown",
   "metadata": {},
   "source": [
    "Above we verify that 23.6% of the rows are gone. From 16231 at the begining, now we have 12400.\n",
    "\n",
    "Time to clean the data"
   ]
  },
  {
   "cell_type": "code",
   "execution_count": 354,
   "metadata": {},
   "outputs": [
    {
     "data": {
      "text/html": [
       "<div>\n",
       "<style scoped>\n",
       "    .dataframe tbody tr th:only-of-type {\n",
       "        vertical-align: middle;\n",
       "    }\n",
       "\n",
       "    .dataframe tbody tr th {\n",
       "        vertical-align: top;\n",
       "    }\n",
       "\n",
       "    .dataframe thead th {\n",
       "        text-align: right;\n",
       "    }\n",
       "</style>\n",
       "<table border=\"1\" class=\"dataframe\">\n",
       "  <thead>\n",
       "    <tr style=\"text-align: right;\">\n",
       "      <th></th>\n",
       "      <th>fecha</th>\n",
       "      <th>nombre</th>\n",
       "      <th>procedencia</th>\n",
       "      <th>opinion</th>\n",
       "      <th>viajo_con</th>\n",
       "    </tr>\n",
       "  </thead>\n",
       "  <tbody>\n",
       "    <tr>\n",
       "      <th>2242</th>\n",
       "      <td>28 / Jun / 2021</td>\n",
       "      <td>Anónimo</td>\n",
       "      <td>España</td>\n",
       "      <td></td>\n",
       "      <td></td>\n",
       "    </tr>\n",
       "    <tr>\n",
       "      <th>6659</th>\n",
       "      <td>19 / Abr / 2019</td>\n",
       "      <td>Alexander</td>\n",
       "      <td>Ferrol, España</td>\n",
       "      <td>Excelente la pasamos muy bien Pablo GENIAL</td>\n",
       "      <td>Viajó en pareja</td>\n",
       "    </tr>\n",
       "    <tr>\n",
       "      <th>5424</th>\n",
       "      <td>20 / Mar / 2019</td>\n",
       "      <td>Anónimo</td>\n",
       "      <td>España</td>\n",
       "      <td></td>\n",
       "      <td></td>\n",
       "    </tr>\n",
       "    <tr>\n",
       "      <th>7475</th>\n",
       "      <td>18 / Nov / 2018</td>\n",
       "      <td>Antonia Jesus</td>\n",
       "      <td>Madrid, España</td>\n",
       "      <td>Pablo un chico súper profesional, muy simpáti...</td>\n",
       "      <td>Viajó solo</td>\n",
       "    </tr>\n",
       "    <tr>\n",
       "      <th>5808</th>\n",
       "      <td>17 / Ene / 2019</td>\n",
       "      <td>Rodrigo Lagrasta</td>\n",
       "      <td>Elche, España</td>\n",
       "      <td></td>\n",
       "      <td>Viajó solo</td>\n",
       "    </tr>\n",
       "  </tbody>\n",
       "</table>\n",
       "</div>"
      ],
      "text/plain": [
       "                 fecha             nombre      procedencia  \\\n",
       "2242   28 / Jun / 2021            Anónimo           España   \n",
       "6659   19 / Abr / 2019          Alexander   Ferrol, España   \n",
       "5424   20 / Mar / 2019            Anónimo           España   \n",
       "7475   18 / Nov / 2018      Antonia Jesus   Madrid, España   \n",
       "5808   17 / Ene / 2019   Rodrigo Lagrasta    Elche, España   \n",
       "\n",
       "                                                opinion         viajo_con  \n",
       "2242                                                                       \n",
       "6659         Excelente la pasamos muy bien Pablo GENIAL   Viajó en pareja  \n",
       "5424                                                                       \n",
       "7475   Pablo un chico súper profesional, muy simpáti...        Viajó solo  \n",
       "5808                                                           Viajó solo  "
      ]
     },
     "execution_count": 354,
     "metadata": {},
     "output_type": "execute_result"
    }
   ],
   "source": [
    "pd_civitatis_clean.sample(5)"
   ]
  },
  {
   "cell_type": "markdown",
   "metadata": {},
   "source": [
    "First, we will take away the spaces at the begining and end of the values"
   ]
  },
  {
   "cell_type": "code",
   "execution_count": 355,
   "metadata": {},
   "outputs": [],
   "source": [
    "df_civitatis_clean = lmp.values_sin_espacios(df_civitatis)"
   ]
  },
  {
   "cell_type": "markdown",
   "metadata": {},
   "source": [
    "Now we will deal with the dates ('fecha' column), so they will be in date-time format, as this will be the main criteria we will use to organize the tourist"
   ]
  },
  {
   "cell_type": "code",
   "execution_count": 356,
   "metadata": {},
   "outputs": [
    {
     "data": {
      "text/plain": [
       "'11 / Mar / 2022'"
      ]
     },
     "execution_count": 356,
     "metadata": {},
     "output_type": "execute_result"
    }
   ],
   "source": [
    "df_civitatis_clean.iloc[0,0]"
   ]
  },
  {
   "cell_type": "code",
   "execution_count": 357,
   "metadata": {},
   "outputs": [],
   "source": [
    "df_civitatis_clean = lmp.date_time(df_civitatis)"
   ]
  },
  {
   "cell_type": "code",
   "execution_count": 358,
   "metadata": {},
   "outputs": [
    {
     "data": {
      "text/plain": [
       "Timestamp('2022-03-11 00:00:00')"
      ]
     },
     "execution_count": 358,
     "metadata": {},
     "output_type": "execute_result"
    }
   ],
   "source": [
    "df_civitatis_clean.iloc[0,0]"
   ]
  },
  {
   "cell_type": "code",
   "execution_count": 359,
   "metadata": {},
   "outputs": [
    {
     "data": {
      "text/html": [
       "<div>\n",
       "<style scoped>\n",
       "    .dataframe tbody tr th:only-of-type {\n",
       "        vertical-align: middle;\n",
       "    }\n",
       "\n",
       "    .dataframe tbody tr th {\n",
       "        vertical-align: top;\n",
       "    }\n",
       "\n",
       "    .dataframe thead th {\n",
       "        text-align: right;\n",
       "    }\n",
       "</style>\n",
       "<table border=\"1\" class=\"dataframe\">\n",
       "  <thead>\n",
       "    <tr style=\"text-align: right;\">\n",
       "      <th></th>\n",
       "      <th>fecha</th>\n",
       "      <th>nombre</th>\n",
       "      <th>procedencia</th>\n",
       "      <th>opinion</th>\n",
       "      <th>viajo_con</th>\n",
       "    </tr>\n",
       "  </thead>\n",
       "  <tbody>\n",
       "    <tr>\n",
       "      <th>15955</th>\n",
       "      <td>2017-06-09</td>\n",
       "      <td>Charo</td>\n",
       "      <td>Salamancs, España</td>\n",
       "      <td></td>\n",
       "      <td>Viajó en pareja</td>\n",
       "    </tr>\n",
       "    <tr>\n",
       "      <th>15947</th>\n",
       "      <td>2017-06-09</td>\n",
       "      <td>Charo</td>\n",
       "      <td>Salamancs, España</td>\n",
       "      <td></td>\n",
       "      <td>Viajó en pareja</td>\n",
       "    </tr>\n",
       "    <tr>\n",
       "      <th>15954</th>\n",
       "      <td>2017-06-11</td>\n",
       "      <td>Maria</td>\n",
       "      <td>Madrid, España</td>\n",
       "      <td>Nos ha encantado, muy amena y Pablo el guía su...</td>\n",
       "      <td>Viajó en pareja</td>\n",
       "    </tr>\n",
       "    <tr>\n",
       "      <th>15946</th>\n",
       "      <td>2017-06-11</td>\n",
       "      <td>Maria</td>\n",
       "      <td>Madrid, España</td>\n",
       "      <td>Nos ha encantado, muy amena y Pablo el guía su...</td>\n",
       "      <td>Viajó en pareja</td>\n",
       "    </tr>\n",
       "    <tr>\n",
       "      <th>15952</th>\n",
       "      <td>2017-06-15</td>\n",
       "      <td>Sofia Hernandez</td>\n",
       "      <td>Guatemala, Guatemala</td>\n",
       "      <td>Me gusto mucho, amable y dispuesto a contestar...</td>\n",
       "      <td>Viajó en pareja</td>\n",
       "    </tr>\n",
       "  </tbody>\n",
       "</table>\n",
       "</div>"
      ],
      "text/plain": [
       "           fecha           nombre           procedencia  \\\n",
       "15955 2017-06-09            Charo     Salamancs, España   \n",
       "15947 2017-06-09            Charo     Salamancs, España   \n",
       "15954 2017-06-11            Maria        Madrid, España   \n",
       "15946 2017-06-11            Maria        Madrid, España   \n",
       "15952 2017-06-15  Sofia Hernandez  Guatemala, Guatemala   \n",
       "\n",
       "                                                 opinion        viajo_con  \n",
       "15955                                                     Viajó en pareja  \n",
       "15947                                                     Viajó en pareja  \n",
       "15954  Nos ha encantado, muy amena y Pablo el guía su...  Viajó en pareja  \n",
       "15946  Nos ha encantado, muy amena y Pablo el guía su...  Viajó en pareja  \n",
       "15952  Me gusto mucho, amable y dispuesto a contestar...  Viajó en pareja  "
      ]
     },
     "execution_count": 359,
     "metadata": {},
     "output_type": "execute_result"
    }
   ],
   "source": [
    "df_civitatis_clean.sort_values(by=['fecha']).head(5)"
   ]
  },
  {
   "cell_type": "code",
   "execution_count": 360,
   "metadata": {},
   "outputs": [],
   "source": [
    "df_civitatis_clean.to_pickle(r'C:\\Users\\mituc\\Ironhack\\Curso\\IronLabs\\Proyecto-1\\data\\civitatis_clean.pkl')\n"
   ]
  },
  {
   "cell_type": "code",
   "execution_count": 361,
   "metadata": {},
   "outputs": [],
   "source": [
    "df_turistas_fecha = df_civitatis_clean.set_index('fecha')"
   ]
  },
  {
   "cell_type": "code",
   "execution_count": 362,
   "metadata": {},
   "outputs": [],
   "source": [
    "df_numero_turistas_fecha = df_turistas_fecha.groupby([(df_turistas_fecha.index.year),(df_turistas_fecha.index.month)]).count()"
   ]
  },
  {
   "cell_type": "code",
   "execution_count": 363,
   "metadata": {},
   "outputs": [
    {
     "data": {
      "text/html": [
       "<div>\n",
       "<style scoped>\n",
       "    .dataframe tbody tr th:only-of-type {\n",
       "        vertical-align: middle;\n",
       "    }\n",
       "\n",
       "    .dataframe tbody tr th {\n",
       "        vertical-align: top;\n",
       "    }\n",
       "\n",
       "    .dataframe thead th {\n",
       "        text-align: right;\n",
       "    }\n",
       "</style>\n",
       "<table border=\"1\" class=\"dataframe\">\n",
       "  <thead>\n",
       "    <tr style=\"text-align: right;\">\n",
       "      <th></th>\n",
       "      <th></th>\n",
       "      <th>nombre</th>\n",
       "      <th>procedencia</th>\n",
       "      <th>opinion</th>\n",
       "      <th>viajo_con</th>\n",
       "    </tr>\n",
       "    <tr>\n",
       "      <th>fecha</th>\n",
       "      <th>fecha</th>\n",
       "      <th></th>\n",
       "      <th></th>\n",
       "      <th></th>\n",
       "      <th></th>\n",
       "    </tr>\n",
       "  </thead>\n",
       "  <tbody>\n",
       "    <tr>\n",
       "      <th rowspan=\"2\" valign=\"top\">2021</th>\n",
       "      <th>11</th>\n",
       "      <td>553</td>\n",
       "      <td>553</td>\n",
       "      <td>553</td>\n",
       "      <td>553</td>\n",
       "    </tr>\n",
       "    <tr>\n",
       "      <th>12</th>\n",
       "      <td>678</td>\n",
       "      <td>678</td>\n",
       "      <td>678</td>\n",
       "      <td>678</td>\n",
       "    </tr>\n",
       "    <tr>\n",
       "      <th rowspan=\"3\" valign=\"top\">2022</th>\n",
       "      <th>1</th>\n",
       "      <td>386</td>\n",
       "      <td>386</td>\n",
       "      <td>386</td>\n",
       "      <td>386</td>\n",
       "    </tr>\n",
       "    <tr>\n",
       "      <th>2</th>\n",
       "      <td>470</td>\n",
       "      <td>470</td>\n",
       "      <td>470</td>\n",
       "      <td>470</td>\n",
       "    </tr>\n",
       "    <tr>\n",
       "      <th>3</th>\n",
       "      <td>203</td>\n",
       "      <td>203</td>\n",
       "      <td>203</td>\n",
       "      <td>203</td>\n",
       "    </tr>\n",
       "  </tbody>\n",
       "</table>\n",
       "</div>"
      ],
      "text/plain": [
       "             nombre  procedencia  opinion  viajo_con\n",
       "fecha fecha                                         \n",
       "2021  11        553          553      553        553\n",
       "      12        678          678      678        678\n",
       "2022  1         386          386      386        386\n",
       "      2         470          470      470        470\n",
       "      3         203          203      203        203"
      ]
     },
     "execution_count": 363,
     "metadata": {},
     "output_type": "execute_result"
    }
   ],
   "source": [
    "df_numero_turistas_fecha.tail(5)"
   ]
  },
  {
   "cell_type": "code",
   "execution_count": 364,
   "metadata": {},
   "outputs": [],
   "source": [
    "df_numero_turistas_fecha = df_numero_turistas_fecha.drop(['procedencia', 'opinion', 'viajo_con'], axis=1).rename(columns={'nombre':'numero_turistas'})"
   ]
  },
  {
   "cell_type": "code",
   "execution_count": 375,
   "metadata": {},
   "outputs": [
    {
     "data": {
      "text/html": [
       "<div>\n",
       "<style scoped>\n",
       "    .dataframe tbody tr th:only-of-type {\n",
       "        vertical-align: middle;\n",
       "    }\n",
       "\n",
       "    .dataframe tbody tr th {\n",
       "        vertical-align: top;\n",
       "    }\n",
       "\n",
       "    .dataframe thead th {\n",
       "        text-align: right;\n",
       "    }\n",
       "</style>\n",
       "<table border=\"1\" class=\"dataframe\">\n",
       "  <thead>\n",
       "    <tr style=\"text-align: right;\">\n",
       "      <th></th>\n",
       "      <th></th>\n",
       "      <th>numero_turistas</th>\n",
       "    </tr>\n",
       "    <tr>\n",
       "      <th>fecha</th>\n",
       "      <th>fecha</th>\n",
       "      <th></th>\n",
       "    </tr>\n",
       "  </thead>\n",
       "  <tbody>\n",
       "    <tr>\n",
       "      <th rowspan=\"5\" valign=\"top\">2017</th>\n",
       "      <th>6</th>\n",
       "      <td>19</td>\n",
       "    </tr>\n",
       "    <tr>\n",
       "      <th>7</th>\n",
       "      <td>26</td>\n",
       "    </tr>\n",
       "    <tr>\n",
       "      <th>8</th>\n",
       "      <td>82</td>\n",
       "    </tr>\n",
       "    <tr>\n",
       "      <th>9</th>\n",
       "      <td>58</td>\n",
       "    </tr>\n",
       "    <tr>\n",
       "      <th>10</th>\n",
       "      <td>34</td>\n",
       "    </tr>\n",
       "  </tbody>\n",
       "</table>\n",
       "</div>"
      ],
      "text/plain": [
       "             numero_turistas\n",
       "fecha fecha                 \n",
       "2017  6                   19\n",
       "      7                   26\n",
       "      8                   82\n",
       "      9                   58\n",
       "      10                  34"
      ]
     },
     "execution_count": 375,
     "metadata": {},
     "output_type": "execute_result"
    }
   ],
   "source": [
    "df_numero_turistas_fecha.head(5)"
   ]
  },
  {
   "cell_type": "code",
   "execution_count": 376,
   "metadata": {},
   "outputs": [],
   "source": [
    "df_numero_turistas_fecha.to_pickle(r'C:\\Users\\mituc\\Ironhack\\Curso\\IronLabs\\Proyecto-1\\data\\numero_turistas_fecha.pkl')\n"
   ]
  }
 ],
 "metadata": {
  "interpreter": {
   "hash": "ba1db81cc109b82b4f074f14705a6c6c4ac73c66313ff5962e6e84ea5725364a"
  },
  "kernelspec": {
   "display_name": "Python 3.8.8 ('base': conda)",
   "language": "python",
   "name": "python3"
  },
  "language_info": {
   "codemirror_mode": {
    "name": "ipython",
    "version": 3
   },
   "file_extension": ".py",
   "mimetype": "text/x-python",
   "name": "python",
   "nbconvert_exporter": "python",
   "pygments_lexer": "ipython3",
   "version": "3.9.7"
  },
  "orig_nbformat": 4
 },
 "nbformat": 4,
 "nbformat_minor": 2
}
