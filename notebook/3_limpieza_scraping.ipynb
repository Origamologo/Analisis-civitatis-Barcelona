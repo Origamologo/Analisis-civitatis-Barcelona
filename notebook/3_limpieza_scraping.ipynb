{
 "cells": [
  {
   "cell_type": "code",
   "execution_count": 192,
   "metadata": {},
   "outputs": [],
   "source": [
    "import re\n",
    "import pandas as pd\n",
    "sys.path.append('../')\n",
    "import src.limpieza as lmp\n",
    "import numpy as np"
   ]
  },
  {
   "cell_type": "code",
   "execution_count": 193,
   "metadata": {},
   "outputs": [],
   "source": [
    "pd.options.display.max_columns = None"
   ]
  },
  {
   "cell_type": "code",
   "execution_count": 194,
   "metadata": {},
   "outputs": [],
   "source": [
    "revius = open(\"output1.html\", \"r\", encoding='utf-8').readlines()"
   ]
  },
  {
   "cell_type": "code",
   "execution_count": 196,
   "metadata": {},
   "outputs": [],
   "source": [
    "civitatis = [' '.join(str(i) for i in revius)]"
   ]
  },
  {
   "cell_type": "code",
   "execution_count": 197,
   "metadata": {},
   "outputs": [
    {
     "name": "stdout",
     "output_type": "stream",
     "text": [
      "1\n"
     ]
    }
   ],
   "source": [
    "print(len(civitatis))"
   ]
  },
  {
   "cell_type": "code",
   "execution_count": 198,
   "metadata": {},
   "outputs": [],
   "source": [
    "corte = '\\ue9ce\\ue9ce\\ue9ce\\ue9ce\\ue9ce\\n'\n",
    "civitatis_ = civitatis[0].split(corte)"
   ]
  },
  {
   "cell_type": "code",
   "execution_count": 199,
   "metadata": {},
   "outputs": [],
   "source": [
    "civitatis_revius = [i for i in civitatis_[2::2]]"
   ]
  },
  {
   "cell_type": "code",
   "execution_count": 200,
   "metadata": {},
   "outputs": [],
   "source": [
    "civitatis_revius_limpio = [i.split('\\n') for i in civitatis_revius]"
   ]
  },
  {
   "cell_type": "code",
   "execution_count": 201,
   "metadata": {},
   "outputs": [
    {
     "name": "stdout",
     "output_type": "stream",
     "text": [
      "{4, 5, 6, 7, 8, 9, 10, 11, 12, 13}\n"
     ]
    }
   ],
   "source": [
    "longitud = [len(i) for i in civitatis_revius_limpio]\n",
    "long_ = set(longitud)\n",
    "print(long_)"
   ]
  },
  {
   "cell_type": "code",
   "execution_count": 202,
   "metadata": {},
   "outputs": [
    {
     "name": "stdout",
     "output_type": "stream",
     "text": [
      "[' 11 / Mar / 2022', ' A', ' Anónimo', ' ']\n",
      "[' 10 / Mar / 2022', ' D', ' Diana Cruz Torres', ' Toa Alta, Puerto Rico', ' ']\n",
      "[' 11 / Mar / 2022', ' A', ' Ainhoa', ' España', ' Viajó en pareja', ' ']\n",
      "[' 11 / Mar / 2022', ' A', ' Ana', ' Madrid, España', ' Victor es encantador, te explica todo al detalle y te resuelve todas las preguntas, volvería a repetir, me a encantado.', ' Viajó con hijos mayores', ' ']\n",
      "[' 11 / Mar / 2022', ' G', ' Graciela Arguelles', ' Guanajuato, Montenegro', ' Excelente recorrido ️️️️️', ' Opinión traducida. Mostrar en idioma original', ' Viajó con amigos', ' ']\n",
      "[' 08 / Mar / 2022', ' A', ' Anónimo', ' 16195 opiniones', ' Mostrando 37-48', ' primera anterior', ' Página 2 Página 3 Página 4 Página 5 Página 6', ' siguiente última', ' ']\n",
      "[' 10 / Feb / 2022', ' A', ' Anónimo', ' Viajó solo', ' 16195 opiniones', ' Mostrando 469-480', ' primera anterior', ' Página 38 Página 39 Página 40 Página 41 Página 42', ' siguiente última', ' ']\n",
      "[' 11 / Mar / 2022', ' M', ' María José Campillo Mateo', ' Murcia, España', ' Viajó en pareja', ' 16195 opiniones', ' Mostrando 1-12', ' primera anterior', ' Página 1 Página 2 Página 3 Página 4', ' siguiente última', ' ']\n",
      "[' 10 / Mar / 2022', ' G', ' Gonzalo', ' Madrid, España', ' La excursion fue magnifica y Monica una excelente guia. Muy contentos', ' Viajó en pareja', ' 16195 opiniones', ' Mostrando 13-24', ' primera anterior', ' Página 1 Página 2 Página 3 Página 4', ' siguiente última', ' ']\n",
      "[' 04 / Dic / 2021', ' P', ' Paula Alexandra', ' Aveiro, Portugal', ' Salvador es una muy buena guía, amigable y práctica. La visita fue excelente. Gracias. Hasta la próxima', ' Opinión traducida. Mostrar en idioma original', ' Viajó solo', ' 16195 opiniones', ' Mostrando 1549-1560', ' primera anterior', ' Página 128 Página 129 Página 130 Página 131 Página 132', ' siguiente última', ' ']\n"
     ]
    }
   ],
   "source": [
    "for i in range(0,14):\n",
    "    for a in civitatis_revius_limpio:\n",
    "        if len(a)==i:\n",
    "            print(a)\n",
    "            break"
   ]
  },
  {
   "cell_type": "code",
   "execution_count": 203,
   "metadata": {},
   "outputs": [],
   "source": [
    "civitatis_limpio_oi = lmp.pulir(civitatis_revius_limpio)\n",
    "civitatis_reluciente = lmp.quitar_respuestas(civitatis_limpio_oi)\n"
   ]
  },
  {
   "cell_type": "code",
   "execution_count": 204,
   "metadata": {},
   "outputs": [
    {
     "name": "stdout",
     "output_type": "stream",
     "text": [
      "{2, 3, 4, 5}\n"
     ]
    }
   ],
   "source": [
    "longitud = [len(i) for i in civitatis_reluciente]\n",
    "long_ = set(longitud)\n",
    "print(long_)"
   ]
  },
  {
   "cell_type": "code",
   "execution_count": 205,
   "metadata": {},
   "outputs": [
    {
     "data": {
      "text/plain": [
       "16231"
      ]
     },
     "execution_count": 205,
     "metadata": {},
     "output_type": "execute_result"
    }
   ],
   "source": [
    "len(civitatis_reluciente)"
   ]
  },
  {
   "cell_type": "code",
   "execution_count": 206,
   "metadata": {},
   "outputs": [],
   "source": [
    "dict_revius = lmp.dict_civitatis_completo(civitatis_reluciente)"
   ]
  },
  {
   "cell_type": "code",
   "execution_count": 207,
   "metadata": {},
   "outputs": [
    {
     "data": {
      "text/plain": [
       "True"
      ]
     },
     "execution_count": 207,
     "metadata": {},
     "output_type": "execute_result"
    }
   ],
   "source": [
    "len(dict_revius['fecha']) == len(dict_revius['nombre']) == len(dict_revius['procedencia']) == len(dict_revius['opinion']) == len(dict_revius['viajo_con'])"
   ]
  },
  {
   "cell_type": "code",
   "execution_count": 208,
   "metadata": {},
   "outputs": [],
   "source": [
    "df_civitatis = pd.DataFrame(dict_revius)"
   ]
  },
  {
   "cell_type": "code",
   "execution_count": 209,
   "metadata": {},
   "outputs": [
    {
     "data": {
      "text/html": [
       "<div>\n",
       "<style scoped>\n",
       "    .dataframe tbody tr th:only-of-type {\n",
       "        vertical-align: middle;\n",
       "    }\n",
       "\n",
       "    .dataframe tbody tr th {\n",
       "        vertical-align: top;\n",
       "    }\n",
       "\n",
       "    .dataframe thead th {\n",
       "        text-align: right;\n",
       "    }\n",
       "</style>\n",
       "<table border=\"1\" class=\"dataframe\">\n",
       "  <thead>\n",
       "    <tr style=\"text-align: right;\">\n",
       "      <th></th>\n",
       "      <th>fecha</th>\n",
       "      <th>nombre</th>\n",
       "      <th>procedencia</th>\n",
       "      <th>opinion</th>\n",
       "      <th>viajo_con</th>\n",
       "    </tr>\n",
       "  </thead>\n",
       "  <tbody>\n",
       "    <tr>\n",
       "      <th>0</th>\n",
       "      <td>11 / Mar / 2022</td>\n",
       "      <td>Ana</td>\n",
       "      <td>Madrid, España</td>\n",
       "      <td>Victor es encantador, te explica todo al deta...</td>\n",
       "      <td>Viajó con hijos mayores</td>\n",
       "    </tr>\n",
       "    <tr>\n",
       "      <th>1</th>\n",
       "      <td>11 / Mar / 2022</td>\n",
       "      <td>Montserrat</td>\n",
       "      <td>España</td>\n",
       "      <td>Casi 3 horas de tour pero Víctor, el guía que...</td>\n",
       "      <td>Viajó solo</td>\n",
       "    </tr>\n",
       "    <tr>\n",
       "      <th>2</th>\n",
       "      <td>11 / Mar / 2022</td>\n",
       "      <td>Ainhoa</td>\n",
       "      <td>España</td>\n",
       "      <td></td>\n",
       "      <td>Viajó en pareja</td>\n",
       "    </tr>\n",
       "    <tr>\n",
       "      <th>3</th>\n",
       "      <td>11 / Mar / 2022</td>\n",
       "      <td>Patricia Suárez Carrillo</td>\n",
       "      <td>Madrid, España</td>\n",
       "      <td>A mi pareja y a mi nos ha encantado! Nuestro ...</td>\n",
       "      <td>Viajó en pareja</td>\n",
       "    </tr>\n",
       "    <tr>\n",
       "      <th>4</th>\n",
       "      <td>11 / Mar / 2022</td>\n",
       "      <td>Anónimo</td>\n",
       "      <td></td>\n",
       "      <td></td>\n",
       "      <td></td>\n",
       "    </tr>\n",
       "  </tbody>\n",
       "</table>\n",
       "</div>"
      ],
      "text/plain": [
       "              fecha                     nombre      procedencia  \\\n",
       "0   11 / Mar / 2022                        Ana   Madrid, España   \n",
       "1   11 / Mar / 2022                 Montserrat           España   \n",
       "2   11 / Mar / 2022                     Ainhoa           España   \n",
       "3   11 / Mar / 2022   Patricia Suárez Carrillo   Madrid, España   \n",
       "4   11 / Mar / 2022                    Anónimo                    \n",
       "\n",
       "                                             opinion                 viajo_con  \n",
       "0   Victor es encantador, te explica todo al deta...   Viajó con hijos mayores  \n",
       "1   Casi 3 horas de tour pero Víctor, el guía que...                Viajó solo  \n",
       "2                                                              Viajó en pareja  \n",
       "3   A mi pareja y a mi nos ha encantado! Nuestro ...           Viajó en pareja  \n",
       "4                                                                               "
      ]
     },
     "execution_count": 209,
     "metadata": {},
     "output_type": "execute_result"
    }
   ],
   "source": [
    "df_civitatis.head(5)"
   ]
  },
  {
   "cell_type": "code",
   "execution_count": 210,
   "metadata": {},
   "outputs": [
    {
     "data": {
      "text/plain": [
       "(16231, 5)"
      ]
     },
     "execution_count": 210,
     "metadata": {},
     "output_type": "execute_result"
    }
   ],
   "source": [
    "df_civitatis.shape"
   ]
  },
  {
   "cell_type": "code",
   "execution_count": 211,
   "metadata": {},
   "outputs": [
    {
     "data": {
      "text/plain": [
       "4690"
      ]
     },
     "execution_count": 211,
     "metadata": {},
     "output_type": "execute_result"
    }
   ],
   "source": [
    "df_civitatis.duplicated().sum()"
   ]
  },
  {
   "cell_type": "markdown",
   "metadata": {},
   "source": [
    "We can se that we have quite a lot of duplicates, actually around 29% of the rows seem to be replicated but, is this completely truth?"
   ]
  },
  {
   "cell_type": "code",
   "execution_count": 212,
   "metadata": {},
   "outputs": [
    {
     "data": {
      "text/html": [
       "<div>\n",
       "<style scoped>\n",
       "    .dataframe tbody tr th:only-of-type {\n",
       "        vertical-align: middle;\n",
       "    }\n",
       "\n",
       "    .dataframe tbody tr th {\n",
       "        vertical-align: top;\n",
       "    }\n",
       "\n",
       "    .dataframe thead th {\n",
       "        text-align: right;\n",
       "    }\n",
       "</style>\n",
       "<table border=\"1\" class=\"dataframe\">\n",
       "  <thead>\n",
       "    <tr style=\"text-align: right;\">\n",
       "      <th></th>\n",
       "      <th>fecha</th>\n",
       "      <th>nombre</th>\n",
       "      <th>procedencia</th>\n",
       "      <th>opinion</th>\n",
       "      <th>viajo_con</th>\n",
       "    </tr>\n",
       "  </thead>\n",
       "  <tbody>\n",
       "    <tr>\n",
       "      <th>12</th>\n",
       "      <td>11 / Mar / 2022</td>\n",
       "      <td>Ana</td>\n",
       "      <td>Madrid, España</td>\n",
       "      <td>Victor es encantador, te explica todo al deta...</td>\n",
       "      <td>Viajó con hijos mayores</td>\n",
       "    </tr>\n",
       "    <tr>\n",
       "      <th>13</th>\n",
       "      <td>11 / Mar / 2022</td>\n",
       "      <td>Montserrat</td>\n",
       "      <td>España</td>\n",
       "      <td>Casi 3 horas de tour pero Víctor, el guía que...</td>\n",
       "      <td>Viajó solo</td>\n",
       "    </tr>\n",
       "    <tr>\n",
       "      <th>14</th>\n",
       "      <td>11 / Mar / 2022</td>\n",
       "      <td>Ainhoa</td>\n",
       "      <td>España</td>\n",
       "      <td></td>\n",
       "      <td>Viajó en pareja</td>\n",
       "    </tr>\n",
       "    <tr>\n",
       "      <th>15</th>\n",
       "      <td>11 / Mar / 2022</td>\n",
       "      <td>Patricia Suárez Carrillo</td>\n",
       "      <td>Madrid, España</td>\n",
       "      <td>A mi pareja y a mi nos ha encantado! Nuestro ...</td>\n",
       "      <td>Viajó en pareja</td>\n",
       "    </tr>\n",
       "    <tr>\n",
       "      <th>16</th>\n",
       "      <td>11 / Mar / 2022</td>\n",
       "      <td>Anónimo</td>\n",
       "      <td></td>\n",
       "      <td></td>\n",
       "      <td></td>\n",
       "    </tr>\n",
       "    <tr>\n",
       "      <th>...</th>\n",
       "      <td>...</td>\n",
       "      <td>...</td>\n",
       "      <td>...</td>\n",
       "      <td>...</td>\n",
       "      <td>...</td>\n",
       "    </tr>\n",
       "    <tr>\n",
       "      <th>16177</th>\n",
       "      <td>04 / May / 2019</td>\n",
       "      <td>Anónimo</td>\n",
       "      <td>España</td>\n",
       "      <td></td>\n",
       "      <td></td>\n",
       "    </tr>\n",
       "    <tr>\n",
       "      <th>16190</th>\n",
       "      <td>06 / Mar / 2019</td>\n",
       "      <td>Anónimo</td>\n",
       "      <td>España</td>\n",
       "      <td></td>\n",
       "      <td></td>\n",
       "    </tr>\n",
       "    <tr>\n",
       "      <th>16196</th>\n",
       "      <td>15 / Feb / 2019</td>\n",
       "      <td>Anónimo</td>\n",
       "      <td>España</td>\n",
       "      <td></td>\n",
       "      <td></td>\n",
       "    </tr>\n",
       "    <tr>\n",
       "      <th>16198</th>\n",
       "      <td>08 / Feb / 2019</td>\n",
       "      <td>Anónimo</td>\n",
       "      <td>España</td>\n",
       "      <td></td>\n",
       "      <td></td>\n",
       "    </tr>\n",
       "    <tr>\n",
       "      <th>16221</th>\n",
       "      <td>14 / Oct / 2018</td>\n",
       "      <td>Anónimo</td>\n",
       "      <td>España</td>\n",
       "      <td></td>\n",
       "      <td></td>\n",
       "    </tr>\n",
       "  </tbody>\n",
       "</table>\n",
       "<p>4690 rows × 5 columns</p>\n",
       "</div>"
      ],
      "text/plain": [
       "                  fecha                     nombre      procedencia  \\\n",
       "12      11 / Mar / 2022                        Ana   Madrid, España   \n",
       "13      11 / Mar / 2022                 Montserrat           España   \n",
       "14      11 / Mar / 2022                     Ainhoa           España   \n",
       "15      11 / Mar / 2022   Patricia Suárez Carrillo   Madrid, España   \n",
       "16      11 / Mar / 2022                    Anónimo                    \n",
       "...                 ...                        ...              ...   \n",
       "16177   04 / May / 2019                    Anónimo           España   \n",
       "16190   06 / Mar / 2019                    Anónimo           España   \n",
       "16196   15 / Feb / 2019                    Anónimo           España   \n",
       "16198   08 / Feb / 2019                    Anónimo           España   \n",
       "16221   14 / Oct / 2018                    Anónimo           España   \n",
       "\n",
       "                                                 opinion  \\\n",
       "12      Victor es encantador, te explica todo al deta...   \n",
       "13      Casi 3 horas de tour pero Víctor, el guía que...   \n",
       "14                                                         \n",
       "15      A mi pareja y a mi nos ha encantado! Nuestro ...   \n",
       "16                                                         \n",
       "...                                                  ...   \n",
       "16177                                                      \n",
       "16190                                                      \n",
       "16196                                                      \n",
       "16198                                                      \n",
       "16221                                                      \n",
       "\n",
       "                      viajo_con  \n",
       "12      Viajó con hijos mayores  \n",
       "13                   Viajó solo  \n",
       "14              Viajó en pareja  \n",
       "15              Viajó en pareja  \n",
       "16                               \n",
       "...                         ...  \n",
       "16177                            \n",
       "16190                            \n",
       "16196                            \n",
       "16198                            \n",
       "16221                            \n",
       "\n",
       "[4690 rows x 5 columns]"
      ]
     },
     "execution_count": 212,
     "metadata": {},
     "output_type": "execute_result"
    }
   ],
   "source": [
    "df_civitatis[df_civitatis.duplicated() == True]"
   ]
  },
  {
   "cell_type": "code",
   "execution_count": 213,
   "metadata": {},
   "outputs": [
    {
     "data": {
      "text/plain": [
       "' Casi 3 horas de tour pero Víctor, el guía que nos ha acompañado ha sido un encanto. Hemos andado muchísimo pero ha merecido la pena porque se nota que le gusta mucho su trabajo y se ha hecho muy ameno y emocionante. Sin duda un tour 100% recomendado con este guía. Gracias por hacernos pasar una mañana increíble.'"
      ]
     },
     "execution_count": 213,
     "metadata": {},
     "output_type": "execute_result"
    }
   ],
   "source": [
    "df_civitatis.iloc[13,3]"
   ]
  },
  {
   "cell_type": "code",
   "execution_count": 214,
   "metadata": {},
   "outputs": [
    {
     "data": {
      "text/html": [
       "<div>\n",
       "<style scoped>\n",
       "    .dataframe tbody tr th:only-of-type {\n",
       "        vertical-align: middle;\n",
       "    }\n",
       "\n",
       "    .dataframe tbody tr th {\n",
       "        vertical-align: top;\n",
       "    }\n",
       "\n",
       "    .dataframe thead th {\n",
       "        text-align: right;\n",
       "    }\n",
       "</style>\n",
       "<table border=\"1\" class=\"dataframe\">\n",
       "  <thead>\n",
       "    <tr style=\"text-align: right;\">\n",
       "      <th></th>\n",
       "      <th>fecha</th>\n",
       "      <th>nombre</th>\n",
       "      <th>procedencia</th>\n",
       "      <th>opinion</th>\n",
       "      <th>viajo_con</th>\n",
       "    </tr>\n",
       "  </thead>\n",
       "  <tbody>\n",
       "  </tbody>\n",
       "</table>\n",
       "</div>"
      ],
      "text/plain": [
       "Empty DataFrame\n",
       "Columns: [fecha, nombre, procedencia, opinion, viajo_con]\n",
       "Index: []"
      ]
     },
     "execution_count": 214,
     "metadata": {},
     "output_type": "execute_result"
    }
   ],
   "source": [
    "df_civitatis[df_civitatis['opinion'] == 'Casi 3 horas de tour pero Víctor, el guía que nos ha acompañado ha sido un encanto. Hemos andado muchísimo pero ha merecido la pena porque se nota que le gusta mucho su trabajo y se ha hecho muy ameno y emocionante. Sin duda un tour 100% recomendado con este guía. Gracias por hacernos pasar una mañana increíble.']\n"
   ]
  },
  {
   "cell_type": "markdown",
   "metadata": {},
   "source": [
    "We can be absolutely sure that the we have doubled values only if we check the column 'opinion', as it's the only one unrepeatable. On the other hand, we can easely have several people from Spain doing a tour the same day who wouldn't leave their names, so all of them will appear as 'Anonimo' and 'España' with the other columns in blank, and pandas will take them as duplicates while they actually were different clients.\n",
    "So let's analize this in two different data frames. First let's take the revius with the 'opinion' column filled."
   ]
  },
  {
   "cell_type": "code",
   "execution_count": 215,
   "metadata": {},
   "outputs": [],
   "source": [
    "dict_revius_5 = lmp.dict_civitatis_5(civitatis_reluciente)"
   ]
  },
  {
   "cell_type": "code",
   "execution_count": 216,
   "metadata": {},
   "outputs": [],
   "source": [
    "df_civitatis_5 = pd.DataFrame(dict_revius_5)"
   ]
  },
  {
   "cell_type": "code",
   "execution_count": 217,
   "metadata": {},
   "outputs": [
    {
     "data": {
      "text/plain": [
       "(8953, 5)"
      ]
     },
     "execution_count": 217,
     "metadata": {},
     "output_type": "execute_result"
    }
   ],
   "source": [
    "df_civitatis_5.shape"
   ]
  },
  {
   "cell_type": "code",
   "execution_count": 218,
   "metadata": {},
   "outputs": [
    {
     "data": {
      "text/html": [
       "<div>\n",
       "<style scoped>\n",
       "    .dataframe tbody tr th:only-of-type {\n",
       "        vertical-align: middle;\n",
       "    }\n",
       "\n",
       "    .dataframe tbody tr th {\n",
       "        vertical-align: top;\n",
       "    }\n",
       "\n",
       "    .dataframe thead th {\n",
       "        text-align: right;\n",
       "    }\n",
       "</style>\n",
       "<table border=\"1\" class=\"dataframe\">\n",
       "  <thead>\n",
       "    <tr style=\"text-align: right;\">\n",
       "      <th></th>\n",
       "      <th>fecha</th>\n",
       "      <th>nombre</th>\n",
       "      <th>procedencia</th>\n",
       "      <th>opinion</th>\n",
       "      <th>viajo_con</th>\n",
       "    </tr>\n",
       "  </thead>\n",
       "  <tbody>\n",
       "    <tr>\n",
       "      <th>0</th>\n",
       "      <td>11 / Mar / 2022</td>\n",
       "      <td>Ana</td>\n",
       "      <td>Madrid, España</td>\n",
       "      <td>Victor es encantador, te explica todo al deta...</td>\n",
       "      <td>Viajó con hijos mayores</td>\n",
       "    </tr>\n",
       "    <tr>\n",
       "      <th>1</th>\n",
       "      <td>11 / Mar / 2022</td>\n",
       "      <td>Montserrat</td>\n",
       "      <td>España</td>\n",
       "      <td>Casi 3 horas de tour pero Víctor, el guía que...</td>\n",
       "      <td>Viajó solo</td>\n",
       "    </tr>\n",
       "    <tr>\n",
       "      <th>2</th>\n",
       "      <td>11 / Mar / 2022</td>\n",
       "      <td>Patricia Suárez Carrillo</td>\n",
       "      <td>Madrid, España</td>\n",
       "      <td>A mi pareja y a mi nos ha encantado! Nuestro ...</td>\n",
       "      <td>Viajó en pareja</td>\n",
       "    </tr>\n",
       "    <tr>\n",
       "      <th>3</th>\n",
       "      <td>11 / Mar / 2022</td>\n",
       "      <td>Saray</td>\n",
       "      <td>Alicante, España</td>\n",
       "      <td>El guia del tour, Ponce, Genial.</td>\n",
       "      <td>Viajó con amigos</td>\n",
       "    </tr>\n",
       "    <tr>\n",
       "      <th>4</th>\n",
       "      <td>11 / Mar / 2022</td>\n",
       "      <td>Tania Carrera Garcia</td>\n",
       "      <td>España</td>\n",
       "      <td>Mónica ha sido una guía genial, nos ha explic...</td>\n",
       "      <td>Viajó con amigos</td>\n",
       "    </tr>\n",
       "  </tbody>\n",
       "</table>\n",
       "</div>"
      ],
      "text/plain": [
       "              fecha                     nombre        procedencia  \\\n",
       "0   11 / Mar / 2022                        Ana     Madrid, España   \n",
       "1   11 / Mar / 2022                 Montserrat             España   \n",
       "2   11 / Mar / 2022   Patricia Suárez Carrillo     Madrid, España   \n",
       "3   11 / Mar / 2022                      Saray   Alicante, España   \n",
       "4   11 / Mar / 2022       Tania Carrera Garcia             España   \n",
       "\n",
       "                                             opinion                 viajo_con  \n",
       "0   Victor es encantador, te explica todo al deta...   Viajó con hijos mayores  \n",
       "1   Casi 3 horas de tour pero Víctor, el guía que...                Viajó solo  \n",
       "2   A mi pareja y a mi nos ha encantado! Nuestro ...           Viajó en pareja  \n",
       "3                   El guia del tour, Ponce, Genial.          Viajó con amigos  \n",
       "4   Mónica ha sido una guía genial, nos ha explic...          Viajó con amigos  "
      ]
     },
     "execution_count": 218,
     "metadata": {},
     "output_type": "execute_result"
    }
   ],
   "source": [
    "df_civitatis_5.head(5)"
   ]
  },
  {
   "cell_type": "code",
   "execution_count": 219,
   "metadata": {},
   "outputs": [
    {
     "data": {
      "text/plain": [
       "2114"
      ]
     },
     "execution_count": 219,
     "metadata": {},
     "output_type": "execute_result"
    }
   ],
   "source": [
    "df_civitatis_5.duplicated().sum()"
   ]
  },
  {
   "cell_type": "code",
   "execution_count": 220,
   "metadata": {},
   "outputs": [
    {
     "data": {
      "text/html": [
       "<div>\n",
       "<style scoped>\n",
       "    .dataframe tbody tr th:only-of-type {\n",
       "        vertical-align: middle;\n",
       "    }\n",
       "\n",
       "    .dataframe tbody tr th {\n",
       "        vertical-align: top;\n",
       "    }\n",
       "\n",
       "    .dataframe thead th {\n",
       "        text-align: right;\n",
       "    }\n",
       "</style>\n",
       "<table border=\"1\" class=\"dataframe\">\n",
       "  <thead>\n",
       "    <tr style=\"text-align: right;\">\n",
       "      <th></th>\n",
       "      <th>fecha</th>\n",
       "      <th>nombre</th>\n",
       "      <th>procedencia</th>\n",
       "      <th>opinion</th>\n",
       "      <th>viajo_con</th>\n",
       "    </tr>\n",
       "  </thead>\n",
       "  <tbody>\n",
       "    <tr>\n",
       "      <th>9</th>\n",
       "      <td>11 / Mar / 2022</td>\n",
       "      <td>Ana</td>\n",
       "      <td>Madrid, España</td>\n",
       "      <td>Victor es encantador, te explica todo al deta...</td>\n",
       "      <td>Viajó con hijos mayores</td>\n",
       "    </tr>\n",
       "    <tr>\n",
       "      <th>10</th>\n",
       "      <td>11 / Mar / 2022</td>\n",
       "      <td>Montserrat</td>\n",
       "      <td>España</td>\n",
       "      <td>Casi 3 horas de tour pero Víctor, el guía que...</td>\n",
       "      <td>Viajó solo</td>\n",
       "    </tr>\n",
       "    <tr>\n",
       "      <th>11</th>\n",
       "      <td>11 / Mar / 2022</td>\n",
       "      <td>Patricia Suárez Carrillo</td>\n",
       "      <td>Madrid, España</td>\n",
       "      <td>A mi pareja y a mi nos ha encantado! Nuestro ...</td>\n",
       "      <td>Viajó en pareja</td>\n",
       "    </tr>\n",
       "    <tr>\n",
       "      <th>12</th>\n",
       "      <td>11 / Mar / 2022</td>\n",
       "      <td>Saray</td>\n",
       "      <td>Alicante, España</td>\n",
       "      <td>El guia del tour, Ponce, Genial.</td>\n",
       "      <td>Viajó con amigos</td>\n",
       "    </tr>\n",
       "    <tr>\n",
       "      <th>13</th>\n",
       "      <td>11 / Mar / 2022</td>\n",
       "      <td>Tania Carrera Garcia</td>\n",
       "      <td>España</td>\n",
       "      <td>Mónica ha sido una guía genial, nos ha explic...</td>\n",
       "      <td>Viajó con amigos</td>\n",
       "    </tr>\n",
       "    <tr>\n",
       "      <th>...</th>\n",
       "      <td>...</td>\n",
       "      <td>...</td>\n",
       "      <td>...</td>\n",
       "      <td>...</td>\n",
       "      <td>...</td>\n",
       "    </tr>\n",
       "    <tr>\n",
       "      <th>8836</th>\n",
       "      <td>15 / Jun / 2017</td>\n",
       "      <td>Pablo</td>\n",
       "      <td>Buenos Aires, Argentina</td>\n",
       "      <td>Excelente paseo y pablo nuestro guia fantastico</td>\n",
       "      <td>Viajó en pareja</td>\n",
       "    </tr>\n",
       "    <tr>\n",
       "      <th>8837</th>\n",
       "      <td>15 / Jun / 2017</td>\n",
       "      <td>Sofia Hernandez</td>\n",
       "      <td>Guatemala, Guatemala</td>\n",
       "      <td>Me gusto mucho, amable y dispuesto a contesta...</td>\n",
       "      <td>Viajó en pareja</td>\n",
       "    </tr>\n",
       "    <tr>\n",
       "      <th>8838</th>\n",
       "      <td>15 / Jun / 2017</td>\n",
       "      <td>Luis</td>\n",
       "      <td>Madrid, España</td>\n",
       "      <td>Una guía agradable de unas dos horas en las q...</td>\n",
       "      <td>Viajó con hijos mayores</td>\n",
       "    </tr>\n",
       "    <tr>\n",
       "      <th>8839</th>\n",
       "      <td>11 / Jun / 2017</td>\n",
       "      <td>Maria</td>\n",
       "      <td>Madrid, España</td>\n",
       "      <td>Nos ha encantado, muy amena y Pablo el guía s...</td>\n",
       "      <td>Viajó en pareja</td>\n",
       "    </tr>\n",
       "    <tr>\n",
       "      <th>8866</th>\n",
       "      <td>25 / Sep / 2021</td>\n",
       "      <td>Rita Cantante</td>\n",
       "      <td>Porto, Portugal</td>\n",
       "      <td>Muy interactivo, muy divertido. ¡Alex sabía m...</td>\n",
       "      <td>Viajó en pareja</td>\n",
       "    </tr>\n",
       "  </tbody>\n",
       "</table>\n",
       "<p>2114 rows × 5 columns</p>\n",
       "</div>"
      ],
      "text/plain": [
       "                 fecha                     nombre               procedencia  \\\n",
       "9      11 / Mar / 2022                        Ana            Madrid, España   \n",
       "10     11 / Mar / 2022                 Montserrat                    España   \n",
       "11     11 / Mar / 2022   Patricia Suárez Carrillo            Madrid, España   \n",
       "12     11 / Mar / 2022                      Saray          Alicante, España   \n",
       "13     11 / Mar / 2022       Tania Carrera Garcia                    España   \n",
       "...                ...                        ...                       ...   \n",
       "8836   15 / Jun / 2017                      Pablo   Buenos Aires, Argentina   \n",
       "8837   15 / Jun / 2017            Sofia Hernandez      Guatemala, Guatemala   \n",
       "8838   15 / Jun / 2017                       Luis            Madrid, España   \n",
       "8839   11 / Jun / 2017                      Maria            Madrid, España   \n",
       "8866   25 / Sep / 2021              Rita Cantante           Porto, Portugal   \n",
       "\n",
       "                                                opinion  \\\n",
       "9      Victor es encantador, te explica todo al deta...   \n",
       "10     Casi 3 horas de tour pero Víctor, el guía que...   \n",
       "11     A mi pareja y a mi nos ha encantado! Nuestro ...   \n",
       "12                     El guia del tour, Ponce, Genial.   \n",
       "13     Mónica ha sido una guía genial, nos ha explic...   \n",
       "...                                                 ...   \n",
       "8836    Excelente paseo y pablo nuestro guia fantastico   \n",
       "8837   Me gusto mucho, amable y dispuesto a contesta...   \n",
       "8838   Una guía agradable de unas dos horas en las q...   \n",
       "8839   Nos ha encantado, muy amena y Pablo el guía s...   \n",
       "8866   Muy interactivo, muy divertido. ¡Alex sabía m...   \n",
       "\n",
       "                     viajo_con  \n",
       "9      Viajó con hijos mayores  \n",
       "10                  Viajó solo  \n",
       "11             Viajó en pareja  \n",
       "12            Viajó con amigos  \n",
       "13            Viajó con amigos  \n",
       "...                        ...  \n",
       "8836           Viajó en pareja  \n",
       "8837           Viajó en pareja  \n",
       "8838   Viajó con hijos mayores  \n",
       "8839           Viajó en pareja  \n",
       "8866           Viajó en pareja  \n",
       "\n",
       "[2114 rows x 5 columns]"
      ]
     },
     "execution_count": 220,
     "metadata": {},
     "output_type": "execute_result"
    }
   ],
   "source": [
    "df_civitatis_5[df_civitatis_5.duplicated() == True]"
   ]
  },
  {
   "cell_type": "code",
   "execution_count": 221,
   "metadata": {},
   "outputs": [
    {
     "data": {
      "text/plain": [
       "' Victor es encantador, te explica todo al detalle y te resuelve todas las preguntas, volvería a repetir, me a encantado.'"
      ]
     },
     "execution_count": 221,
     "metadata": {},
     "output_type": "execute_result"
    }
   ],
   "source": [
    "df_civitatis_5.iloc[0, 3]"
   ]
  },
  {
   "cell_type": "code",
   "execution_count": 222,
   "metadata": {},
   "outputs": [
    {
     "data": {
      "text/html": [
       "<div>\n",
       "<style scoped>\n",
       "    .dataframe tbody tr th:only-of-type {\n",
       "        vertical-align: middle;\n",
       "    }\n",
       "\n",
       "    .dataframe tbody tr th {\n",
       "        vertical-align: top;\n",
       "    }\n",
       "\n",
       "    .dataframe thead th {\n",
       "        text-align: right;\n",
       "    }\n",
       "</style>\n",
       "<table border=\"1\" class=\"dataframe\">\n",
       "  <thead>\n",
       "    <tr style=\"text-align: right;\">\n",
       "      <th></th>\n",
       "      <th>fecha</th>\n",
       "      <th>nombre</th>\n",
       "      <th>procedencia</th>\n",
       "      <th>opinion</th>\n",
       "      <th>viajo_con</th>\n",
       "    </tr>\n",
       "  </thead>\n",
       "  <tbody>\n",
       "    <tr>\n",
       "      <th>0</th>\n",
       "      <td>11 / Mar / 2022</td>\n",
       "      <td>Ana</td>\n",
       "      <td>Madrid, España</td>\n",
       "      <td>Victor es encantador, te explica todo al deta...</td>\n",
       "      <td>Viajó con hijos mayores</td>\n",
       "    </tr>\n",
       "    <tr>\n",
       "      <th>9</th>\n",
       "      <td>11 / Mar / 2022</td>\n",
       "      <td>Ana</td>\n",
       "      <td>Madrid, España</td>\n",
       "      <td>Victor es encantador, te explica todo al deta...</td>\n",
       "      <td>Viajó con hijos mayores</td>\n",
       "    </tr>\n",
       "    <tr>\n",
       "      <th>26</th>\n",
       "      <td>11 / Mar / 2022</td>\n",
       "      <td>Ana</td>\n",
       "      <td>Madrid, España</td>\n",
       "      <td>Victor es encantador, te explica todo al deta...</td>\n",
       "      <td>Viajó con hijos mayores</td>\n",
       "    </tr>\n",
       "  </tbody>\n",
       "</table>\n",
       "</div>"
      ],
      "text/plain": [
       "               fecha nombre      procedencia  \\\n",
       "0    11 / Mar / 2022    Ana   Madrid, España   \n",
       "9    11 / Mar / 2022    Ana   Madrid, España   \n",
       "26   11 / Mar / 2022    Ana   Madrid, España   \n",
       "\n",
       "                                              opinion  \\\n",
       "0    Victor es encantador, te explica todo al deta...   \n",
       "9    Victor es encantador, te explica todo al deta...   \n",
       "26   Victor es encantador, te explica todo al deta...   \n",
       "\n",
       "                   viajo_con  \n",
       "0    Viajó con hijos mayores  \n",
       "9    Viajó con hijos mayores  \n",
       "26   Viajó con hijos mayores  "
      ]
     },
     "execution_count": 222,
     "metadata": {},
     "output_type": "execute_result"
    }
   ],
   "source": [
    "df_civitatis_5[df_civitatis_5['opinion'] == ' Victor es encantador, te explica todo al detalle y te resuelve todas las preguntas, volvería a repetir, me a encantado.']"
   ]
  },
  {
   "cell_type": "markdown",
   "metadata": {},
   "source": [
    "And here we can see that that some reviews are repeated up to three times... \n",
    "Anyway, from the total number of rows, 8953, this means that 23,6% of them are duplicated, a value significantly lower than the 29% we got for whole data frame.\n",
    "Now let's drop the duplicates in this one and then we will work with the reviews that don't have the 'opinion' column filled."
   ]
  },
  {
   "cell_type": "code",
   "execution_count": 223,
   "metadata": {},
   "outputs": [
    {
     "data": {
      "text/plain": [
       "0"
      ]
     },
     "execution_count": 223,
     "metadata": {},
     "output_type": "execute_result"
    }
   ],
   "source": [
    "df_civitatis_5 = df_civitatis_5.drop_duplicates()\n",
    "df_civitatis_5.duplicated().sum()"
   ]
  },
  {
   "cell_type": "code",
   "execution_count": 224,
   "metadata": {},
   "outputs": [
    {
     "data": {
      "text/html": [
       "<div>\n",
       "<style scoped>\n",
       "    .dataframe tbody tr th:only-of-type {\n",
       "        vertical-align: middle;\n",
       "    }\n",
       "\n",
       "    .dataframe tbody tr th {\n",
       "        vertical-align: top;\n",
       "    }\n",
       "\n",
       "    .dataframe thead th {\n",
       "        text-align: right;\n",
       "    }\n",
       "</style>\n",
       "<table border=\"1\" class=\"dataframe\">\n",
       "  <thead>\n",
       "    <tr style=\"text-align: right;\">\n",
       "      <th></th>\n",
       "      <th>fecha</th>\n",
       "      <th>nombre</th>\n",
       "      <th>procedencia</th>\n",
       "      <th>opinion</th>\n",
       "      <th>viajo_con</th>\n",
       "    </tr>\n",
       "  </thead>\n",
       "  <tbody>\n",
       "    <tr>\n",
       "      <th>0</th>\n",
       "      <td>11 / Mar / 2022</td>\n",
       "      <td>Ana</td>\n",
       "      <td>Madrid, España</td>\n",
       "      <td>Victor es encantador, te explica todo al deta...</td>\n",
       "      <td>Viajó con hijos mayores</td>\n",
       "    </tr>\n",
       "  </tbody>\n",
       "</table>\n",
       "</div>"
      ],
      "text/plain": [
       "              fecha nombre      procedencia  \\\n",
       "0   11 / Mar / 2022    Ana   Madrid, España   \n",
       "\n",
       "                                             opinion                 viajo_con  \n",
       "0   Victor es encantador, te explica todo al deta...   Viajó con hijos mayores  "
      ]
     },
     "execution_count": 224,
     "metadata": {},
     "output_type": "execute_result"
    }
   ],
   "source": [
    "df_civitatis_5[df_civitatis_5['opinion'] == ' Victor es encantador, te explica todo al detalle y te resuelve todas las preguntas, volvería a repetir, me a encantado.']"
   ]
  },
  {
   "cell_type": "markdown",
   "metadata": {},
   "source": [
    "All the reviews whithout 'opinion':"
   ]
  },
  {
   "cell_type": "code",
   "execution_count": 225,
   "metadata": {},
   "outputs": [],
   "source": [
    "dict_civitatis_2_4 = lmp.dict_civitatis_2_4(civitatis_reluciente)"
   ]
  },
  {
   "cell_type": "code",
   "execution_count": 226,
   "metadata": {},
   "outputs": [],
   "source": [
    "df_civitatis_2_4 = pd.DataFrame(dict_civitatis_2_4)"
   ]
  },
  {
   "cell_type": "code",
   "execution_count": 227,
   "metadata": {},
   "outputs": [
    {
     "data": {
      "text/plain": [
       "(7278, 5)"
      ]
     },
     "execution_count": 227,
     "metadata": {},
     "output_type": "execute_result"
    }
   ],
   "source": [
    "df_civitatis_2_4.shape"
   ]
  },
  {
   "cell_type": "code",
   "execution_count": 228,
   "metadata": {},
   "outputs": [
    {
     "data": {
      "text/html": [
       "<div>\n",
       "<style scoped>\n",
       "    .dataframe tbody tr th:only-of-type {\n",
       "        vertical-align: middle;\n",
       "    }\n",
       "\n",
       "    .dataframe tbody tr th {\n",
       "        vertical-align: top;\n",
       "    }\n",
       "\n",
       "    .dataframe thead th {\n",
       "        text-align: right;\n",
       "    }\n",
       "</style>\n",
       "<table border=\"1\" class=\"dataframe\">\n",
       "  <thead>\n",
       "    <tr style=\"text-align: right;\">\n",
       "      <th></th>\n",
       "      <th>fecha</th>\n",
       "      <th>nombre</th>\n",
       "      <th>procedencia</th>\n",
       "      <th>opinion</th>\n",
       "      <th>viajo_con</th>\n",
       "    </tr>\n",
       "  </thead>\n",
       "  <tbody>\n",
       "    <tr>\n",
       "      <th>0</th>\n",
       "      <td>11 / Mar / 2022</td>\n",
       "      <td>Ainhoa</td>\n",
       "      <td>España</td>\n",
       "      <td></td>\n",
       "      <td>Viajó en pareja</td>\n",
       "    </tr>\n",
       "    <tr>\n",
       "      <th>1</th>\n",
       "      <td>11 / Mar / 2022</td>\n",
       "      <td>Anónimo</td>\n",
       "      <td></td>\n",
       "      <td></td>\n",
       "      <td></td>\n",
       "    </tr>\n",
       "    <tr>\n",
       "      <th>2</th>\n",
       "      <td>11 / Mar / 2022</td>\n",
       "      <td>María José Campillo Mateo</td>\n",
       "      <td>Murcia, España</td>\n",
       "      <td></td>\n",
       "      <td>Viajó en pareja</td>\n",
       "    </tr>\n",
       "    <tr>\n",
       "      <th>3</th>\n",
       "      <td>11 / Mar / 2022</td>\n",
       "      <td>Ainhoa</td>\n",
       "      <td>España</td>\n",
       "      <td></td>\n",
       "      <td>Viajó en pareja</td>\n",
       "    </tr>\n",
       "    <tr>\n",
       "      <th>4</th>\n",
       "      <td>11 / Mar / 2022</td>\n",
       "      <td>Anónimo</td>\n",
       "      <td></td>\n",
       "      <td></td>\n",
       "      <td></td>\n",
       "    </tr>\n",
       "  </tbody>\n",
       "</table>\n",
       "</div>"
      ],
      "text/plain": [
       "              fecha                      nombre      procedencia opinion  \\\n",
       "0   11 / Mar / 2022                      Ainhoa           España           \n",
       "1   11 / Mar / 2022                     Anónimo                            \n",
       "2   11 / Mar / 2022   María José Campillo Mateo   Murcia, España           \n",
       "3   11 / Mar / 2022                      Ainhoa           España           \n",
       "4   11 / Mar / 2022                     Anónimo                            \n",
       "\n",
       "          viajo_con  \n",
       "0   Viajó en pareja  \n",
       "1                    \n",
       "2   Viajó en pareja  \n",
       "3   Viajó en pareja  \n",
       "4                    "
      ]
     },
     "execution_count": 228,
     "metadata": {},
     "output_type": "execute_result"
    }
   ],
   "source": [
    "df_civitatis_2_4.head(5)"
   ]
  },
  {
   "cell_type": "code",
   "execution_count": 229,
   "metadata": {},
   "outputs": [
    {
     "data": {
      "text/plain": [
       "2576"
      ]
     },
     "execution_count": 229,
     "metadata": {},
     "output_type": "execute_result"
    }
   ],
   "source": [
    "df_civitatis_2_4.duplicated().sum()"
   ]
  },
  {
   "cell_type": "markdown",
   "metadata": {},
   "source": [
    "If we take the reviews without 'opinion', we can see that the number of duplicates is signifincantly higher, around a 35%. This is due to the fact commented above that there can easely be two different clients with the same name (or name and origin) the same day.\n",
    "Taking this into account, we won't drop all the duplicates, as this will alter significantly the data and we will be earasing real tourist from our data frame. But as we cannot state for sure which rows are duplicates and which ones are not, we will ramdomly erase 23% of them, as this seems to be the real percentage of duplicates that the algorithm generates; this means that we are going to drop 1717 rows in stead of the 2576 that pandas duplicated() method proposes."
   ]
  },
  {
   "cell_type": "code",
   "execution_count": 230,
   "metadata": {},
   "outputs": [],
   "source": [
    "df_civitatis_2_4 = lmp.drop_tourist(df_civitatis_2_4)"
   ]
  },
  {
   "cell_type": "markdown",
   "metadata": {},
   "source": [
    "And we check that 23.6% of the rows are gone"
   ]
  },
  {
   "cell_type": "code",
   "execution_count": 231,
   "metadata": {},
   "outputs": [
    {
     "data": {
      "text/plain": [
       "(5561, 5)"
      ]
     },
     "execution_count": 231,
     "metadata": {},
     "output_type": "execute_result"
    }
   ],
   "source": [
    "df_civitatis_2_4.shape"
   ]
  },
  {
   "cell_type": "markdown",
   "metadata": {},
   "source": [
    "Now that we have both datesets cleaned of duplicates, we can concatenate them"
   ]
  },
  {
   "cell_type": "code",
   "execution_count": 232,
   "metadata": {},
   "outputs": [],
   "source": [
    "pd_civitatis = pd.concat([df_civitatis_5, df_civitatis_2_4])"
   ]
  },
  {
   "cell_type": "code",
   "execution_count": 233,
   "metadata": {},
   "outputs": [
    {
     "data": {
      "text/plain": [
       "(12400, 5)"
      ]
     },
     "execution_count": 233,
     "metadata": {},
     "output_type": "execute_result"
    }
   ],
   "source": [
    "pd_civitatis.shape"
   ]
  },
  {
   "cell_type": "markdown",
   "metadata": {},
   "source": [
    "Above we verify that 23.6% of the rows are gone. From 16231 at the begining, now we have 12400.\n",
    "\n",
    "Time to clean the data"
   ]
  },
  {
   "cell_type": "code",
   "execution_count": 234,
   "metadata": {},
   "outputs": [
    {
     "data": {
      "text/html": [
       "<div>\n",
       "<style scoped>\n",
       "    .dataframe tbody tr th:only-of-type {\n",
       "        vertical-align: middle;\n",
       "    }\n",
       "\n",
       "    .dataframe tbody tr th {\n",
       "        vertical-align: top;\n",
       "    }\n",
       "\n",
       "    .dataframe thead th {\n",
       "        text-align: right;\n",
       "    }\n",
       "</style>\n",
       "<table border=\"1\" class=\"dataframe\">\n",
       "  <thead>\n",
       "    <tr style=\"text-align: right;\">\n",
       "      <th></th>\n",
       "      <th>fecha</th>\n",
       "      <th>nombre</th>\n",
       "      <th>procedencia</th>\n",
       "      <th>opinion</th>\n",
       "      <th>viajo_con</th>\n",
       "    </tr>\n",
       "  </thead>\n",
       "  <tbody>\n",
       "    <tr>\n",
       "      <th>4120</th>\n",
       "      <td>17 / Dic / 2019</td>\n",
       "      <td>Juan Luis</td>\n",
       "      <td>Monterrey, México</td>\n",
       "      <td>Pedro muy amena la informacion.. altamente re...</td>\n",
       "      <td>Viajó con hijos pequeños</td>\n",
       "    </tr>\n",
       "    <tr>\n",
       "      <th>1974</th>\n",
       "      <td>05 / Ago / 2021</td>\n",
       "      <td>Elisa</td>\n",
       "      <td>Segovia, España</td>\n",
       "      <td></td>\n",
       "      <td>Viajó con hijos mayores</td>\n",
       "    </tr>\n",
       "    <tr>\n",
       "      <th>4550</th>\n",
       "      <td>10 / Jul / 2019</td>\n",
       "      <td>Yael</td>\n",
       "      <td>Santiago, Chile</td>\n",
       "      <td></td>\n",
       "      <td>Viajó solo</td>\n",
       "    </tr>\n",
       "    <tr>\n",
       "      <th>5713</th>\n",
       "      <td>05 / Feb / 2019</td>\n",
       "      <td>Melina</td>\n",
       "      <td>Buenos Aires, Argentina</td>\n",
       "      <td></td>\n",
       "      <td>Viajó con hijos mayores</td>\n",
       "    </tr>\n",
       "    <tr>\n",
       "      <th>7867</th>\n",
       "      <td>10 / Sep / 2018</td>\n",
       "      <td>Emiliano Gabriel Terraza Nicosia</td>\n",
       "      <td>Toulouse, Francia</td>\n",
       "      <td>Laura fue una excelente guía; entusiasmo, sim...</td>\n",
       "      <td>Viajó en pareja</td>\n",
       "    </tr>\n",
       "  </tbody>\n",
       "</table>\n",
       "</div>"
      ],
      "text/plain": [
       "                 fecha                             nombre  \\\n",
       "4120   17 / Dic / 2019                          Juan Luis   \n",
       "1974   05 / Ago / 2021                              Elisa   \n",
       "4550   10 / Jul / 2019                               Yael   \n",
       "5713   05 / Feb / 2019                             Melina   \n",
       "7867   10 / Sep / 2018   Emiliano Gabriel Terraza Nicosia   \n",
       "\n",
       "                   procedencia  \\\n",
       "4120         Monterrey, México   \n",
       "1974           Segovia, España   \n",
       "4550           Santiago, Chile   \n",
       "5713   Buenos Aires, Argentina   \n",
       "7867         Toulouse, Francia   \n",
       "\n",
       "                                                opinion  \\\n",
       "4120   Pedro muy amena la informacion.. altamente re...   \n",
       "1974                                                      \n",
       "4550                                                      \n",
       "5713                                                      \n",
       "7867   Laura fue una excelente guía; entusiasmo, sim...   \n",
       "\n",
       "                      viajo_con  \n",
       "4120   Viajó con hijos pequeños  \n",
       "1974    Viajó con hijos mayores  \n",
       "4550                 Viajó solo  \n",
       "5713    Viajó con hijos mayores  \n",
       "7867            Viajó en pareja  "
      ]
     },
     "execution_count": 234,
     "metadata": {},
     "output_type": "execute_result"
    }
   ],
   "source": [
    "pd_civitatis.sample(5)"
   ]
  },
  {
   "cell_type": "markdown",
   "metadata": {},
   "source": [
    "First, we will take away the spaces at the begining and end of the values"
   ]
  },
  {
   "cell_type": "code",
   "execution_count": 235,
   "metadata": {},
   "outputs": [],
   "source": [
    "df_civitatis = lmp.values_sin_espacios(df_civitatis)"
   ]
  },
  {
   "cell_type": "markdown",
   "metadata": {},
   "source": [
    "Now we will deal with the dates ('fecha' column), so they will be in date-time format, as this will be the main criteria we will use to organize the tourist"
   ]
  },
  {
   "cell_type": "code",
   "execution_count": 236,
   "metadata": {},
   "outputs": [
    {
     "data": {
      "text/plain": [
       "'11 / Mar / 2022'"
      ]
     },
     "execution_count": 236,
     "metadata": {},
     "output_type": "execute_result"
    }
   ],
   "source": [
    "df_civitatis.iloc[0,0]"
   ]
  },
  {
   "cell_type": "code",
   "execution_count": 237,
   "metadata": {},
   "outputs": [],
   "source": [
    "df_civitatis = lmp.date_time(df_civitatis)"
   ]
  },
  {
   "cell_type": "code",
   "execution_count": 238,
   "metadata": {},
   "outputs": [
    {
     "data": {
      "text/plain": [
       "Timestamp('2022-03-11 00:00:00')"
      ]
     },
     "execution_count": 238,
     "metadata": {},
     "output_type": "execute_result"
    }
   ],
   "source": [
    "df_civitatis.iloc[0,0]"
   ]
  },
  {
   "cell_type": "code",
   "execution_count": 239,
   "metadata": {},
   "outputs": [
    {
     "data": {
      "text/html": [
       "<div>\n",
       "<style scoped>\n",
       "    .dataframe tbody tr th:only-of-type {\n",
       "        vertical-align: middle;\n",
       "    }\n",
       "\n",
       "    .dataframe tbody tr th {\n",
       "        vertical-align: top;\n",
       "    }\n",
       "\n",
       "    .dataframe thead th {\n",
       "        text-align: right;\n",
       "    }\n",
       "</style>\n",
       "<table border=\"1\" class=\"dataframe\">\n",
       "  <thead>\n",
       "    <tr style=\"text-align: right;\">\n",
       "      <th></th>\n",
       "      <th>fecha</th>\n",
       "      <th>nombre</th>\n",
       "      <th>procedencia</th>\n",
       "      <th>opinion</th>\n",
       "      <th>viajo_con</th>\n",
       "    </tr>\n",
       "  </thead>\n",
       "  <tbody>\n",
       "    <tr>\n",
       "      <th>15955</th>\n",
       "      <td>2017-06-09</td>\n",
       "      <td>Charo</td>\n",
       "      <td>Salamancs, España</td>\n",
       "      <td></td>\n",
       "      <td>Viajó en pareja</td>\n",
       "    </tr>\n",
       "    <tr>\n",
       "      <th>15947</th>\n",
       "      <td>2017-06-09</td>\n",
       "      <td>Charo</td>\n",
       "      <td>Salamancs, España</td>\n",
       "      <td></td>\n",
       "      <td>Viajó en pareja</td>\n",
       "    </tr>\n",
       "    <tr>\n",
       "      <th>15954</th>\n",
       "      <td>2017-06-11</td>\n",
       "      <td>Maria</td>\n",
       "      <td>Madrid, España</td>\n",
       "      <td>Nos ha encantado, muy amena y Pablo el guía su...</td>\n",
       "      <td>Viajó en pareja</td>\n",
       "    </tr>\n",
       "    <tr>\n",
       "      <th>15946</th>\n",
       "      <td>2017-06-11</td>\n",
       "      <td>Maria</td>\n",
       "      <td>Madrid, España</td>\n",
       "      <td>Nos ha encantado, muy amena y Pablo el guía su...</td>\n",
       "      <td>Viajó en pareja</td>\n",
       "    </tr>\n",
       "    <tr>\n",
       "      <th>15952</th>\n",
       "      <td>2017-06-15</td>\n",
       "      <td>Sofia Hernandez</td>\n",
       "      <td>Guatemala, Guatemala</td>\n",
       "      <td>Me gusto mucho, amable y dispuesto a contestar...</td>\n",
       "      <td>Viajó en pareja</td>\n",
       "    </tr>\n",
       "  </tbody>\n",
       "</table>\n",
       "</div>"
      ],
      "text/plain": [
       "           fecha           nombre           procedencia  \\\n",
       "15955 2017-06-09            Charo     Salamancs, España   \n",
       "15947 2017-06-09            Charo     Salamancs, España   \n",
       "15954 2017-06-11            Maria        Madrid, España   \n",
       "15946 2017-06-11            Maria        Madrid, España   \n",
       "15952 2017-06-15  Sofia Hernandez  Guatemala, Guatemala   \n",
       "\n",
       "                                                 opinion        viajo_con  \n",
       "15955                                                     Viajó en pareja  \n",
       "15947                                                     Viajó en pareja  \n",
       "15954  Nos ha encantado, muy amena y Pablo el guía su...  Viajó en pareja  \n",
       "15946  Nos ha encantado, muy amena y Pablo el guía su...  Viajó en pareja  \n",
       "15952  Me gusto mucho, amable y dispuesto a contestar...  Viajó en pareja  "
      ]
     },
     "execution_count": 239,
     "metadata": {},
     "output_type": "execute_result"
    }
   ],
   "source": [
    "df_civitatis.sort_values(by=['fecha']).head(5)"
   ]
  },
  {
   "cell_type": "code",
   "execution_count": 240,
   "metadata": {},
   "outputs": [],
   "source": [
    "df = df_civitatis.set_index('fecha')"
   ]
  },
  {
   "cell_type": "code",
   "execution_count": 241,
   "metadata": {},
   "outputs": [],
   "source": [
    "gb = df.groupby([(df.index.year),(df.index.month)]).count()"
   ]
  },
  {
   "cell_type": "code",
   "execution_count": 242,
   "metadata": {},
   "outputs": [
    {
     "data": {
      "text/html": [
       "<div>\n",
       "<style scoped>\n",
       "    .dataframe tbody tr th:only-of-type {\n",
       "        vertical-align: middle;\n",
       "    }\n",
       "\n",
       "    .dataframe tbody tr th {\n",
       "        vertical-align: top;\n",
       "    }\n",
       "\n",
       "    .dataframe thead th {\n",
       "        text-align: right;\n",
       "    }\n",
       "</style>\n",
       "<table border=\"1\" class=\"dataframe\">\n",
       "  <thead>\n",
       "    <tr style=\"text-align: right;\">\n",
       "      <th></th>\n",
       "      <th></th>\n",
       "      <th>nombre</th>\n",
       "      <th>procedencia</th>\n",
       "      <th>opinion</th>\n",
       "      <th>viajo_con</th>\n",
       "    </tr>\n",
       "    <tr>\n",
       "      <th>fecha</th>\n",
       "      <th>fecha</th>\n",
       "      <th></th>\n",
       "      <th></th>\n",
       "      <th></th>\n",
       "      <th></th>\n",
       "    </tr>\n",
       "  </thead>\n",
       "  <tbody>\n",
       "    <tr>\n",
       "      <th rowspan=\"2\" valign=\"top\">2021</th>\n",
       "      <th>11</th>\n",
       "      <td>553</td>\n",
       "      <td>553</td>\n",
       "      <td>553</td>\n",
       "      <td>553</td>\n",
       "    </tr>\n",
       "    <tr>\n",
       "      <th>12</th>\n",
       "      <td>678</td>\n",
       "      <td>678</td>\n",
       "      <td>678</td>\n",
       "      <td>678</td>\n",
       "    </tr>\n",
       "    <tr>\n",
       "      <th rowspan=\"3\" valign=\"top\">2022</th>\n",
       "      <th>1</th>\n",
       "      <td>386</td>\n",
       "      <td>386</td>\n",
       "      <td>386</td>\n",
       "      <td>386</td>\n",
       "    </tr>\n",
       "    <tr>\n",
       "      <th>2</th>\n",
       "      <td>470</td>\n",
       "      <td>470</td>\n",
       "      <td>470</td>\n",
       "      <td>470</td>\n",
       "    </tr>\n",
       "    <tr>\n",
       "      <th>3</th>\n",
       "      <td>203</td>\n",
       "      <td>203</td>\n",
       "      <td>203</td>\n",
       "      <td>203</td>\n",
       "    </tr>\n",
       "  </tbody>\n",
       "</table>\n",
       "</div>"
      ],
      "text/plain": [
       "             nombre  procedencia  opinion  viajo_con\n",
       "fecha fecha                                         \n",
       "2021  11        553          553      553        553\n",
       "      12        678          678      678        678\n",
       "2022  1         386          386      386        386\n",
       "      2         470          470      470        470\n",
       "      3         203          203      203        203"
      ]
     },
     "execution_count": 242,
     "metadata": {},
     "output_type": "execute_result"
    }
   ],
   "source": [
    "gb.tail(5)"
   ]
  },
  {
   "cell_type": "code",
   "execution_count": 243,
   "metadata": {},
   "outputs": [],
   "source": [
    "gb_1 = gb.drop(['procedencia', 'opinion', 'viajo_con'], axis=1)"
   ]
  },
  {
   "cell_type": "code",
   "execution_count": 244,
   "metadata": {},
   "outputs": [],
   "source": [
    "gb_1=gb_1.rename(columns={'nombre':'numero_turistas'})"
   ]
  },
  {
   "cell_type": "code",
   "execution_count": 245,
   "metadata": {},
   "outputs": [
    {
     "data": {
      "text/html": [
       "<div>\n",
       "<style scoped>\n",
       "    .dataframe tbody tr th:only-of-type {\n",
       "        vertical-align: middle;\n",
       "    }\n",
       "\n",
       "    .dataframe tbody tr th {\n",
       "        vertical-align: top;\n",
       "    }\n",
       "\n",
       "    .dataframe thead th {\n",
       "        text-align: right;\n",
       "    }\n",
       "</style>\n",
       "<table border=\"1\" class=\"dataframe\">\n",
       "  <thead>\n",
       "    <tr style=\"text-align: right;\">\n",
       "      <th></th>\n",
       "      <th></th>\n",
       "      <th>numero_turistas</th>\n",
       "    </tr>\n",
       "    <tr>\n",
       "      <th>fecha</th>\n",
       "      <th>fecha</th>\n",
       "      <th></th>\n",
       "    </tr>\n",
       "  </thead>\n",
       "  <tbody>\n",
       "    <tr>\n",
       "      <th rowspan=\"5\" valign=\"top\">2017</th>\n",
       "      <th>6</th>\n",
       "      <td>19</td>\n",
       "    </tr>\n",
       "    <tr>\n",
       "      <th>7</th>\n",
       "      <td>26</td>\n",
       "    </tr>\n",
       "    <tr>\n",
       "      <th>8</th>\n",
       "      <td>82</td>\n",
       "    </tr>\n",
       "    <tr>\n",
       "      <th>9</th>\n",
       "      <td>58</td>\n",
       "    </tr>\n",
       "    <tr>\n",
       "      <th>10</th>\n",
       "      <td>34</td>\n",
       "    </tr>\n",
       "  </tbody>\n",
       "</table>\n",
       "</div>"
      ],
      "text/plain": [
       "             numero_turistas\n",
       "fecha fecha                 \n",
       "2017  6                   19\n",
       "      7                   26\n",
       "      8                   82\n",
       "      9                   58\n",
       "      10                  34"
      ]
     },
     "execution_count": 245,
     "metadata": {},
     "output_type": "execute_result"
    }
   ],
   "source": [
    "gb_1.head(5)"
   ]
  },
  {
   "cell_type": "code",
   "execution_count": 246,
   "metadata": {},
   "outputs": [
    {
     "data": {
      "text/plain": [
       "<AxesSubplot:xlabel='fecha,fecha'>"
      ]
     },
     "execution_count": 246,
     "metadata": {},
     "output_type": "execute_result"
    },
    {
     "data": {
      "image/png": "[encoded data removed]",
      "text/plain": [
       "<Figure size 432x288 with 1 Axes>"
      ]
     },
     "metadata": {
      "needs_background": "light"
     },
     "output_type": "display_data"
    }
   ],
   "source": [
    "gb_1.plot()"
   ]
  },
  {
   "cell_type": "code",
   "execution_count": 247,
   "metadata": {},
   "outputs": [
    {
     "data": {
      "image/png": "[encoded data removed]",
      "text/plain": [
       "<Figure size 432x288 with 1 Axes>"
      ]
     },
     "metadata": {
      "needs_background": "light"
     },
     "output_type": "display_data"
    }
   ],
   "source": [
    "gb_1.plot()\n",
    "plt.yscale('log')"
   ]
  },
  {
   "cell_type": "code",
   "execution_count": 248,
   "metadata": {},
   "outputs": [],
   "source": [
    "import matplotlib.pyplot as plt"
   ]
  },
  {
   "cell_type": "code",
   "execution_count": 250,
   "metadata": {},
   "outputs": [],
   "source": [
    "import seaborn as sns"
   ]
  },
  {
   "cell_type": "code",
   "execution_count": 251,
   "metadata": {},
   "outputs": [
    {
     "data": {
      "image/png": "[encoded data removed]",
      "text/plain": [
       "<Figure size 477.125x360 with 1 Axes>"
      ]
     },
     "metadata": {
      "needs_background": "light"
     },
     "output_type": "display_data"
    }
   ],
   "source": [
    "sns.displot(gb_1,\n",
    "            facecolor='dodgerblue', # poner el color de relleno\n",
    "            edgecolor = \"black\", # poner el color de la línea \n",
    "            bins=20, \n",
    "            color= \"black\" ,# para cambiar el color de la línea del kde\n",
    "            kde=True); # para trazar una línea de densidad"
   ]
  }
 ],
 "metadata": {
  "interpreter": {
   "hash": "ba1db81cc109b82b4f074f14705a6c6c4ac73c66313ff5962e6e84ea5725364a"
  },
  "kernelspec": {
   "display_name": "Python 3.8.8 ('base': conda)",
   "language": "python",
   "name": "python3"
  },
  "language_info": {
   "codemirror_mode": {
    "name": "ipython",
    "version": 3
   },
   "file_extension": ".py",
   "mimetype": "text/x-python",
   "name": "python",
   "nbconvert_exporter": "python",
   "pygments_lexer": "ipython3",
   "version": "3.9.7"
  },
  "orig_nbformat": 4
 },
 "nbformat": 4,
 "nbformat_minor": 2
}
