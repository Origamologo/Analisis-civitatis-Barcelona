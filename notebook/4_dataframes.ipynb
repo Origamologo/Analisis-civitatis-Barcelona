{
 "cells": [
  {
   "cell_type": "markdown",
   "metadata": {},
   "source": [
    "In this notebook we will generate and save the data frames that we will use in visualization, using the clean ones done in the previous steps"
   ]
  },
  {
   "cell_type": "code",
   "execution_count": 1,
   "metadata": {},
   "outputs": [],
   "source": [
    "import pandas as pd\n",
    "sys.path.append('../')\n",
    "import src.limpieza as lmp\n",
    "from geopy.geocoders import Nominatim\n",
    "import re\n",
    "import geopandas as gpd\n",
    "from keplergl import KeplerGl"
   ]
  },
  {
   "cell_type": "code",
   "execution_count": 2,
   "metadata": {},
   "outputs": [],
   "source": [
    "df_civitatis_clean = pd.read_pickle(r'C:\\Users\\mituc\\Ironhack\\Curso\\IronLabs\\Proyecto-1\\data\\civitatis_clean.pkl')\n",
    "df_turistas_admon = pd.read_pickle(r'C:\\Users\\mituc\\Ironhack\\Curso\\IronLabs\\Proyecto-1\\data\\Barcelona_cleaned_tourist.pkl')\n"
   ]
  },
  {
   "cell_type": "code",
   "execution_count": 3,
   "metadata": {},
   "outputs": [],
   "source": [
    "df_civitatis_location = pd.read_csv(r\"C:\\Users\\mituc\\Ironhack\\Curso\\IronLabs\\Proyecto-1\\data\\civitatis_location.csv\", sep=',', encoding='latin-1')"
   ]
  },
  {
   "cell_type": "code",
   "execution_count": 8,
   "metadata": {},
   "outputs": [
    {
     "data": {
      "text/html": [
       "<div>\n",
       "<style scoped>\n",
       "    .dataframe tbody tr th:only-of-type {\n",
       "        vertical-align: middle;\n",
       "    }\n",
       "\n",
       "    .dataframe tbody tr th {\n",
       "        vertical-align: top;\n",
       "    }\n",
       "\n",
       "    .dataframe thead th {\n",
       "        text-align: right;\n",
       "    }\n",
       "</style>\n",
       "<table border=\"1\" class=\"dataframe\">\n",
       "  <thead>\n",
       "    <tr style=\"text-align: right;\">\n",
       "      <th></th>\n",
       "      <th>procedencia</th>\n",
       "      <th>fecha</th>\n",
       "      <th>nombre</th>\n",
       "      <th>opinion</th>\n",
       "      <th>viajo_con</th>\n",
       "      <th>georeferenced_column</th>\n",
       "      <th>latitude</th>\n",
       "      <th>longitude</th>\n",
       "      <th>bar_lat</th>\n",
       "      <th>bar_lon</th>\n",
       "    </tr>\n",
       "  </thead>\n",
       "  <tbody>\n",
       "    <tr>\n",
       "      <th>16226</th>\n",
       "      <td>Porto, Portugal</td>\n",
       "      <td>2018-09-17 00:00</td>\n",
       "      <td>Antonio Augusto Mendes Moreira</td>\n",
       "      <td>Um tour pela cidade antiga muito interessante ...</td>\n",
       "      <td>ViajÃ³ en pareja</td>\n",
       "      <td>(41.1494512, -8.6107884)</td>\n",
       "      <td>41.149451</td>\n",
       "      <td>-8.610788</td>\n",
       "      <td>41.382894</td>\n",
       "      <td>2.177432</td>\n",
       "    </tr>\n",
       "    <tr>\n",
       "      <th>16227</th>\n",
       "      <td>New York, Estados Unidos</td>\n",
       "      <td>2018-09-02 00:00</td>\n",
       "      <td>Sergio Camargo</td>\n",
       "      <td>Pedro estuvo fantastico. Fue claro y ameno al ...</td>\n",
       "      <td>ViajÃ³ con hijos mayores</td>\n",
       "      <td>(40.7127281, -74.0060152)</td>\n",
       "      <td>40.712728</td>\n",
       "      <td>-74.006015</td>\n",
       "      <td>41.382894</td>\n",
       "      <td>2.177432</td>\n",
       "    </tr>\n",
       "    <tr>\n",
       "      <th>16228</th>\n",
       "      <td>Faro, Portugal</td>\n",
       "      <td>2018-09-01 00:00</td>\n",
       "      <td>Mariana Goncalves</td>\n",
       "      <td>NaN</td>\n",
       "      <td>ViajÃ³ con amigos</td>\n",
       "      <td>(37.0162727, -7.9351771)</td>\n",
       "      <td>37.016273</td>\n",
       "      <td>-7.935177</td>\n",
       "      <td>41.382894</td>\n",
       "      <td>2.177432</td>\n",
       "    </tr>\n",
       "    <tr>\n",
       "      <th>16229</th>\n",
       "      <td>Braga, Portugal</td>\n",
       "      <td>2018-06-28 00:00</td>\n",
       "      <td>JosÃ© Carlos Miranda Reis</td>\n",
       "      <td>O tour foi formidavel. A guia Laura e eficente...</td>\n",
       "      <td>ViajÃ³ en pareja</td>\n",
       "      <td>(41.5510583, -8.4280045)</td>\n",
       "      <td>41.551058</td>\n",
       "      <td>-8.428005</td>\n",
       "      <td>41.382894</td>\n",
       "      <td>2.177432</td>\n",
       "    </tr>\n",
       "    <tr>\n",
       "      <th>16230</th>\n",
       "      <td>Barcelona, EspaÃ±a</td>\n",
       "      <td>2017-09-10 00:00</td>\n",
       "      <td>Susanna</td>\n",
       "      <td>Som de Barcelona i hem descovert curiositats i...</td>\n",
       "      <td>ViajÃ³ en pareja</td>\n",
       "      <td>(41.3828939, 2.1774322)</td>\n",
       "      <td>41.382894</td>\n",
       "      <td>2.177432</td>\n",
       "      <td>41.382894</td>\n",
       "      <td>2.177432</td>\n",
       "    </tr>\n",
       "  </tbody>\n",
       "</table>\n",
       "</div>"
      ],
      "text/plain": [
       "                    procedencia             fecha  \\\n",
       "16226           Porto, Portugal  2018-09-17 00:00   \n",
       "16227  New York, Estados Unidos  2018-09-02 00:00   \n",
       "16228            Faro, Portugal  2018-09-01 00:00   \n",
       "16229           Braga, Portugal  2018-06-28 00:00   \n",
       "16230        Barcelona, EspaÃ±a  2017-09-10 00:00   \n",
       "\n",
       "                               nombre  \\\n",
       "16226  Antonio Augusto Mendes Moreira   \n",
       "16227                  Sergio Camargo   \n",
       "16228               Mariana Goncalves   \n",
       "16229       JosÃ© Carlos Miranda Reis   \n",
       "16230                         Susanna   \n",
       "\n",
       "                                                 opinion  \\\n",
       "16226  Um tour pela cidade antiga muito interessante ...   \n",
       "16227  Pedro estuvo fantastico. Fue claro y ameno al ...   \n",
       "16228                                                NaN   \n",
       "16229  O tour foi formidavel. A guia Laura e eficente...   \n",
       "16230  Som de Barcelona i hem descovert curiositats i...   \n",
       "\n",
       "                      viajo_con       georeferenced_column   latitude  \\\n",
       "16226          ViajÃ³ en pareja   (41.1494512, -8.6107884)  41.149451   \n",
       "16227  ViajÃ³ con hijos mayores  (40.7127281, -74.0060152)  40.712728   \n",
       "16228         ViajÃ³ con amigos   (37.0162727, -7.9351771)  37.016273   \n",
       "16229          ViajÃ³ en pareja   (41.5510583, -8.4280045)  41.551058   \n",
       "16230          ViajÃ³ en pareja    (41.3828939, 2.1774322)  41.382894   \n",
       "\n",
       "       longitude    bar_lat   bar_lon  \n",
       "16226  -8.610788  41.382894  2.177432  \n",
       "16227 -74.006015  41.382894  2.177432  \n",
       "16228  -7.935177  41.382894  2.177432  \n",
       "16229  -8.428005  41.382894  2.177432  \n",
       "16230   2.177432  41.382894  2.177432  "
      ]
     },
     "execution_count": 8,
     "metadata": {},
     "output_type": "execute_result"
    }
   ],
   "source": [
    "df_civitatis_location.tail(5)"
   ]
  },
  {
   "cell_type": "markdown",
   "metadata": {},
   "source": [
    "# Civitatis"
   ]
  },
  {
   "cell_type": "markdown",
   "metadata": {},
   "source": [
    "Total number of tourist grouped by month"
   ]
  },
  {
   "cell_type": "code",
   "execution_count": null,
   "metadata": {},
   "outputs": [],
   "source": [
    "lmp.total_civitatis_tourists_month(df_civitatis_clean)"
   ]
  },
  {
   "cell_type": "code",
   "execution_count": 15,
   "metadata": {},
   "outputs": [
    {
     "data": {
      "text/plain": [
       "(16231, 5)"
      ]
     },
     "execution_count": 15,
     "metadata": {},
     "output_type": "execute_result"
    }
   ],
   "source": [
    "df_civitatis_clean.shape"
   ]
  },
  {
   "cell_type": "code",
   "execution_count": 3,
   "metadata": {},
   "outputs": [
    {
     "data": {
      "text/html": [
       "<div>\n",
       "<style scoped>\n",
       "    .dataframe tbody tr th:only-of-type {\n",
       "        vertical-align: middle;\n",
       "    }\n",
       "\n",
       "    .dataframe tbody tr th {\n",
       "        vertical-align: top;\n",
       "    }\n",
       "\n",
       "    .dataframe thead th {\n",
       "        text-align: right;\n",
       "    }\n",
       "</style>\n",
       "<table border=\"1\" class=\"dataframe\">\n",
       "  <thead>\n",
       "    <tr style=\"text-align: right;\">\n",
       "      <th></th>\n",
       "      <th>fecha</th>\n",
       "      <th>nombre</th>\n",
       "      <th>procedencia</th>\n",
       "      <th>opinion</th>\n",
       "      <th>viajo_con</th>\n",
       "    </tr>\n",
       "  </thead>\n",
       "  <tbody>\n",
       "    <tr>\n",
       "      <th>0</th>\n",
       "      <td>2022-03-11</td>\n",
       "      <td>Ana</td>\n",
       "      <td>Madrid, España</td>\n",
       "      <td>Victor es encantador, te explica todo al detal...</td>\n",
       "      <td>Viajó con hijos mayores</td>\n",
       "    </tr>\n",
       "    <tr>\n",
       "      <th>1</th>\n",
       "      <td>2022-03-11</td>\n",
       "      <td>Montserrat</td>\n",
       "      <td>España</td>\n",
       "      <td>Casi 3 horas de tour pero Víctor, el guía que ...</td>\n",
       "      <td>Viajó solo</td>\n",
       "    </tr>\n",
       "    <tr>\n",
       "      <th>2</th>\n",
       "      <td>2022-03-11</td>\n",
       "      <td>Ainhoa</td>\n",
       "      <td>España</td>\n",
       "      <td></td>\n",
       "      <td>Viajó en pareja</td>\n",
       "    </tr>\n",
       "    <tr>\n",
       "      <th>3</th>\n",
       "      <td>2022-03-11</td>\n",
       "      <td>Patricia Suárez Carrillo</td>\n",
       "      <td>Madrid, España</td>\n",
       "      <td>A mi pareja y a mi nos ha encantado! Nuestro g...</td>\n",
       "      <td>Viajó en pareja</td>\n",
       "    </tr>\n",
       "    <tr>\n",
       "      <th>4</th>\n",
       "      <td>2022-03-11</td>\n",
       "      <td>Anónimo</td>\n",
       "      <td></td>\n",
       "      <td></td>\n",
       "      <td></td>\n",
       "    </tr>\n",
       "  </tbody>\n",
       "</table>\n",
       "</div>"
      ],
      "text/plain": [
       "       fecha                    nombre     procedencia  \\\n",
       "0 2022-03-11                       Ana  Madrid, España   \n",
       "1 2022-03-11                Montserrat          España   \n",
       "2 2022-03-11                    Ainhoa          España   \n",
       "3 2022-03-11  Patricia Suárez Carrillo  Madrid, España   \n",
       "4 2022-03-11                   Anónimo                   \n",
       "\n",
       "                                             opinion                viajo_con  \n",
       "0  Victor es encantador, te explica todo al detal...  Viajó con hijos mayores  \n",
       "1  Casi 3 horas de tour pero Víctor, el guía que ...               Viajó solo  \n",
       "2                                                             Viajó en pareja  \n",
       "3  A mi pareja y a mi nos ha encantado! Nuestro g...          Viajó en pareja  \n",
       "4                                                                              "
      ]
     },
     "execution_count": 3,
     "metadata": {},
     "output_type": "execute_result"
    }
   ],
   "source": [
    "df_civitatis_clean.head(5)"
   ]
  },
  {
   "cell_type": "markdown",
   "metadata": {},
   "source": [
    "Longitude and latitude of the place of origin of tourists"
   ]
  },
  {
   "cell_type": "code",
   "execution_count": 4,
   "metadata": {},
   "outputs": [],
   "source": [
    "def extraer_coordenadas(x):\n",
    "    try:\n",
    "        geolocator = Nominatim(user_agent = \"pepe\")\n",
    "        location = geolocator.geocode(x)\n",
    "\n",
    "        return location.latitude, location.longitude\n",
    "    except:\n",
    "        return 'no data'"
   ]
  },
  {
   "cell_type": "code",
   "execution_count": 5,
   "metadata": {},
   "outputs": [],
   "source": [
    "df_coordinates = pd.DataFrame(df_civitatis_clean['procedencia'].unique())"
   ]
  },
  {
   "cell_type": "code",
   "execution_count": null,
   "metadata": {},
   "outputs": [],
   "source": [
    "df_coordinates[\"georeferenced_column\"] = df_coordinates[0].apply(extraer_coordenadas)"
   ]
  },
  {
   "cell_type": "code",
   "execution_count": 10,
   "metadata": {},
   "outputs": [],
   "source": [
    "df_coordinates.to_pickle(r'C:\\Users\\mituc\\Ironhack\\Curso\\IronLabs\\Proyecto-1\\data\\lat_lon.pkl')\n"
   ]
  },
  {
   "cell_type": "code",
   "execution_count": 11,
   "metadata": {},
   "outputs": [],
   "source": [
    "df_coordinates = pd.read_pickle(r'C:\\Users\\mituc\\Ironhack\\Curso\\IronLabs\\Proyecto-1\\data\\lat_lon.pkl')"
   ]
  },
  {
   "cell_type": "code",
   "execution_count": 12,
   "metadata": {},
   "outputs": [
    {
     "data": {
      "text/html": [
       "<div>\n",
       "<style scoped>\n",
       "    .dataframe tbody tr th:only-of-type {\n",
       "        vertical-align: middle;\n",
       "    }\n",
       "\n",
       "    .dataframe tbody tr th {\n",
       "        vertical-align: top;\n",
       "    }\n",
       "\n",
       "    .dataframe thead th {\n",
       "        text-align: right;\n",
       "    }\n",
       "</style>\n",
       "<table border=\"1\" class=\"dataframe\">\n",
       "  <thead>\n",
       "    <tr style=\"text-align: right;\">\n",
       "      <th></th>\n",
       "      <th>0</th>\n",
       "      <th>georeferenced_column</th>\n",
       "      <th>latitude</th>\n",
       "      <th>longitude</th>\n",
       "    </tr>\n",
       "  </thead>\n",
       "  <tbody>\n",
       "    <tr>\n",
       "      <th>0</th>\n",
       "      <td>Madrid, España</td>\n",
       "      <td>(40.4167047, -3.7035825)</td>\n",
       "      <td>40.416705</td>\n",
       "      <td>-3.703582</td>\n",
       "    </tr>\n",
       "    <tr>\n",
       "      <th>1</th>\n",
       "      <td>España</td>\n",
       "      <td>(39.3260685, -4.8379791)</td>\n",
       "      <td>39.326068</td>\n",
       "      <td>-4.837979</td>\n",
       "    </tr>\n",
       "    <tr>\n",
       "      <th>2</th>\n",
       "      <td></td>\n",
       "      <td>no data</td>\n",
       "      <td>NaN</td>\n",
       "      <td>NaN</td>\n",
       "    </tr>\n",
       "    <tr>\n",
       "      <th>3</th>\n",
       "      <td>Alicante, España</td>\n",
       "      <td>(38.3436365, -0.4881708)</td>\n",
       "      <td>38.343637</td>\n",
       "      <td>-0.488171</td>\n",
       "    </tr>\n",
       "    <tr>\n",
       "      <th>4</th>\n",
       "      <td>Quito, Ecuador</td>\n",
       "      <td>(-0.2201641, -78.5123274)</td>\n",
       "      <td>-0.220164</td>\n",
       "      <td>-78.512327</td>\n",
       "    </tr>\n",
       "  </tbody>\n",
       "</table>\n",
       "</div>"
      ],
      "text/plain": [
       "                  0       georeferenced_column   latitude  longitude\n",
       "0    Madrid, España   (40.4167047, -3.7035825)  40.416705  -3.703582\n",
       "1            España   (39.3260685, -4.8379791)  39.326068  -4.837979\n",
       "2                                      no data        NaN        NaN\n",
       "3  Alicante, España   (38.3436365, -0.4881708)  38.343637  -0.488171\n",
       "4    Quito, Ecuador  (-0.2201641, -78.5123274)  -0.220164 -78.512327"
      ]
     },
     "execution_count": 12,
     "metadata": {},
     "output_type": "execute_result"
    }
   ],
   "source": [
    "df_coordinates.head(5)"
   ]
  },
  {
   "cell_type": "code",
   "execution_count": 8,
   "metadata": {},
   "outputs": [
    {
     "name": "stderr",
     "output_type": "stream",
     "text": [
      "C:\\Users\\mituc\\AppData\\Local\\Temp/ipykernel_5692/2326016387.py:2: SettingWithCopyWarning: \n",
      "A value is trying to be set on a copy of a slice from a DataFrame\n",
      "\n",
      "See the caveats in the documentation: https://pandas.pydata.org/pandas-docs/stable/user_guide/indexing.html#returning-a-view-versus-a-copy\n",
      "  df_coordinates['latitude'].iloc[i] = df_coordinates['georeferenced_column'].iloc[i][0]\n",
      "C:\\Users\\mituc\\AppData\\Local\\Temp/ipykernel_5692/2326016387.py:3: SettingWithCopyWarning: \n",
      "A value is trying to be set on a copy of a slice from a DataFrame\n",
      "\n",
      "See the caveats in the documentation: https://pandas.pydata.org/pandas-docs/stable/user_guide/indexing.html#returning-a-view-versus-a-copy\n",
      "  df_coordinates['longitude'].iloc[i] = df_coordinates['georeferenced_column'].iloc[i][1]\n"
     ]
    }
   ],
   "source": [
    "def lat_lon(df, column):\n",
    "    for i in range(len(df)):\n",
    "        df['latitude'].iloc[i] = column.iloc[i][0]\n",
    "        df['longitude'].iloc[i] = column.iloc[i][1]\n",
    "    df['latitude'] = pd.to_numeric(df_coordinates['latitude'],errors='coerce')\n",
    "    df['longitude'] = pd.to_numeric(df_coordinates['longitude'],errors='coerce')\n",
    "    return df\n"
   ]
  },
  {
   "cell_type": "code",
   "execution_count": 17,
   "metadata": {},
   "outputs": [
    {
     "data": {
      "text/html": [
       "<div>\n",
       "<style scoped>\n",
       "    .dataframe tbody tr th:only-of-type {\n",
       "        vertical-align: middle;\n",
       "    }\n",
       "\n",
       "    .dataframe tbody tr th {\n",
       "        vertical-align: top;\n",
       "    }\n",
       "\n",
       "    .dataframe thead th {\n",
       "        text-align: right;\n",
       "    }\n",
       "</style>\n",
       "<table border=\"1\" class=\"dataframe\">\n",
       "  <thead>\n",
       "    <tr style=\"text-align: right;\">\n",
       "      <th></th>\n",
       "      <th>fecha</th>\n",
       "      <th>nombre</th>\n",
       "      <th>procedencia</th>\n",
       "      <th>opinion</th>\n",
       "      <th>viajo_con</th>\n",
       "    </tr>\n",
       "  </thead>\n",
       "  <tbody>\n",
       "    <tr>\n",
       "      <th>0</th>\n",
       "      <td>2022-03-11</td>\n",
       "      <td>Ana</td>\n",
       "      <td>Madrid, España</td>\n",
       "      <td>Victor es encantador, te explica todo al detal...</td>\n",
       "      <td>Viajó con hijos mayores</td>\n",
       "    </tr>\n",
       "    <tr>\n",
       "      <th>1</th>\n",
       "      <td>2022-03-11</td>\n",
       "      <td>Montserrat</td>\n",
       "      <td>España</td>\n",
       "      <td>Casi 3 horas de tour pero Víctor, el guía que ...</td>\n",
       "      <td>Viajó solo</td>\n",
       "    </tr>\n",
       "    <tr>\n",
       "      <th>2</th>\n",
       "      <td>2022-03-11</td>\n",
       "      <td>Ainhoa</td>\n",
       "      <td>España</td>\n",
       "      <td></td>\n",
       "      <td>Viajó en pareja</td>\n",
       "    </tr>\n",
       "    <tr>\n",
       "      <th>3</th>\n",
       "      <td>2022-03-11</td>\n",
       "      <td>Patricia Suárez Carrillo</td>\n",
       "      <td>Madrid, España</td>\n",
       "      <td>A mi pareja y a mi nos ha encantado! Nuestro g...</td>\n",
       "      <td>Viajó en pareja</td>\n",
       "    </tr>\n",
       "    <tr>\n",
       "      <th>4</th>\n",
       "      <td>2022-03-11</td>\n",
       "      <td>Anónimo</td>\n",
       "      <td></td>\n",
       "      <td></td>\n",
       "      <td></td>\n",
       "    </tr>\n",
       "  </tbody>\n",
       "</table>\n",
       "</div>"
      ],
      "text/plain": [
       "       fecha                    nombre     procedencia  \\\n",
       "0 2022-03-11                       Ana  Madrid, España   \n",
       "1 2022-03-11                Montserrat          España   \n",
       "2 2022-03-11                    Ainhoa          España   \n",
       "3 2022-03-11  Patricia Suárez Carrillo  Madrid, España   \n",
       "4 2022-03-11                   Anónimo                   \n",
       "\n",
       "                                             opinion                viajo_con  \n",
       "0  Victor es encantador, te explica todo al detal...  Viajó con hijos mayores  \n",
       "1  Casi 3 horas de tour pero Víctor, el guía que ...               Viajó solo  \n",
       "2                                                             Viajó en pareja  \n",
       "3  A mi pareja y a mi nos ha encantado! Nuestro g...          Viajó en pareja  \n",
       "4                                                                              "
      ]
     },
     "execution_count": 17,
     "metadata": {},
     "output_type": "execute_result"
    }
   ],
   "source": [
    "df_civitatis_clean.head(5)"
   ]
  },
  {
   "cell_type": "code",
   "execution_count": 13,
   "metadata": {},
   "outputs": [],
   "source": [
    "df_civitatis_clean.set_index(['procedencia'], inplace=True)\n",
    "df_coordinates.set_index([0], inplace=True)"
   ]
  },
  {
   "cell_type": "code",
   "execution_count": 14,
   "metadata": {},
   "outputs": [],
   "source": [
    "df_civitatis_location = df_civitatis_clean.join(df_coordinates, on='procedencia')"
   ]
  },
  {
   "cell_type": "code",
   "execution_count": 21,
   "metadata": {},
   "outputs": [],
   "source": [
    "geolocator = Nominatim(user_agent=\"miguel\")\n",
    "location = geolocator.geocode(\"Barcelona, España\")\n",
    "df_civitatis_location['bar_lat'] = location.latitude\n",
    "df_civitatis_location['bar_lon'] = location.longitude"
   ]
  },
  {
   "cell_type": "code",
   "execution_count": 16,
   "metadata": {},
   "outputs": [],
   "source": [
    "df_civitatis_location['fecha'] = df_civitatis_location['fecha'].astype(str) + ' 00:00'"
   ]
  },
  {
   "cell_type": "code",
   "execution_count": 17,
   "metadata": {},
   "outputs": [],
   "source": [
    "df_civitatis_location['fecha'] = pd.to_datetime(df_civitatis_location['fecha'], format='%Y-%m-%d %H:%M') "
   ]
  },
  {
   "cell_type": "code",
   "execution_count": 18,
   "metadata": {},
   "outputs": [],
   "source": [
    "df_civitatis_location['fecha']=df_civitatis_location['fecha'].dt.strftime('%Y-%m-%d %H:%M')"
   ]
  },
  {
   "cell_type": "code",
   "execution_count": 267,
   "metadata": {},
   "outputs": [
    {
     "data": {
      "text/plain": [
       "procedencia              object\n",
       "fecha                    object\n",
       "nombre                   object\n",
       "opinion                  object\n",
       "viajo_con                object\n",
       "georeferenced_column     object\n",
       "latitude                float64\n",
       "longitude               float64\n",
       "bar_lat                 float64\n",
       "bar_lon                 float64\n",
       "dtype: object"
      ]
     },
     "execution_count": 267,
     "metadata": {},
     "output_type": "execute_result"
    }
   ],
   "source": [
    "df_civitatis_location.dtypes"
   ]
  },
  {
   "cell_type": "code",
   "execution_count": 23,
   "metadata": {},
   "outputs": [],
   "source": [
    "df_civitatis_location.to_csv(r'C:\\Users\\mituc\\Ironhack\\Curso\\IronLabs\\Proyecto-1\\data\\civitatis_location.csv')"
   ]
  },
  {
   "cell_type": "code",
   "execution_count": 12,
   "metadata": {},
   "outputs": [],
   "source": [
    "df_civitatis_location_primary = pd.read_csv(r'C:\\Users\\mituc\\Ironhack\\Curso\\IronLabs\\Proyecto-1\\data\\civitatis_location_primary.csv')"
   ]
  },
  {
   "cell_type": "code",
   "execution_count": 14,
   "metadata": {},
   "outputs": [],
   "source": [
    "df_civitatis_location_primary.drop(['Unnamed: 0'], axis=1, inplace=True)"
   ]
  },
  {
   "cell_type": "code",
   "execution_count": 28,
   "metadata": {},
   "outputs": [],
   "source": [
    "df_oi = df_civitatis_location_primary.groupby(['periodo', 'georeferenced_column']).count()"
   ]
  },
  {
   "cell_type": "code",
   "execution_count": 29,
   "metadata": {},
   "outputs": [],
   "source": [
    "df_oi.drop(['nombre', 'opinion', 'viajo_con', 'procedencia', 'latitude', 'longitude', 'bar_lat', 'bar_lon', 'primary_key'], axis=1, inplace=True)"
   ]
  },
  {
   "cell_type": "code",
   "execution_count": 30,
   "metadata": {},
   "outputs": [],
   "source": [
    "df_oi.reset_index(inplace=True)"
   ]
  },
  {
   "cell_type": "code",
   "execution_count": 32,
   "metadata": {},
   "outputs": [],
   "source": [
    "df_oi.to_csv(r'C:\\Users\\mituc\\Ironhack\\Curso\\IronLabs\\Proyecto-1\\data\\oi.csv')"
   ]
  },
  {
   "cell_type": "code",
   "execution_count": 4,
   "metadata": {},
   "outputs": [],
   "source": [
    "df_oi = pd.read_csv(r'C:\\Users\\mituc\\Ironhack\\Curso\\IronLabs\\Proyecto-1\\data\\oi.csv')"
   ]
  },
  {
   "cell_type": "code",
   "execution_count": 5,
   "metadata": {},
   "outputs": [
    {
     "data": {
      "text/html": [
       "<div>\n",
       "<style scoped>\n",
       "    .dataframe tbody tr th:only-of-type {\n",
       "        vertical-align: middle;\n",
       "    }\n",
       "\n",
       "    .dataframe tbody tr th {\n",
       "        vertical-align: top;\n",
       "    }\n",
       "\n",
       "    .dataframe thead th {\n",
       "        text-align: right;\n",
       "    }\n",
       "</style>\n",
       "<table border=\"1\" class=\"dataframe\">\n",
       "  <thead>\n",
       "    <tr style=\"text-align: right;\">\n",
       "      <th></th>\n",
       "      <th>Unnamed: 0</th>\n",
       "      <th>periodo</th>\n",
       "      <th>georeferenced_column</th>\n",
       "      <th>fecha</th>\n",
       "    </tr>\n",
       "  </thead>\n",
       "  <tbody>\n",
       "    <tr>\n",
       "      <th>4453</th>\n",
       "      <td>4453</td>\n",
       "      <td>2022-01</td>\n",
       "      <td>(43.3709703, -8.3959425)</td>\n",
       "      <td>1</td>\n",
       "    </tr>\n",
       "    <tr>\n",
       "      <th>4454</th>\n",
       "      <td>4454</td>\n",
       "      <td>2022-01</td>\n",
       "      <td>(43.4620412, -3.8099719)</td>\n",
       "      <td>2</td>\n",
       "    </tr>\n",
       "    <tr>\n",
       "      <th>4455</th>\n",
       "      <td>4455</td>\n",
       "      <td>2022-01</td>\n",
       "      <td>(45.4641943, 9.1896346)</td>\n",
       "      <td>1</td>\n",
       "    </tr>\n",
       "    <tr>\n",
       "      <th>4456</th>\n",
       "      <td>4456</td>\n",
       "      <td>2022-01</td>\n",
       "      <td>(46.603354, 1.8883335)</td>\n",
       "      <td>1</td>\n",
       "    </tr>\n",
       "    <tr>\n",
       "      <th>4457</th>\n",
       "      <td>4457</td>\n",
       "      <td>2022-01</td>\n",
       "      <td>(51.0834196, 10.4234469)</td>\n",
       "      <td>1</td>\n",
       "    </tr>\n",
       "    <tr>\n",
       "      <th>4458</th>\n",
       "      <td>4458</td>\n",
       "      <td>2022-01</td>\n",
       "      <td>(51.5073219, -0.1276474)</td>\n",
       "      <td>1</td>\n",
       "    </tr>\n",
       "    <tr>\n",
       "      <th>4459</th>\n",
       "      <td>4459</td>\n",
       "      <td>2022-01</td>\n",
       "      <td>(53.3497645, -6.2602732)</td>\n",
       "      <td>1</td>\n",
       "    </tr>\n",
       "    <tr>\n",
       "      <th>4460</th>\n",
       "      <td>4460</td>\n",
       "      <td>2022-01</td>\n",
       "      <td>(54.7023545, -3.2765753)</td>\n",
       "      <td>1</td>\n",
       "    </tr>\n",
       "    <tr>\n",
       "      <th>4461</th>\n",
       "      <td>4461</td>\n",
       "      <td>2022-01</td>\n",
       "      <td>(6.2443382, -75.573553)</td>\n",
       "      <td>1</td>\n",
       "    </tr>\n",
       "    <tr>\n",
       "      <th>4462</th>\n",
       "      <td>4462</td>\n",
       "      <td>2022-01</td>\n",
       "      <td>no data</td>\n",
       "      <td>52</td>\n",
       "    </tr>\n",
       "  </tbody>\n",
       "</table>\n",
       "</div>"
      ],
      "text/plain": [
       "      Unnamed: 0  periodo      georeferenced_column  fecha\n",
       "4453        4453  2022-01  (43.3709703, -8.3959425)      1\n",
       "4454        4454  2022-01  (43.4620412, -3.8099719)      2\n",
       "4455        4455  2022-01   (45.4641943, 9.1896346)      1\n",
       "4456        4456  2022-01    (46.603354, 1.8883335)      1\n",
       "4457        4457  2022-01  (51.0834196, 10.4234469)      1\n",
       "4458        4458  2022-01  (51.5073219, -0.1276474)      1\n",
       "4459        4459  2022-01  (53.3497645, -6.2602732)      1\n",
       "4460        4460  2022-01  (54.7023545, -3.2765753)      1\n",
       "4461        4461  2022-01   (6.2443382, -75.573553)      1\n",
       "4462        4462  2022-01                   no data     52"
      ]
     },
     "execution_count": 5,
     "metadata": {},
     "output_type": "execute_result"
    }
   ],
   "source": [
    "df_oi.tail(10)"
   ]
  },
  {
   "cell_type": "code",
   "execution_count": 268,
   "metadata": {},
   "outputs": [
    {
     "name": "stdout",
     "output_type": "stream",
     "text": [
      "User Guide: https://docs.kepler.gl/docs/keplergl-jupyter\n"
     ]
    }
   ],
   "source": [
    "map_1 = KeplerGl(height = 600, weight = 500, data = {\"viajes\": df_civitatis_location})"
   ]
  },
  {
   "cell_type": "code",
   "execution_count": 273,
   "metadata": {},
   "outputs": [
    {
     "name": "stdout",
     "output_type": "stream",
     "text": [
      "Map saved to civitatis.html!\n"
     ]
    }
   ],
   "source": [
    "map_1.save_to_html(file_name='civitatis.html')"
   ]
  },
  {
   "cell_type": "code",
   "execution_count": 269,
   "metadata": {},
   "outputs": [
    {
     "data": {
      "application/vnd.jupyter.widget-view+json": {
       "model_id": "2d86d63299cf4679847141d5c1b03f0c",
       "version_major": 2,
       "version_minor": 0
      },
      "text/plain": [
       "KeplerGl(data={'viajes':                     procedencia             fecha  \\\n",
       "0               Madrid, EspaÃ±a …"
      ]
     },
     "metadata": {},
     "output_type": "display_data"
    }
   ],
   "source": [
    "map_1"
   ]
  },
  {
   "cell_type": "code",
   "execution_count": 26,
   "metadata": {},
   "outputs": [
    {
     "data": {
      "text/html": [
       "<div>\n",
       "<style scoped>\n",
       "    .dataframe tbody tr th:only-of-type {\n",
       "        vertical-align: middle;\n",
       "    }\n",
       "\n",
       "    .dataframe tbody tr th {\n",
       "        vertical-align: top;\n",
       "    }\n",
       "\n",
       "    .dataframe thead th {\n",
       "        text-align: right;\n",
       "    }\n",
       "</style>\n",
       "<table border=\"1\" class=\"dataframe\">\n",
       "  <thead>\n",
       "    <tr style=\"text-align: right;\">\n",
       "      <th></th>\n",
       "      <th>procedencia</th>\n",
       "      <th>fecha</th>\n",
       "      <th>nombre</th>\n",
       "      <th>opinion</th>\n",
       "      <th>viajo_con</th>\n",
       "      <th>georeferenced_column</th>\n",
       "      <th>latitude</th>\n",
       "      <th>longitude</th>\n",
       "      <th>bar_lat</th>\n",
       "      <th>bar_lon</th>\n",
       "    </tr>\n",
       "  </thead>\n",
       "  <tbody>\n",
       "    <tr>\n",
       "      <th>0</th>\n",
       "      <td>Madrid, España</td>\n",
       "      <td>2022-03-11 00:00</td>\n",
       "      <td>Ana</td>\n",
       "      <td>Victor es encantador, te explica todo al detal...</td>\n",
       "      <td>Viajó con hijos mayores</td>\n",
       "      <td>(40.4167047, -3.7035825)</td>\n",
       "      <td>40.416705</td>\n",
       "      <td>-3.703582</td>\n",
       "      <td>41.382894</td>\n",
       "      <td>2.177432</td>\n",
       "    </tr>\n",
       "    <tr>\n",
       "      <th>1</th>\n",
       "      <td>España</td>\n",
       "      <td>2022-03-11 00:00</td>\n",
       "      <td>Montserrat</td>\n",
       "      <td>Casi 3 horas de tour pero Víctor, el guía que ...</td>\n",
       "      <td>Viajó solo</td>\n",
       "      <td>(39.3260685, -4.8379791)</td>\n",
       "      <td>39.326068</td>\n",
       "      <td>-4.837979</td>\n",
       "      <td>41.382894</td>\n",
       "      <td>2.177432</td>\n",
       "    </tr>\n",
       "    <tr>\n",
       "      <th>2</th>\n",
       "      <td>España</td>\n",
       "      <td>2022-03-11 00:00</td>\n",
       "      <td>Ainhoa</td>\n",
       "      <td>NaN</td>\n",
       "      <td>Viajó en pareja</td>\n",
       "      <td>(39.3260685, -4.8379791)</td>\n",
       "      <td>39.326068</td>\n",
       "      <td>-4.837979</td>\n",
       "      <td>41.382894</td>\n",
       "      <td>2.177432</td>\n",
       "    </tr>\n",
       "    <tr>\n",
       "      <th>3</th>\n",
       "      <td>Madrid, España</td>\n",
       "      <td>2022-03-11 00:00</td>\n",
       "      <td>Patricia Suárez Carrillo</td>\n",
       "      <td>A mi pareja y a mi nos ha encantado! Nuestro g...</td>\n",
       "      <td>Viajó en pareja</td>\n",
       "      <td>(40.4167047, -3.7035825)</td>\n",
       "      <td>40.416705</td>\n",
       "      <td>-3.703582</td>\n",
       "      <td>41.382894</td>\n",
       "      <td>2.177432</td>\n",
       "    </tr>\n",
       "    <tr>\n",
       "      <th>4</th>\n",
       "      <td>NaN</td>\n",
       "      <td>2022-03-11 00:00</td>\n",
       "      <td>Anónimo</td>\n",
       "      <td>NaN</td>\n",
       "      <td>NaN</td>\n",
       "      <td>no data</td>\n",
       "      <td>NaN</td>\n",
       "      <td>NaN</td>\n",
       "      <td>41.382894</td>\n",
       "      <td>2.177432</td>\n",
       "    </tr>\n",
       "  </tbody>\n",
       "</table>\n",
       "</div>"
      ],
      "text/plain": [
       "      procedencia             fecha                    nombre  \\\n",
       "0  Madrid, España  2022-03-11 00:00                       Ana   \n",
       "1          España  2022-03-11 00:00                Montserrat   \n",
       "2          España  2022-03-11 00:00                    Ainhoa   \n",
       "3  Madrid, España  2022-03-11 00:00  Patricia Suárez Carrillo   \n",
       "4             NaN  2022-03-11 00:00                   Anónimo   \n",
       "\n",
       "                                             opinion                viajo_con  \\\n",
       "0  Victor es encantador, te explica todo al detal...  Viajó con hijos mayores   \n",
       "1  Casi 3 horas de tour pero Víctor, el guía que ...               Viajó solo   \n",
       "2                                                NaN          Viajó en pareja   \n",
       "3  A mi pareja y a mi nos ha encantado! Nuestro g...          Viajó en pareja   \n",
       "4                                                NaN                      NaN   \n",
       "\n",
       "       georeferenced_column   latitude  longitude    bar_lat   bar_lon  \n",
       "0  (40.4167047, -3.7035825)  40.416705  -3.703582  41.382894  2.177432  \n",
       "1  (39.3260685, -4.8379791)  39.326068  -4.837979  41.382894  2.177432  \n",
       "2  (39.3260685, -4.8379791)  39.326068  -4.837979  41.382894  2.177432  \n",
       "3  (40.4167047, -3.7035825)  40.416705  -3.703582  41.382894  2.177432  \n",
       "4                   no data        NaN        NaN  41.382894  2.177432  "
      ]
     },
     "execution_count": 26,
     "metadata": {},
     "output_type": "execute_result"
    }
   ],
   "source": [
    "df_civitatis_location.head(5)"
   ]
  },
  {
   "cell_type": "code",
   "execution_count": 4,
   "metadata": {},
   "outputs": [],
   "source": [
    "df_civitatis_location.drop(['Unnamed: 0'], axis=1, inplace=True)"
   ]
  },
  {
   "cell_type": "markdown",
   "metadata": {},
   "source": [
    "# Spanish goverment"
   ]
  },
  {
   "cell_type": "markdown",
   "metadata": {},
   "source": [
    "As civitatis started its activity for the tour that we are studying in June 2017, we'll select that period from the data frame we had generated using the data given by the goverment.\n"
   ]
  },
  {
   "cell_type": "code",
   "execution_count": 4,
   "metadata": {},
   "outputs": [],
   "source": [
    "lmp.admon_cividates(df_turistas_admon)"
   ]
  },
  {
   "cell_type": "code",
   "execution_count": 5,
   "metadata": {},
   "outputs": [],
   "source": [
    "df_turistas_admon_17 = pd.read_pickle(r'C:\\Users\\mituc\\Ironhack\\Curso\\IronLabs\\Proyecto-1\\data\\admon_cividates.pkl')"
   ]
  },
  {
   "cell_type": "code",
   "execution_count": 6,
   "metadata": {},
   "outputs": [
    {
     "data": {
      "text/html": [
       "<div>\n",
       "<style scoped>\n",
       "    .dataframe tbody tr th:only-of-type {\n",
       "        vertical-align: middle;\n",
       "    }\n",
       "\n",
       "    .dataframe tbody tr th {\n",
       "        vertical-align: top;\n",
       "    }\n",
       "\n",
       "    .dataframe thead th {\n",
       "        text-align: right;\n",
       "    }\n",
       "</style>\n",
       "<table border=\"1\" class=\"dataframe\">\n",
       "  <thead>\n",
       "    <tr style=\"text-align: right;\">\n",
       "      <th></th>\n",
       "      <th>periodo</th>\n",
       "      <th>viajeros_espana</th>\n",
       "      <th>viajeros_extranjero</th>\n",
       "      <th>pernoctaciones_espana</th>\n",
       "      <th>pernoctaciones_extranjero</th>\n",
       "      <th>media_pernoc_esp</th>\n",
       "      <th>media_pernoc_ext</th>\n",
       "      <th>total_viajeros</th>\n",
       "      <th>total_pernoctaciones</th>\n",
       "      <th>media_total_pernoc</th>\n",
       "    </tr>\n",
       "  </thead>\n",
       "  <tbody>\n",
       "    <tr>\n",
       "      <th>55</th>\n",
       "      <td>2017-07</td>\n",
       "      <td>137560</td>\n",
       "      <td>634306</td>\n",
       "      <td>261185</td>\n",
       "      <td>1803145</td>\n",
       "      <td>1.9</td>\n",
       "      <td>2.8</td>\n",
       "      <td>771866</td>\n",
       "      <td>2064330</td>\n",
       "      <td>2.7</td>\n",
       "    </tr>\n",
       "    <tr>\n",
       "      <th>54</th>\n",
       "      <td>2017-08</td>\n",
       "      <td>92632</td>\n",
       "      <td>601050</td>\n",
       "      <td>194356</td>\n",
       "      <td>1807172</td>\n",
       "      <td>2.1</td>\n",
       "      <td>3.0</td>\n",
       "      <td>693682</td>\n",
       "      <td>2001528</td>\n",
       "      <td>2.9</td>\n",
       "    </tr>\n",
       "    <tr>\n",
       "      <th>53</th>\n",
       "      <td>2017-09</td>\n",
       "      <td>116521</td>\n",
       "      <td>568131</td>\n",
       "      <td>216184</td>\n",
       "      <td>1550853</td>\n",
       "      <td>1.9</td>\n",
       "      <td>2.7</td>\n",
       "      <td>684652</td>\n",
       "      <td>1767037</td>\n",
       "      <td>2.6</td>\n",
       "    </tr>\n",
       "    <tr>\n",
       "      <th>52</th>\n",
       "      <td>2017-10</td>\n",
       "      <td>125400</td>\n",
       "      <td>531660</td>\n",
       "      <td>238121</td>\n",
       "      <td>1434376</td>\n",
       "      <td>1.9</td>\n",
       "      <td>2.7</td>\n",
       "      <td>657060</td>\n",
       "      <td>1672497</td>\n",
       "      <td>2.5</td>\n",
       "    </tr>\n",
       "    <tr>\n",
       "      <th>51</th>\n",
       "      <td>2017-11</td>\n",
       "      <td>140384</td>\n",
       "      <td>391985</td>\n",
       "      <td>244155</td>\n",
       "      <td>1022604</td>\n",
       "      <td>1.7</td>\n",
       "      <td>2.6</td>\n",
       "      <td>532369</td>\n",
       "      <td>1266759</td>\n",
       "      <td>2.4</td>\n",
       "    </tr>\n",
       "  </tbody>\n",
       "</table>\n",
       "</div>"
      ],
      "text/plain": [
       "    periodo  viajeros_espana  viajeros_extranjero  pernoctaciones_espana  \\\n",
       "55  2017-07           137560               634306                 261185   \n",
       "54  2017-08            92632               601050                 194356   \n",
       "53  2017-09           116521               568131                 216184   \n",
       "52  2017-10           125400               531660                 238121   \n",
       "51  2017-11           140384               391985                 244155   \n",
       "\n",
       "    pernoctaciones_extranjero  media_pernoc_esp  media_pernoc_ext  \\\n",
       "55                    1803145               1.9               2.8   \n",
       "54                    1807172               2.1               3.0   \n",
       "53                    1550853               1.9               2.7   \n",
       "52                    1434376               1.9               2.7   \n",
       "51                    1022604               1.7               2.6   \n",
       "\n",
       "    total_viajeros  total_pernoctaciones  media_total_pernoc  \n",
       "55          771866               2064330                 2.7  \n",
       "54          693682               2001528                 2.9  \n",
       "53          684652               1767037                 2.6  \n",
       "52          657060               1672497                 2.5  \n",
       "51          532369               1266759                 2.4  "
      ]
     },
     "execution_count": 6,
     "metadata": {},
     "output_type": "execute_result"
    }
   ],
   "source": [
    "df_turistas_admon_17.head(5)"
   ]
  }
 ],
 "metadata": {
  "interpreter": {
   "hash": "ba1db81cc109b82b4f074f14705a6c6c4ac73c66313ff5962e6e84ea5725364a"
  },
  "kernelspec": {
   "display_name": "Python 3.8.8 ('base': conda)",
   "language": "python",
   "name": "python3"
  },
  "language_info": {
   "codemirror_mode": {
    "name": "ipython",
    "version": 3
   },
   "file_extension": ".py",
   "mimetype": "text/x-python",
   "name": "python",
   "nbconvert_exporter": "python",
   "pygments_lexer": "ipython3",
   "version": "3.9.7"
  },
  "orig_nbformat": 4
 },
 "nbformat": 4,
 "nbformat_minor": 2
}
