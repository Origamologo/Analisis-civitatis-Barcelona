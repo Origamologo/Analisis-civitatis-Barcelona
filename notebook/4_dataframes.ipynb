{
 "cells": [
  {
   "cell_type": "markdown",
   "metadata": {},
   "source": [
    "In this notebook we will generate and save the data frames that we will use in visualization, using the clean ones done in the previous steps"
   ]
  },
  {
   "cell_type": "code",
   "execution_count": 10,
   "metadata": {},
   "outputs": [],
   "source": [
    "import pandas as pd\n",
    "sys.path.append('../')\n",
    "import src.limpieza as lmp"
   ]
  },
  {
   "cell_type": "code",
   "execution_count": 7,
   "metadata": {},
   "outputs": [],
   "source": [
    "df_civitatis_clean = pd.read_pickle(r'C:\\Users\\mituc\\Ironhack\\Curso\\IronLabs\\Proyecto-1\\data\\civitatis_clean.pkl')\n",
    "df_turistas_admon = pd.read_pickle(r'C:\\Users\\mituc\\Ironhack\\Curso\\IronLabs\\Proyecto-1\\data\\Barcelona_guiris_esquilados.pkl')"
   ]
  },
  {
   "cell_type": "markdown",
   "metadata": {},
   "source": [
    "# Civitatis"
   ]
  },
  {
   "cell_type": "markdown",
   "metadata": {},
   "source": [
    "Total number of tourist"
   ]
  },
  {
   "cell_type": "code",
   "execution_count": 8,
   "metadata": {},
   "outputs": [
    {
     "data": {
      "text/html": [
       "<div>\n",
       "<style scoped>\n",
       "    .dataframe tbody tr th:only-of-type {\n",
       "        vertical-align: middle;\n",
       "    }\n",
       "\n",
       "    .dataframe tbody tr th {\n",
       "        vertical-align: top;\n",
       "    }\n",
       "\n",
       "    .dataframe thead th {\n",
       "        text-align: right;\n",
       "    }\n",
       "</style>\n",
       "<table border=\"1\" class=\"dataframe\">\n",
       "  <thead>\n",
       "    <tr style=\"text-align: right;\">\n",
       "      <th></th>\n",
       "      <th>fecha</th>\n",
       "      <th>nombre</th>\n",
       "      <th>procedencia</th>\n",
       "      <th>opinion</th>\n",
       "      <th>viajo_con</th>\n",
       "    </tr>\n",
       "  </thead>\n",
       "  <tbody>\n",
       "    <tr>\n",
       "      <th>0</th>\n",
       "      <td>2022-03-11</td>\n",
       "      <td>Ana</td>\n",
       "      <td>Madrid, España</td>\n",
       "      <td>Victor es encantador, te explica todo al detal...</td>\n",
       "      <td>Viajó con hijos mayores</td>\n",
       "    </tr>\n",
       "    <tr>\n",
       "      <th>1</th>\n",
       "      <td>2022-03-11</td>\n",
       "      <td>Montserrat</td>\n",
       "      <td>España</td>\n",
       "      <td>Casi 3 horas de tour pero Víctor, el guía que ...</td>\n",
       "      <td>Viajó solo</td>\n",
       "    </tr>\n",
       "    <tr>\n",
       "      <th>2</th>\n",
       "      <td>2022-03-11</td>\n",
       "      <td>Ainhoa</td>\n",
       "      <td>España</td>\n",
       "      <td></td>\n",
       "      <td>Viajó en pareja</td>\n",
       "    </tr>\n",
       "    <tr>\n",
       "      <th>3</th>\n",
       "      <td>2022-03-11</td>\n",
       "      <td>Patricia Suárez Carrillo</td>\n",
       "      <td>Madrid, España</td>\n",
       "      <td>A mi pareja y a mi nos ha encantado! Nuestro g...</td>\n",
       "      <td>Viajó en pareja</td>\n",
       "    </tr>\n",
       "    <tr>\n",
       "      <th>4</th>\n",
       "      <td>2022-03-11</td>\n",
       "      <td>Anónimo</td>\n",
       "      <td></td>\n",
       "      <td></td>\n",
       "      <td></td>\n",
       "    </tr>\n",
       "  </tbody>\n",
       "</table>\n",
       "</div>"
      ],
      "text/plain": [
       "       fecha                    nombre     procedencia  \\\n",
       "0 2022-03-11                       Ana  Madrid, España   \n",
       "1 2022-03-11                Montserrat          España   \n",
       "2 2022-03-11                    Ainhoa          España   \n",
       "3 2022-03-11  Patricia Suárez Carrillo  Madrid, España   \n",
       "4 2022-03-11                   Anónimo                   \n",
       "\n",
       "                                             opinion                viajo_con  \n",
       "0  Victor es encantador, te explica todo al detal...  Viajó con hijos mayores  \n",
       "1  Casi 3 horas de tour pero Víctor, el guía que ...               Viajó solo  \n",
       "2                                                             Viajó en pareja  \n",
       "3  A mi pareja y a mi nos ha encantado! Nuestro g...          Viajó en pareja  \n",
       "4                                                                              "
      ]
     },
     "execution_count": 8,
     "metadata": {},
     "output_type": "execute_result"
    }
   ],
   "source": [
    "df_civitatis_clean.head(5)"
   ]
  },
  {
   "cell_type": "code",
   "execution_count": null,
   "metadata": {},
   "outputs": [],
   "source": [
    "lmp.total_civitatis_tourists_month(df_civitatis_clean)"
   ]
  }
 ],
 "metadata": {
  "interpreter": {
   "hash": "ba1db81cc109b82b4f074f14705a6c6c4ac73c66313ff5962e6e84ea5725364a"
  },
  "kernelspec": {
   "display_name": "Python 3.8.8 ('base': conda)",
   "language": "python",
   "name": "python3"
  },
  "language_info": {
   "codemirror_mode": {
    "name": "ipython",
    "version": 3
   },
   "file_extension": ".py",
   "mimetype": "text/x-python",
   "name": "python",
   "nbconvert_exporter": "python",
   "pygments_lexer": "ipython3",
   "version": "3.9.7"
  },
  "orig_nbformat": 4
 },
 "nbformat": 4,
 "nbformat_minor": 2
}
