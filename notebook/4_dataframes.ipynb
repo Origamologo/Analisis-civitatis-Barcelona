{
 "cells": [
  {
   "cell_type": "markdown",
   "metadata": {},
   "source": [
    "In this notebook we will generate and save the data frames that we will use in visualization, using the clean ones done in the previous steps"
   ]
  },
  {
   "cell_type": "code",
   "execution_count": 27,
   "metadata": {},
   "outputs": [],
   "source": [
    "import pandas as pd\n",
    "sys.path.append('../')\n",
    "import src.limpieza as lmp\n",
    "from geopy.geocoders import Nominatim\n",
    "import re\n",
    "import geopandas as gpd\n",
    "from keplergl import KeplerGl"
   ]
  },
  {
   "cell_type": "code",
   "execution_count": 28,
   "metadata": {},
   "outputs": [],
   "source": [
    "df_civitatis_clean = pd.read_pickle(r'C:\\Users\\mituc\\Ironhack\\Curso\\IronLabs\\Proyecto-1\\data\\civitatis_clean.pkl')\n",
    "df_turistas_admon = pd.read_pickle(r'C:\\Users\\mituc\\Ironhack\\Curso\\IronLabs\\Proyecto-1\\data\\Barcelona_cleaned_tourist.pkl')\n"
   ]
  },
  {
   "cell_type": "code",
   "execution_count": 2,
   "metadata": {},
   "outputs": [],
   "source": [
    "df_civitatis_location = pd.read_csv(r\"C:\\Users\\mituc\\Ironhack\\Curso\\IronLabs\\Proyecto-1\\data\\civitatis_location.csv\", sep=',', encoding='latin-1')"
   ]
  },
  {
   "cell_type": "markdown",
   "metadata": {},
   "source": [
    "# Civitatis"
   ]
  },
  {
   "cell_type": "markdown",
   "metadata": {},
   "source": [
    "Total number of tourist grouped by month"
   ]
  },
  {
   "cell_type": "code",
   "execution_count": null,
   "metadata": {},
   "outputs": [],
   "source": [
    "lmp.total_civitatis_tourists_month(df_civitatis_clean)"
   ]
  },
  {
   "cell_type": "code",
   "execution_count": 15,
   "metadata": {},
   "outputs": [
    {
     "data": {
      "text/plain": [
       "(16231, 5)"
      ]
     },
     "execution_count": 15,
     "metadata": {},
     "output_type": "execute_result"
    }
   ],
   "source": [
    "df_civitatis_clean.shape"
   ]
  },
  {
   "cell_type": "code",
   "execution_count": 3,
   "metadata": {},
   "outputs": [
    {
     "data": {
      "text/html": [
       "<div>\n",
       "<style scoped>\n",
       "    .dataframe tbody tr th:only-of-type {\n",
       "        vertical-align: middle;\n",
       "    }\n",
       "\n",
       "    .dataframe tbody tr th {\n",
       "        vertical-align: top;\n",
       "    }\n",
       "\n",
       "    .dataframe thead th {\n",
       "        text-align: right;\n",
       "    }\n",
       "</style>\n",
       "<table border=\"1\" class=\"dataframe\">\n",
       "  <thead>\n",
       "    <tr style=\"text-align: right;\">\n",
       "      <th></th>\n",
       "      <th>fecha</th>\n",
       "      <th>nombre</th>\n",
       "      <th>procedencia</th>\n",
       "      <th>opinion</th>\n",
       "      <th>viajo_con</th>\n",
       "    </tr>\n",
       "  </thead>\n",
       "  <tbody>\n",
       "    <tr>\n",
       "      <th>0</th>\n",
       "      <td>2022-03-11</td>\n",
       "      <td>Ana</td>\n",
       "      <td>Madrid, España</td>\n",
       "      <td>Victor es encantador, te explica todo al detal...</td>\n",
       "      <td>Viajó con hijos mayores</td>\n",
       "    </tr>\n",
       "    <tr>\n",
       "      <th>1</th>\n",
       "      <td>2022-03-11</td>\n",
       "      <td>Montserrat</td>\n",
       "      <td>España</td>\n",
       "      <td>Casi 3 horas de tour pero Víctor, el guía que ...</td>\n",
       "      <td>Viajó solo</td>\n",
       "    </tr>\n",
       "    <tr>\n",
       "      <th>2</th>\n",
       "      <td>2022-03-11</td>\n",
       "      <td>Ainhoa</td>\n",
       "      <td>España</td>\n",
       "      <td></td>\n",
       "      <td>Viajó en pareja</td>\n",
       "    </tr>\n",
       "    <tr>\n",
       "      <th>3</th>\n",
       "      <td>2022-03-11</td>\n",
       "      <td>Patricia Suárez Carrillo</td>\n",
       "      <td>Madrid, España</td>\n",
       "      <td>A mi pareja y a mi nos ha encantado! Nuestro g...</td>\n",
       "      <td>Viajó en pareja</td>\n",
       "    </tr>\n",
       "    <tr>\n",
       "      <th>4</th>\n",
       "      <td>2022-03-11</td>\n",
       "      <td>Anónimo</td>\n",
       "      <td></td>\n",
       "      <td></td>\n",
       "      <td></td>\n",
       "    </tr>\n",
       "  </tbody>\n",
       "</table>\n",
       "</div>"
      ],
      "text/plain": [
       "       fecha                    nombre     procedencia  \\\n",
       "0 2022-03-11                       Ana  Madrid, España   \n",
       "1 2022-03-11                Montserrat          España   \n",
       "2 2022-03-11                    Ainhoa          España   \n",
       "3 2022-03-11  Patricia Suárez Carrillo  Madrid, España   \n",
       "4 2022-03-11                   Anónimo                   \n",
       "\n",
       "                                             opinion                viajo_con  \n",
       "0  Victor es encantador, te explica todo al detal...  Viajó con hijos mayores  \n",
       "1  Casi 3 horas de tour pero Víctor, el guía que ...               Viajó solo  \n",
       "2                                                             Viajó en pareja  \n",
       "3  A mi pareja y a mi nos ha encantado! Nuestro g...          Viajó en pareja  \n",
       "4                                                                              "
      ]
     },
     "execution_count": 3,
     "metadata": {},
     "output_type": "execute_result"
    }
   ],
   "source": [
    "df_civitatis_clean.head(5)"
   ]
  },
  {
   "cell_type": "markdown",
   "metadata": {},
   "source": [
    "Longitude and latitude of the place of origin of tourists"
   ]
  },
  {
   "cell_type": "code",
   "execution_count": 4,
   "metadata": {},
   "outputs": [],
   "source": [
    "def extraer_coordenadas(x):\n",
    "    try:\n",
    "        geolocator = Nominatim(user_agent = \"pepe\")\n",
    "        location = geolocator.geocode(x)\n",
    "\n",
    "        return location.latitude, location.longitude\n",
    "    except:\n",
    "        return 'no data'"
   ]
  },
  {
   "cell_type": "code",
   "execution_count": 5,
   "metadata": {},
   "outputs": [],
   "source": [
    "df_coordinates = pd.DataFrame(df_civitatis_clean['procedencia'].unique())"
   ]
  },
  {
   "cell_type": "code",
   "execution_count": null,
   "metadata": {},
   "outputs": [],
   "source": [
    "df_coordinates[\"georeferenced_column\"] = df_coordinates[0].apply(extraer_coordenadas)"
   ]
  },
  {
   "cell_type": "code",
   "execution_count": 10,
   "metadata": {},
   "outputs": [],
   "source": [
    "df_coordinates.to_pickle(r'C:\\Users\\mituc\\Ironhack\\Curso\\IronLabs\\Proyecto-1\\data\\lat_lon.pkl')\n"
   ]
  },
  {
   "cell_type": "code",
   "execution_count": 11,
   "metadata": {},
   "outputs": [],
   "source": [
    "df_coordinates = pd.read_pickle(r'C:\\Users\\mituc\\Ironhack\\Curso\\IronLabs\\Proyecto-1\\data\\lat_lon.pkl')"
   ]
  },
  {
   "cell_type": "code",
   "execution_count": 12,
   "metadata": {},
   "outputs": [
    {
     "data": {
      "text/html": [
       "<div>\n",
       "<style scoped>\n",
       "    .dataframe tbody tr th:only-of-type {\n",
       "        vertical-align: middle;\n",
       "    }\n",
       "\n",
       "    .dataframe tbody tr th {\n",
       "        vertical-align: top;\n",
       "    }\n",
       "\n",
       "    .dataframe thead th {\n",
       "        text-align: right;\n",
       "    }\n",
       "</style>\n",
       "<table border=\"1\" class=\"dataframe\">\n",
       "  <thead>\n",
       "    <tr style=\"text-align: right;\">\n",
       "      <th></th>\n",
       "      <th>0</th>\n",
       "      <th>georeferenced_column</th>\n",
       "      <th>latitude</th>\n",
       "      <th>longitude</th>\n",
       "    </tr>\n",
       "  </thead>\n",
       "  <tbody>\n",
       "    <tr>\n",
       "      <th>0</th>\n",
       "      <td>Madrid, España</td>\n",
       "      <td>(40.4167047, -3.7035825)</td>\n",
       "      <td>40.416705</td>\n",
       "      <td>-3.703582</td>\n",
       "    </tr>\n",
       "    <tr>\n",
       "      <th>1</th>\n",
       "      <td>España</td>\n",
       "      <td>(39.3260685, -4.8379791)</td>\n",
       "      <td>39.326068</td>\n",
       "      <td>-4.837979</td>\n",
       "    </tr>\n",
       "    <tr>\n",
       "      <th>2</th>\n",
       "      <td></td>\n",
       "      <td>no data</td>\n",
       "      <td>NaN</td>\n",
       "      <td>NaN</td>\n",
       "    </tr>\n",
       "    <tr>\n",
       "      <th>3</th>\n",
       "      <td>Alicante, España</td>\n",
       "      <td>(38.3436365, -0.4881708)</td>\n",
       "      <td>38.343637</td>\n",
       "      <td>-0.488171</td>\n",
       "    </tr>\n",
       "    <tr>\n",
       "      <th>4</th>\n",
       "      <td>Quito, Ecuador</td>\n",
       "      <td>(-0.2201641, -78.5123274)</td>\n",
       "      <td>-0.220164</td>\n",
       "      <td>-78.512327</td>\n",
       "    </tr>\n",
       "  </tbody>\n",
       "</table>\n",
       "</div>"
      ],
      "text/plain": [
       "                  0       georeferenced_column   latitude  longitude\n",
       "0    Madrid, España   (40.4167047, -3.7035825)  40.416705  -3.703582\n",
       "1            España   (39.3260685, -4.8379791)  39.326068  -4.837979\n",
       "2                                      no data        NaN        NaN\n",
       "3  Alicante, España   (38.3436365, -0.4881708)  38.343637  -0.488171\n",
       "4    Quito, Ecuador  (-0.2201641, -78.5123274)  -0.220164 -78.512327"
      ]
     },
     "execution_count": 12,
     "metadata": {},
     "output_type": "execute_result"
    }
   ],
   "source": [
    "df_coordinates.head(5)"
   ]
  },
  {
   "cell_type": "code",
   "execution_count": 8,
   "metadata": {},
   "outputs": [
    {
     "name": "stderr",
     "output_type": "stream",
     "text": [
      "C:\\Users\\mituc\\AppData\\Local\\Temp/ipykernel_5692/2326016387.py:2: SettingWithCopyWarning: \n",
      "A value is trying to be set on a copy of a slice from a DataFrame\n",
      "\n",
      "See the caveats in the documentation: https://pandas.pydata.org/pandas-docs/stable/user_guide/indexing.html#returning-a-view-versus-a-copy\n",
      "  df_coordinates['latitude'].iloc[i] = df_coordinates['georeferenced_column'].iloc[i][0]\n",
      "C:\\Users\\mituc\\AppData\\Local\\Temp/ipykernel_5692/2326016387.py:3: SettingWithCopyWarning: \n",
      "A value is trying to be set on a copy of a slice from a DataFrame\n",
      "\n",
      "See the caveats in the documentation: https://pandas.pydata.org/pandas-docs/stable/user_guide/indexing.html#returning-a-view-versus-a-copy\n",
      "  df_coordinates['longitude'].iloc[i] = df_coordinates['georeferenced_column'].iloc[i][1]\n"
     ]
    }
   ],
   "source": [
    "for i in range(len(df_coordinates)):\n",
    "    df_coordinates['latitude'].iloc[i] = df_coordinates['georeferenced_column'].iloc[i][0]\n",
    "    df_coordinates['longitude'].iloc[i] = df_coordinates['georeferenced_column'].iloc[i][1]\n",
    "df_coordinates['latitude'] = pd.to_numeric(df_coordinates['latitude'],errors='coerce')\n",
    "df_coordinates['longitude'] = pd.to_numeric(df_coordinates['longitude'],errors='coerce')\n"
   ]
  },
  {
   "cell_type": "code",
   "execution_count": 17,
   "metadata": {},
   "outputs": [
    {
     "data": {
      "text/html": [
       "<div>\n",
       "<style scoped>\n",
       "    .dataframe tbody tr th:only-of-type {\n",
       "        vertical-align: middle;\n",
       "    }\n",
       "\n",
       "    .dataframe tbody tr th {\n",
       "        vertical-align: top;\n",
       "    }\n",
       "\n",
       "    .dataframe thead th {\n",
       "        text-align: right;\n",
       "    }\n",
       "</style>\n",
       "<table border=\"1\" class=\"dataframe\">\n",
       "  <thead>\n",
       "    <tr style=\"text-align: right;\">\n",
       "      <th></th>\n",
       "      <th>fecha</th>\n",
       "      <th>nombre</th>\n",
       "      <th>procedencia</th>\n",
       "      <th>opinion</th>\n",
       "      <th>viajo_con</th>\n",
       "    </tr>\n",
       "  </thead>\n",
       "  <tbody>\n",
       "    <tr>\n",
       "      <th>0</th>\n",
       "      <td>2022-03-11</td>\n",
       "      <td>Ana</td>\n",
       "      <td>Madrid, España</td>\n",
       "      <td>Victor es encantador, te explica todo al detal...</td>\n",
       "      <td>Viajó con hijos mayores</td>\n",
       "    </tr>\n",
       "    <tr>\n",
       "      <th>1</th>\n",
       "      <td>2022-03-11</td>\n",
       "      <td>Montserrat</td>\n",
       "      <td>España</td>\n",
       "      <td>Casi 3 horas de tour pero Víctor, el guía que ...</td>\n",
       "      <td>Viajó solo</td>\n",
       "    </tr>\n",
       "    <tr>\n",
       "      <th>2</th>\n",
       "      <td>2022-03-11</td>\n",
       "      <td>Ainhoa</td>\n",
       "      <td>España</td>\n",
       "      <td></td>\n",
       "      <td>Viajó en pareja</td>\n",
       "    </tr>\n",
       "    <tr>\n",
       "      <th>3</th>\n",
       "      <td>2022-03-11</td>\n",
       "      <td>Patricia Suárez Carrillo</td>\n",
       "      <td>Madrid, España</td>\n",
       "      <td>A mi pareja y a mi nos ha encantado! Nuestro g...</td>\n",
       "      <td>Viajó en pareja</td>\n",
       "    </tr>\n",
       "    <tr>\n",
       "      <th>4</th>\n",
       "      <td>2022-03-11</td>\n",
       "      <td>Anónimo</td>\n",
       "      <td></td>\n",
       "      <td></td>\n",
       "      <td></td>\n",
       "    </tr>\n",
       "  </tbody>\n",
       "</table>\n",
       "</div>"
      ],
      "text/plain": [
       "       fecha                    nombre     procedencia  \\\n",
       "0 2022-03-11                       Ana  Madrid, España   \n",
       "1 2022-03-11                Montserrat          España   \n",
       "2 2022-03-11                    Ainhoa          España   \n",
       "3 2022-03-11  Patricia Suárez Carrillo  Madrid, España   \n",
       "4 2022-03-11                   Anónimo                   \n",
       "\n",
       "                                             opinion                viajo_con  \n",
       "0  Victor es encantador, te explica todo al detal...  Viajó con hijos mayores  \n",
       "1  Casi 3 horas de tour pero Víctor, el guía que ...               Viajó solo  \n",
       "2                                                             Viajó en pareja  \n",
       "3  A mi pareja y a mi nos ha encantado! Nuestro g...          Viajó en pareja  \n",
       "4                                                                              "
      ]
     },
     "execution_count": 17,
     "metadata": {},
     "output_type": "execute_result"
    }
   ],
   "source": [
    "df_civitatis_clean.head(5)"
   ]
  },
  {
   "cell_type": "code",
   "execution_count": 13,
   "metadata": {},
   "outputs": [],
   "source": [
    "df_civitatis_clean.set_index(['procedencia'], inplace=True)\n",
    "df_coordinates.set_index([0], inplace=True)"
   ]
  },
  {
   "cell_type": "code",
   "execution_count": 14,
   "metadata": {},
   "outputs": [],
   "source": [
    "df_civitatis_location = df_civitatis_clean.join(df_coordinates, on='procedencia')"
   ]
  },
  {
   "cell_type": "code",
   "execution_count": 21,
   "metadata": {},
   "outputs": [],
   "source": [
    "geolocator = Nominatim(user_agent=\"miguel\")\n",
    "location = geolocator.geocode(\"Barcelona, España\")\n",
    "df_civitatis_location['bar_lat'] = location.latitude\n",
    "df_civitatis_location['bar_lon'] = location.longitude"
   ]
  },
  {
   "cell_type": "code",
   "execution_count": 16,
   "metadata": {},
   "outputs": [],
   "source": [
    "df_civitatis_location['fecha'] = df_civitatis_location['fecha'].astype(str) + ' 00:00'"
   ]
  },
  {
   "cell_type": "code",
   "execution_count": 17,
   "metadata": {},
   "outputs": [],
   "source": [
    "df_civitatis_location['fecha'] = pd.to_datetime(df_civitatis_location['fecha'], format='%Y-%m-%d %H:%M') "
   ]
  },
  {
   "cell_type": "code",
   "execution_count": 18,
   "metadata": {},
   "outputs": [],
   "source": [
    "df_civitatis_location['fecha']=df_civitatis_location['fecha'].dt.strftime('%Y-%m-%d %H:%M')"
   ]
  },
  {
   "cell_type": "code",
   "execution_count": 267,
   "metadata": {},
   "outputs": [
    {
     "data": {
      "text/plain": [
       "procedencia              object\n",
       "fecha                    object\n",
       "nombre                   object\n",
       "opinion                  object\n",
       "viajo_con                object\n",
       "georeferenced_column     object\n",
       "latitude                float64\n",
       "longitude               float64\n",
       "bar_lat                 float64\n",
       "bar_lon                 float64\n",
       "dtype: object"
      ]
     },
     "execution_count": 267,
     "metadata": {},
     "output_type": "execute_result"
    }
   ],
   "source": [
    "df_civitatis_location.dtypes"
   ]
  },
  {
   "cell_type": "code",
   "execution_count": 23,
   "metadata": {},
   "outputs": [],
   "source": [
    "df_civitatis_location.to_csv(r'C:\\Users\\mituc\\Ironhack\\Curso\\IronLabs\\Proyecto-1\\data\\civitatis_location.csv')"
   ]
  },
  {
   "cell_type": "code",
   "execution_count": 24,
   "metadata": {},
   "outputs": [],
   "source": [
    "df_civitatis_location = pd.read_csv(r'C:\\Users\\mituc\\Ironhack\\Curso\\IronLabs\\Proyecto-1\\data\\civitatis_location.csv')"
   ]
  },
  {
   "cell_type": "code",
   "execution_count": 268,
   "metadata": {},
   "outputs": [
    {
     "name": "stdout",
     "output_type": "stream",
     "text": [
      "User Guide: https://docs.kepler.gl/docs/keplergl-jupyter\n"
     ]
    }
   ],
   "source": [
    "map_1 = KeplerGl(height = 600, weight = 500, data = {\"viajes\": df_civitatis_location})"
   ]
  },
  {
   "cell_type": "code",
   "execution_count": 273,
   "metadata": {},
   "outputs": [
    {
     "name": "stdout",
     "output_type": "stream",
     "text": [
      "Map saved to civitatis.html!\n"
     ]
    }
   ],
   "source": [
    "map_1.save_to_html(file_name='civitatis.html')"
   ]
  },
  {
   "cell_type": "code",
   "execution_count": 269,
   "metadata": {},
   "outputs": [
    {
     "data": {
      "application/vnd.jupyter.widget-view+json": {
       "model_id": "2d86d63299cf4679847141d5c1b03f0c",
       "version_major": 2,
       "version_minor": 0
      },
      "text/plain": [
       "KeplerGl(data={'viajes':                     procedencia             fecha  \\\n",
       "0               Madrid, EspaÃ±a …"
      ]
     },
     "metadata": {},
     "output_type": "display_data"
    }
   ],
   "source": [
    "map_1"
   ]
  },
  {
   "cell_type": "code",
   "execution_count": 26,
   "metadata": {},
   "outputs": [
    {
     "data": {
      "text/html": [
       "<div>\n",
       "<style scoped>\n",
       "    .dataframe tbody tr th:only-of-type {\n",
       "        vertical-align: middle;\n",
       "    }\n",
       "\n",
       "    .dataframe tbody tr th {\n",
       "        vertical-align: top;\n",
       "    }\n",
       "\n",
       "    .dataframe thead th {\n",
       "        text-align: right;\n",
       "    }\n",
       "</style>\n",
       "<table border=\"1\" class=\"dataframe\">\n",
       "  <thead>\n",
       "    <tr style=\"text-align: right;\">\n",
       "      <th></th>\n",
       "      <th>procedencia</th>\n",
       "      <th>fecha</th>\n",
       "      <th>nombre</th>\n",
       "      <th>opinion</th>\n",
       "      <th>viajo_con</th>\n",
       "      <th>georeferenced_column</th>\n",
       "      <th>latitude</th>\n",
       "      <th>longitude</th>\n",
       "      <th>bar_lat</th>\n",
       "      <th>bar_lon</th>\n",
       "    </tr>\n",
       "  </thead>\n",
       "  <tbody>\n",
       "    <tr>\n",
       "      <th>0</th>\n",
       "      <td>Madrid, España</td>\n",
       "      <td>2022-03-11 00:00</td>\n",
       "      <td>Ana</td>\n",
       "      <td>Victor es encantador, te explica todo al detal...</td>\n",
       "      <td>Viajó con hijos mayores</td>\n",
       "      <td>(40.4167047, -3.7035825)</td>\n",
       "      <td>40.416705</td>\n",
       "      <td>-3.703582</td>\n",
       "      <td>41.382894</td>\n",
       "      <td>2.177432</td>\n",
       "    </tr>\n",
       "    <tr>\n",
       "      <th>1</th>\n",
       "      <td>España</td>\n",
       "      <td>2022-03-11 00:00</td>\n",
       "      <td>Montserrat</td>\n",
       "      <td>Casi 3 horas de tour pero Víctor, el guía que ...</td>\n",
       "      <td>Viajó solo</td>\n",
       "      <td>(39.3260685, -4.8379791)</td>\n",
       "      <td>39.326068</td>\n",
       "      <td>-4.837979</td>\n",
       "      <td>41.382894</td>\n",
       "      <td>2.177432</td>\n",
       "    </tr>\n",
       "    <tr>\n",
       "      <th>2</th>\n",
       "      <td>España</td>\n",
       "      <td>2022-03-11 00:00</td>\n",
       "      <td>Ainhoa</td>\n",
       "      <td>NaN</td>\n",
       "      <td>Viajó en pareja</td>\n",
       "      <td>(39.3260685, -4.8379791)</td>\n",
       "      <td>39.326068</td>\n",
       "      <td>-4.837979</td>\n",
       "      <td>41.382894</td>\n",
       "      <td>2.177432</td>\n",
       "    </tr>\n",
       "    <tr>\n",
       "      <th>3</th>\n",
       "      <td>Madrid, España</td>\n",
       "      <td>2022-03-11 00:00</td>\n",
       "      <td>Patricia Suárez Carrillo</td>\n",
       "      <td>A mi pareja y a mi nos ha encantado! Nuestro g...</td>\n",
       "      <td>Viajó en pareja</td>\n",
       "      <td>(40.4167047, -3.7035825)</td>\n",
       "      <td>40.416705</td>\n",
       "      <td>-3.703582</td>\n",
       "      <td>41.382894</td>\n",
       "      <td>2.177432</td>\n",
       "    </tr>\n",
       "    <tr>\n",
       "      <th>4</th>\n",
       "      <td>NaN</td>\n",
       "      <td>2022-03-11 00:00</td>\n",
       "      <td>Anónimo</td>\n",
       "      <td>NaN</td>\n",
       "      <td>NaN</td>\n",
       "      <td>no data</td>\n",
       "      <td>NaN</td>\n",
       "      <td>NaN</td>\n",
       "      <td>41.382894</td>\n",
       "      <td>2.177432</td>\n",
       "    </tr>\n",
       "  </tbody>\n",
       "</table>\n",
       "</div>"
      ],
      "text/plain": [
       "      procedencia             fecha                    nombre  \\\n",
       "0  Madrid, España  2022-03-11 00:00                       Ana   \n",
       "1          España  2022-03-11 00:00                Montserrat   \n",
       "2          España  2022-03-11 00:00                    Ainhoa   \n",
       "3  Madrid, España  2022-03-11 00:00  Patricia Suárez Carrillo   \n",
       "4             NaN  2022-03-11 00:00                   Anónimo   \n",
       "\n",
       "                                             opinion                viajo_con  \\\n",
       "0  Victor es encantador, te explica todo al detal...  Viajó con hijos mayores   \n",
       "1  Casi 3 horas de tour pero Víctor, el guía que ...               Viajó solo   \n",
       "2                                                NaN          Viajó en pareja   \n",
       "3  A mi pareja y a mi nos ha encantado! Nuestro g...          Viajó en pareja   \n",
       "4                                                NaN                      NaN   \n",
       "\n",
       "       georeferenced_column   latitude  longitude    bar_lat   bar_lon  \n",
       "0  (40.4167047, -3.7035825)  40.416705  -3.703582  41.382894  2.177432  \n",
       "1  (39.3260685, -4.8379791)  39.326068  -4.837979  41.382894  2.177432  \n",
       "2  (39.3260685, -4.8379791)  39.326068  -4.837979  41.382894  2.177432  \n",
       "3  (40.4167047, -3.7035825)  40.416705  -3.703582  41.382894  2.177432  \n",
       "4                   no data        NaN        NaN  41.382894  2.177432  "
      ]
     },
     "execution_count": 26,
     "metadata": {},
     "output_type": "execute_result"
    }
   ],
   "source": [
    "df_civitatis_location.head(5)"
   ]
  },
  {
   "cell_type": "code",
   "execution_count": 4,
   "metadata": {},
   "outputs": [],
   "source": [
    "df_civitatis_location.drop(['Unnamed: 0'], axis=1, inplace=True)"
   ]
  },
  {
   "cell_type": "markdown",
   "metadata": {},
   "source": [
    "# Spanish goverment"
   ]
  },
  {
   "cell_type": "markdown",
   "metadata": {},
   "source": [
    "As civitatis started its activity for the tour that we are studying in June 2017, we'll select that period from the data frame we had generated using the data given by the goverment.\n"
   ]
  },
  {
   "cell_type": "code",
   "execution_count": 30,
   "metadata": {},
   "outputs": [],
   "source": [
    "lmp.admon_cividates(df_turistas_admon)"
   ]
  },
  {
   "cell_type": "code",
   "execution_count": 31,
   "metadata": {},
   "outputs": [],
   "source": [
    "df_turistas_admon_17 = pd.read_pickle(r'C:\\Users\\mituc\\Ironhack\\Curso\\IronLabs\\Proyecto-1\\data\\admon_cividates.pkl')\n"
   ]
  },
  {
   "cell_type": "code",
   "execution_count": 32,
   "metadata": {},
   "outputs": [
    {
     "data": {
      "text/html": [
       "<div>\n",
       "<style scoped>\n",
       "    .dataframe tbody tr th:only-of-type {\n",
       "        vertical-align: middle;\n",
       "    }\n",
       "\n",
       "    .dataframe tbody tr th {\n",
       "        vertical-align: top;\n",
       "    }\n",
       "\n",
       "    .dataframe thead th {\n",
       "        text-align: right;\n",
       "    }\n",
       "</style>\n",
       "<table border=\"1\" class=\"dataframe\">\n",
       "  <thead>\n",
       "    <tr style=\"text-align: right;\">\n",
       "      <th></th>\n",
       "      <th>periodo</th>\n",
       "      <th>total_viajeros</th>\n",
       "    </tr>\n",
       "  </thead>\n",
       "  <tbody>\n",
       "    <tr>\n",
       "      <th>5</th>\n",
       "      <td>2021-09</td>\n",
       "      <td>411625</td>\n",
       "    </tr>\n",
       "    <tr>\n",
       "      <th>4</th>\n",
       "      <td>2021-10</td>\n",
       "      <td>494753</td>\n",
       "    </tr>\n",
       "    <tr>\n",
       "      <th>3</th>\n",
       "      <td>2021-11</td>\n",
       "      <td>435425</td>\n",
       "    </tr>\n",
       "    <tr>\n",
       "      <th>2</th>\n",
       "      <td>2021-12</td>\n",
       "      <td>394432</td>\n",
       "    </tr>\n",
       "    <tr>\n",
       "      <th>1</th>\n",
       "      <td>2022-01</td>\n",
       "      <td>301474</td>\n",
       "    </tr>\n",
       "  </tbody>\n",
       "</table>\n",
       "</div>"
      ],
      "text/plain": [
       "   periodo  total_viajeros\n",
       "5  2021-09          411625\n",
       "4  2021-10          494753\n",
       "3  2021-11          435425\n",
       "2  2021-12          394432\n",
       "1  2022-01          301474"
      ]
     },
     "execution_count": 32,
     "metadata": {},
     "output_type": "execute_result"
    }
   ],
   "source": [
    "df_turistas_admon_17.tail(5)"
   ]
  }
 ],
 "metadata": {
  "interpreter": {
   "hash": "ba1db81cc109b82b4f074f14705a6c6c4ac73c66313ff5962e6e84ea5725364a"
  },
  "kernelspec": {
   "display_name": "Python 3.8.8 ('base': conda)",
   "language": "python",
   "name": "python3"
  },
  "language_info": {
   "codemirror_mode": {
    "name": "ipython",
    "version": 3
   },
   "file_extension": ".py",
   "mimetype": "text/x-python",
   "name": "python",
   "nbconvert_exporter": "python",
   "pygments_lexer": "ipython3",
   "version": "3.9.7"
  },
  "orig_nbformat": 4
 },
 "nbformat": 4,
 "nbformat_minor": 2
}
