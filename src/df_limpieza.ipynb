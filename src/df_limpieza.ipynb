{
 "cells": [
  {
   "cell_type": "code",
   "execution_count": null,
   "metadata": {},
   "outputs": [],
   "source": [
    "def pastor_de_guiris(df, ciudad):\n",
    "    # Separamos la zona turistica\n",
    "    df_guiris_zona = df[df['puntos_turisticos'].str.contains(ciudad) == True]\n",
    "    # Aislamos los viajeros residentes en Espana\n",
    "    df_numguiris = df_guiris_zona[df_guiris_zona['viajeros_y_pernoctaciones'].str.contains('viajero') == True]\n",
    "    df_numguiris_esp = df_numguiris[df_numguiris['residencia'].str.contains('residentes_espana') == True]\n",
    "    # Aislamos a los turistas residentes en el extranjero\n",
    "    df_numguiris_ext = df_numguiris[df_numguiris['residencia'].str.contains('residentes_en_el_extranjero') == True]\n",
    "    # Aislamos las pernocctaciones de los viajeros residentes en Espana\n",
    "    df_pernocguiris = df_guiris_zona[df_guiris_zona['viajeros_y_pernoctaciones'].str.contains('pernoctaciones') == True]\n",
    "    df_pernocguiris_esp =  df_pernocguiris[df_pernocguiris['residencia'].str.contains('residentes_espana') == True]\n",
    "    # Aislamos las pernocctaciones de los viajeros residentes en el extranjero\n",
    "    df_pernocguiris_ext =  df_pernocguiris[df_pernocguiris['residencia'].str.contains('residentes_en_el_extranjero') == True]\n",
    "\n",
    "    guiris_esquilados = pd.concat([df_numguiris_esp['total'], \n",
    "                                   df_numguiris_ext['total'],\n",
    "                                   df_pernocguiris_esp['total'],\n",
    "                                   df_pernocguiris_ext['total']], axis=1)\n",
    "\n",
    "    guiris_esquilados.columns = ['viajeros_espana', \n",
    "                                 'viajeros_extranjero',\n",
    "                                 'pernoctaciones_espana',\n",
    "                                 'pernoctaciones_extranjero']\n",
    "\n",
    "    guiris_esquilados['media_pernoc_esp'] = df_pernocguiris_esp['total'] / df_numguiris_esp['total']\n",
    "    guiris_esquilados['media_pernoc_ext'] = df_pernocguiris_ext['total'] / df_numguiris_ext['total']\n",
    "    guiris_esquilados['total_viajeros'] = df_numguiris_esp['total'] + df_numguiris_ext['total']\n",
    "    guiris_esquilados['total_pernoctaciones'] = df_pernocguiris_esp['total'] + df_pernocguiris_ext['total']\n",
    "    guiris_esquilados['media_total_pernoc'] = guiris_esquilados['total_pernoctaciones'] / guiris_esquilados['total_viajeros']\n",
    "\n",
    "    guiris_esquilados.to_pickle(f'{ciudad}_guiris_esquilados.pkl')\n",
    "    return guiris_esquilados"
   ]
  }
 ],
 "metadata": {
  "interpreter": {
   "hash": "ba1db81cc109b82b4f074f14705a6c6c4ac73c66313ff5962e6e84ea5725364a"
  },
  "kernelspec": {
   "display_name": "Python 3.8.8 ('base': conda)",
   "language": "python",
   "name": "python3"
  },
  "language_info": {
   "codemirror_mode": {
    "name": "ipython",
    "version": 3
   },
   "file_extension": ".py",
   "mimetype": "text/x-python",
   "name": "python",
   "nbconvert_exporter": "python",
   "pygments_lexer": "ipython3",
   "version": "3.8.8"
  },
  "orig_nbformat": 4
 },
 "nbformat": 4,
 "nbformat_minor": 2
}
